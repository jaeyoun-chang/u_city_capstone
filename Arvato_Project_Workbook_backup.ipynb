{
 "cells": [
  {
   "attachments": {},
   "cell_type": "markdown",
   "metadata": {},
   "source": [
    "# Capstone Project: Create a Customer Segmentation Report for Arvato Financial Services\n",
    "\n",
    "In this project, you will analyze demographics data for customers of a mail-order sales company in Germany, comparing it against demographics information for the general population. You'll use unsupervised learning techniques to perform customer segmentation, identifying the parts of the population that best describe the core customer base of the company. Then, you'll apply what you've learned on a third dataset with demographics information for targets of a marketing campaign for the company, and use a model to predict which individuals are most likely to convert into becoming customers for the company. The data that you will use has been provided by our partners at Bertelsmann Arvato Analytics, and represents a real-life data science task.\n",
    "\n",
    "The versions of those two datasets used in this project will include many more features and has not been pre-cleaned. You are also free to choose whatever approach you'd like to analyzing the data rather than follow pre-determined steps. In your work on this project, make sure that you carefully document your steps and decisions, since your main deliverable for this project will be a blog post reporting your findings."
   ]
  },
  {
   "cell_type": "code",
   "execution_count": 1,
   "metadata": {},
   "outputs": [],
   "source": [
    "# import libraries here; add more as necessary\n",
    "import numpy as np\n",
    "import pandas as pd\n",
    "import matplotlib.pyplot as plt\n",
    "import seaborn as sns\n",
    "\n",
    "# magic word for producing visualizations in notebook\n",
    "%matplotlib inline\n",
    "\n",
    "import missingno as msno\n",
    "from googletrans import Translator\n",
    "import Levenshtein\n",
    "\n",
    "import pyarrow as pa\n",
    "import pyarrow.parquet as pq\n",
    "import pyarrow.csv as pc\n",
    "import pickle\n",
    "\n",
    "from sklearn.pipeline import Pipeline\n",
    "from sklearn.impute import SimpleImputer\n",
    "from sklearn.preprocessing import StandardScaler, FunctionTransformer, OneHotEncoder\n",
    "from sklearn.compose import ColumnTransformer\n",
    "from sklearn.decomposition import PCA\n",
    "from sklearn.cluster import KMeans\n",
    "from sklearn.ensemble import RandomForestClassifier, AdaBoostClassifier, GradientBoostingClassifier\n",
    "# import xgboost as xgb\n",
    "from sklearn.model_selection import learning_curve\n",
    "from sklearn.model_selection import GridSearchCV\n",
    "from sklearn.metrics import roc_auc_score\n",
    "\n",
    "# from sklearn.feature_extraction.text import TfidfVectorizer\n",
    "# from sklearn.metrics.pairwise import cosine_similarity\n",
    "# import sys\n",
    "# from IPython.display import display\n",
    "# import pprint\n",
    "# import itertools\n",
    "# import math\n",
    "# import nltk\n",
    "# from nltk.corpus import wordnet\n",
    "\n",
    "'''\n",
    "custom modules\n",
    "'''\n",
    "# function similar to Excel's vlookup\n",
    "from vlookup import vlookup\n",
    "# function to view all contents of a dataframe\n",
    "from view_all import view_all\n",
    "# function for the project\n",
    "from section_1 import msno_overview\n",
    "from section_2 import similar_feature, attribute_cat, str_to_num, ger_to_eng, pv_min_max, \\\n",
    "    pv_meaning_score, pv_verify_null\n",
    "from section_3 import dataset_summary, view_feature\n",
    "from section_4 import miss_val_summary"
   ]
  },
  {
   "cell_type": "code",
   "execution_count": 2,
   "metadata": {},
   "outputs": [],
   "source": [
    "# pip install googletrans==4.0.0-rc1\n",
    "# pip install missingno\n",
    "# pip install pyarrow\n",
    "# custom modules for convenience are in root folder"
   ]
  },
  {
   "attachments": {},
   "cell_type": "markdown",
   "metadata": {},
   "source": [
    "## Part 0: Get to Know the Data\n",
    "\n",
    "There are four data files associated with this project:\n",
    "\n",
    "- `Udacity_AZDIAS_052018.csv`: Demographics data for the general population of Germany; 891 211 persons (rows) x 366 features (columns).\n",
    "- `Udacity_CUSTOMERS_052018.csv`: Demographics data for customers of a mail-order company; 191 652 persons (rows) x 369 features (columns).\n",
    "- `Udacity_MAILOUT_052018_TRAIN.csv`: Demographics data for individuals who were targets of a marketing campaign; 42 982 persons (rows) x 367 (columns).\n",
    "- `Udacity_MAILOUT_052018_TEST.csv`: Demographics data for individuals who were targets of a marketing campaign; 42 833 persons (rows) x 366 (columns).\n",
    "\n",
    "Each row of the demographics files represents a single person, but also includes information outside of individuals, including information about their household, building, and neighborhood. Use the information from the first two files to figure out how customers (\"CUSTOMERS\") are similar to or differ from the general population at large (\"AZDIAS\"), then use your analysis to make predictions on the other two files (\"MAILOUT\"), predicting which recipients are most likely to become a customer for the mail-order company.\n",
    "\n",
    "The \"CUSTOMERS\" file contains three extra columns ('CUSTOMER_GROUP', 'ONLINE_PURCHASE', and 'PRODUCT_GROUP'), which provide broad information about the customers depicted in the file. The original \"MAILOUT\" file included one additional column, \"RESPONSE\", which indicated whether or not each recipient became a customer of the company. For the \"TRAIN\" subset, this column has been retained, but in the \"TEST\" subset it has been removed; it is against that withheld column that your final predictions will be assessed in the Kaggle competition.\n",
    "\n",
    "Otherwise, all of the remaining columns are the same between the three data files. For more information about the columns depicted in the files, you can refer to two Excel spreadsheets provided in the workspace. [One of them](./DIAS Information Levels - Attributes 2017.xlsx) is a top-level list of attributes and descriptions, organized by informational category. [The other](./DIAS Attributes - Values 2017.xlsx) is a detailed mapping of data values for each feature in alphabetical order.\n",
    "\n",
    "In the below cell, we've provided some initial code to load in the first two datasets. Note for all of the `.csv` data files in this project that they're semicolon (`;`) delimited, so an additional argument in the [`read_csv()`](https://pandas.pydata.org/pandas-docs/stable/generated/pandas.read_csv.html) call has been included to read in the data properly. Also, considering the size of the datasets, it may take some time for them to load completely.\n",
    "\n",
    "You'll notice when the data is loaded in that a warning message will immediately pop up. Before you really start digging into the modeling and analysis, you're going to need to perform some cleaning. Take some time to browse the structure of the data and look over the informational spreadsheets to understand the data values. Make some decisions on which features to keep, which features to drop, and if any revisions need to be made on data formats. It'll be a good idea to create a function with pre-processing steps, since you'll need to clean all of the datasets before you work with them."
   ]
  },
  {
   "attachments": {},
   "cell_type": "markdown",
   "metadata": {},
   "source": [
    "### 1. Load and overview"
   ]
  },
  {
   "attachments": {},
   "cell_type": "markdown",
   "metadata": {},
   "source": [
    "#### 1.1 azdias"
   ]
  },
  {
   "cell_type": "code",
   "execution_count": 3,
   "metadata": {},
   "outputs": [],
   "source": [
    "# 제출전 주석 해제\n",
    "# '''\n",
    "# load and file overview\n",
    "# '''\n",
    "\n",
    "# azdias = pd.read_csv('../csv_pickle/Udacity_AZDIAS_052018.csv', sep=';')\n",
    "# azdias.name = 'azdias'\n",
    "#\n",
    "# print (azdias.info())\n",
    "# azdias.head()"
   ]
  },
  {
   "cell_type": "code",
   "execution_count": 4,
   "metadata": {},
   "outputs": [
    {
     "name": "stdout",
     "output_type": "stream",
     "text": [
      "<class 'pandas.core.frame.DataFrame'>\n",
      "RangeIndex: 891221 entries, 0 to 891220\n",
      "Columns: 366 entries, LNR to ALTERSKATEGORIE_GROB\n",
      "dtypes: float64(267), int64(93), object(6)\n",
      "memory usage: 2.4+ GB\n",
      "None\n"
     ]
    },
    {
     "data": {
      "text/html": [
       "<div>\n",
       "<style scoped>\n",
       "    .dataframe tbody tr th:only-of-type {\n",
       "        vertical-align: middle;\n",
       "    }\n",
       "\n",
       "    .dataframe tbody tr th {\n",
       "        vertical-align: top;\n",
       "    }\n",
       "\n",
       "    .dataframe thead th {\n",
       "        text-align: right;\n",
       "    }\n",
       "</style>\n",
       "<table border=\"1\" class=\"dataframe\">\n",
       "  <thead>\n",
       "    <tr style=\"text-align: right;\">\n",
       "      <th></th>\n",
       "      <th>LNR</th>\n",
       "      <th>AGER_TYP</th>\n",
       "      <th>AKT_DAT_KL</th>\n",
       "      <th>ALTER_HH</th>\n",
       "      <th>ALTER_KIND1</th>\n",
       "      <th>ALTER_KIND2</th>\n",
       "      <th>ALTER_KIND3</th>\n",
       "      <th>ALTER_KIND4</th>\n",
       "      <th>ALTERSKATEGORIE_FEIN</th>\n",
       "      <th>ANZ_HAUSHALTE_AKTIV</th>\n",
       "      <th>...</th>\n",
       "      <th>VHN</th>\n",
       "      <th>VK_DHT4A</th>\n",
       "      <th>VK_DISTANZ</th>\n",
       "      <th>VK_ZG11</th>\n",
       "      <th>W_KEIT_KIND_HH</th>\n",
       "      <th>WOHNDAUER_2008</th>\n",
       "      <th>WOHNLAGE</th>\n",
       "      <th>ZABEOTYP</th>\n",
       "      <th>ANREDE_KZ</th>\n",
       "      <th>ALTERSKATEGORIE_GROB</th>\n",
       "    </tr>\n",
       "  </thead>\n",
       "  <tbody>\n",
       "    <tr>\n",
       "      <th>0</th>\n",
       "      <td>910215</td>\n",
       "      <td>-1</td>\n",
       "      <td>NaN</td>\n",
       "      <td>NaN</td>\n",
       "      <td>NaN</td>\n",
       "      <td>NaN</td>\n",
       "      <td>NaN</td>\n",
       "      <td>NaN</td>\n",
       "      <td>NaN</td>\n",
       "      <td>NaN</td>\n",
       "      <td>...</td>\n",
       "      <td>NaN</td>\n",
       "      <td>NaN</td>\n",
       "      <td>NaN</td>\n",
       "      <td>NaN</td>\n",
       "      <td>NaN</td>\n",
       "      <td>NaN</td>\n",
       "      <td>NaN</td>\n",
       "      <td>3</td>\n",
       "      <td>1</td>\n",
       "      <td>2</td>\n",
       "    </tr>\n",
       "    <tr>\n",
       "      <th>1</th>\n",
       "      <td>910220</td>\n",
       "      <td>-1</td>\n",
       "      <td>9.0</td>\n",
       "      <td>0.0</td>\n",
       "      <td>NaN</td>\n",
       "      <td>NaN</td>\n",
       "      <td>NaN</td>\n",
       "      <td>NaN</td>\n",
       "      <td>21.0</td>\n",
       "      <td>11.0</td>\n",
       "      <td>...</td>\n",
       "      <td>4.0</td>\n",
       "      <td>8.0</td>\n",
       "      <td>11.0</td>\n",
       "      <td>10.0</td>\n",
       "      <td>3.0</td>\n",
       "      <td>9.0</td>\n",
       "      <td>4.0</td>\n",
       "      <td>5</td>\n",
       "      <td>2</td>\n",
       "      <td>1</td>\n",
       "    </tr>\n",
       "    <tr>\n",
       "      <th>2</th>\n",
       "      <td>910225</td>\n",
       "      <td>-1</td>\n",
       "      <td>9.0</td>\n",
       "      <td>17.0</td>\n",
       "      <td>NaN</td>\n",
       "      <td>NaN</td>\n",
       "      <td>NaN</td>\n",
       "      <td>NaN</td>\n",
       "      <td>17.0</td>\n",
       "      <td>10.0</td>\n",
       "      <td>...</td>\n",
       "      <td>2.0</td>\n",
       "      <td>9.0</td>\n",
       "      <td>9.0</td>\n",
       "      <td>6.0</td>\n",
       "      <td>3.0</td>\n",
       "      <td>9.0</td>\n",
       "      <td>2.0</td>\n",
       "      <td>5</td>\n",
       "      <td>2</td>\n",
       "      <td>3</td>\n",
       "    </tr>\n",
       "    <tr>\n",
       "      <th>3</th>\n",
       "      <td>910226</td>\n",
       "      <td>2</td>\n",
       "      <td>1.0</td>\n",
       "      <td>13.0</td>\n",
       "      <td>NaN</td>\n",
       "      <td>NaN</td>\n",
       "      <td>NaN</td>\n",
       "      <td>NaN</td>\n",
       "      <td>13.0</td>\n",
       "      <td>1.0</td>\n",
       "      <td>...</td>\n",
       "      <td>0.0</td>\n",
       "      <td>7.0</td>\n",
       "      <td>10.0</td>\n",
       "      <td>11.0</td>\n",
       "      <td>NaN</td>\n",
       "      <td>9.0</td>\n",
       "      <td>7.0</td>\n",
       "      <td>3</td>\n",
       "      <td>2</td>\n",
       "      <td>4</td>\n",
       "    </tr>\n",
       "    <tr>\n",
       "      <th>4</th>\n",
       "      <td>910241</td>\n",
       "      <td>-1</td>\n",
       "      <td>1.0</td>\n",
       "      <td>20.0</td>\n",
       "      <td>NaN</td>\n",
       "      <td>NaN</td>\n",
       "      <td>NaN</td>\n",
       "      <td>NaN</td>\n",
       "      <td>14.0</td>\n",
       "      <td>3.0</td>\n",
       "      <td>...</td>\n",
       "      <td>2.0</td>\n",
       "      <td>3.0</td>\n",
       "      <td>5.0</td>\n",
       "      <td>4.0</td>\n",
       "      <td>2.0</td>\n",
       "      <td>9.0</td>\n",
       "      <td>3.0</td>\n",
       "      <td>4</td>\n",
       "      <td>1</td>\n",
       "      <td>3</td>\n",
       "    </tr>\n",
       "  </tbody>\n",
       "</table>\n",
       "<p>5 rows × 366 columns</p>\n",
       "</div>"
      ],
      "text/plain": [
       "      LNR  AGER_TYP  AKT_DAT_KL  ALTER_HH  ALTER_KIND1  ALTER_KIND2  \\\n",
       "0  910215        -1         NaN       NaN          NaN          NaN   \n",
       "1  910220        -1         9.0       0.0          NaN          NaN   \n",
       "2  910225        -1         9.0      17.0          NaN          NaN   \n",
       "3  910226         2         1.0      13.0          NaN          NaN   \n",
       "4  910241        -1         1.0      20.0          NaN          NaN   \n",
       "\n",
       "   ALTER_KIND3  ALTER_KIND4  ALTERSKATEGORIE_FEIN  ANZ_HAUSHALTE_AKTIV  ...  \\\n",
       "0          NaN          NaN                   NaN                  NaN  ...   \n",
       "1          NaN          NaN                  21.0                 11.0  ...   \n",
       "2          NaN          NaN                  17.0                 10.0  ...   \n",
       "3          NaN          NaN                  13.0                  1.0  ...   \n",
       "4          NaN          NaN                  14.0                  3.0  ...   \n",
       "\n",
       "   VHN  VK_DHT4A  VK_DISTANZ  VK_ZG11  W_KEIT_KIND_HH  WOHNDAUER_2008  \\\n",
       "0  NaN       NaN         NaN      NaN             NaN             NaN   \n",
       "1  4.0       8.0        11.0     10.0             3.0             9.0   \n",
       "2  2.0       9.0         9.0      6.0             3.0             9.0   \n",
       "3  0.0       7.0        10.0     11.0             NaN             9.0   \n",
       "4  2.0       3.0         5.0      4.0             2.0             9.0   \n",
       "\n",
       "   WOHNLAGE ZABEOTYP ANREDE_KZ ALTERSKATEGORIE_GROB  \n",
       "0       NaN        3         1                    2  \n",
       "1       4.0        5         2                    1  \n",
       "2       2.0        5         2                    3  \n",
       "3       7.0        3         2                    4  \n",
       "4       3.0        4         1                    3  \n",
       "\n",
       "[5 rows x 366 columns]"
      ]
     },
     "execution_count": 4,
     "metadata": {},
     "output_type": "execute_result"
    }
   ],
   "source": [
    "azdias = pd.read_pickle('../csv_pickle/azdias.pickle')\n",
    "\n",
    "print (azdias.info())\n",
    "azdias.head()"
   ]
  },
  {
   "cell_type": "code",
   "execution_count": 5,
   "metadata": {},
   "outputs": [],
   "source": [
    "# '''\n",
    "# missing value overview\n",
    "# '''\n",
    "\n",
    "# azdias.name = 'azdias'\n",
    "# msno_overview(azdias)"
   ]
  },
  {
   "attachments": {},
   "cell_type": "markdown",
   "metadata": {},
   "source": [
    "#### 1.2 customers"
   ]
  },
  {
   "cell_type": "code",
   "execution_count": 6,
   "metadata": {},
   "outputs": [],
   "source": [
    "# 제출전 주석 해제\n",
    "# '''\n",
    "# load and file overview\n",
    "# '''\n",
    "\n",
    "# customers = pd.read_csv('../csv_pickle/Udacity_CUSTOMERS_052018.csv', sep=';')\n",
    "# print (customers.info())\n",
    "# customers.head()"
   ]
  },
  {
   "cell_type": "code",
   "execution_count": 7,
   "metadata": {},
   "outputs": [
    {
     "name": "stdout",
     "output_type": "stream",
     "text": [
      "<class 'pandas.core.frame.DataFrame'>\n",
      "RangeIndex: 191652 entries, 0 to 191651\n",
      "Columns: 369 entries, LNR to ALTERSKATEGORIE_GROB\n",
      "dtypes: float64(267), int64(94), object(8)\n",
      "memory usage: 539.5+ MB\n",
      "None\n"
     ]
    },
    {
     "data": {
      "text/html": [
       "<div>\n",
       "<style scoped>\n",
       "    .dataframe tbody tr th:only-of-type {\n",
       "        vertical-align: middle;\n",
       "    }\n",
       "\n",
       "    .dataframe tbody tr th {\n",
       "        vertical-align: top;\n",
       "    }\n",
       "\n",
       "    .dataframe thead th {\n",
       "        text-align: right;\n",
       "    }\n",
       "</style>\n",
       "<table border=\"1\" class=\"dataframe\">\n",
       "  <thead>\n",
       "    <tr style=\"text-align: right;\">\n",
       "      <th></th>\n",
       "      <th>LNR</th>\n",
       "      <th>AGER_TYP</th>\n",
       "      <th>AKT_DAT_KL</th>\n",
       "      <th>ALTER_HH</th>\n",
       "      <th>ALTER_KIND1</th>\n",
       "      <th>ALTER_KIND2</th>\n",
       "      <th>ALTER_KIND3</th>\n",
       "      <th>ALTER_KIND4</th>\n",
       "      <th>ALTERSKATEGORIE_FEIN</th>\n",
       "      <th>ANZ_HAUSHALTE_AKTIV</th>\n",
       "      <th>...</th>\n",
       "      <th>VK_ZG11</th>\n",
       "      <th>W_KEIT_KIND_HH</th>\n",
       "      <th>WOHNDAUER_2008</th>\n",
       "      <th>WOHNLAGE</th>\n",
       "      <th>ZABEOTYP</th>\n",
       "      <th>PRODUCT_GROUP</th>\n",
       "      <th>CUSTOMER_GROUP</th>\n",
       "      <th>ONLINE_PURCHASE</th>\n",
       "      <th>ANREDE_KZ</th>\n",
       "      <th>ALTERSKATEGORIE_GROB</th>\n",
       "    </tr>\n",
       "  </thead>\n",
       "  <tbody>\n",
       "    <tr>\n",
       "      <th>0</th>\n",
       "      <td>9626</td>\n",
       "      <td>2</td>\n",
       "      <td>1.0</td>\n",
       "      <td>10.0</td>\n",
       "      <td>NaN</td>\n",
       "      <td>NaN</td>\n",
       "      <td>NaN</td>\n",
       "      <td>NaN</td>\n",
       "      <td>10.0</td>\n",
       "      <td>1.0</td>\n",
       "      <td>...</td>\n",
       "      <td>2.0</td>\n",
       "      <td>6.0</td>\n",
       "      <td>9.0</td>\n",
       "      <td>7.0</td>\n",
       "      <td>3</td>\n",
       "      <td>COSMETIC_AND_FOOD</td>\n",
       "      <td>MULTI_BUYER</td>\n",
       "      <td>0</td>\n",
       "      <td>1</td>\n",
       "      <td>4</td>\n",
       "    </tr>\n",
       "    <tr>\n",
       "      <th>1</th>\n",
       "      <td>9628</td>\n",
       "      <td>-1</td>\n",
       "      <td>9.0</td>\n",
       "      <td>11.0</td>\n",
       "      <td>NaN</td>\n",
       "      <td>NaN</td>\n",
       "      <td>NaN</td>\n",
       "      <td>NaN</td>\n",
       "      <td>NaN</td>\n",
       "      <td>NaN</td>\n",
       "      <td>...</td>\n",
       "      <td>3.0</td>\n",
       "      <td>0.0</td>\n",
       "      <td>9.0</td>\n",
       "      <td>NaN</td>\n",
       "      <td>3</td>\n",
       "      <td>FOOD</td>\n",
       "      <td>SINGLE_BUYER</td>\n",
       "      <td>0</td>\n",
       "      <td>1</td>\n",
       "      <td>4</td>\n",
       "    </tr>\n",
       "    <tr>\n",
       "      <th>2</th>\n",
       "      <td>143872</td>\n",
       "      <td>-1</td>\n",
       "      <td>1.0</td>\n",
       "      <td>6.0</td>\n",
       "      <td>NaN</td>\n",
       "      <td>NaN</td>\n",
       "      <td>NaN</td>\n",
       "      <td>NaN</td>\n",
       "      <td>0.0</td>\n",
       "      <td>1.0</td>\n",
       "      <td>...</td>\n",
       "      <td>11.0</td>\n",
       "      <td>6.0</td>\n",
       "      <td>9.0</td>\n",
       "      <td>2.0</td>\n",
       "      <td>3</td>\n",
       "      <td>COSMETIC_AND_FOOD</td>\n",
       "      <td>MULTI_BUYER</td>\n",
       "      <td>0</td>\n",
       "      <td>2</td>\n",
       "      <td>4</td>\n",
       "    </tr>\n",
       "    <tr>\n",
       "      <th>3</th>\n",
       "      <td>143873</td>\n",
       "      <td>1</td>\n",
       "      <td>1.0</td>\n",
       "      <td>8.0</td>\n",
       "      <td>NaN</td>\n",
       "      <td>NaN</td>\n",
       "      <td>NaN</td>\n",
       "      <td>NaN</td>\n",
       "      <td>8.0</td>\n",
       "      <td>0.0</td>\n",
       "      <td>...</td>\n",
       "      <td>2.0</td>\n",
       "      <td>NaN</td>\n",
       "      <td>9.0</td>\n",
       "      <td>7.0</td>\n",
       "      <td>1</td>\n",
       "      <td>COSMETIC</td>\n",
       "      <td>MULTI_BUYER</td>\n",
       "      <td>0</td>\n",
       "      <td>1</td>\n",
       "      <td>4</td>\n",
       "    </tr>\n",
       "    <tr>\n",
       "      <th>4</th>\n",
       "      <td>143874</td>\n",
       "      <td>-1</td>\n",
       "      <td>1.0</td>\n",
       "      <td>20.0</td>\n",
       "      <td>NaN</td>\n",
       "      <td>NaN</td>\n",
       "      <td>NaN</td>\n",
       "      <td>NaN</td>\n",
       "      <td>14.0</td>\n",
       "      <td>7.0</td>\n",
       "      <td>...</td>\n",
       "      <td>4.0</td>\n",
       "      <td>2.0</td>\n",
       "      <td>9.0</td>\n",
       "      <td>3.0</td>\n",
       "      <td>1</td>\n",
       "      <td>FOOD</td>\n",
       "      <td>MULTI_BUYER</td>\n",
       "      <td>0</td>\n",
       "      <td>1</td>\n",
       "      <td>3</td>\n",
       "    </tr>\n",
       "  </tbody>\n",
       "</table>\n",
       "<p>5 rows × 369 columns</p>\n",
       "</div>"
      ],
      "text/plain": [
       "      LNR  AGER_TYP  AKT_DAT_KL  ALTER_HH  ALTER_KIND1  ALTER_KIND2  \\\n",
       "0    9626         2         1.0      10.0          NaN          NaN   \n",
       "1    9628        -1         9.0      11.0          NaN          NaN   \n",
       "2  143872        -1         1.0       6.0          NaN          NaN   \n",
       "3  143873         1         1.0       8.0          NaN          NaN   \n",
       "4  143874        -1         1.0      20.0          NaN          NaN   \n",
       "\n",
       "   ALTER_KIND3  ALTER_KIND4  ALTERSKATEGORIE_FEIN  ANZ_HAUSHALTE_AKTIV  ...  \\\n",
       "0          NaN          NaN                  10.0                  1.0  ...   \n",
       "1          NaN          NaN                   NaN                  NaN  ...   \n",
       "2          NaN          NaN                   0.0                  1.0  ...   \n",
       "3          NaN          NaN                   8.0                  0.0  ...   \n",
       "4          NaN          NaN                  14.0                  7.0  ...   \n",
       "\n",
       "   VK_ZG11  W_KEIT_KIND_HH  WOHNDAUER_2008  WOHNLAGE  ZABEOTYP  \\\n",
       "0      2.0             6.0             9.0       7.0         3   \n",
       "1      3.0             0.0             9.0       NaN         3   \n",
       "2     11.0             6.0             9.0       2.0         3   \n",
       "3      2.0             NaN             9.0       7.0         1   \n",
       "4      4.0             2.0             9.0       3.0         1   \n",
       "\n",
       "       PRODUCT_GROUP  CUSTOMER_GROUP ONLINE_PURCHASE ANREDE_KZ  \\\n",
       "0  COSMETIC_AND_FOOD     MULTI_BUYER               0         1   \n",
       "1               FOOD    SINGLE_BUYER               0         1   \n",
       "2  COSMETIC_AND_FOOD     MULTI_BUYER               0         2   \n",
       "3           COSMETIC     MULTI_BUYER               0         1   \n",
       "4               FOOD     MULTI_BUYER               0         1   \n",
       "\n",
       "  ALTERSKATEGORIE_GROB  \n",
       "0                    4  \n",
       "1                    4  \n",
       "2                    4  \n",
       "3                    4  \n",
       "4                    3  \n",
       "\n",
       "[5 rows x 369 columns]"
      ]
     },
     "execution_count": 7,
     "metadata": {},
     "output_type": "execute_result"
    }
   ],
   "source": [
    "customers = pd.read_pickle('../csv_pickle/customers.pickle')\n",
    "\n",
    "print (customers.info())\n",
    "customers.head()"
   ]
  },
  {
   "cell_type": "code",
   "execution_count": 8,
   "metadata": {},
   "outputs": [],
   "source": [
    "# '''\n",
    "# missing value overview\n",
    "# '''\n",
    "\n",
    "# customers.name = 'customers'\n",
    "# msno_overview(customers)"
   ]
  },
  {
   "attachments": {},
   "cell_type": "markdown",
   "metadata": {},
   "source": [
    "#### 1.3 info"
   ]
  },
  {
   "cell_type": "code",
   "execution_count": 9,
   "metadata": {},
   "outputs": [
    {
     "name": "stdout",
     "output_type": "stream",
     "text": [
      "<class 'pandas.core.frame.DataFrame'>\n",
      "RangeIndex: 313 entries, 0 to 312\n",
      "Data columns (total 4 columns):\n",
      " #   Column             Non-Null Count  Dtype \n",
      "---  ------             --------------  ----- \n",
      " 0   Information level  312 non-null    object\n",
      " 1   Attribute          313 non-null    object\n",
      " 2   Description        313 non-null    object\n",
      " 3   Additional notes   20 non-null     object\n",
      "dtypes: object(4)\n",
      "memory usage: 9.9+ KB\n",
      "None\n"
     ]
    },
    {
     "data": {
      "text/html": [
       "<div>\n",
       "<style scoped>\n",
       "    .dataframe tbody tr th:only-of-type {\n",
       "        vertical-align: middle;\n",
       "    }\n",
       "\n",
       "    .dataframe tbody tr th {\n",
       "        vertical-align: top;\n",
       "    }\n",
       "\n",
       "    .dataframe thead th {\n",
       "        text-align: right;\n",
       "    }\n",
       "</style>\n",
       "<table border=\"1\" class=\"dataframe\">\n",
       "  <thead>\n",
       "    <tr style=\"text-align: right;\">\n",
       "      <th></th>\n",
       "      <th>Information level</th>\n",
       "      <th>Attribute</th>\n",
       "      <th>Description</th>\n",
       "      <th>Additional notes</th>\n",
       "    </tr>\n",
       "  </thead>\n",
       "  <tbody>\n",
       "    <tr>\n",
       "      <th>0</th>\n",
       "      <td>NaN</td>\n",
       "      <td>AGER_TYP</td>\n",
       "      <td>best-ager typology</td>\n",
       "      <td>in cooperation with Kantar TNS; the informatio...</td>\n",
       "    </tr>\n",
       "    <tr>\n",
       "      <th>1</th>\n",
       "      <td>Person</td>\n",
       "      <td>ALTERSKATEGORIE_GROB</td>\n",
       "      <td>age through prename analysis</td>\n",
       "      <td>modelled on millions of first name-age-referen...</td>\n",
       "    </tr>\n",
       "    <tr>\n",
       "      <th>2</th>\n",
       "      <td>Person</td>\n",
       "      <td>ANREDE_KZ</td>\n",
       "      <td>gender</td>\n",
       "      <td>NaN</td>\n",
       "    </tr>\n",
       "    <tr>\n",
       "      <th>3</th>\n",
       "      <td>Person</td>\n",
       "      <td>CJT_GESAMTTYP</td>\n",
       "      <td>Customer-Journey-Typology relating to the pref...</td>\n",
       "      <td>relating to the preferred information, marketi...</td>\n",
       "    </tr>\n",
       "    <tr>\n",
       "      <th>4</th>\n",
       "      <td>Person</td>\n",
       "      <td>FINANZ_MINIMALIST</td>\n",
       "      <td>financial typology: low financial interest</td>\n",
       "      <td>Gfk-Typology based on a representative househo...</td>\n",
       "    </tr>\n",
       "  </tbody>\n",
       "</table>\n",
       "</div>"
      ],
      "text/plain": [
       "  Information level             Attribute  \\\n",
       "0               NaN              AGER_TYP   \n",
       "1            Person  ALTERSKATEGORIE_GROB   \n",
       "2            Person             ANREDE_KZ   \n",
       "3            Person         CJT_GESAMTTYP   \n",
       "4            Person     FINANZ_MINIMALIST   \n",
       "\n",
       "                                         Description  \\\n",
       "0                                 best-ager typology   \n",
       "1                      age through prename analysis    \n",
       "2                                             gender   \n",
       "3  Customer-Journey-Typology relating to the pref...   \n",
       "4         financial typology: low financial interest   \n",
       "\n",
       "                                    Additional notes  \n",
       "0  in cooperation with Kantar TNS; the informatio...  \n",
       "1  modelled on millions of first name-age-referen...  \n",
       "2                                                NaN  \n",
       "3  relating to the preferred information, marketi...  \n",
       "4  Gfk-Typology based on a representative househo...  "
      ]
     },
     "execution_count": 9,
     "metadata": {},
     "output_type": "execute_result"
    }
   ],
   "source": [
    "'''\n",
    "load and overview\n",
    "'''\n",
    "\n",
    "ref_info = pd.read_excel(\n",
    "    'DIAS Information Levels - Attributes 2017.xlsx', header=1).iloc[:, 1:]\n",
    "\n",
    "# fillna of Information level as values are only in the 1st rows\n",
    "ref_info['Information level'] = ref_info['Information level'].fillna(method = 'ffill')\n",
    "\n",
    "print (ref_info.info())\n",
    "ref_info.head()"
   ]
  },
  {
   "attachments": {},
   "cell_type": "markdown",
   "metadata": {},
   "source": [
    "#### 1.4 attr"
   ]
  },
  {
   "cell_type": "code",
   "execution_count": 10,
   "metadata": {},
   "outputs": [
    {
     "name": "stdout",
     "output_type": "stream",
     "text": [
      "<class 'pandas.core.frame.DataFrame'>\n",
      "RangeIndex: 2258 entries, 0 to 2257\n",
      "Data columns (total 4 columns):\n",
      " #   Column       Non-Null Count  Dtype \n",
      "---  ------       --------------  ----- \n",
      " 0   Attribute    314 non-null    object\n",
      " 1   Description  351 non-null    object\n",
      " 2   Score        2258 non-null   object\n",
      " 3   Meaning      2247 non-null   object\n",
      "dtypes: object(4)\n",
      "memory usage: 70.7+ KB\n",
      "None\n"
     ]
    },
    {
     "data": {
      "text/html": [
       "<div>\n",
       "<style scoped>\n",
       "    .dataframe tbody tr th:only-of-type {\n",
       "        vertical-align: middle;\n",
       "    }\n",
       "\n",
       "    .dataframe tbody tr th {\n",
       "        vertical-align: top;\n",
       "    }\n",
       "\n",
       "    .dataframe thead th {\n",
       "        text-align: right;\n",
       "    }\n",
       "</style>\n",
       "<table border=\"1\" class=\"dataframe\">\n",
       "  <thead>\n",
       "    <tr style=\"text-align: right;\">\n",
       "      <th></th>\n",
       "      <th>Attribute</th>\n",
       "      <th>Description</th>\n",
       "      <th>Score</th>\n",
       "      <th>Meaning</th>\n",
       "    </tr>\n",
       "  </thead>\n",
       "  <tbody>\n",
       "    <tr>\n",
       "      <th>103</th>\n",
       "      <td>NaN</td>\n",
       "      <td>NaN</td>\n",
       "      <td>9D</td>\n",
       "      <td>Mini-Jobber</td>\n",
       "    </tr>\n",
       "    <tr>\n",
       "      <th>104</th>\n",
       "      <td>NaN</td>\n",
       "      <td>NaN</td>\n",
       "      <td>9E</td>\n",
       "      <td>Socking Away</td>\n",
       "    </tr>\n",
       "    <tr>\n",
       "      <th>105</th>\n",
       "      <td>CAMEO_DEUINTL_2015</td>\n",
       "      <td>CAMEO classification 2015 - international typo...</td>\n",
       "      <td>-1</td>\n",
       "      <td>unknown</td>\n",
       "    </tr>\n",
       "    <tr>\n",
       "      <th>106</th>\n",
       "      <td>NaN</td>\n",
       "      <td>(each German CAMEO code belongs to one interna...</td>\n",
       "      <td>11</td>\n",
       "      <td>Wealthy Households-Pre-Family Couples &amp; Singles</td>\n",
       "    </tr>\n",
       "    <tr>\n",
       "      <th>107</th>\n",
       "      <td>NaN</td>\n",
       "      <td>NaN</td>\n",
       "      <td>12</td>\n",
       "      <td>Wealthy Households-Young Couples With Children</td>\n",
       "    </tr>\n",
       "  </tbody>\n",
       "</table>\n",
       "</div>"
      ],
      "text/plain": [
       "              Attribute                                        Description  \\\n",
       "103                 NaN                                                NaN   \n",
       "104                 NaN                                                NaN   \n",
       "105  CAMEO_DEUINTL_2015  CAMEO classification 2015 - international typo...   \n",
       "106                 NaN  (each German CAMEO code belongs to one interna...   \n",
       "107                 NaN                                                NaN   \n",
       "\n",
       "    Score                                          Meaning  \n",
       "103    9D                                      Mini-Jobber  \n",
       "104    9E                                     Socking Away  \n",
       "105    -1                                          unknown  \n",
       "106    11  Wealthy Households-Pre-Family Couples & Singles  \n",
       "107    12   Wealthy Households-Young Couples With Children  "
      ]
     },
     "execution_count": 10,
     "metadata": {},
     "output_type": "execute_result"
    }
   ],
   "source": [
    "'''\n",
    "load and overview\n",
    "'''\n",
    "\n",
    "ref_attr = pd.read_excel(\n",
    "    'DIAS Attributes - Values 2017.xlsx', header=1).iloc[:, 1:]\n",
    "# rename column Value to Score for easier documentation\n",
    "ref_attr = ref_attr.rename(columns = {'Value' : 'Score'})\n",
    "\n",
    "print (ref_attr.info())\n",
    "ref_attr[103:108]"
   ]
  },
  {
   "attachments": {},
   "cell_type": "markdown",
   "metadata": {},
   "source": [
    "### 2. Baseline understanding\n",
    "\n",
    "There are 4 files given:\n",
    "* 2 dataset files - azdias & customers\n",
    "* 2 reference files - info & attr:  \n",
    "  - info is for information on dataset features which are in unreadable German acronyms  \n",
    "  - attr is for information on dataset values which are in numbers and acronyms,  \n",
    "  and has corresponding meanings  \n",
    "\n",
    "To establish a baseline, this section aims to identify key factors in the reference files   \n",
    "that can help in understanding the contents of the dataset."
   ]
  },
  {
   "attachments": {},
   "cell_type": "markdown",
   "metadata": {},
   "source": [
    "#### 2.1 feature alignment\n",
    "\n",
    "As datasets do not have information on what each column feature exactly means,  \n",
    "values of reference files have to be mapped to the features.\n",
    "  \n",
    "feature_desc below is for this needs, and formed with 369 column features from customers. \n",
    "\n",
    "After merging information columns, there are 264 features from both customers and info,  \n",
    "along with 105 exclusive features of customers lacking Description values.\n",
    "\n",
    "< 2개 내용을 합침  6/7>\n",
    "\n",
    "<!-- #### 2.2 feature alignment -->\n",
    "\n",
    "The improved readability of feature_desc has enhanced the understanding  \n",
    "of the overall structure of the datasets and the meanings of the features,  \n",
    "although some translations still remain unclear.  \n",
    "\n",
    "Since there are a few features that have similar contents, it is necessary  \n",
    "to perform imputation steps to resolve collinearity and reduce dimensionality  \n",
    "before proceeding with the modeling process.\n",
    "\n",
    "The following cells provide an overview of the number of features in each file  \n",
    "and illustrates the feature intersection and difference between the files."
   ]
  },
  {
   "cell_type": "code",
   "execution_count": 11,
   "metadata": {},
   "outputs": [
    {
     "name": "stdout",
     "output_type": "stream",
     "text": [
      "Number of features by file\n",
      "azdias : 366\n",
      "customers : 369\n",
      "ref_info : 313\n",
      "ref_attr : 314\n"
     ]
    }
   ],
   "source": [
    "feature_dict = {\n",
    "    'azdias' : set(azdias.columns.unique()),\n",
    "    'customers' : set(customers.columns.unique()),\n",
    "    'ref_info' : set(ref_info.Attribute.dropna().unique()),\n",
    "    'ref_attr' : set(ref_attr.Attribute.dropna().unique()),\n",
    "    }\n",
    "\n",
    "print ('Number of features by file')\n",
    "for k, v in feature_dict.items():\n",
    "    print (k, ':', len(v))"
   ]
  },
  {
   "cell_type": "code",
   "execution_count": 12,
   "metadata": {},
   "outputs": [
    {
     "name": "stdout",
     "output_type": "stream",
     "text": [
      "Feature intersection & difference between files\n",
      "azdias & customers intersection:       366  /  in azdias & not-in customers:       0\n",
      "azdias & ref_info intersection:        264  /  in azdias & not-in ref_info:      102\n",
      "azdias & ref_attr intersection:        272  /  in azdias & not-in ref_attr:       94\n",
      "customers & azdias intersection:       366  /  in customers & not-in azdias:       3\n",
      "customers & ref_info intersection:     264  /  in customers & not-in ref_info:   105\n",
      "customers & ref_attr intersection:     272  /  in customers & not-in ref_attr:    97\n",
      "ref_info & azdias intersection:        264  /  in ref_info & not-in azdias:       49\n",
      "ref_info & customers intersection:     264  /  in ref_info & not-in customers:    49\n",
      "ref_info & ref_attr intersection:      300  /  in ref_info & not-in ref_attr:     13\n",
      "ref_attr & azdias intersection:        272  /  in ref_attr & not-in azdias:       42\n",
      "ref_attr & customers intersection:     272  /  in ref_attr & not-in customers:    42\n",
      "ref_attr & ref_info intersection:      300  /  in ref_attr & not-in ref_info:     14\n"
     ]
    }
   ],
   "source": [
    "# feature_dict['attr'] = set(attr.Attribute.dropna().unique())\n",
    "\n",
    "print ('Feature intersection & difference between files')\n",
    "for i in range (0, 4):\n",
    "    for j in range (0, 4):\n",
    "        if i == j:\n",
    "            continue\n",
    "        \n",
    "        key_1 = list(feature_dict.keys())[i]\n",
    "        key_2 = list(feature_dict.keys())[j]\n",
    "        set_1 = list(feature_dict.values())[i]\n",
    "        set_2 = list(feature_dict.values())[j]\n",
    "        \n",
    "        intsec = set_1.intersection(set_2)\n",
    "        ft_diff = set_1 - set_2\n",
    "        feature_dict[f'{key_1}_intsec_{key_2}'] = intsec\n",
    "        feature_dict[f'in_{key_1}_notin_{key_2}'] = ft_diff\n",
    "        \n",
    "        intsec_print = f'{key_1} & {key_2} intersection:'\n",
    "        ft_diff_print = f' /  in {key_1} & not-in {key_2}:'        \n",
    "        print (intsec_print, str(len(intsec)).rjust(41 - len(intsec_print)),\n",
    "               ft_diff_print, str(len(ft_diff)).rjust(40 - len(ft_diff_print)))"
   ]
  },
  {
   "attachments": {},
   "cell_type": "markdown",
   "metadata": {},
   "source": [
    "* Attribute of ref_info:너무 많은 피쳐가 reference 파일에 없음"
   ]
  },
  {
   "cell_type": "code",
   "execution_count": 13,
   "metadata": {},
   "outputs": [
    {
     "data": {
      "text/html": [
       "<div>\n",
       "<style scoped>\n",
       "    .dataframe tbody tr th:only-of-type {\n",
       "        vertical-align: middle;\n",
       "    }\n",
       "\n",
       "    .dataframe tbody tr th {\n",
       "        vertical-align: top;\n",
       "    }\n",
       "\n",
       "    .dataframe thead th {\n",
       "        text-align: right;\n",
       "    }\n",
       "</style>\n",
       "<table border=\"1\" class=\"dataframe\">\n",
       "  <thead>\n",
       "    <tr style=\"text-align: right;\">\n",
       "      <th></th>\n",
       "      <th>Attribute</th>\n",
       "      <th>in_customers_notin_ref_info</th>\n",
       "      <th>distance</th>\n",
       "      <th>suffix_added</th>\n",
       "    </tr>\n",
       "  </thead>\n",
       "  <tbody>\n",
       "    <tr>\n",
       "      <th>2</th>\n",
       "      <td>D19_BUCH_RZ</td>\n",
       "      <td>D19_BUCH_CD</td>\n",
       "      <td>2</td>\n",
       "      <td>0</td>\n",
       "    </tr>\n",
       "    <tr>\n",
       "      <th>3</th>\n",
       "      <td>D19_RATGEBER_RZ</td>\n",
       "      <td>D19_RATGEBER</td>\n",
       "      <td>3</td>\n",
       "      <td>1</td>\n",
       "    </tr>\n",
       "    <tr>\n",
       "      <th>4</th>\n",
       "      <td>D19_TELKO_REST_RZ</td>\n",
       "      <td>D19_TELKO_REST</td>\n",
       "      <td>3</td>\n",
       "      <td>1</td>\n",
       "    </tr>\n",
       "    <tr>\n",
       "      <th>5</th>\n",
       "      <td>D19_REISEN_RZ</td>\n",
       "      <td>D19_REISEN</td>\n",
       "      <td>3</td>\n",
       "      <td>1</td>\n",
       "    </tr>\n",
       "    <tr>\n",
       "      <th>6</th>\n",
       "      <td>D19_DROGERIEARTIKEL_RZ</td>\n",
       "      <td>D19_DROGERIEARTIKEL</td>\n",
       "      <td>3</td>\n",
       "      <td>1</td>\n",
       "    </tr>\n",
       "  </tbody>\n",
       "</table>\n",
       "</div>"
      ],
      "text/plain": [
       "                Attribute in_customers_notin_ref_info distance  suffix_added\n",
       "2             D19_BUCH_RZ                 D19_BUCH_CD        2             0\n",
       "3         D19_RATGEBER_RZ                D19_RATGEBER        3             1\n",
       "4       D19_TELKO_REST_RZ              D19_TELKO_REST        3             1\n",
       "5           D19_REISEN_RZ                  D19_REISEN        3             1\n",
       "6  D19_DROGERIEARTIKEL_RZ         D19_DROGERIEARTIKEL        3             1"
      ]
     },
     "execution_count": 13,
     "metadata": {},
     "output_type": "execute_result"
    }
   ],
   "source": [
    "info_customers_similarity = similar_feature(\n",
    "    'in_ref_info_notin_customers', 'in_customers_notin_ref_info', feature_dict)\n",
    "info_customers_similarity.head()"
   ]
  },
  {
   "cell_type": "code",
   "execution_count": 14,
   "metadata": {},
   "outputs": [],
   "source": [
    "'''\n",
    "많은 경우 _RZ 서픽스에 의한 차이이므로 info를 수정한\n",
    "'''\n",
    "org_info = ref_info.copy()\n",
    "info_customers_similarity = info_customers_similarity.query('Attribute.str.len() > 5')\n",
    "\n",
    "ref_col = 'in_customers_notin_ref_info'\n",
    "ref_info = vlookup(ref_info, info_customers_similarity, lookup_col = ref_col)\n",
    "ref_info.Attribute = np.where(ref_info[ref_col].isna(), ref_info.Attribute, ref_info[ref_col])\n",
    "ref_info = ref_info.drop(ref_col, axis = 1)"
   ]
  },
  {
   "attachments": {},
   "cell_type": "markdown",
   "metadata": {},
   "source": [
    "* Attribute of ref_attr"
   ]
  },
  {
   "cell_type": "code",
   "execution_count": 15,
   "metadata": {},
   "outputs": [
    {
     "data": {
      "text/html": [
       "<div>\n",
       "<style scoped>\n",
       "    .dataframe tbody tr th:only-of-type {\n",
       "        vertical-align: middle;\n",
       "    }\n",
       "\n",
       "    .dataframe tbody tr th {\n",
       "        vertical-align: top;\n",
       "    }\n",
       "\n",
       "    .dataframe thead th {\n",
       "        text-align: right;\n",
       "    }\n",
       "</style>\n",
       "<table border=\"1\" class=\"dataframe\">\n",
       "  <thead>\n",
       "    <tr style=\"text-align: right;\">\n",
       "      <th></th>\n",
       "      <th>Attribute</th>\n",
       "      <th>in_customers_notin_ref_attr</th>\n",
       "      <th>distance</th>\n",
       "      <th>suffix_added</th>\n",
       "    </tr>\n",
       "  </thead>\n",
       "  <tbody>\n",
       "    <tr>\n",
       "      <th>1</th>\n",
       "      <td>D19_LOTTO_RZ</td>\n",
       "      <td>D19_LOTTO</td>\n",
       "      <td>3</td>\n",
       "      <td>1</td>\n",
       "    </tr>\n",
       "    <tr>\n",
       "      <th>3</th>\n",
       "      <td>D19_BUCH_RZ</td>\n",
       "      <td>D19_BUCH_CD</td>\n",
       "      <td>2</td>\n",
       "      <td>0</td>\n",
       "    </tr>\n",
       "    <tr>\n",
       "      <th>4</th>\n",
       "      <td>D19_RATGEBER_RZ</td>\n",
       "      <td>D19_RATGEBER</td>\n",
       "      <td>3</td>\n",
       "      <td>1</td>\n",
       "    </tr>\n",
       "    <tr>\n",
       "      <th>5</th>\n",
       "      <td>D19_TELKO_REST_RZ</td>\n",
       "      <td>D19_TELKO_REST</td>\n",
       "      <td>3</td>\n",
       "      <td>1</td>\n",
       "    </tr>\n",
       "    <tr>\n",
       "      <th>6</th>\n",
       "      <td>D19_REISEN_RZ</td>\n",
       "      <td>D19_REISEN</td>\n",
       "      <td>3</td>\n",
       "      <td>1</td>\n",
       "    </tr>\n",
       "  </tbody>\n",
       "</table>\n",
       "</div>"
      ],
      "text/plain": [
       "           Attribute in_customers_notin_ref_attr distance  suffix_added\n",
       "1       D19_LOTTO_RZ                   D19_LOTTO        3             1\n",
       "3        D19_BUCH_RZ                 D19_BUCH_CD        2             0\n",
       "4    D19_RATGEBER_RZ                D19_RATGEBER        3             1\n",
       "5  D19_TELKO_REST_RZ              D19_TELKO_REST        3             1\n",
       "6      D19_REISEN_RZ                  D19_REISEN        3             1"
      ]
     },
     "execution_count": 15,
     "metadata": {},
     "output_type": "execute_result"
    }
   ],
   "source": [
    "attr_customers_similarity = similar_feature(\n",
    "    'in_ref_attr_notin_customers', 'in_customers_notin_ref_attr', feature_dict)\n",
    "attr_customers_similarity.head()"
   ]
  },
  {
   "cell_type": "code",
   "execution_count": 16,
   "metadata": {},
   "outputs": [],
   "source": [
    "'''\n",
    "많은 경우 _RZ 서픽스에 의한 차이이므로 attr를 수정한\n",
    "'''\n",
    "org_attr = ref_attr.copy()\n",
    "attr_customers_similarity = attr_customers_similarity.query('Attribute.str.len() > 8')\n",
    "\n",
    "ref_col = 'in_customers_notin_ref_attr'\n",
    "ref_attr = vlookup(ref_attr, attr_customers_similarity, lookup_col = ref_col)\n",
    "ref_attr.Attribute = np.where(ref_attr[ref_col].isna(), ref_attr.Attribute, ref_attr[ref_col])\n",
    "ref_attr = ref_attr.drop(ref_col, axis = 1)"
   ]
  },
  {
   "cell_type": "code",
   "execution_count": 17,
   "metadata": {},
   "outputs": [
    {
     "name": "stdout",
     "output_type": "stream",
     "text": [
      "Feature intersection & difference between files\n",
      "azdias & customers intersection:       366  /  in azdias & not-in customers:       0\n",
      "azdias & ref_info intersection:        299  /  in azdias & not-in ref_info:       67\n",
      "azdias & ref_attr intersection:        308  /  in azdias & not-in ref_attr:       58\n",
      "customers & azdias intersection:       366  /  in customers & not-in azdias:       3\n",
      "customers & ref_info intersection:     299  /  in customers & not-in ref_info:    70\n",
      "customers & ref_attr intersection:     308  /  in customers & not-in ref_attr:    61\n",
      "ref_info & azdias intersection:        299  /  in ref_info & not-in azdias:       14\n",
      "ref_info & customers intersection:     299  /  in ref_info & not-in customers:    14\n",
      "ref_info & ref_attr intersection:      300  /  in ref_info & not-in ref_attr:     13\n",
      "ref_attr & azdias intersection:        308  /  in ref_attr & not-in azdias:        6\n",
      "ref_attr & customers intersection:     308  /  in ref_attr & not-in customers:     6\n",
      "ref_attr & ref_info intersection:      300  /  in ref_attr & not-in ref_info:     14\n"
     ]
    }
   ],
   "source": [
    "feature_dict['ref_info'] = set(ref_info.Attribute.dropna().unique())\n",
    "feature_dict['ref_attr'] = set(ref_attr.Attribute.dropna().unique())\n",
    "\n",
    "print ('Feature intersection & difference between files')\n",
    "for i in range (0, 4):\n",
    "    for j in range (0, 4):\n",
    "        if i == j:\n",
    "            continue\n",
    "        \n",
    "        key_1 = list(feature_dict.keys())[i]\n",
    "        key_2 = list(feature_dict.keys())[j]\n",
    "        set_1 = list(feature_dict.values())[i]\n",
    "        set_2 = list(feature_dict.values())[j]\n",
    "        \n",
    "        intsec = set_1.intersection(set_2)\n",
    "        ft_diff = set_1 - set_2\n",
    "        feature_dict[f'{key_1}_intsec_{key_2}'] = intsec\n",
    "        feature_dict[f'in_{key_1}_notin_{key_2}'] = ft_diff\n",
    "        \n",
    "        intsec_print = f'{key_1} & {key_2} intersection:'\n",
    "        ft_diff_print = f' /  in {key_1} & not-in {key_2}:'        \n",
    "        print (intsec_print, str(len(intsec)).rjust(41 - len(intsec_print)),\n",
    "               ft_diff_print, str(len(ft_diff)).rjust(40 - len(ft_diff_print)))"
   ]
  },
  {
   "attachments": {},
   "cell_type": "markdown",
   "metadata": {},
   "source": [
    "#### 2.2 reference file modification\n",
    "\n",
    "<내용 수정 필요. 위 마크 업과 비교하여>\n",
    "As datasets do not have information on what each column feature exactly means,  \n",
    "values of reference files have to be mapped to the features.\n",
    "  \n",
    "feature_desc below is for this needs, and formed with 369 column features from customers. \n",
    "\n",
    "After merging information columns, there are 264 features from both customers and info,  \n",
    "along with 105 exclusive features of customers lacking Description values."
   ]
  },
  {
   "attachments": {},
   "cell_type": "markdown",
   "metadata": {},
   "source": [
    "* create feature_desc"
   ]
  },
  {
   "cell_type": "code",
   "execution_count": 18,
   "metadata": {},
   "outputs": [
    {
     "name": "stdout",
     "output_type": "stream",
     "text": [
      "<class 'pandas.core.frame.DataFrame'>\n",
      "Int64Index: 369 entries, 0 to 368\n",
      "Data columns (total 7 columns):\n",
      " #   Column             Non-Null Count  Dtype \n",
      "---  ------             --------------  ----- \n",
      " 0   category_large     369 non-null    object\n",
      " 1   category_small     369 non-null    object\n",
      " 2   Attribute          369 non-null    object\n",
      " 3   Information level  298 non-null    object\n",
      " 4   Additional notes   18 non-null     object\n",
      " 5   Description        312 non-null    object\n",
      " 6   Desc               369 non-null    object\n",
      "dtypes: object(7)\n",
      "memory usage: 23.1+ KB\n",
      "None\n"
     ]
    },
    {
     "data": {
      "text/html": [
       "<div>\n",
       "<style scoped>\n",
       "    .dataframe tbody tr th:only-of-type {\n",
       "        vertical-align: middle;\n",
       "    }\n",
       "\n",
       "    .dataframe tbody tr th {\n",
       "        vertical-align: top;\n",
       "    }\n",
       "\n",
       "    .dataframe thead th {\n",
       "        text-align: right;\n",
       "    }\n",
       "</style>\n",
       "<table border=\"1\" class=\"dataframe\">\n",
       "  <thead>\n",
       "    <tr style=\"text-align: right;\">\n",
       "      <th></th>\n",
       "      <th>category_large</th>\n",
       "      <th>category_small</th>\n",
       "      <th>Attribute</th>\n",
       "      <th>Information level</th>\n",
       "      <th>Additional notes</th>\n",
       "      <th>Description</th>\n",
       "      <th>Desc</th>\n",
       "    </tr>\n",
       "  </thead>\n",
       "  <tbody>\n",
       "    <tr>\n",
       "      <th>0</th>\n",
       "      <td>no_category</td>\n",
       "      <td>LNR</td>\n",
       "      <td>LNR</td>\n",
       "      <td>NaN</td>\n",
       "      <td>NaN</td>\n",
       "      <td>NaN</td>\n",
       "      <td>LNR</td>\n",
       "    </tr>\n",
       "    <tr>\n",
       "      <th>1</th>\n",
       "      <td>AGER</td>\n",
       "      <td>AGER</td>\n",
       "      <td>AGER_TYP</td>\n",
       "      <td>NaN</td>\n",
       "      <td>in cooperation with Kantar TNS; the informatio...</td>\n",
       "      <td>best-ager typology</td>\n",
       "      <td>best-ager typology</td>\n",
       "    </tr>\n",
       "    <tr>\n",
       "      <th>2</th>\n",
       "      <td>AKT</td>\n",
       "      <td>AKT</td>\n",
       "      <td>AKT_DAT_KL</td>\n",
       "      <td>NaN</td>\n",
       "      <td>NaN</td>\n",
       "      <td>NaN</td>\n",
       "      <td>Act Dat KL</td>\n",
       "    </tr>\n",
       "    <tr>\n",
       "      <th>3</th>\n",
       "      <td>ALTER</td>\n",
       "      <td>ALTER</td>\n",
       "      <td>ALTER_HH</td>\n",
       "      <td>Household</td>\n",
       "      <td>NaN</td>\n",
       "      <td>main age within the household</td>\n",
       "      <td>main age within the household</td>\n",
       "    </tr>\n",
       "    <tr>\n",
       "      <th>4</th>\n",
       "      <td>ALTER</td>\n",
       "      <td>ALTER</td>\n",
       "      <td>ALTER_KIND1</td>\n",
       "      <td>NaN</td>\n",
       "      <td>NaN</td>\n",
       "      <td>NaN</td>\n",
       "      <td>Old child1</td>\n",
       "    </tr>\n",
       "  </tbody>\n",
       "</table>\n",
       "</div>"
      ],
      "text/plain": [
       "  category_large category_small    Attribute Information level  \\\n",
       "0    no_category            LNR          LNR               NaN   \n",
       "1           AGER           AGER     AGER_TYP               NaN   \n",
       "2            AKT            AKT   AKT_DAT_KL               NaN   \n",
       "3          ALTER          ALTER     ALTER_HH         Household   \n",
       "4          ALTER          ALTER  ALTER_KIND1               NaN   \n",
       "\n",
       "                                    Additional notes  \\\n",
       "0                                                NaN   \n",
       "1  in cooperation with Kantar TNS; the informatio...   \n",
       "2                                                NaN   \n",
       "3                                                NaN   \n",
       "4                                                NaN   \n",
       "\n",
       "                     Description                           Desc  \n",
       "0                            NaN                            LNR  \n",
       "1             best-ager typology             best-ager typology  \n",
       "2                            NaN                     Act Dat KL  \n",
       "3  main age within the household  main age within the household  \n",
       "4                            NaN                     Old child1  "
      ]
     },
     "execution_count": 18,
     "metadata": {},
     "output_type": "execute_result"
    }
   ],
   "source": [
    "'''\n",
    "feature_desc with column features of customers and added information from ref_info \n",
    "'''\n",
    "\n",
    "feature_desc = pd.DataFrame(customers.columns, columns=['Attribute'])\n",
    "feature_desc = vlookup(feature_desc, ref_info, 'Attribute')\n",
    "\n",
    "'''\n",
    "To fill missing Descriptions, add some values from attr and create translation using googletrans.\n",
    "The result is saved in the root folder due to the time-consuming code execution.\n",
    "'''\n",
    "# # for Attribute without Description, add 12 Description values from ref_attr\n",
    "# feature_desc = vlookup(feature_desc, ref_attr, 'Attribute', 'Description', intsec = 'update')\n",
    "\n",
    "# # add category of Attribute\n",
    "# feature_desc = attribute_cat(feature_desc)\n",
    "\n",
    "# # add translated information to Desc\n",
    "# feature_desc['eng_Desc'] = np.where(\n",
    "#     feature_desc.Description.isna(),\n",
    "#     feature_desc.Attribute.str.replace('_', ' ').apply(ger_to_eng),\n",
    "#     np.nan)\n",
    "# feature_desc['Desc'] = feature_desc.Description.fillna('') + feature_desc.eng_Desc.fillna('')\n",
    "\n",
    "# # column order\n",
    "# feature_desc = feature_desc[[\n",
    "#     'category_large', 'category_small', 'Attribute', 'Information level', 'Additional notes', 'Description', 'Desc']]\n",
    "\n",
    "feature_desc = pd.read_excel('feature_desc.xlsx', index_col = [0])\n",
    "print(feature_desc.info())\n",
    "feature_desc.head()"
   ]
  },
  {
   "attachments": {},
   "cell_type": "markdown",
   "metadata": {},
   "source": [
    "* clean ref_attr"
   ]
  },
  {
   "cell_type": "code",
   "execution_count": 19,
   "metadata": {},
   "outputs": [
    {
     "name": "stdout",
     "output_type": "stream",
     "text": [
      "number of Attribute: 308\n"
     ]
    },
    {
     "data": {
      "text/html": [
       "<div>\n",
       "<style scoped>\n",
       "    .dataframe tbody tr th:only-of-type {\n",
       "        vertical-align: middle;\n",
       "    }\n",
       "\n",
       "    .dataframe tbody tr th {\n",
       "        vertical-align: top;\n",
       "    }\n",
       "\n",
       "    .dataframe thead th {\n",
       "        text-align: right;\n",
       "    }\n",
       "</style>\n",
       "<table border=\"1\" class=\"dataframe\">\n",
       "  <thead>\n",
       "    <tr style=\"text-align: right;\">\n",
       "      <th></th>\n",
       "      <th>category_large</th>\n",
       "      <th>category_small</th>\n",
       "      <th>Attribute</th>\n",
       "      <th>Description</th>\n",
       "      <th>Score</th>\n",
       "      <th>Meaning</th>\n",
       "    </tr>\n",
       "  </thead>\n",
       "  <tbody>\n",
       "    <tr>\n",
       "      <th>0</th>\n",
       "      <td>AGER</td>\n",
       "      <td>AGER</td>\n",
       "      <td>AGER_TYP</td>\n",
       "      <td>best-ager typology</td>\n",
       "      <td>-1</td>\n",
       "      <td>unknown</td>\n",
       "    </tr>\n",
       "    <tr>\n",
       "      <th>1</th>\n",
       "      <td>AGER</td>\n",
       "      <td>AGER</td>\n",
       "      <td>AGER_TYP</td>\n",
       "      <td>best-ager typology</td>\n",
       "      <td>0</td>\n",
       "      <td>no classification possible</td>\n",
       "    </tr>\n",
       "    <tr>\n",
       "      <th>2</th>\n",
       "      <td>AGER</td>\n",
       "      <td>AGER</td>\n",
       "      <td>AGER_TYP</td>\n",
       "      <td>best-ager typology</td>\n",
       "      <td>1</td>\n",
       "      <td>passive elderly</td>\n",
       "    </tr>\n",
       "    <tr>\n",
       "      <th>3</th>\n",
       "      <td>AGER</td>\n",
       "      <td>AGER</td>\n",
       "      <td>AGER_TYP</td>\n",
       "      <td>best-ager typology</td>\n",
       "      <td>2</td>\n",
       "      <td>cultural elderly</td>\n",
       "    </tr>\n",
       "    <tr>\n",
       "      <th>4</th>\n",
       "      <td>AGER</td>\n",
       "      <td>AGER</td>\n",
       "      <td>AGER_TYP</td>\n",
       "      <td>best-ager typology</td>\n",
       "      <td>3</td>\n",
       "      <td>experience-driven elderly</td>\n",
       "    </tr>\n",
       "  </tbody>\n",
       "</table>\n",
       "</div>"
      ],
      "text/plain": [
       "  category_large category_small Attribute         Description Score  \\\n",
       "0           AGER           AGER  AGER_TYP  best-ager typology    -1   \n",
       "1           AGER           AGER  AGER_TYP  best-ager typology     0   \n",
       "2           AGER           AGER  AGER_TYP  best-ager typology     1   \n",
       "3           AGER           AGER  AGER_TYP  best-ager typology     2   \n",
       "4           AGER           AGER  AGER_TYP  best-ager typology     3   \n",
       "\n",
       "                      Meaning  \n",
       "0                     unknown  \n",
       "1  no classification possible  \n",
       "2             passive elderly  \n",
       "3            cultural elderly  \n",
       "4   experience-driven elderly  "
      ]
     },
     "execution_count": 19,
     "metadata": {},
     "output_type": "execute_result"
    }
   ],
   "source": [
    "'''\n",
    "change numbers in str form\n",
    "'''\n",
    "# 2 numbers in 1 str value\n",
    "ref_attr.Score = ref_attr.Score.apply(\n",
    "    lambda x: [int(i) for i in x.split(',')] if isinstance(x, str) and ',' in x else x)\n",
    "ref_attr = ref_attr.explode('Score').reset_index(drop=True)\n",
    "# '-1' to -1\n",
    "ref_attr.Score = ref_attr.Score.apply(str_to_num)\n",
    "\n",
    "'''\n",
    "merge add-on information in some cells below Description\n",
    "'''\n",
    "# create attribute and description_shift with shift(-1)\n",
    "ref_attr['attribute_shift'] = ref_attr.Attribute.shift(-1).fillna('')\n",
    "ref_attr['description_shift'] = ref_attr.Description.shift(-1).fillna('')\n",
    "\n",
    "# merge Description and add-on\n",
    "ref_attr.Description = ref_attr.Description.mask(\n",
    "    (~(ref_attr['Attribute'].isna()) & (ref_attr['attribute_shift'].isna())),\n",
    "    ref_attr.Description + ' ' + ref_attr.description_shift)\n",
    "\n",
    "# replace add-on with np.nan\n",
    "ref_attr.Description = ref_attr.Description.mask(\n",
    "    (ref_attr['Attribute'].isna()) & ~(ref_attr['Description'].isna()),\n",
    "    np.nan)\n",
    "# drop description shift\n",
    "ref_attr = ref_attr.drop(['attribute_shift', 'description_shift'], axis = 1)\n",
    "\n",
    "'''\n",
    "fill blank cells with corresponding values as only 1st lines\n",
    "of Attribute & Description have values\n",
    "'''\n",
    "\n",
    "ref_attr[['Attribute', 'Description']] = ref_attr[\n",
    "    ['Attribute', 'Description']].fillna(method = 'ffill')\n",
    "\n",
    "'''\n",
    "keep 272 intersection features between ref_attr and datasets,\n",
    "and drop exclusive features of datasets that are not useful at this step\n",
    "'''\n",
    "\n",
    "ref_attr = ref_attr[ref_attr.Attribute.isin(feature_dict['ref_attr_intsec_customers'])] # query not working\n",
    "\n",
    "ref_attr = attribute_cat(ref_attr)\n",
    "ref_attr = ref_attr[['category_large', 'category_small', 'Attribute', 'Description', 'Score', 'Meaning']]\n",
    "\n",
    "print (f'number of Attribute: {ref_attr.Attribute.nunique()}')\n",
    "ref_attr.head()"
   ]
  },
  {
   "attachments": {},
   "cell_type": "markdown",
   "metadata": {},
   "source": [
    "* create pre-study dataframes by value form of Score"
   ]
  },
  {
   "cell_type": "code",
   "execution_count": 20,
   "metadata": {},
   "outputs": [
    {
     "data": {
      "text/plain": [
       "<class 'int'>    2256\n",
       "<class 'str'>      53\n",
       "Name: Score_form, dtype: int64"
      ]
     },
     "execution_count": 20,
     "metadata": {},
     "output_type": "execute_result"
    }
   ],
   "source": [
    "'''\n",
    "add delimiter column Score_form\n",
    "'''\n",
    "\n",
    "ref_attr = ref_attr.copy() # to avoid SettingWithCopyWarning\n",
    "ref_attr['Score_form'] = ref_attr.Score.map(type)\n",
    "ref_attr.Score_form.value_counts()"
   ]
  },
  {
   "cell_type": "code",
   "execution_count": 21,
   "metadata": {},
   "outputs": [
    {
     "name": "stdout",
     "output_type": "stream",
     "text": [
      "number of Attribute(s): 300\n"
     ]
    }
   ],
   "source": [
    "'''\n",
    "attr_num containing Scores denoted in number\n",
    "'''\n",
    "\n",
    "attr_num = ref_attr[ref_attr.Score_form == int].copy()\n",
    "print (f'number of Attribute(s): {attr_num.Attribute.nunique()}')"
   ]
  },
  {
   "cell_type": "code",
   "execution_count": 22,
   "metadata": {},
   "outputs": [
    {
     "name": "stdout",
     "output_type": "stream",
     "text": [
      "number of Attribute(s): 9\n"
     ]
    }
   ],
   "source": [
    "'''\n",
    "attr_str containing Scores denoted in string\n",
    "'''\n",
    "\n",
    "attr_str = ref_attr[ref_attr.Score_form == str].copy()\n",
    "print (f'number of Attribute(s): {attr_str.Attribute.nunique()}')"
   ]
  },
  {
   "cell_type": "code",
   "execution_count": 23,
   "metadata": {},
   "outputs": [
    {
     "data": {
      "text/plain": [
       "{'OST_WEST_KZ'}"
      ]
     },
     "execution_count": 23,
     "metadata": {},
     "output_type": "execute_result"
    }
   ],
   "source": [
    "'''\n",
    "there is 1 feature that Scores are in both numeric and string forms\n",
    "'''\n",
    "\n",
    "set(attr_num.Attribute.unique()).intersection(set(attr_str.Attribute.unique()))"
   ]
  },
  {
   "attachments": {},
   "cell_type": "markdown",
   "metadata": {},
   "source": [
    "#### 2.3 pre-study using reference files\n",
    "\n",
    "After identifying the dataset structure in parts 2.1 and 2.2 above,  \n",
    "part 2.3 focuses on examining the dataset contents.  \n",
    "In this part, various aspects such as the ranges of feature values,  \n",
    "values actually meaning null, data types, and more are to be verified,  \n",
    "and preliminary notes will be recorded on pre-processing requirements.\n",
    "\n",
    "<!-- ##### 2.3.0 attr modification -->\n",
    "\n",
    "Considering that info contains information about dataset features, attr contains  \n",
    "information about dataset values and the values within the datasets can be understood  \n",
    "by mapping them to the corresponding Meaning values in attr.\n",
    "\n",
    "However, it is necessary to initially modify attr since it is not in a neat form:\n",
    "* 2 numbers in 1 str value like '-1, 0' or number(s) in str like '-1'\n",
    "* add-on information cell below Description value cell\n",
    "* only 1st rows of Attribute & Description with values, etc."
   ]
  },
  {
   "attachments": {},
   "cell_type": "markdown",
   "metadata": {},
   "source": [
    "##### 2.3.1 ref_attr Scores denoted in number\n",
    "\n",
    "먼저 attr의 contents를 보면 대부분의 데이터는 categorical 하며, 좀 더 효과적으로 데이터의 Score를 살펴보기 위해 각 Attribute의 min/max 값을 카테고리화 해 본 결과 아래와 같이 나왔다. \n",
    "\n",
    "< 아래 내용은 나중에 생사 >  \n",
    "From min/max categories 를 만들었으며, to be further checked are:   \n",
    "* If Score -1 and 0 contain data equal to null or -inf  \n",
    "* If max Score values contain data equal to null or inf\n",
    "* If features with wider min/max gap are discrete or continuous"
   ]
  },
  {
   "cell_type": "code",
   "execution_count": 24,
   "metadata": {},
   "outputs": [
    {
     "name": "stdout",
     "output_type": "stream",
     "text": [
      "number of Attribute(s): 300\n",
      "['-1 to -1' '-1 to 15' '-1 to 2' '-1 to 3' '-1 to 4' '-1 to 5' '-1 to 55'\n",
      " '-1 to 6' '-1 to 7' '-1 to 8' '-1 to 9' '0 to 1' '0 to 10' '0 to 21'\n",
      " '0 to 5' '0 to 6' '0 to 7' '1 to 10' '1 to 11' '1 to 12' '1 to 40'\n",
      " '1 to 5' '1 to 6' '1 to 7' '1 to 9']\n"
     ]
    },
    {
     "data": {
      "text/html": [
       "<div>\n",
       "<style scoped>\n",
       "    .dataframe tbody tr th:only-of-type {\n",
       "        vertical-align: middle;\n",
       "    }\n",
       "\n",
       "    .dataframe tbody tr th {\n",
       "        vertical-align: top;\n",
       "    }\n",
       "\n",
       "    .dataframe thead th {\n",
       "        text-align: right;\n",
       "    }\n",
       "</style>\n",
       "<table border=\"1\" class=\"dataframe\">\n",
       "  <thead>\n",
       "    <tr style=\"text-align: right;\">\n",
       "      <th></th>\n",
       "      <th>category_large</th>\n",
       "      <th>Attribute</th>\n",
       "      <th>Description</th>\n",
       "      <th>Desc</th>\n",
       "      <th>Additional notes</th>\n",
       "      <th>min</th>\n",
       "      <th>max</th>\n",
       "      <th>min_max_cat</th>\n",
       "    </tr>\n",
       "  </thead>\n",
       "  <tbody>\n",
       "    <tr>\n",
       "      <th>0</th>\n",
       "      <td>OST</td>\n",
       "      <td>OST_WEST_KZ</td>\n",
       "      <td>flag indicating the former GDR/FRG</td>\n",
       "      <td>flag indicating the former GDR/FRG</td>\n",
       "      <td>no_info</td>\n",
       "      <td>-1</td>\n",
       "      <td>-1</td>\n",
       "      <td>-1 to -1</td>\n",
       "    </tr>\n",
       "    <tr>\n",
       "      <th>1</th>\n",
       "      <td>PRAEGENDE</td>\n",
       "      <td>PRAEGENDE_JUGENDJAHRE</td>\n",
       "      <td>dominating movement in the person's youth (ava...</td>\n",
       "      <td>dominating movement in the person's youth (ava...</td>\n",
       "      <td>own typology modelled on different AZ DIAS data</td>\n",
       "      <td>-1</td>\n",
       "      <td>15</td>\n",
       "      <td>-1 to 15</td>\n",
       "    </tr>\n",
       "    <tr>\n",
       "      <th>2</th>\n",
       "      <td>KBA05</td>\n",
       "      <td>KBA05_ANTG4</td>\n",
       "      <td>number of &gt;10 family houses in the cell</td>\n",
       "      <td>number of &gt;10 family houses in the cell</td>\n",
       "      <td>no_info</td>\n",
       "      <td>-1</td>\n",
       "      <td>2</td>\n",
       "      <td>-1 to 2</td>\n",
       "    </tr>\n",
       "    <tr>\n",
       "      <th>3</th>\n",
       "      <td>VERS</td>\n",
       "      <td>VERS_TYP</td>\n",
       "      <td>insurance typology</td>\n",
       "      <td>insurance typology</td>\n",
       "      <td>in cooperation with TNS Infratest</td>\n",
       "      <td>-1</td>\n",
       "      <td>2</td>\n",
       "      <td>-1 to 2</td>\n",
       "    </tr>\n",
       "    <tr>\n",
       "      <th>4</th>\n",
       "      <td>ANREDE</td>\n",
       "      <td>ANREDE_KZ</td>\n",
       "      <td>gender</td>\n",
       "      <td>gender</td>\n",
       "      <td>no_info</td>\n",
       "      <td>-1</td>\n",
       "      <td>2</td>\n",
       "      <td>-1 to 2</td>\n",
       "    </tr>\n",
       "  </tbody>\n",
       "</table>\n",
       "</div>"
      ],
      "text/plain": [
       "  category_large              Attribute  \\\n",
       "0            OST            OST_WEST_KZ   \n",
       "1      PRAEGENDE  PRAEGENDE_JUGENDJAHRE   \n",
       "2          KBA05            KBA05_ANTG4   \n",
       "3           VERS               VERS_TYP   \n",
       "4         ANREDE              ANREDE_KZ   \n",
       "\n",
       "                                         Description  \\\n",
       "0                 flag indicating the former GDR/FRG   \n",
       "1  dominating movement in the person's youth (ava...   \n",
       "2            number of >10 family houses in the cell   \n",
       "3                                insurance typology    \n",
       "4                                             gender   \n",
       "\n",
       "                                                Desc  \\\n",
       "0                 flag indicating the former GDR/FRG   \n",
       "1  dominating movement in the person's youth (ava...   \n",
       "2            number of >10 family houses in the cell   \n",
       "3                                insurance typology    \n",
       "4                                             gender   \n",
       "\n",
       "                                   Additional notes  min  max min_max_cat  \n",
       "0                                           no_info   -1   -1    -1 to -1  \n",
       "1  own typology modelled on different AZ DIAS data    -1   15    -1 to 15  \n",
       "2                                           no_info   -1    2     -1 to 2  \n",
       "3                 in cooperation with TNS Infratest   -1    2     -1 to 2  \n",
       "4                                           no_info   -1    2     -1 to 2  "
      ]
     },
     "execution_count": 24,
     "metadata": {},
     "output_type": "execute_result"
    }
   ],
   "source": [
    "'''\n",
    "summary of attr_num with min/max value observed\n",
    "'''\n",
    "\n",
    "attr_num_score = pv_min_max(attr_num, feature_desc)\n",
    "attr_num_score.head()"
   ]
  },
  {
   "attachments": {},
   "cell_type": "markdown",
   "metadata": {},
   "source": [
    "* **data type of features with wider min/max Score gap**\n",
    "  \n",
    "attr의 scoring 체계가 주어졌거니와 max/min 차이를 보면 대부분의 데이터가 discrete 임을 알 수 있음.  \n",
    "그러나 min/max gap이 10 이상이면 continuous 일 수 있으므로 살펴 보았는데 이 또한 All features that have min/max Score gap over 10 are found to be discrete"
   ]
  },
  {
   "cell_type": "code",
   "execution_count": 25,
   "metadata": {},
   "outputs": [
    {
     "name": "stdout",
     "output_type": "stream",
     "text": [
      "number of Attribute(s): 6\n"
     ]
    },
    {
     "data": {
      "text/html": [
       "<div>\n",
       "<style scoped>\n",
       "    .dataframe tbody tr th:only-of-type {\n",
       "        vertical-align: middle;\n",
       "    }\n",
       "\n",
       "    .dataframe tbody tr th {\n",
       "        vertical-align: top;\n",
       "    }\n",
       "\n",
       "    .dataframe thead th {\n",
       "        text-align: right;\n",
       "    }\n",
       "</style>\n",
       "<table border=\"1\" class=\"dataframe\">\n",
       "  <thead>\n",
       "    <tr style=\"text-align: right;\">\n",
       "      <th></th>\n",
       "      <th>category_large</th>\n",
       "      <th>Attribute</th>\n",
       "      <th>Description</th>\n",
       "      <th>Desc</th>\n",
       "      <th>Additional notes</th>\n",
       "      <th>Meaning</th>\n",
       "      <th>Score</th>\n",
       "    </tr>\n",
       "  </thead>\n",
       "  <tbody>\n",
       "    <tr>\n",
       "      <th>0</th>\n",
       "      <td>ALTER</td>\n",
       "      <td>ALTER_HH</td>\n",
       "      <td>main age within the household</td>\n",
       "      <td>main age within the household</td>\n",
       "      <td>no_info</td>\n",
       "      <td>[unknown / no main age detectable, 01.01.1895 bis 31.12.1899, 01.01.1900 bis 31.12.1904, 01.01.1905 bis 31.12.1909, 01.01.1910 bis 31.12.1914, 01.01.1915 bis 31.12.1919, 01.01.1920 bis 31.12.1924, 01.01.1925 bis 31.12.1929, 01.01.1930 bis 31.12.1934, 01.01.1935 bis 31.12.1939, 01.01.1940 bis 31.12.1944, 01.01.1945 bis 31.12.1949, 01.01.1950 bis 31.12.1954, 01.01.1955 bis 31.12.1959, 01.01.1960 bis 31.12.1964, 01.01.1965 bis 31.12.1969, 01.01.1970 bis 31.12.1974, 01.01.1975 bis 31.12.1979, 01.01.1980 bis 31.12.1984, 01.01.1985 bis 31.12.1989, 01.01.1990 bis 31.12.1994, 01.01.1995 bis 31.12.1999]</td>\n",
       "      <td>[0, 1, 2, 3, 4, 5, 6, 7, 8, 9, 10, 11, 12, 13, 14, 15, 16, 17, 18, 19, 20, 21]</td>\n",
       "    </tr>\n",
       "    <tr>\n",
       "      <th>1</th>\n",
       "      <td>CAMEO</td>\n",
       "      <td>CAMEO_INTL_2015</td>\n",
       "      <td>CAMEO classification 2015 - international typology</td>\n",
       "      <td>CAMEO classification 2015 - international typology</td>\n",
       "      <td>no_info</td>\n",
       "      <td>[unknown, Wealthy Households-Pre-Family Couples &amp; Singles, Wealthy Households-Young Couples With Children, Wealthy Households-Families With School Age Children, Wealthy Households-Older Families &amp;  Mature Couples, Wealthy Households-Elders In Retirement, Prosperous Households-Pre-Family Couples &amp; Singles, Prosperous Households-Young Couples With Children, Prosperous Households-Families With School Age Children, Prosperous Households-Older Families &amp; Mature Couples, Prosperous Households-Elders In Retirement, Comfortable Households-Pre-Family Couples &amp; Singles, Comfortable Households-Young Couples With Children, Comfortable Households-Families With School Age Children, Comfortable Households-Older Families &amp; Mature Couples, Comfortable Households-Elders In Retirement, Less Affluent Households-Pre-Family Couples &amp; Singles, Less Affluent Households-Young Couples With Children, Less Affluent Households-Families With School Age Children, Less Affluent Households-Older Families &amp; Mature Couples, Less Affluent Households-Elders In Retirement, Poorer Households-Pre-Family Couples &amp; Singles, Poorer Households-Young Couples With Children, Poorer Households-Families With School Age Children, Poorer Households-Older Families &amp; Mature Couples, Poorer Households-Elders In Retirement]</td>\n",
       "      <td>[-1, 11, 12, 13, 14, 15, 21, 22, 23, 24, 25, 31, 32, 33, 34, 35, 41, 42, 43, 44, 45, 51, 52, 53, 54, 55]</td>\n",
       "    </tr>\n",
       "    <tr>\n",
       "      <th>2</th>\n",
       "      <td>GFK</td>\n",
       "      <td>GFK_URLAUBERTYP</td>\n",
       "      <td>vacation habits</td>\n",
       "      <td>vacation habits</td>\n",
       "      <td>no_info</td>\n",
       "      <td>[Event travelers, Family-oriented vacationists, Winter sportspeople, Culture lovers, Nature fans, Hiker, Golden ager, Homeland-connected vacationists , Package tour travelers, Connoisseurs, Active families, without vacation]</td>\n",
       "      <td>[1, 2, 3, 4, 5, 6, 7, 8, 9, 10, 11, 12]</td>\n",
       "    </tr>\n",
       "    <tr>\n",
       "      <th>3</th>\n",
       "      <td>LP</td>\n",
       "      <td>LP_LEBENSPHASE_FEIN</td>\n",
       "      <td>lifestage fine</td>\n",
       "      <td>lifestage fine</td>\n",
       "      <td>modelled on different AZ DIAS data</td>\n",
       "      <td>[single low-income earners of younger age, single low-income earners of middle age, single average earners of younger age , single average earners of middle age, single low-income earners of advanced age, single low-income earners at retirement age , single average earners of advanced age, single average earners at retirement age, single independant persons, wealthy single homeowners, single homeowners of advanced age, single homeowners at retirement age, single top earners of higher age , low-income- and average earner-couples of younger age, low-income earner-couples of higher age, average earner-couples of higher age , independant couples, wealthy homeowner-couples of younger age , homeowner-couples of higher age, top earner-couples of higher age, single parent low-income earners, single parent average earners, single parent high-income earners, low-income earner-families, average earner-families , independant families, homeowner-families, top earner-families, low-income earners of younger age from mulitperson households, average earners of younger age from mulitperson households, low-income earners of higher age from mulitperson households, average earners of higher age from mulitperson households, independant persons of younger age from mulitperson households, homeowners of younger age from mulitperson households, top earners of younger age from mulitperson households, independant persons of higher age from mulitperson households, homeowners of advanced age from mulitperson households, homeowners at retirement age from mulitperson households, top earners of middle age from mulitperson households, top earners at retirement age from mulitperson households]</td>\n",
       "      <td>[1, 2, 3, 4, 5, 6, 7, 8, 9, 10, 11, 12, 13, 14, 15, 16, 17, 18, 19, 20, 21, 22, 23, 24, 25, 26, 27, 28, 29, 30, 31, 32, 33, 34, 35, 36, 37, 38, 39, 40]</td>\n",
       "    </tr>\n",
       "    <tr>\n",
       "      <th>4</th>\n",
       "      <td>LP</td>\n",
       "      <td>LP_LEBENSPHASE_GROB</td>\n",
       "      <td>lifestage rough</td>\n",
       "      <td>lifestage rough</td>\n",
       "      <td>modelled on different AZ DIAS data</td>\n",
       "      <td>[single low-income- and average earners of younger age , single low-income- and average earners of higher age , single high-income earners, single low-income- and average earner-couples , single high-income earner-couples, single parents, single low-income- and average earner-families, high-income earner-families, average earners of younger age from mulitperson households, low-income- and average earners of higher age from mulitperson households, high-income earners of younger age from multiperson households, high-income earners of higher age from multiperson households]</td>\n",
       "      <td>[1, 2, 3, 4, 5, 6, 7, 8, 9, 10, 11, 12]</td>\n",
       "    </tr>\n",
       "  </tbody>\n",
       "</table>\n",
       "</div>"
      ],
      "text/plain": [
       "  category_large            Attribute  \\\n",
       "0          ALTER             ALTER_HH   \n",
       "1          CAMEO      CAMEO_INTL_2015   \n",
       "2            GFK      GFK_URLAUBERTYP   \n",
       "3             LP  LP_LEBENSPHASE_FEIN   \n",
       "4             LP  LP_LEBENSPHASE_GROB   \n",
       "\n",
       "                                          Description  \\\n",
       "0                       main age within the household   \n",
       "1  CAMEO classification 2015 - international typology   \n",
       "2                                     vacation habits   \n",
       "3                                     lifestage fine    \n",
       "4                                     lifestage rough   \n",
       "\n",
       "                                                 Desc  \\\n",
       "0                       main age within the household   \n",
       "1  CAMEO classification 2015 - international typology   \n",
       "2                                     vacation habits   \n",
       "3                                     lifestage fine    \n",
       "4                                     lifestage rough   \n",
       "\n",
       "                     Additional notes  \\\n",
       "0                             no_info   \n",
       "1                             no_info   \n",
       "2                             no_info   \n",
       "3  modelled on different AZ DIAS data   \n",
       "4  modelled on different AZ DIAS data   \n",
       "\n",
       "                                                                                                                                                                                                                                                                                                                                                                                                                                                                                                                                                                                                                                                                                                                                                                                                                                                                                                                                                                                                                                                                                                                                                                                                                                                                                                                                                                                                                                                                                                                                                                                                                                                                                                                                                   Meaning  \\\n",
       "0                                                                                                                                                                                                                                                                                                                                                                                                                                                                                                                                                                                                                                                                                                                                                                                                                                                                                                                                                                                                                                                                                                                                [unknown / no main age detectable, 01.01.1895 bis 31.12.1899, 01.01.1900 bis 31.12.1904, 01.01.1905 bis 31.12.1909, 01.01.1910 bis 31.12.1914, 01.01.1915 bis 31.12.1919, 01.01.1920 bis 31.12.1924, 01.01.1925 bis 31.12.1929, 01.01.1930 bis 31.12.1934, 01.01.1935 bis 31.12.1939, 01.01.1940 bis 31.12.1944, 01.01.1945 bis 31.12.1949, 01.01.1950 bis 31.12.1954, 01.01.1955 bis 31.12.1959, 01.01.1960 bis 31.12.1964, 01.01.1965 bis 31.12.1969, 01.01.1970 bis 31.12.1974, 01.01.1975 bis 31.12.1979, 01.01.1980 bis 31.12.1984, 01.01.1985 bis 31.12.1989, 01.01.1990 bis 31.12.1994, 01.01.1995 bis 31.12.1999]   \n",
       "1                                                                                                                                                                                                                                                                                                                                                                                                               [unknown, Wealthy Households-Pre-Family Couples & Singles, Wealthy Households-Young Couples With Children, Wealthy Households-Families With School Age Children, Wealthy Households-Older Families &  Mature Couples, Wealthy Households-Elders In Retirement, Prosperous Households-Pre-Family Couples & Singles, Prosperous Households-Young Couples With Children, Prosperous Households-Families With School Age Children, Prosperous Households-Older Families & Mature Couples, Prosperous Households-Elders In Retirement, Comfortable Households-Pre-Family Couples & Singles, Comfortable Households-Young Couples With Children, Comfortable Households-Families With School Age Children, Comfortable Households-Older Families & Mature Couples, Comfortable Households-Elders In Retirement, Less Affluent Households-Pre-Family Couples & Singles, Less Affluent Households-Young Couples With Children, Less Affluent Households-Families With School Age Children, Less Affluent Households-Older Families & Mature Couples, Less Affluent Households-Elders In Retirement, Poorer Households-Pre-Family Couples & Singles, Poorer Households-Young Couples With Children, Poorer Households-Families With School Age Children, Poorer Households-Older Families & Mature Couples, Poorer Households-Elders In Retirement]   \n",
       "2                                                                                                                                                                                                                                                                                                                                                                                                                                                                                                                                                                                                                                                                                                                                                                                                                                                                                                                                                                                                                                                                                                                                                                                                                                                                                                                                                                                                                                                                                                                         [Event travelers, Family-oriented vacationists, Winter sportspeople, Culture lovers, Nature fans, Hiker, Golden ager, Homeland-connected vacationists , Package tour travelers, Connoisseurs, Active families, without vacation]   \n",
       "3  [single low-income earners of younger age, single low-income earners of middle age, single average earners of younger age , single average earners of middle age, single low-income earners of advanced age, single low-income earners at retirement age , single average earners of advanced age, single average earners at retirement age, single independant persons, wealthy single homeowners, single homeowners of advanced age, single homeowners at retirement age, single top earners of higher age , low-income- and average earner-couples of younger age, low-income earner-couples of higher age, average earner-couples of higher age , independant couples, wealthy homeowner-couples of younger age , homeowner-couples of higher age, top earner-couples of higher age, single parent low-income earners, single parent average earners, single parent high-income earners, low-income earner-families, average earner-families , independant families, homeowner-families, top earner-families, low-income earners of younger age from mulitperson households, average earners of younger age from mulitperson households, low-income earners of higher age from mulitperson households, average earners of higher age from mulitperson households, independant persons of younger age from mulitperson households, homeowners of younger age from mulitperson households, top earners of younger age from mulitperson households, independant persons of higher age from mulitperson households, homeowners of advanced age from mulitperson households, homeowners at retirement age from mulitperson households, top earners of middle age from mulitperson households, top earners at retirement age from mulitperson households]   \n",
       "4                                                                                                                                                                                                                                                                                                                                                                                                                                                                                                                                                                                                                                                                                                                                                                                                                                                                                                                                                                                                                                                                                                                                                        [single low-income- and average earners of younger age , single low-income- and average earners of higher age , single high-income earners, single low-income- and average earner-couples , single high-income earner-couples, single parents, single low-income- and average earner-families, high-income earner-families, average earners of younger age from mulitperson households, low-income- and average earners of higher age from mulitperson households, high-income earners of younger age from multiperson households, high-income earners of higher age from multiperson households]   \n",
       "\n",
       "                                                                                                                                                     Score  \n",
       "0                                                                           [0, 1, 2, 3, 4, 5, 6, 7, 8, 9, 10, 11, 12, 13, 14, 15, 16, 17, 18, 19, 20, 21]  \n",
       "1                                                 [-1, 11, 12, 13, 14, 15, 21, 22, 23, 24, 25, 31, 32, 33, 34, 35, 41, 42, 43, 44, 45, 51, 52, 53, 54, 55]  \n",
       "2                                                                                                                  [1, 2, 3, 4, 5, 6, 7, 8, 9, 10, 11, 12]  \n",
       "3  [1, 2, 3, 4, 5, 6, 7, 8, 9, 10, 11, 12, 13, 14, 15, 16, 17, 18, 19, 20, 21, 22, 23, 24, 25, 26, 27, 28, 29, 30, 31, 32, 33, 34, 35, 36, 37, 38, 39, 40]  \n",
       "4                                                                                                                  [1, 2, 3, 4, 5, 6, 7, 8, 9, 10, 11, 12]  "
      ]
     },
     "metadata": {},
     "output_type": "display_data"
    }
   ],
   "source": [
    "'''\n",
    "check features that have min/max Score gap over 10\n",
    "'''\n",
    "# from attr_num_score above, extract Attribute values having min/max Score gap over 10\n",
    "temp_over10_attribute = attr_num_score[\n",
    "    (attr_num_score['max'] - attr_num_score['min']) > 10].Attribute.unique()\n",
    "\n",
    "temp_over10 = pv_meaning_score(\n",
    "    attr_num.query('Attribute in @temp_over10_attribute'), feature_desc)"
   ]
  },
  {
   "attachments": {},
   "cell_type": "markdown",
   "metadata": {},
   "source": [
    "* Meaning 'unknown'"
   ]
  },
  {
   "cell_type": "code",
   "execution_count": 26,
   "metadata": {},
   "outputs": [
    {
     "data": {
      "text/plain": [
       "array([-1, 0, 9], dtype=object)"
      ]
     },
     "execution_count": 26,
     "metadata": {},
     "output_type": "execute_result"
    }
   ],
   "source": [
    "'''\n",
    "어떤 값이 unknown을 갖나?\n",
    "'''\n",
    "\n",
    "ref_attr.query('Meaning == \"unknown\"').Score.unique()"
   ]
  },
  {
   "cell_type": "code",
   "execution_count": 27,
   "metadata": {},
   "outputs": [
    {
     "data": {
      "text/plain": [
       "unknown    224\n",
       "Name: Meaning, dtype: int64"
      ]
     },
     "execution_count": 27,
     "metadata": {},
     "output_type": "execute_result"
    }
   ],
   "source": [
    "'''\n",
    "when Score value is -1, the meaning is 100% unknown in reference file\n",
    "따라서 dataset에서도 -1은 모두 null 처리가 reasonable함\n",
    "'''\n",
    "\n",
    "attr_num.query('Score < 0').Meaning.value_counts()"
   ]
  },
  {
   "cell_type": "code",
   "execution_count": 28,
   "metadata": {},
   "outputs": [],
   "source": [
    "'''\n",
    "NOTE dict p_process to note points to be pre-processed\n",
    "'''\n",
    "\n",
    "p_process = {'2.3.1-minus1' : 'replace / All / {-1: np.nan}'}"
   ]
  },
  {
   "cell_type": "code",
   "execution_count": 29,
   "metadata": {},
   "outputs": [
    {
     "name": "stdout",
     "output_type": "stream",
     "text": [
      "['no classification possible' 'unknown' 'unknown / no main age detectable'\n",
      " 'no transactions known' 'no transaction known'\n",
      " 'no Online-transactions within the last 12 months'\n",
      " \"doesn't belong to the green avantgarde\" 'classification not possible'\n",
      " 'none' 'no 1-2 family homes' 'no 3-5 family homes' 'no 6-10 family homes'\n",
      " 'no >10 family homes' 'external supplied hedonists '\n",
      " 'no score calculated']\n",
      "['uniformly distributed' '01.01.1935 bis 31.12.1939' 'urban working class'\n",
      " 'activity elder than 3 years' 'activity elder than 36 months'\n",
      " '90% Online-transactions within the last 12 months' 'Inactive'\n",
      " 'Package tour travelers' 'unknown' 'shared flat' 'multiperson household'\n",
      " 'single independant persons'\n",
      " 'average earners of younger age from mulitperson households'\n",
      " 'houseowners' nan '> 700.000  inhabitants'\n",
      " '70ies - peace movement (Avantgarde, O+W)'\n",
      " 'length of residence more than 10 years']\n"
     ]
    }
   ],
   "source": [
    "'''\n",
    "-1이 아닌 경우는 null인 경우와 아닌 경우가 혼재\n",
    "따라서 위에서 정리한 Attribute의 Category 기반으로 0 이나 9인\n",
    "datasets Score 중 반드시 null로 처리할 것이 있는지 파악해 본다.\n",
    "'''\n",
    "print (attr_num.query('Score == 0').Meaning.unique())\n",
    "print (attr_num.query('Score == 9').Meaning.unique())"
   ]
  },
  {
   "cell_type": "code",
   "execution_count": 30,
   "metadata": {},
   "outputs": [
    {
     "data": {
      "text/plain": [
       "array(['ALTERSKATEGORIE', 'ANREDE', 'CJT', 'no_category', 'HH', 'KBA05',\n",
       "       'NATIONALITAET', 'PRAEGENDE', 'RETOURTYP', 'TITEL', 'WOHNDAUER',\n",
       "       'W'], dtype=object)"
      ]
     },
     "execution_count": 30,
     "metadata": {},
     "output_type": "execute_result"
    }
   ],
   "source": [
    "'''\n",
    "먼저 0의 경우 Meaning == 'unknown'인 category_large는\n",
    "'''\n",
    "\n",
    "unknown_0 = attr_num.query('Score == 0 and Meaning == \"unknown\"').category_large.unique()\n",
    "unknown_0"
   ]
  },
  {
   "cell_type": "code",
   "execution_count": 31,
   "metadata": {},
   "outputs": [
    {
     "data": {
      "text/html": [
       "<div>\n",
       "<style scoped>\n",
       "    .dataframe tbody tr th:only-of-type {\n",
       "        vertical-align: middle;\n",
       "    }\n",
       "\n",
       "    .dataframe tbody tr th {\n",
       "        vertical-align: top;\n",
       "    }\n",
       "\n",
       "    .dataframe thead th {\n",
       "        text-align: right;\n",
       "    }\n",
       "</style>\n",
       "<table border=\"1\" class=\"dataframe\">\n",
       "  <thead>\n",
       "    <tr style=\"text-align: right;\">\n",
       "      <th></th>\n",
       "      <th>category_large</th>\n",
       "      <th>category_small</th>\n",
       "      <th>Attribute</th>\n",
       "      <th>Description</th>\n",
       "      <th>Score</th>\n",
       "      <th>Meaning</th>\n",
       "      <th>Score_form</th>\n",
       "    </tr>\n",
       "  </thead>\n",
       "  <tbody>\n",
       "    <tr>\n",
       "      <th>773</th>\n",
       "      <td>KBA05</td>\n",
       "      <td>KBA05</td>\n",
       "      <td>KBA05_ALTER1</td>\n",
       "      <td>share of car owners less than 31 years old</td>\n",
       "      <td>0</td>\n",
       "      <td>none</td>\n",
       "      <td>&lt;class 'int'&gt;</td>\n",
       "    </tr>\n",
       "    <tr>\n",
       "      <th>794</th>\n",
       "      <td>KBA05</td>\n",
       "      <td>KBA05</td>\n",
       "      <td>KBA05_ALTER4</td>\n",
       "      <td>share of cars owners elder than 61 years</td>\n",
       "      <td>0</td>\n",
       "      <td>none</td>\n",
       "      <td>&lt;class 'int'&gt;</td>\n",
       "    </tr>\n",
       "    <tr>\n",
       "      <th>802</th>\n",
       "      <td>KBA05</td>\n",
       "      <td>KBA05</td>\n",
       "      <td>KBA05_ANHANG</td>\n",
       "      <td>share of trailers in the microcell</td>\n",
       "      <td>0</td>\n",
       "      <td>none</td>\n",
       "      <td>&lt;class 'int'&gt;</td>\n",
       "    </tr>\n",
       "    <tr>\n",
       "      <th>807</th>\n",
       "      <td>KBA05</td>\n",
       "      <td>KBA05</td>\n",
       "      <td>KBA05_ANTG1</td>\n",
       "      <td>number of 1-2 family houses in the cell</td>\n",
       "      <td>0</td>\n",
       "      <td>no 1-2 family homes</td>\n",
       "      <td>&lt;class 'int'&gt;</td>\n",
       "    </tr>\n",
       "    <tr>\n",
       "      <th>813</th>\n",
       "      <td>KBA05</td>\n",
       "      <td>KBA05</td>\n",
       "      <td>KBA05_ANTG2</td>\n",
       "      <td>number of 3-5 family houses in the cell</td>\n",
       "      <td>0</td>\n",
       "      <td>no 3-5 family homes</td>\n",
       "      <td>&lt;class 'int'&gt;</td>\n",
       "    </tr>\n",
       "  </tbody>\n",
       "</table>\n",
       "</div>"
      ],
      "text/plain": [
       "    category_large category_small     Attribute  \\\n",
       "773          KBA05          KBA05  KBA05_ALTER1   \n",
       "794          KBA05          KBA05  KBA05_ALTER4   \n",
       "802          KBA05          KBA05  KBA05_ANHANG   \n",
       "807          KBA05          KBA05   KBA05_ANTG1   \n",
       "813          KBA05          KBA05   KBA05_ANTG2   \n",
       "\n",
       "                                    Description Score              Meaning  \\\n",
       "773  share of car owners less than 31 years old     0                 none   \n",
       "794    share of cars owners elder than 61 years     0                 none   \n",
       "802          share of trailers in the microcell     0                 none   \n",
       "807     number of 1-2 family houses in the cell     0  no 1-2 family homes   \n",
       "813     number of 3-5 family houses in the cell     0  no 3-5 family homes   \n",
       "\n",
       "        Score_form  \n",
       "773  <class 'int'>  \n",
       "794  <class 'int'>  \n",
       "802  <class 'int'>  \n",
       "807  <class 'int'>  \n",
       "813  <class 'int'>  "
      ]
     },
     "execution_count": 31,
     "metadata": {},
     "output_type": "execute_result"
    }
   ],
   "source": [
    "'''\n",
    "there category_large에서는 Score 0이더라도 Meaning != \"unknown\"이 발견되므로\n",
    "Score 0 이라 해도 일괄적으로 null을 적용할 수는 없음\n",
    "'''\n",
    "\n",
    "attr_num.query(\n",
    "    'category_large in (@unknown_0) and Score == 0 and Meaning != \"unknown\"').head()"
   ]
  },
  {
   "cell_type": "code",
   "execution_count": 32,
   "metadata": {},
   "outputs": [
    {
     "data": {
      "text/plain": [
       "array(['KBA05', 'RELAT', 'SEMIO', 'ZABEOTYP'], dtype=object)"
      ]
     },
     "execution_count": 32,
     "metadata": {},
     "output_type": "execute_result"
    }
   ],
   "source": [
    "'''\n",
    "0의 경우 Meaning == 'unknown'인 category_small은\n",
    "'''\n",
    "\n",
    "unknown_9 = attr_num.query('Score == 9 and Meaning == \"unknown\"').category_small.unique()\n",
    "unknown_9"
   ]
  },
  {
   "cell_type": "code",
   "execution_count": 33,
   "metadata": {},
   "outputs": [
    {
     "data": {
      "text/html": [
       "<div>\n",
       "<style scoped>\n",
       "    .dataframe tbody tr th:only-of-type {\n",
       "        vertical-align: middle;\n",
       "    }\n",
       "\n",
       "    .dataframe tbody tr th {\n",
       "        vertical-align: top;\n",
       "    }\n",
       "\n",
       "    .dataframe thead th {\n",
       "        text-align: right;\n",
       "    }\n",
       "</style>\n",
       "<table border=\"1\" class=\"dataframe\">\n",
       "  <thead>\n",
       "    <tr style=\"text-align: right;\">\n",
       "      <th></th>\n",
       "      <th>category_large</th>\n",
       "      <th>category_small</th>\n",
       "      <th>Attribute</th>\n",
       "      <th>Description</th>\n",
       "      <th>Score</th>\n",
       "      <th>Meaning</th>\n",
       "      <th>Score_form</th>\n",
       "    </tr>\n",
       "  </thead>\n",
       "  <tbody>\n",
       "  </tbody>\n",
       "</table>\n",
       "</div>"
      ],
      "text/plain": [
       "Empty DataFrame\n",
       "Columns: [category_large, category_small, Attribute, Description, Score, Meaning, Score_form]\n",
       "Index: []"
      ]
     },
     "execution_count": 33,
     "metadata": {},
     "output_type": "execute_result"
    }
   ],
   "source": [
    "'''\n",
    "there category_small에서는 Score 9이면 100% Meaning == \"unknown\"이므로\n",
    "동 category의 Score 9는 모두 null 처리함\n",
    "'''\n",
    "\n",
    "attr_num.query('category_small in (@unknown_9) and Score == 9 and Meaning != \"unknown\"')"
   ]
  },
  {
   "cell_type": "code",
   "execution_count": 34,
   "metadata": {},
   "outputs": [],
   "source": [
    "'''\n",
    "NOTE pre-processing items\n",
    "'''\n",
    "\n",
    "p_process['2.3.1-unknown_9'] = 'mask / category_small in unknown_9 / Score 9 to -1'"
   ]
  },
  {
   "attachments": {},
   "cell_type": "markdown",
   "metadata": {},
   "source": [
    "* 언노운 외의 null에 상응하는 value는 없는가?"
   ]
  },
  {
   "cell_type": "code",
   "execution_count": 35,
   "metadata": {},
   "outputs": [
    {
     "name": "stdout",
     "output_type": "stream",
     "text": [
      "['unknown / no main age detectable' 'unknown' 'no transactions known'\n",
      " 'no transaction known' 'no Online-transactions within the last 12 months'\n",
      " \"doesn't belong to the green avantgarde\" 'none']\n",
      "['highest activity within the last 12 months' 'Universal' 'business cell'\n",
      " 'Event travelers'\n",
      " 'building is located in a 125 x 125m-grid cell (RA1), which is a consumption cell'\n",
      " 'single ' 'single low-income earners of younger age'\n",
      " 'single low-income- and average earners of younger age '\n",
      " 'typical low-income earners' 'low-income earners' 'very high mobility'\n",
      " 'mainly 1-2 family homes']\n"
     ]
    }
   ],
   "source": [
    "'''\n",
    "최소값 -1은 모두 null이며, 최소값 0 또는 1일 경우\n",
    "\n",
    "아래 내용은 나중에 생사\n",
    "when Score value is 0, it means none in most cases,\n",
    "and there are also some corresponding Meaning values\n",
    "that seem to be definitely equal to null\n",
    "'''\n",
    "\n",
    "# 최소값 0 Meaning 점검\n",
    "temp_min_0 = attr_num_score[attr_num_score['min'] == 0].Attribute\n",
    "print (attr_num.query('Attribute in (@temp_min_0) and Score == 0').Meaning.unique())\n",
    "\n",
    "# 최소값 -1 Meaning 점검\n",
    "temp_min_1 = attr_num_score[attr_num_score['min'] == 1].Attribute\n",
    "print (attr_num.query('Attribute in (@temp_min_1) and Score == 1').Meaning.unique())"
   ]
  },
  {
   "cell_type": "code",
   "execution_count": 36,
   "metadata": {},
   "outputs": [
    {
     "name": "stdout",
     "output_type": "stream",
     "text": [
      "no transaction known\n",
      "number of Attribute(s): 34\n"
     ]
    },
    {
     "data": {
      "text/html": [
       "<div>\n",
       "<style scoped>\n",
       "    .dataframe tbody tr th:only-of-type {\n",
       "        vertical-align: middle;\n",
       "    }\n",
       "\n",
       "    .dataframe tbody tr th {\n",
       "        vertical-align: top;\n",
       "    }\n",
       "\n",
       "    .dataframe thead th {\n",
       "        text-align: right;\n",
       "    }\n",
       "</style>\n",
       "<table border=\"1\" class=\"dataframe\">\n",
       "  <thead>\n",
       "    <tr style=\"text-align: right;\">\n",
       "      <th></th>\n",
       "      <th>category_large</th>\n",
       "      <th>Attribute</th>\n",
       "      <th>Description</th>\n",
       "      <th>Desc</th>\n",
       "      <th>Additional notes</th>\n",
       "      <th>Meaning</th>\n",
       "      <th>Score</th>\n",
       "    </tr>\n",
       "  </thead>\n",
       "  <tbody>\n",
       "    <tr>\n",
       "      <th>0</th>\n",
       "      <td>D19</td>\n",
       "      <td>D19_BANKEN_DIREKT</td>\n",
       "      <td>transactional activity based on the product group DIRECT BANKS</td>\n",
       "      <td>transactional activity based on the product group DIRECT BANKS</td>\n",
       "      <td>AZ has access to approx. 650 Million transaction data - this is the basis for the criteria family DHT4A aka. D19. This data contains unique data regarding the mail-order activity of consumers, differentiated</td>\n",
       "      <td>[no transaction known, Multibuyer 0-12 months, Doublebuyer 0-12 months, Singlebuyer 0-12 months, Multi-/Doublebuyer 13-24 months, Singlebuyer 13-24 months, Buyer &gt; 24 months, Prospects &gt; 24 months]</td>\n",
       "      <td>[0, 1, 2, 3, 4, 5, 6, 7]</td>\n",
       "    </tr>\n",
       "    <tr>\n",
       "      <th>1</th>\n",
       "      <td>D19</td>\n",
       "      <td>D19_BANKEN_GROSS</td>\n",
       "      <td>transactional activity based on the product group BIG BANKS</td>\n",
       "      <td>transactional activity based on the product group BIG BANKS</td>\n",
       "      <td>no_info</td>\n",
       "      <td>[no transaction known, Multibuyer 0-12 months, Doublebuyer 0-12 months, Singlebuyer 0-12 months, Multi-/Doublebuyer 13-24 months, Singlebuyer 13-24 months, Buyer &gt; 24 months, Prospects &gt; 24 months]</td>\n",
       "      <td>[0, 1, 2, 3, 4, 5, 6, 7]</td>\n",
       "    </tr>\n",
       "    <tr>\n",
       "      <th>2</th>\n",
       "      <td>D19</td>\n",
       "      <td>D19_BANKEN_LOKAL</td>\n",
       "      <td>transactional activity based on the product group LOCAL BANKS</td>\n",
       "      <td>transactional activity based on the product group LOCAL BANKS</td>\n",
       "      <td>no_info</td>\n",
       "      <td>[no transaction known, Multibuyer 0-12 months, Doublebuyer 0-12 months, Singlebuyer 0-12 months, Multi-/Doublebuyer 13-24 months, Singlebuyer 13-24 months, Buyer &gt; 24 months, Prospects &gt; 24 months]</td>\n",
       "      <td>[0, 1, 2, 3, 4, 5, 6, 7]</td>\n",
       "    </tr>\n",
       "    <tr>\n",
       "      <th>3</th>\n",
       "      <td>D19</td>\n",
       "      <td>D19_BANKEN_REST</td>\n",
       "      <td>transactional activity based on the product group FURTHER BANKS</td>\n",
       "      <td>transactional activity based on the product group FURTHER BANKS</td>\n",
       "      <td>no_info</td>\n",
       "      <td>[no transaction known, Multibuyer 0-12 months, Doublebuyer 0-12 months, Singlebuyer 0-12 months, Multi-/Doublebuyer 13-24 months, Singlebuyer 13-24 months, Buyer &gt; 24 months, Prospects &gt; 24 months]</td>\n",
       "      <td>[0, 1, 2, 3, 4, 5, 6, 7]</td>\n",
       "    </tr>\n",
       "    <tr>\n",
       "      <th>4</th>\n",
       "      <td>D19</td>\n",
       "      <td>D19_BEKLEIDUNG_GEH</td>\n",
       "      <td>transactional activity based on the product group LUXURY CLOTHING</td>\n",
       "      <td>transactional activity based on the product group LUXURY CLOTHING</td>\n",
       "      <td>no_info</td>\n",
       "      <td>[no transaction known, Multibuyer 0-12 months, Doublebuyer 0-12 months, Singlebuyer 0-12 months, Multi-/Doublebuyer 13-24 months, Singlebuyer 13-24 months, Buyer &gt; 24 months, Prospects &gt; 24 months]</td>\n",
       "      <td>[0, 1, 2, 3, 4, 5, 6, 7]</td>\n",
       "    </tr>\n",
       "  </tbody>\n",
       "</table>\n",
       "</div>"
      ],
      "text/plain": [
       "  category_large           Attribute  \\\n",
       "0            D19   D19_BANKEN_DIREKT   \n",
       "1            D19    D19_BANKEN_GROSS   \n",
       "2            D19    D19_BANKEN_LOKAL   \n",
       "3            D19     D19_BANKEN_REST   \n",
       "4            D19  D19_BEKLEIDUNG_GEH   \n",
       "\n",
       "                                                         Description  \\\n",
       "0     transactional activity based on the product group DIRECT BANKS   \n",
       "1        transactional activity based on the product group BIG BANKS   \n",
       "2      transactional activity based on the product group LOCAL BANKS   \n",
       "3    transactional activity based on the product group FURTHER BANKS   \n",
       "4  transactional activity based on the product group LUXURY CLOTHING   \n",
       "\n",
       "                                                                Desc  \\\n",
       "0     transactional activity based on the product group DIRECT BANKS   \n",
       "1        transactional activity based on the product group BIG BANKS   \n",
       "2      transactional activity based on the product group LOCAL BANKS   \n",
       "3    transactional activity based on the product group FURTHER BANKS   \n",
       "4  transactional activity based on the product group LUXURY CLOTHING   \n",
       "\n",
       "                                                                                                                                                                                                   Additional notes  \\\n",
       "0  AZ has access to approx. 650 Million transaction data - this is the basis for the criteria family DHT4A aka. D19. This data contains unique data regarding the mail-order activity of consumers, differentiated    \n",
       "1                                                                                                                                                                                                           no_info   \n",
       "2                                                                                                                                                                                                           no_info   \n",
       "3                                                                                                                                                                                                           no_info   \n",
       "4                                                                                                                                                                                                           no_info   \n",
       "\n",
       "                                                                                                                                                                                                 Meaning  \\\n",
       "0  [no transaction known, Multibuyer 0-12 months, Doublebuyer 0-12 months, Singlebuyer 0-12 months, Multi-/Doublebuyer 13-24 months, Singlebuyer 13-24 months, Buyer > 24 months, Prospects > 24 months]   \n",
       "1  [no transaction known, Multibuyer 0-12 months, Doublebuyer 0-12 months, Singlebuyer 0-12 months, Multi-/Doublebuyer 13-24 months, Singlebuyer 13-24 months, Buyer > 24 months, Prospects > 24 months]   \n",
       "2  [no transaction known, Multibuyer 0-12 months, Doublebuyer 0-12 months, Singlebuyer 0-12 months, Multi-/Doublebuyer 13-24 months, Singlebuyer 13-24 months, Buyer > 24 months, Prospects > 24 months]   \n",
       "3  [no transaction known, Multibuyer 0-12 months, Doublebuyer 0-12 months, Singlebuyer 0-12 months, Multi-/Doublebuyer 13-24 months, Singlebuyer 13-24 months, Buyer > 24 months, Prospects > 24 months]   \n",
       "4  [no transaction known, Multibuyer 0-12 months, Doublebuyer 0-12 months, Singlebuyer 0-12 months, Multi-/Doublebuyer 13-24 months, Singlebuyer 13-24 months, Buyer > 24 months, Prospects > 24 months]   \n",
       "\n",
       "                      Score  \n",
       "0  [0, 1, 2, 3, 4, 5, 6, 7]  \n",
       "1  [0, 1, 2, 3, 4, 5, 6, 7]  \n",
       "2  [0, 1, 2, 3, 4, 5, 6, 7]  \n",
       "3  [0, 1, 2, 3, 4, 5, 6, 7]  \n",
       "4  [0, 1, 2, 3, 4, 5, 6, 7]  "
      ]
     },
     "metadata": {},
     "output_type": "display_data"
    },
    {
     "name": "stdout",
     "output_type": "stream",
     "text": [
      "no transactions known\n",
      "number of Attribute(s): 22\n"
     ]
    },
    {
     "data": {
      "text/html": [
       "<div>\n",
       "<style scoped>\n",
       "    .dataframe tbody tr th:only-of-type {\n",
       "        vertical-align: middle;\n",
       "    }\n",
       "\n",
       "    .dataframe tbody tr th {\n",
       "        vertical-align: top;\n",
       "    }\n",
       "\n",
       "    .dataframe thead th {\n",
       "        text-align: right;\n",
       "    }\n",
       "</style>\n",
       "<table border=\"1\" class=\"dataframe\">\n",
       "  <thead>\n",
       "    <tr style=\"text-align: right;\">\n",
       "      <th></th>\n",
       "      <th>category_large</th>\n",
       "      <th>Attribute</th>\n",
       "      <th>Description</th>\n",
       "      <th>Desc</th>\n",
       "      <th>Additional notes</th>\n",
       "      <th>Meaning</th>\n",
       "      <th>Score</th>\n",
       "    </tr>\n",
       "  </thead>\n",
       "  <tbody>\n",
       "    <tr>\n",
       "      <th>0</th>\n",
       "      <td>D19</td>\n",
       "      <td>D19_BANKEN_ANZ_12</td>\n",
       "      <td>transaction activity BANKS in the last 12 months</td>\n",
       "      <td>transaction activity BANKS in the last 12 months</td>\n",
       "      <td>no_info</td>\n",
       "      <td>[no transactions known, very low activity, low activity, slightly increased activity, increased activity, high activity, very high activity]</td>\n",
       "      <td>[0, 1, 2, 3, 4, 5, 6]</td>\n",
       "    </tr>\n",
       "    <tr>\n",
       "      <th>1</th>\n",
       "      <td>D19</td>\n",
       "      <td>D19_BANKEN_ANZ_24</td>\n",
       "      <td>transaction activity BANKS in the last 24 months</td>\n",
       "      <td>transaction activity BANKS in the last 24 months</td>\n",
       "      <td>no_info</td>\n",
       "      <td>[no transactions known, very low activity, low activity, slightly increased activity, increased activity, high activity, very high activity]</td>\n",
       "      <td>[0, 1, 2, 3, 4, 5, 6]</td>\n",
       "    </tr>\n",
       "    <tr>\n",
       "      <th>2</th>\n",
       "      <td>D19</td>\n",
       "      <td>D19_BANKEN_DATUM</td>\n",
       "      <td>actuality of the last transaction for the segment banks TOTAL</td>\n",
       "      <td>actuality of the last transaction for the segment banks TOTAL</td>\n",
       "      <td>no_info</td>\n",
       "      <td>[highest activity within the last 12 months, very high activity within the last 12 months, high activity within the last 12 months, increased activity within the last 12 months, slightly increased activity within the last 12 months, activity elder than 1 year, activity elder than 1,5 years, activity elder than 2 years, activity elder than 3 years, no transactions known]</td>\n",
       "      <td>[1, 2, 3, 4, 5, 6, 7, 8, 9, 10]</td>\n",
       "    </tr>\n",
       "    <tr>\n",
       "      <th>3</th>\n",
       "      <td>D19</td>\n",
       "      <td>D19_BANKEN_OFFLINE_DATUM</td>\n",
       "      <td>actuality of the last transaction for the segment banks OFFLINE</td>\n",
       "      <td>actuality of the last transaction for the segment banks OFFLINE</td>\n",
       "      <td>no_info</td>\n",
       "      <td>[highest activity within the last 12 months, very high activity within the last 12 months, high activity within the last 12 months, increased activity within the last 12 months, slightly increased activity within the last 12 months, activity elder than 12 months, activity elder than 18 months, activity elder than 24 months, activity elder than 36 months, no transactions known]</td>\n",
       "      <td>[1, 2, 3, 4, 5, 6, 7, 8, 9, 10]</td>\n",
       "    </tr>\n",
       "    <tr>\n",
       "      <th>4</th>\n",
       "      <td>D19</td>\n",
       "      <td>D19_BANKEN_ONLINE_DATUM</td>\n",
       "      <td>actuality of the last transaction for the segment banks ONLINE</td>\n",
       "      <td>actuality of the last transaction for the segment banks ONLINE</td>\n",
       "      <td>no_info</td>\n",
       "      <td>[highest activity within the last 12 months, very high activity within the last 12 months, high activity within the last 12 months, increased activity within the last 12 months, slightly increased activity within the last 12 months, activity elder than 12 months, activity elder than 18 months, activity elder than 24 months, activity elder than 36 months, no transactions known]</td>\n",
       "      <td>[1, 2, 3, 4, 5, 6, 7, 8, 9, 10]</td>\n",
       "    </tr>\n",
       "  </tbody>\n",
       "</table>\n",
       "</div>"
      ],
      "text/plain": [
       "  category_large                 Attribute  \\\n",
       "0            D19         D19_BANKEN_ANZ_12   \n",
       "1            D19         D19_BANKEN_ANZ_24   \n",
       "2            D19          D19_BANKEN_DATUM   \n",
       "3            D19  D19_BANKEN_OFFLINE_DATUM   \n",
       "4            D19   D19_BANKEN_ONLINE_DATUM   \n",
       "\n",
       "                                                       Description  \\\n",
       "0                 transaction activity BANKS in the last 12 months   \n",
       "1                 transaction activity BANKS in the last 24 months   \n",
       "2    actuality of the last transaction for the segment banks TOTAL   \n",
       "3  actuality of the last transaction for the segment banks OFFLINE   \n",
       "4   actuality of the last transaction for the segment banks ONLINE   \n",
       "\n",
       "                                                              Desc  \\\n",
       "0                 transaction activity BANKS in the last 12 months   \n",
       "1                 transaction activity BANKS in the last 24 months   \n",
       "2    actuality of the last transaction for the segment banks TOTAL   \n",
       "3  actuality of the last transaction for the segment banks OFFLINE   \n",
       "4   actuality of the last transaction for the segment banks ONLINE   \n",
       "\n",
       "  Additional notes  \\\n",
       "0          no_info   \n",
       "1          no_info   \n",
       "2          no_info   \n",
       "3          no_info   \n",
       "4          no_info   \n",
       "\n",
       "                                                                                                                                                                                                                                                                                                                                                                                       Meaning  \\\n",
       "0                                                                                                                                                                                                                                                 [no transactions known, very low activity, low activity, slightly increased activity, increased activity, high activity, very high activity]   \n",
       "1                                                                                                                                                                                                                                                 [no transactions known, very low activity, low activity, slightly increased activity, increased activity, high activity, very high activity]   \n",
       "2         [highest activity within the last 12 months, very high activity within the last 12 months, high activity within the last 12 months, increased activity within the last 12 months, slightly increased activity within the last 12 months, activity elder than 1 year, activity elder than 1,5 years, activity elder than 2 years, activity elder than 3 years, no transactions known]   \n",
       "3  [highest activity within the last 12 months, very high activity within the last 12 months, high activity within the last 12 months, increased activity within the last 12 months, slightly increased activity within the last 12 months, activity elder than 12 months, activity elder than 18 months, activity elder than 24 months, activity elder than 36 months, no transactions known]   \n",
       "4  [highest activity within the last 12 months, very high activity within the last 12 months, high activity within the last 12 months, increased activity within the last 12 months, slightly increased activity within the last 12 months, activity elder than 12 months, activity elder than 18 months, activity elder than 24 months, activity elder than 36 months, no transactions known]   \n",
       "\n",
       "                             Score  \n",
       "0            [0, 1, 2, 3, 4, 5, 6]  \n",
       "1            [0, 1, 2, 3, 4, 5, 6]  \n",
       "2  [1, 2, 3, 4, 5, 6, 7, 8, 9, 10]  \n",
       "3  [1, 2, 3, 4, 5, 6, 7, 8, 9, 10]  \n",
       "4  [1, 2, 3, 4, 5, 6, 7, 8, 9, 10]  "
      ]
     },
     "metadata": {},
     "output_type": "display_data"
    },
    {
     "name": "stdout",
     "output_type": "stream",
     "text": [
      "none\n",
      "number of Attribute(s): 138\n"
     ]
    },
    {
     "data": {
      "text/html": [
       "<div>\n",
       "<style scoped>\n",
       "    .dataframe tbody tr th:only-of-type {\n",
       "        vertical-align: middle;\n",
       "    }\n",
       "\n",
       "    .dataframe tbody tr th {\n",
       "        vertical-align: top;\n",
       "    }\n",
       "\n",
       "    .dataframe thead th {\n",
       "        text-align: right;\n",
       "    }\n",
       "</style>\n",
       "<table border=\"1\" class=\"dataframe\">\n",
       "  <thead>\n",
       "    <tr style=\"text-align: right;\">\n",
       "      <th></th>\n",
       "      <th>category_large</th>\n",
       "      <th>Attribute</th>\n",
       "      <th>Description</th>\n",
       "      <th>Desc</th>\n",
       "      <th>Additional notes</th>\n",
       "      <th>Meaning</th>\n",
       "      <th>Score</th>\n",
       "    </tr>\n",
       "  </thead>\n",
       "  <tbody>\n",
       "    <tr>\n",
       "      <th>0</th>\n",
       "      <td>KBA05</td>\n",
       "      <td>KBA05_ALTER1</td>\n",
       "      <td>share of car owners less than 31 years old</td>\n",
       "      <td>share of car owners less than 31 years old</td>\n",
       "      <td>no_info</td>\n",
       "      <td>[unknown, unknown, none, low, average, high, very high]</td>\n",
       "      <td>[-1, 9, 0, 1, 2, 3, 4]</td>\n",
       "    </tr>\n",
       "    <tr>\n",
       "      <th>1</th>\n",
       "      <td>KBA05</td>\n",
       "      <td>KBA05_ALTER4</td>\n",
       "      <td>share of cars owners elder than 61 years</td>\n",
       "      <td>share of cars owners elder than 61 years</td>\n",
       "      <td>no_info</td>\n",
       "      <td>[unknown, unknown, none, very low, low, average, high, very high]</td>\n",
       "      <td>[-1, 9, 0, 1, 2, 3, 4, 5]</td>\n",
       "    </tr>\n",
       "    <tr>\n",
       "      <th>2</th>\n",
       "      <td>KBA05</td>\n",
       "      <td>KBA05_ANHANG</td>\n",
       "      <td>share of trailers in the microcell</td>\n",
       "      <td>share of trailers in the microcell</td>\n",
       "      <td>no_info</td>\n",
       "      <td>[unknown, unknown, none, some, some more, very many]</td>\n",
       "      <td>[-1, 9, 0, 1, 2, 3]</td>\n",
       "    </tr>\n",
       "    <tr>\n",
       "      <th>3</th>\n",
       "      <td>KBA05</td>\n",
       "      <td>KBA05_CCM4</td>\n",
       "      <td>share of cars with more than 2499ccm</td>\n",
       "      <td>share of cars with more than 2499ccm</td>\n",
       "      <td>no_info</td>\n",
       "      <td>[unknown, unknown, none, low, average, high, very high]</td>\n",
       "      <td>[-1, 9, 0, 1, 2, 3, 4]</td>\n",
       "    </tr>\n",
       "    <tr>\n",
       "      <th>4</th>\n",
       "      <td>KBA05</td>\n",
       "      <td>KBA05_DIESEL</td>\n",
       "      <td>share of cars with Diesel-engine in the microcell</td>\n",
       "      <td>share of cars with Diesel-engine in the microcell</td>\n",
       "      <td>no_info</td>\n",
       "      <td>[unknown, unknown, none, very low, low, average, high]</td>\n",
       "      <td>[-1, 9, 0, 1, 2, 3, 4]</td>\n",
       "    </tr>\n",
       "  </tbody>\n",
       "</table>\n",
       "</div>"
      ],
      "text/plain": [
       "  category_large     Attribute  \\\n",
       "0          KBA05  KBA05_ALTER1   \n",
       "1          KBA05  KBA05_ALTER4   \n",
       "2          KBA05  KBA05_ANHANG   \n",
       "3          KBA05    KBA05_CCM4   \n",
       "4          KBA05  KBA05_DIESEL   \n",
       "\n",
       "                                         Description  \\\n",
       "0         share of car owners less than 31 years old   \n",
       "1           share of cars owners elder than 61 years   \n",
       "2                 share of trailers in the microcell   \n",
       "3               share of cars with more than 2499ccm   \n",
       "4  share of cars with Diesel-engine in the microcell   \n",
       "\n",
       "                                                Desc Additional notes  \\\n",
       "0         share of car owners less than 31 years old          no_info   \n",
       "1           share of cars owners elder than 61 years          no_info   \n",
       "2                 share of trailers in the microcell          no_info   \n",
       "3               share of cars with more than 2499ccm          no_info   \n",
       "4  share of cars with Diesel-engine in the microcell          no_info   \n",
       "\n",
       "                                                             Meaning  \\\n",
       "0            [unknown, unknown, none, low, average, high, very high]   \n",
       "1  [unknown, unknown, none, very low, low, average, high, very high]   \n",
       "2               [unknown, unknown, none, some, some more, very many]   \n",
       "3            [unknown, unknown, none, low, average, high, very high]   \n",
       "4             [unknown, unknown, none, very low, low, average, high]   \n",
       "\n",
       "                       Score  \n",
       "0     [-1, 9, 0, 1, 2, 3, 4]  \n",
       "1  [-1, 9, 0, 1, 2, 3, 4, 5]  \n",
       "2        [-1, 9, 0, 1, 2, 3]  \n",
       "3     [-1, 9, 0, 1, 2, 3, 4]  \n",
       "4     [-1, 9, 0, 1, 2, 3, 4]  "
      ]
     },
     "metadata": {},
     "output_type": "display_data"
    }
   ],
   "source": [
    "'''\n",
    "먼저 확실하게 null을 의미하는 2개 Score는 to_null 리스트에 넣어 later, pre-processing에 사용하고, \n",
    "context에 따라 정확한 의미 파악이 필요한 나머지 값들은 maybe_null에 넣어 상세 점검을 함\n",
    "'''\n",
    "to_null = ['unknown', 'unknown / no main age detectable']\n",
    "maybe_null = ['no transaction known', 'no transactions known', 'none']\n",
    "\n",
    "'''\n",
    "메이비널 값을 컨텍스트 속에서 살펴보면\n",
    "- maybe_null은 은 null이 아니며 0을 의미함\n",
    "'''\n",
    "for i in maybe_null:\n",
    "    print (i)\n",
    "    verify_maybe_null = pv_verify_null(attr_num, feature_desc, i)"
   ]
  },
  {
   "cell_type": "code",
   "execution_count": 37,
   "metadata": {},
   "outputs": [],
   "source": [
    "'''\n",
    "NOTE pre-processing items\n",
    "'''\n",
    "\n",
    "p_process['2.3.1-1'] = 'mask / All / replace Score to null if corresponding Meaning is in to_null'"
   ]
  },
  {
   "attachments": {},
   "cell_type": "markdown",
   "metadata": {},
   "source": [
    "##### 2.3.2 ref_attr Scores denoted in string\n",
    "\n",
    "///// 98 features in str type are analyzed"
   ]
  },
  {
   "cell_type": "code",
   "execution_count": 38,
   "metadata": {},
   "outputs": [
    {
     "name": "stdout",
     "output_type": "stream",
     "text": [
      "number of Attribute(s): 9\n"
     ]
    },
    {
     "data": {
      "text/html": [
       "<div>\n",
       "<style scoped>\n",
       "    .dataframe tbody tr th:only-of-type {\n",
       "        vertical-align: middle;\n",
       "    }\n",
       "\n",
       "    .dataframe tbody tr th {\n",
       "        vertical-align: top;\n",
       "    }\n",
       "\n",
       "    .dataframe thead th {\n",
       "        text-align: right;\n",
       "    }\n",
       "</style>\n",
       "<table border=\"1\" class=\"dataframe\">\n",
       "  <thead>\n",
       "    <tr style=\"text-align: right;\">\n",
       "      <th></th>\n",
       "      <th>category_large</th>\n",
       "      <th>Attribute</th>\n",
       "      <th>Description</th>\n",
       "      <th>Desc</th>\n",
       "      <th>Additional notes</th>\n",
       "      <th>Meaning</th>\n",
       "      <th>Score</th>\n",
       "    </tr>\n",
       "  </thead>\n",
       "  <tbody>\n",
       "    <tr>\n",
       "      <th>0</th>\n",
       "      <td>ANZ</td>\n",
       "      <td>ANZ_HAUSHALTE_AKTIV</td>\n",
       "      <td>number of households in the building</td>\n",
       "      <td>number of households in the building</td>\n",
       "      <td>no_info</td>\n",
       "      <td>[numeric value (typically coded from 1-10)]</td>\n",
       "      <td>[…]</td>\n",
       "    </tr>\n",
       "    <tr>\n",
       "      <th>1</th>\n",
       "      <td>ANZ</td>\n",
       "      <td>ANZ_HH_TITEL</td>\n",
       "      <td>number of academic title holder in building</td>\n",
       "      <td>number of academic title holder in building</td>\n",
       "      <td>no_info</td>\n",
       "      <td>[numeric value (typically coded from 1-10)]</td>\n",
       "      <td>[…]</td>\n",
       "    </tr>\n",
       "    <tr>\n",
       "      <th>2</th>\n",
       "      <td>ANZ</td>\n",
       "      <td>ANZ_PERSONEN</td>\n",
       "      <td>number of adult persons in the household</td>\n",
       "      <td>number of adult persons in the household</td>\n",
       "      <td>no_info</td>\n",
       "      <td>[numeric value (typically coded from 1-3)]</td>\n",
       "      <td>[…]</td>\n",
       "    </tr>\n",
       "    <tr>\n",
       "      <th>3</th>\n",
       "      <td>ANZ</td>\n",
       "      <td>ANZ_TITEL</td>\n",
       "      <td>number of professional title holder in household</td>\n",
       "      <td>number of professional title holder in household</td>\n",
       "      <td>no_info</td>\n",
       "      <td>[numeric value (typically coded from 1-10)]</td>\n",
       "      <td>[…]</td>\n",
       "    </tr>\n",
       "    <tr>\n",
       "      <th>4</th>\n",
       "      <td>CAMEO</td>\n",
       "      <td>CAMEO_DEU_2015</td>\n",
       "      <td>CAMEO classification 2015 - detailled classification</td>\n",
       "      <td>CAMEO classification 2015 - detailled classification</td>\n",
       "      <td>no_info</td>\n",
       "      <td>[Work-Life-Balance, Wealthy Best Ager, Successful Songwriter, Old Nobility, City Nobility, Cottage Chic, Noble Jogger, Established gourmet, Fine Management, Career &amp; Family, Powershopping Families, Rural Neighborhood, Secure Retirement, Family Starter, Family Life, String Trimmer, Empty Nest, Golden Ager, Younger Employees, Suddenly Family, Family First, Stock Market Junkies, Coffee Rider, Active Retirement, Jobstarter, Petty Bourgeois, Long-established, Sportgardener, Urban Parents, Frugal Aging, Journeymen, Mantaplatte, Factory Worker, Rear Window, Interested Retirees, Multi-culteral, Young &amp; Mobile, Prefab, Town Seniors, First Shared Apartment, Temporary Workers, Afternoon Talk Show, Mini-Jobber, Socking Away]</td>\n",
       "      <td>[1A, 1B, 1C, 1D, 1E, 2A, 2B, 2C, 2D, 3A, 3B, 3C, 3D, 4A, 4B, 4C, 4D, 4E, 5A, 5B, 5C, 5D, 5E, 5F, 6A, 6B, 6C, 6D, 6E, 6F, 7A, 7B, 7C, 7D, 7E, 8A, 8B, 8C, 8D, 9A, 9B, 9C, 9D, 9E]</td>\n",
       "    </tr>\n",
       "    <tr>\n",
       "      <th>5</th>\n",
       "      <td>KBA13</td>\n",
       "      <td>KBA13_ANZAHL_PKW</td>\n",
       "      <td>number of cars in the PLZ8</td>\n",
       "      <td>number of cars in the PLZ8</td>\n",
       "      <td>no_info</td>\n",
       "      <td>[numeric value]</td>\n",
       "      <td>[…]</td>\n",
       "    </tr>\n",
       "    <tr>\n",
       "      <th>6</th>\n",
       "      <td>MIN</td>\n",
       "      <td>MIN_GEBAEUDEJAHR</td>\n",
       "      <td>year the building was first mentioned in our database</td>\n",
       "      <td>year the building was first mentioned in our database</td>\n",
       "      <td>no_info</td>\n",
       "      <td>[numeric value]</td>\n",
       "      <td>[…]</td>\n",
       "    </tr>\n",
       "    <tr>\n",
       "      <th>7</th>\n",
       "      <td>OST</td>\n",
       "      <td>OST_WEST_KZ</td>\n",
       "      <td>flag indicating the former GDR/FRG</td>\n",
       "      <td>flag indicating the former GDR/FRG</td>\n",
       "      <td>no_info</td>\n",
       "      <td>[East (GDR), West (FRG)]</td>\n",
       "      <td>[O, W]</td>\n",
       "    </tr>\n",
       "    <tr>\n",
       "      <th>8</th>\n",
       "      <td>no_category</td>\n",
       "      <td>GEBURTSJAHR</td>\n",
       "      <td>year of birth</td>\n",
       "      <td>year of birth</td>\n",
       "      <td>no_info</td>\n",
       "      <td>[numeric value]</td>\n",
       "      <td>[…]</td>\n",
       "    </tr>\n",
       "  </tbody>\n",
       "</table>\n",
       "</div>"
      ],
      "text/plain": [
       "  category_large            Attribute  \\\n",
       "0            ANZ  ANZ_HAUSHALTE_AKTIV   \n",
       "1            ANZ         ANZ_HH_TITEL   \n",
       "2            ANZ         ANZ_PERSONEN   \n",
       "3            ANZ            ANZ_TITEL   \n",
       "4          CAMEO       CAMEO_DEU_2015   \n",
       "5          KBA13     KBA13_ANZAHL_PKW   \n",
       "6            MIN     MIN_GEBAEUDEJAHR   \n",
       "7            OST          OST_WEST_KZ   \n",
       "8    no_category          GEBURTSJAHR   \n",
       "\n",
       "                                             Description  \\\n",
       "0                   number of households in the building   \n",
       "1            number of academic title holder in building   \n",
       "2               number of adult persons in the household   \n",
       "3      number of professional title holder in household    \n",
       "4   CAMEO classification 2015 - detailled classification   \n",
       "5                             number of cars in the PLZ8   \n",
       "6  year the building was first mentioned in our database   \n",
       "7                     flag indicating the former GDR/FRG   \n",
       "8                                          year of birth   \n",
       "\n",
       "                                                    Desc Additional notes  \\\n",
       "0                   number of households in the building          no_info   \n",
       "1            number of academic title holder in building          no_info   \n",
       "2               number of adult persons in the household          no_info   \n",
       "3      number of professional title holder in household           no_info   \n",
       "4   CAMEO classification 2015 - detailled classification          no_info   \n",
       "5                             number of cars in the PLZ8          no_info   \n",
       "6  year the building was first mentioned in our database          no_info   \n",
       "7                     flag indicating the former GDR/FRG          no_info   \n",
       "8                                          year of birth          no_info   \n",
       "\n",
       "                                                                                                                                                                                                                                                                                                                                                                                                                                                                                                                                                                                                                                                                                                                                              Meaning  \\\n",
       "0                                                                                                                                                                                                                                                                                                                                                                                                                                                                                                                                                                                                                                                                                                         [numeric value (typically coded from 1-10)]   \n",
       "1                                                                                                                                                                                                                                                                                                                                                                                                                                                                                                                                                                                                                                                                                                         [numeric value (typically coded from 1-10)]   \n",
       "2                                                                                                                                                                                                                                                                                                                                                                                                                                                                                                                                                                                                                                                                                                          [numeric value (typically coded from 1-3)]   \n",
       "3                                                                                                                                                                                                                                                                                                                                                                                                                                                                                                                                                                                                                                                                                                         [numeric value (typically coded from 1-10)]   \n",
       "4  [Work-Life-Balance, Wealthy Best Ager, Successful Songwriter, Old Nobility, City Nobility, Cottage Chic, Noble Jogger, Established gourmet, Fine Management, Career & Family, Powershopping Families, Rural Neighborhood, Secure Retirement, Family Starter, Family Life, String Trimmer, Empty Nest, Golden Ager, Younger Employees, Suddenly Family, Family First, Stock Market Junkies, Coffee Rider, Active Retirement, Jobstarter, Petty Bourgeois, Long-established, Sportgardener, Urban Parents, Frugal Aging, Journeymen, Mantaplatte, Factory Worker, Rear Window, Interested Retirees, Multi-culteral, Young & Mobile, Prefab, Town Seniors, First Shared Apartment, Temporary Workers, Afternoon Talk Show, Mini-Jobber, Socking Away]   \n",
       "5                                                                                                                                                                                                                                                                                                                                                                                                                                                                                                                                                                                                                                                                                                                                     [numeric value]   \n",
       "6                                                                                                                                                                                                                                                                                                                                                                                                                                                                                                                                                                                                                                                                                                                                     [numeric value]   \n",
       "7                                                                                                                                                                                                                                                                                                                                                                                                                                                                                                                                                                                                                                                                                                                            [East (GDR), West (FRG)]   \n",
       "8                                                                                                                                                                                                                                                                                                                                                                                                                                                                                                                                                                                                                                                                                                                                     [numeric value]   \n",
       "\n",
       "                                                                                                                                                                              Score  \n",
       "0                                                                                                                                                                               […]  \n",
       "1                                                                                                                                                                               […]  \n",
       "2                                                                                                                                                                               […]  \n",
       "3                                                                                                                                                                               […]  \n",
       "4  [1A, 1B, 1C, 1D, 1E, 2A, 2B, 2C, 2D, 3A, 3B, 3C, 3D, 4A, 4B, 4C, 4D, 4E, 5A, 5B, 5C, 5D, 5E, 5F, 6A, 6B, 6C, 6D, 6E, 6F, 7A, 7B, 7C, 7D, 7E, 8A, 8B, 8C, 8D, 9A, 9B, 9C, 9D, 9E]  \n",
       "5                                                                                                                                                                               […]  \n",
       "6                                                                                                                                                                               […]  \n",
       "7                                                                                                                                                                            [O, W]  \n",
       "8                                                                                                                                                                               […]  "
      ]
     },
     "metadata": {},
     "output_type": "display_data"
    }
   ],
   "source": [
    "'''\n",
    "summary of attr_str with Meaning and Score values\n",
    "'''\n",
    "\n",
    "attr_str_score = pv_meaning_score(attr_str, feature_desc, display = False)\n",
    "view_all(attr_str_score)"
   ]
  },
  {
   "attachments": {},
   "cell_type": "markdown",
   "metadata": {},
   "source": [
    "* **7 features are found as continuous.**  \n",
    "  These features will checked in detail in the next section."
   ]
  },
  {
   "cell_type": "code",
   "execution_count": 39,
   "metadata": {},
   "outputs": [],
   "source": [
    "# create list of possibly containing continuous features \n",
    "pre_study_continuous = list(\n",
    "    attr_str_score[attr_str_score.Score.apply(lambda x: x == ['…'])].Attribute.unique())"
   ]
  },
  {
   "attachments": {},
   "cell_type": "markdown",
   "metadata": {},
   "source": [
    "### 3. Dataset exploration\n",
    "\n",
    "Based on baseline understanding and frame works from reference files in section_2,  \n",
    "section_3 is dealing with actual datasets.  \n",
    "In this section, steps taken in the previous section will be repeated to fine-tune  \n",
    "and finalize pro-processing items."
   ]
  },
  {
   "cell_type": "code",
   "execution_count": 40,
   "metadata": {},
   "outputs": [
    {
     "name": "stdout",
     "output_type": "stream",
     "text": [
      "<class 'pandas.core.frame.DataFrame'>\n",
      "RangeIndex: 1082873 entries, 0 to 1082872\n",
      "Columns: 369 entries, LNR to ALTERSKATEGORIE_GROB\n",
      "dtypes: float64(268), int64(93), object(8)\n",
      "memory usage: 3.0+ GB\n"
     ]
    }
   ],
   "source": [
    "'''\n",
    "create a concatenated dataframe of 2 datasets for temporary use\n",
    "'''\n",
    "\n",
    "concat_data = pd.concat([customers, azdias], axis=0).reset_index(drop = True)\n",
    "concat_data.info()"
   ]
  },
  {
   "cell_type": "code",
   "execution_count": 41,
   "metadata": {},
   "outputs": [
    {
     "data": {
      "text/plain": [
       "(1082873, 308)"
      ]
     },
     "execution_count": 41,
     "metadata": {},
     "output_type": "execute_result"
    }
   ],
   "source": [
    "'''\n",
    "datasets containing intersection features in both of datasets and ref_attr\n",
    "'''\n",
    "\n",
    "datasets = concat_data[\n",
    "    list(feature_dict['customers_intsec_ref_attr'])].copy()\n",
    "datasets.shape"
   ]
  },
  {
   "cell_type": "code",
   "execution_count": 42,
   "metadata": {},
   "outputs": [
    {
     "data": {
      "text/plain": [
       "(1082873, 61)"
      ]
     },
     "execution_count": 42,
     "metadata": {},
     "output_type": "execute_result"
    }
   ],
   "source": [
    "'''\n",
    "datasets_excl containing exclusive features of datasets\n",
    "'''\n",
    "\n",
    "datasets_excl = concat_data[\n",
    "    list(feature_dict['in_customers_notin_ref_attr'])].copy()\n",
    "datasets_excl.shape"
   ]
  },
  {
   "attachments": {},
   "cell_type": "markdown",
   "metadata": {},
   "source": [
    "#### 3.1 intersection features in both of datasets and ref_attr"
   ]
  },
  {
   "attachments": {},
   "cell_type": "markdown",
   "metadata": {},
   "source": [
    "##### 3.1.1 numeric dataset Scores of intersection features"
   ]
  },
  {
   "cell_type": "code",
   "execution_count": 43,
   "metadata": {},
   "outputs": [
    {
     "name": "stdout",
     "output_type": "stream",
     "text": [
      "number of Attribute(s): 304\n"
     ]
    },
    {
     "data": {
      "text/html": [
       "<div>\n",
       "<style scoped>\n",
       "    .dataframe tbody tr th:only-of-type {\n",
       "        vertical-align: middle;\n",
       "    }\n",
       "\n",
       "    .dataframe tbody tr th {\n",
       "        vertical-align: top;\n",
       "    }\n",
       "\n",
       "    .dataframe thead th {\n",
       "        text-align: right;\n",
       "    }\n",
       "</style>\n",
       "<table border=\"1\" class=\"dataframe\">\n",
       "  <thead>\n",
       "    <tr style=\"text-align: right;\">\n",
       "      <th></th>\n",
       "      <th>Attribute</th>\n",
       "      <th>count</th>\n",
       "      <th>mean</th>\n",
       "      <th>std</th>\n",
       "      <th>min</th>\n",
       "      <th>25%</th>\n",
       "      <th>50%</th>\n",
       "      <th>75%</th>\n",
       "      <th>max</th>\n",
       "      <th>Desc</th>\n",
       "      <th>null_portion</th>\n",
       "      <th>min_max_cat</th>\n",
       "    </tr>\n",
       "  </thead>\n",
       "  <tbody>\n",
       "    <tr>\n",
       "      <th>0</th>\n",
       "      <td>D19_SONSTIGE</td>\n",
       "      <td>1082873.0</td>\n",
       "      <td>2.525860</td>\n",
       "      <td>2.885597</td>\n",
       "      <td>0.0</td>\n",
       "      <td>0.0</td>\n",
       "      <td>0.0</td>\n",
       "      <td>6.0</td>\n",
       "      <td>7.0</td>\n",
       "      <td>transactional activity based on the product group ALL OTHER CATEGORIES</td>\n",
       "      <td>0.000000</td>\n",
       "      <td>0 to 7</td>\n",
       "    </tr>\n",
       "    <tr>\n",
       "      <th>1</th>\n",
       "      <td>KBA05_MOD1</td>\n",
       "      <td>893569.0</td>\n",
       "      <td>1.474384</td>\n",
       "      <td>1.609973</td>\n",
       "      <td>0.0</td>\n",
       "      <td>0.0</td>\n",
       "      <td>1.0</td>\n",
       "      <td>2.0</td>\n",
       "      <td>9.0</td>\n",
       "      <td>share of upper class cars (in an AZ specific definition)</td>\n",
       "      <td>0.174816</td>\n",
       "      <td>0 to 9</td>\n",
       "    </tr>\n",
       "    <tr>\n",
       "      <th>2</th>\n",
       "      <td>GFK_URLAUBERTYP</td>\n",
       "      <td>1074806.0</td>\n",
       "      <td>7.166558</td>\n",
       "      <td>3.444051</td>\n",
       "      <td>1.0</td>\n",
       "      <td>5.0</td>\n",
       "      <td>8.0</td>\n",
       "      <td>10.0</td>\n",
       "      <td>12.0</td>\n",
       "      <td>vacation habits</td>\n",
       "      <td>0.007450</td>\n",
       "      <td>1 to 12</td>\n",
       "    </tr>\n",
       "    <tr>\n",
       "      <th>3</th>\n",
       "      <td>KBA13_SEG_GROSSRAUMVANS</td>\n",
       "      <td>925792.0</td>\n",
       "      <td>3.111533</td>\n",
       "      <td>1.009290</td>\n",
       "      <td>1.0</td>\n",
       "      <td>3.0</td>\n",
       "      <td>3.0</td>\n",
       "      <td>4.0</td>\n",
       "      <td>5.0</td>\n",
       "      <td>share of big sized vans within the PLZ8</td>\n",
       "      <td>0.145059</td>\n",
       "      <td>1 to 5</td>\n",
       "    </tr>\n",
       "    <tr>\n",
       "      <th>4</th>\n",
       "      <td>KBA13_CCM_0_1400</td>\n",
       "      <td>925792.0</td>\n",
       "      <td>2.309565</td>\n",
       "      <td>1.439908</td>\n",
       "      <td>0.0</td>\n",
       "      <td>1.0</td>\n",
       "      <td>3.0</td>\n",
       "      <td>3.0</td>\n",
       "      <td>5.0</td>\n",
       "      <td>share of cars with less than 1400ccm within the PLZ8</td>\n",
       "      <td>0.145059</td>\n",
       "      <td>0 to 5</td>\n",
       "    </tr>\n",
       "  </tbody>\n",
       "</table>\n",
       "</div>"
      ],
      "text/plain": [
       "                 Attribute      count      mean       std  min  25%  50%  \\\n",
       "0             D19_SONSTIGE  1082873.0  2.525860  2.885597  0.0  0.0  0.0   \n",
       "1               KBA05_MOD1   893569.0  1.474384  1.609973  0.0  0.0  1.0   \n",
       "2          GFK_URLAUBERTYP  1074806.0  7.166558  3.444051  1.0  5.0  8.0   \n",
       "3  KBA13_SEG_GROSSRAUMVANS   925792.0  3.111533  1.009290  1.0  3.0  3.0   \n",
       "4         KBA13_CCM_0_1400   925792.0  2.309565  1.439908  0.0  1.0  3.0   \n",
       "\n",
       "    75%   max  \\\n",
       "0   6.0   7.0   \n",
       "1   2.0   9.0   \n",
       "2  10.0  12.0   \n",
       "3   4.0   5.0   \n",
       "4   3.0   5.0   \n",
       "\n",
       "                                                                     Desc  \\\n",
       "0  transactional activity based on the product group ALL OTHER CATEGORIES   \n",
       "1                share of upper class cars (in an AZ specific definition)   \n",
       "2                                                         vacation habits   \n",
       "3                                 share of big sized vans within the PLZ8   \n",
       "4                    share of cars with less than 1400ccm within the PLZ8   \n",
       "\n",
       "   null_portion min_max_cat  \n",
       "0      0.000000      0 to 7  \n",
       "1      0.174816      0 to 9  \n",
       "2      0.007450     1 to 12  \n",
       "3      0.145059      1 to 5  \n",
       "4      0.145059      0 to 5  "
      ]
     },
     "metadata": {},
     "output_type": "display_data"
    },
    {
     "name": "stdout",
     "output_type": "stream",
     "text": [
      "min_max Scores: \n",
      " ['0 to 7' '0 to 9' '1 to 12' '1 to 5' '0 to 5' '1 to 6' '1 to 9' '1 to 10'\n",
      " '0 to 15' '1 to 7' '0 to 12' '1 to 4' '0 to 6' '0 to 3' '1 to 8' '0 to 4'\n",
      " '0 to 2' '-1 to 2' '0 to 23' '0 to 10' '1 to 3' '0 to 45' '0 to 1'\n",
      " '0 to 40' '-1 to 3' '0 to 8' '1 to 2' '1_985 to 2_016' '0 to 2_017'\n",
      " '0 to 11' '0 to 21' '0 to 2_300' '0 to 595']\n"
     ]
    }
   ],
   "source": [
    "'''\n",
    "datasets_num_score containing summary of numeric Score values\n",
    "'''\n",
    "\n",
    "datasets_num_score = dataset_summary(datasets, feature_desc, ['int', 'float'])"
   ]
  },
  {
   "cell_type": "code",
   "execution_count": 44,
   "metadata": {},
   "outputs": [
    {
     "data": {
      "text/plain": [
       "within min/max range    293\n",
       "not in attr_num           7\n",
       "min lower                 4\n",
       "Name: check, dtype: int64"
      ]
     },
     "execution_count": 44,
     "metadata": {},
     "output_type": "execute_result"
    }
   ],
   "source": [
    "'''\n",
    "check if Scores in actual datasets are within range given by ref_attr.\n",
    "'''\n",
    "\n",
    "# merge min/max values by Attribute in attr_num_score in 2.3.1\n",
    "temp_range_check = vlookup(\n",
    "    datasets_num_score, attr_num_score, 'Attribute', ['min', 'max', 'min_max_cat'], intsec = 'copy')\n",
    "\n",
    "temp_range_check['check'] = np.where(\n",
    "    temp_range_check['min_max_cat_'].isnull(), \n",
    "    'not in attr_num',\n",
    "    np.where(\n",
    "        (temp_range_check['min'] < temp_range_check['min_']),\n",
    "         'min lower',\n",
    "         np.where((temp_range_check['max'] > temp_range_check['max_']),\n",
    "         'max higher',\n",
    "         'within min/max range')))\n",
    "\n",
    "temp_range_check.check.value_counts()"
   ]
  },
  {
   "attachments": {},
   "cell_type": "markdown",
   "metadata": {},
   "source": [
    "* features out of Score range of ref_attr  \n",
    "\n",
    "293 피쳐는 pre_study에서 살펴본 Range 안에 Score가 위치하므로 Section2에서 정리한 pre-processing을 진행하면 됨\n",
    "\n",
    "레인지를 벗어난 피쳐에 대해서는 아래에서 살펴보고 처리방안을 정리함. 또한 피쳐 이름에서 데이터 유사성이 발견되어 유사 데이터는 드롭하기로 함."
   ]
  },
  {
   "cell_type": "code",
   "execution_count": 45,
   "metadata": {},
   "outputs": [
    {
     "data": {
      "text/html": [
       "<div>\n",
       "<style scoped>\n",
       "    .dataframe tbody tr th:only-of-type {\n",
       "        vertical-align: middle;\n",
       "    }\n",
       "\n",
       "    .dataframe tbody tr th {\n",
       "        vertical-align: top;\n",
       "    }\n",
       "\n",
       "    .dataframe thead th {\n",
       "        text-align: right;\n",
       "    }\n",
       "</style>\n",
       "<table border=\"1\" class=\"dataframe\">\n",
       "  <thead>\n",
       "    <tr style=\"text-align: right;\">\n",
       "      <th></th>\n",
       "      <th>Attribute</th>\n",
       "      <th>count</th>\n",
       "      <th>mean</th>\n",
       "      <th>std</th>\n",
       "      <th>min</th>\n",
       "      <th>25%</th>\n",
       "      <th>50%</th>\n",
       "      <th>75%</th>\n",
       "      <th>max</th>\n",
       "      <th>Desc</th>\n",
       "      <th>null_portion</th>\n",
       "      <th>min_max_cat</th>\n",
       "      <th>min_</th>\n",
       "      <th>max_</th>\n",
       "      <th>min_max_cat_</th>\n",
       "      <th>check</th>\n",
       "    </tr>\n",
       "  </thead>\n",
       "  <tbody>\n",
       "    <tr>\n",
       "      <th>22</th>\n",
       "      <td>LP_LEBENSPHASE_GROB</td>\n",
       "      <td>1074806.0</td>\n",
       "      <td>4.623523</td>\n",
       "      <td>4.037057</td>\n",
       "      <td>0.0</td>\n",
       "      <td>1.0</td>\n",
       "      <td>3.0</td>\n",
       "      <td>8.0</td>\n",
       "      <td>12.0</td>\n",
       "      <td>lifestage rough</td>\n",
       "      <td>0.00745</td>\n",
       "      <td>0 to 12</td>\n",
       "      <td>1.0</td>\n",
       "      <td>12.0</td>\n",
       "      <td>1 to 12</td>\n",
       "      <td>min lower</td>\n",
       "    </tr>\n",
       "    <tr>\n",
       "      <th>181</th>\n",
       "      <td>LP_LEBENSPHASE_FEIN</td>\n",
       "      <td>1074806.0</td>\n",
       "      <td>15.246603</td>\n",
       "      <td>13.138044</td>\n",
       "      <td>0.0</td>\n",
       "      <td>4.0</td>\n",
       "      <td>12.0</td>\n",
       "      <td>28.0</td>\n",
       "      <td>40.0</td>\n",
       "      <td>lifestage fine</td>\n",
       "      <td>0.00745</td>\n",
       "      <td>0 to 40</td>\n",
       "      <td>1.0</td>\n",
       "      <td>40.0</td>\n",
       "      <td>1 to 40</td>\n",
       "      <td>min lower</td>\n",
       "    </tr>\n",
       "    <tr>\n",
       "      <th>219</th>\n",
       "      <td>LP_FAMILIE_GROB</td>\n",
       "      <td>1074806.0</td>\n",
       "      <td>2.215609</td>\n",
       "      <td>1.812993</td>\n",
       "      <td>0.0</td>\n",
       "      <td>1.0</td>\n",
       "      <td>1.0</td>\n",
       "      <td>4.0</td>\n",
       "      <td>5.0</td>\n",
       "      <td>familytyp rough</td>\n",
       "      <td>0.00745</td>\n",
       "      <td>0 to 5</td>\n",
       "      <td>1.0</td>\n",
       "      <td>11.0</td>\n",
       "      <td>1 to 11</td>\n",
       "      <td>min lower</td>\n",
       "    </tr>\n",
       "    <tr>\n",
       "      <th>249</th>\n",
       "      <td>LP_FAMILIE_FEIN</td>\n",
       "      <td>1074806.0</td>\n",
       "      <td>3.714389</td>\n",
       "      <td>4.039212</td>\n",
       "      <td>0.0</td>\n",
       "      <td>1.0</td>\n",
       "      <td>1.0</td>\n",
       "      <td>8.0</td>\n",
       "      <td>11.0</td>\n",
       "      <td>familytyp fine</td>\n",
       "      <td>0.00745</td>\n",
       "      <td>0 to 11</td>\n",
       "      <td>1.0</td>\n",
       "      <td>11.0</td>\n",
       "      <td>1 to 11</td>\n",
       "      <td>min lower</td>\n",
       "    </tr>\n",
       "  </tbody>\n",
       "</table>\n",
       "</div>"
      ],
      "text/plain": [
       "               Attribute      count       mean        std  min  25%   50%  \\\n",
       "22   LP_LEBENSPHASE_GROB  1074806.0   4.623523   4.037057  0.0  1.0   3.0   \n",
       "181  LP_LEBENSPHASE_FEIN  1074806.0  15.246603  13.138044  0.0  4.0  12.0   \n",
       "219      LP_FAMILIE_GROB  1074806.0   2.215609   1.812993  0.0  1.0   1.0   \n",
       "249      LP_FAMILIE_FEIN  1074806.0   3.714389   4.039212  0.0  1.0   1.0   \n",
       "\n",
       "      75%   max             Desc  null_portion min_max_cat  min_  max_  \\\n",
       "22    8.0  12.0  lifestage rough       0.00745     0 to 12   1.0  12.0   \n",
       "181  28.0  40.0  lifestage fine        0.00745     0 to 40   1.0  40.0   \n",
       "219   4.0   5.0  familytyp rough       0.00745      0 to 5   1.0  11.0   \n",
       "249   8.0  11.0   familytyp fine       0.00745     0 to 11   1.0  11.0   \n",
       "\n",
       "    min_max_cat_      check  \n",
       "22       1 to 12  min lower  \n",
       "181      1 to 40  min lower  \n",
       "219      1 to 11  min lower  \n",
       "249      1 to 11  min lower  "
      ]
     },
     "execution_count": 45,
     "metadata": {},
     "output_type": "execute_result"
    }
   ],
   "source": [
    "'''\n",
    "4 features are showing lower min value in dataset \n",
    "'''\n",
    "temp_range_check.query('check == \"min lower\"')"
   ]
  },
  {
   "cell_type": "code",
   "execution_count": 46,
   "metadata": {},
   "outputs": [
    {
     "data": {
      "text/plain": [
       "array(['single low-income- and average earners of younger age ',\n",
       "       'single low-income- and average earners of higher age ',\n",
       "       'single high-income earners',\n",
       "       'single low-income- and average earner-couples ',\n",
       "       'single high-income earner-couples', 'single parents',\n",
       "       'single low-income- and average earner-families',\n",
       "       'high-income earner-families',\n",
       "       'average earners of younger age from mulitperson households',\n",
       "       'low-income- and average earners of higher age from mulitperson households',\n",
       "       'high-income earners of younger age from multiperson households',\n",
       "       'high-income earners of higher age from multiperson households'],\n",
       "      dtype=object)"
      ]
     },
     "execution_count": 46,
     "metadata": {},
     "output_type": "execute_result"
    }
   ],
   "source": [
    "'''\n",
    "these 4 features of datasets have 0 as min Score.\n",
    "as Meaning values of these 4 features in ref_attr do not cover null value,\n",
    "Score 0 should be replaced as null (see example below)\n",
    "'''\n",
    "\n",
    "ref_attr.query('Attribute == \"LP_LEBENSPHASE_GROB\"').Meaning.unique()"
   ]
  },
  {
   "cell_type": "code",
   "execution_count": 47,
   "metadata": {},
   "outputs": [],
   "source": [
    "'''\n",
    "NOTE pre-processing items\n",
    "'''\n",
    "\n",
    "for i in temp_range_check.query('check == \"min lower\"').Attribute.unique():\n",
    "    p_process['3.1.1-'+ i] = 'replace / ' + i + ' / {0: -1}'"
   ]
  },
  {
   "cell_type": "code",
   "execution_count": 48,
   "metadata": {},
   "outputs": [
    {
     "data": {
      "text/html": [
       "<div>\n",
       "<style scoped>\n",
       "    .dataframe tbody tr th:only-of-type {\n",
       "        vertical-align: middle;\n",
       "    }\n",
       "\n",
       "    .dataframe tbody tr th {\n",
       "        vertical-align: top;\n",
       "    }\n",
       "\n",
       "    .dataframe thead th {\n",
       "        text-align: right;\n",
       "    }\n",
       "</style>\n",
       "<table border=\"1\" class=\"dataframe\">\n",
       "  <thead>\n",
       "    <tr style=\"text-align: right;\">\n",
       "      <th></th>\n",
       "      <th>category_large</th>\n",
       "      <th>category_small</th>\n",
       "      <th>Attribute</th>\n",
       "      <th>Description</th>\n",
       "      <th>Score</th>\n",
       "      <th>Meaning</th>\n",
       "      <th>Score_form</th>\n",
       "    </tr>\n",
       "  </thead>\n",
       "  <tbody>\n",
       "    <tr>\n",
       "      <th>1960</th>\n",
       "      <td>LP</td>\n",
       "      <td>LP</td>\n",
       "      <td>LP_FAMILIE_FEIN</td>\n",
       "      <td>familytyp fine</td>\n",
       "      <td>1</td>\n",
       "      <td>single</td>\n",
       "      <td>&lt;class 'int'&gt;</td>\n",
       "    </tr>\n",
       "    <tr>\n",
       "      <th>1961</th>\n",
       "      <td>LP</td>\n",
       "      <td>LP</td>\n",
       "      <td>LP_FAMILIE_FEIN</td>\n",
       "      <td>familytyp fine</td>\n",
       "      <td>2</td>\n",
       "      <td>couple</td>\n",
       "      <td>&lt;class 'int'&gt;</td>\n",
       "    </tr>\n",
       "    <tr>\n",
       "      <th>1962</th>\n",
       "      <td>LP</td>\n",
       "      <td>LP</td>\n",
       "      <td>LP_FAMILIE_FEIN</td>\n",
       "      <td>familytyp fine</td>\n",
       "      <td>3</td>\n",
       "      <td>young single parent</td>\n",
       "      <td>&lt;class 'int'&gt;</td>\n",
       "    </tr>\n",
       "    <tr>\n",
       "      <th>1963</th>\n",
       "      <td>LP</td>\n",
       "      <td>LP</td>\n",
       "      <td>LP_FAMILIE_FEIN</td>\n",
       "      <td>familytyp fine</td>\n",
       "      <td>4</td>\n",
       "      <td>single parent with teenager</td>\n",
       "      <td>&lt;class 'int'&gt;</td>\n",
       "    </tr>\n",
       "    <tr>\n",
       "      <th>1964</th>\n",
       "      <td>LP</td>\n",
       "      <td>LP</td>\n",
       "      <td>LP_FAMILIE_FEIN</td>\n",
       "      <td>familytyp fine</td>\n",
       "      <td>5</td>\n",
       "      <td>single parent with child of full age</td>\n",
       "      <td>&lt;class 'int'&gt;</td>\n",
       "    </tr>\n",
       "    <tr>\n",
       "      <th>1965</th>\n",
       "      <td>LP</td>\n",
       "      <td>LP</td>\n",
       "      <td>LP_FAMILIE_FEIN</td>\n",
       "      <td>familytyp fine</td>\n",
       "      <td>6</td>\n",
       "      <td>young family</td>\n",
       "      <td>&lt;class 'int'&gt;</td>\n",
       "    </tr>\n",
       "    <tr>\n",
       "      <th>1966</th>\n",
       "      <td>LP</td>\n",
       "      <td>LP</td>\n",
       "      <td>LP_FAMILIE_FEIN</td>\n",
       "      <td>familytyp fine</td>\n",
       "      <td>7</td>\n",
       "      <td>family with teenager</td>\n",
       "      <td>&lt;class 'int'&gt;</td>\n",
       "    </tr>\n",
       "    <tr>\n",
       "      <th>1967</th>\n",
       "      <td>LP</td>\n",
       "      <td>LP</td>\n",
       "      <td>LP_FAMILIE_FEIN</td>\n",
       "      <td>familytyp fine</td>\n",
       "      <td>8</td>\n",
       "      <td>family with child of full age</td>\n",
       "      <td>&lt;class 'int'&gt;</td>\n",
       "    </tr>\n",
       "    <tr>\n",
       "      <th>1968</th>\n",
       "      <td>LP</td>\n",
       "      <td>LP</td>\n",
       "      <td>LP_FAMILIE_FEIN</td>\n",
       "      <td>familytyp fine</td>\n",
       "      <td>9</td>\n",
       "      <td>shared flat</td>\n",
       "      <td>&lt;class 'int'&gt;</td>\n",
       "    </tr>\n",
       "    <tr>\n",
       "      <th>1969</th>\n",
       "      <td>LP</td>\n",
       "      <td>LP</td>\n",
       "      <td>LP_FAMILIE_FEIN</td>\n",
       "      <td>familytyp fine</td>\n",
       "      <td>10</td>\n",
       "      <td>two-generational household</td>\n",
       "      <td>&lt;class 'int'&gt;</td>\n",
       "    </tr>\n",
       "    <tr>\n",
       "      <th>1970</th>\n",
       "      <td>LP</td>\n",
       "      <td>LP</td>\n",
       "      <td>LP_FAMILIE_FEIN</td>\n",
       "      <td>familytyp fine</td>\n",
       "      <td>11</td>\n",
       "      <td>multi-generational household</td>\n",
       "      <td>&lt;class 'int'&gt;</td>\n",
       "    </tr>\n",
       "    <tr>\n",
       "      <th>1971</th>\n",
       "      <td>LP</td>\n",
       "      <td>LP</td>\n",
       "      <td>LP_FAMILIE_GROB</td>\n",
       "      <td>familytyp rough</td>\n",
       "      <td>1</td>\n",
       "      <td>single</td>\n",
       "      <td>&lt;class 'int'&gt;</td>\n",
       "    </tr>\n",
       "    <tr>\n",
       "      <th>1972</th>\n",
       "      <td>LP</td>\n",
       "      <td>LP</td>\n",
       "      <td>LP_FAMILIE_GROB</td>\n",
       "      <td>familytyp rough</td>\n",
       "      <td>2</td>\n",
       "      <td>couple</td>\n",
       "      <td>&lt;class 'int'&gt;</td>\n",
       "    </tr>\n",
       "    <tr>\n",
       "      <th>1973</th>\n",
       "      <td>LP</td>\n",
       "      <td>LP</td>\n",
       "      <td>LP_FAMILIE_GROB</td>\n",
       "      <td>familytyp rough</td>\n",
       "      <td>3</td>\n",
       "      <td>single parent</td>\n",
       "      <td>&lt;class 'int'&gt;</td>\n",
       "    </tr>\n",
       "    <tr>\n",
       "      <th>1974</th>\n",
       "      <td>LP</td>\n",
       "      <td>LP</td>\n",
       "      <td>LP_FAMILIE_GROB</td>\n",
       "      <td>familytyp rough</td>\n",
       "      <td>4</td>\n",
       "      <td>NaN</td>\n",
       "      <td>&lt;class 'int'&gt;</td>\n",
       "    </tr>\n",
       "    <tr>\n",
       "      <th>1975</th>\n",
       "      <td>LP</td>\n",
       "      <td>LP</td>\n",
       "      <td>LP_FAMILIE_GROB</td>\n",
       "      <td>familytyp rough</td>\n",
       "      <td>5</td>\n",
       "      <td>NaN</td>\n",
       "      <td>&lt;class 'int'&gt;</td>\n",
       "    </tr>\n",
       "    <tr>\n",
       "      <th>1976</th>\n",
       "      <td>LP</td>\n",
       "      <td>LP</td>\n",
       "      <td>LP_FAMILIE_GROB</td>\n",
       "      <td>familytyp rough</td>\n",
       "      <td>6</td>\n",
       "      <td>family</td>\n",
       "      <td>&lt;class 'int'&gt;</td>\n",
       "    </tr>\n",
       "    <tr>\n",
       "      <th>1977</th>\n",
       "      <td>LP</td>\n",
       "      <td>LP</td>\n",
       "      <td>LP_FAMILIE_GROB</td>\n",
       "      <td>familytyp rough</td>\n",
       "      <td>7</td>\n",
       "      <td>NaN</td>\n",
       "      <td>&lt;class 'int'&gt;</td>\n",
       "    </tr>\n",
       "    <tr>\n",
       "      <th>1978</th>\n",
       "      <td>LP</td>\n",
       "      <td>LP</td>\n",
       "      <td>LP_FAMILIE_GROB</td>\n",
       "      <td>familytyp rough</td>\n",
       "      <td>8</td>\n",
       "      <td>NaN</td>\n",
       "      <td>&lt;class 'int'&gt;</td>\n",
       "    </tr>\n",
       "    <tr>\n",
       "      <th>1979</th>\n",
       "      <td>LP</td>\n",
       "      <td>LP</td>\n",
       "      <td>LP_FAMILIE_GROB</td>\n",
       "      <td>familytyp rough</td>\n",
       "      <td>9</td>\n",
       "      <td>multiperson household</td>\n",
       "      <td>&lt;class 'int'&gt;</td>\n",
       "    </tr>\n",
       "    <tr>\n",
       "      <th>1980</th>\n",
       "      <td>LP</td>\n",
       "      <td>LP</td>\n",
       "      <td>LP_FAMILIE_GROB</td>\n",
       "      <td>familytyp rough</td>\n",
       "      <td>10</td>\n",
       "      <td>NaN</td>\n",
       "      <td>&lt;class 'int'&gt;</td>\n",
       "    </tr>\n",
       "    <tr>\n",
       "      <th>1981</th>\n",
       "      <td>LP</td>\n",
       "      <td>LP</td>\n",
       "      <td>LP_FAMILIE_GROB</td>\n",
       "      <td>familytyp rough</td>\n",
       "      <td>11</td>\n",
       "      <td>NaN</td>\n",
       "      <td>&lt;class 'int'&gt;</td>\n",
       "    </tr>\n",
       "  </tbody>\n",
       "</table>\n",
       "</div>"
      ],
      "text/plain": [
       "     category_large category_small        Attribute      Description Score  \\\n",
       "1960             LP             LP  LP_FAMILIE_FEIN   familytyp fine     1   \n",
       "1961             LP             LP  LP_FAMILIE_FEIN   familytyp fine     2   \n",
       "1962             LP             LP  LP_FAMILIE_FEIN   familytyp fine     3   \n",
       "1963             LP             LP  LP_FAMILIE_FEIN   familytyp fine     4   \n",
       "1964             LP             LP  LP_FAMILIE_FEIN   familytyp fine     5   \n",
       "1965             LP             LP  LP_FAMILIE_FEIN   familytyp fine     6   \n",
       "1966             LP             LP  LP_FAMILIE_FEIN   familytyp fine     7   \n",
       "1967             LP             LP  LP_FAMILIE_FEIN   familytyp fine     8   \n",
       "1968             LP             LP  LP_FAMILIE_FEIN   familytyp fine     9   \n",
       "1969             LP             LP  LP_FAMILIE_FEIN   familytyp fine    10   \n",
       "1970             LP             LP  LP_FAMILIE_FEIN   familytyp fine    11   \n",
       "1971             LP             LP  LP_FAMILIE_GROB  familytyp rough     1   \n",
       "1972             LP             LP  LP_FAMILIE_GROB  familytyp rough     2   \n",
       "1973             LP             LP  LP_FAMILIE_GROB  familytyp rough     3   \n",
       "1974             LP             LP  LP_FAMILIE_GROB  familytyp rough     4   \n",
       "1975             LP             LP  LP_FAMILIE_GROB  familytyp rough     5   \n",
       "1976             LP             LP  LP_FAMILIE_GROB  familytyp rough     6   \n",
       "1977             LP             LP  LP_FAMILIE_GROB  familytyp rough     7   \n",
       "1978             LP             LP  LP_FAMILIE_GROB  familytyp rough     8   \n",
       "1979             LP             LP  LP_FAMILIE_GROB  familytyp rough     9   \n",
       "1980             LP             LP  LP_FAMILIE_GROB  familytyp rough    10   \n",
       "1981             LP             LP  LP_FAMILIE_GROB  familytyp rough    11   \n",
       "\n",
       "                                   Meaning     Score_form  \n",
       "1960                               single   <class 'int'>  \n",
       "1961                                couple  <class 'int'>  \n",
       "1962                  young single parent   <class 'int'>  \n",
       "1963           single parent with teenager  <class 'int'>  \n",
       "1964  single parent with child of full age  <class 'int'>  \n",
       "1965                         young family   <class 'int'>  \n",
       "1966                 family with teenager   <class 'int'>  \n",
       "1967         family with child of full age  <class 'int'>  \n",
       "1968                           shared flat  <class 'int'>  \n",
       "1969            two-generational household  <class 'int'>  \n",
       "1970          multi-generational household  <class 'int'>  \n",
       "1971                               single   <class 'int'>  \n",
       "1972                                couple  <class 'int'>  \n",
       "1973                         single parent  <class 'int'>  \n",
       "1974                                   NaN  <class 'int'>  \n",
       "1975                                   NaN  <class 'int'>  \n",
       "1976                                family  <class 'int'>  \n",
       "1977                                   NaN  <class 'int'>  \n",
       "1978                                   NaN  <class 'int'>  \n",
       "1979                 multiperson household  <class 'int'>  \n",
       "1980                                   NaN  <class 'int'>  \n",
       "1981                                   NaN  <class 'int'>  "
      ]
     },
     "execution_count": 48,
     "metadata": {},
     "output_type": "execute_result"
    }
   ],
   "source": [
    "'''\n",
    "위 피쳐의 이름을 보면 gross와 fine으로 나뉘어 있으며, 같은 피쳐에 그로스/파인이 들어 있는 항목은\n",
    "유사피쳐를 크게 나누느냐 작게 나누느냐의 차이임\n",
    "'''\n",
    "ref_attr.query('Attribute.str.contains(\"LP_FAMILIE\")')\n",
    "# attribute_without_meaning[attribute_without_meaning.Score > 8]"
   ]
  },
  {
   "cell_type": "code",
   "execution_count": 49,
   "metadata": {},
   "outputs": [
    {
     "data": {
      "text/plain": [
       "['ALTERSKATEGORIE_FEIN',\n",
       " 'LP_FAMILIE_FEIN',\n",
       " 'LP_FAMILIE_GROB',\n",
       " 'LP_LEBENSPHASE_FEIN',\n",
       " 'LP_LEBENSPHASE_GROB',\n",
       " 'LP_STATUS_FEIN',\n",
       " 'LP_STATUS_GROB',\n",
       " 'ALTERSKATEGORIE_GROB']"
      ]
     },
     "execution_count": 49,
     "metadata": {},
     "output_type": "execute_result"
    }
   ],
   "source": [
    "'''\n",
    "유사한 gross와 fine이 있는 피쳐는\n",
    "'''\n",
    "suffix_gross_fine = ['GROB', 'FEIN']\n",
    "features_gross_fine = feature_desc[\n",
    "    feature_desc.Attribute.str.split('_').str[-1].isin(suffix_gross_fine)]\n",
    "features_gross_fine = list(features_gross_fine.Attribute.unique())\n",
    "features_gross_fine"
   ]
  },
  {
   "cell_type": "code",
   "execution_count": 50,
   "metadata": {},
   "outputs": [],
   "source": [
    "'''\n",
    "유사한 gross가 있는 피쳐만 list로 정리하여 drop 함\n",
    "'''\n",
    "\n",
    "to_drop = feature_desc.query('Attribute.str.contains(\"GROB\")')\n",
    "to_drop = list(to_drop.Attribute.unique())\n",
    "\n",
    "'''\n",
    "NOTE pre-processing items\n",
    "'''\n",
    "\n",
    "p_process['2.3.1-drop'] = 'drop / All / drop features in to_drop'"
   ]
  },
  {
   "attachments": {},
   "cell_type": "markdown",
   "metadata": {},
   "source": [
    "* continuous features:   \n",
    "  뭐뭐뭐"
   ]
  },
  {
   "cell_type": "code",
   "execution_count": 51,
   "metadata": {},
   "outputs": [
    {
     "name": "stdout",
     "output_type": "stream",
     "text": [
      "True\n"
     ]
    },
    {
     "data": {
      "text/html": [
       "<div>\n",
       "<style scoped>\n",
       "    .dataframe tbody tr th:only-of-type {\n",
       "        vertical-align: middle;\n",
       "    }\n",
       "\n",
       "    .dataframe tbody tr th {\n",
       "        vertical-align: top;\n",
       "    }\n",
       "\n",
       "    .dataframe thead th {\n",
       "        text-align: right;\n",
       "    }\n",
       "</style>\n",
       "<table border=\"1\" class=\"dataframe\">\n",
       "  <thead>\n",
       "    <tr style=\"text-align: right;\">\n",
       "      <th></th>\n",
       "      <th>Attribute</th>\n",
       "      <th>count</th>\n",
       "      <th>mean</th>\n",
       "      <th>std</th>\n",
       "      <th>min</th>\n",
       "      <th>25%</th>\n",
       "      <th>50%</th>\n",
       "      <th>75%</th>\n",
       "      <th>max</th>\n",
       "      <th>Desc</th>\n",
       "      <th>null_portion</th>\n",
       "      <th>min_max_cat</th>\n",
       "      <th>min_</th>\n",
       "      <th>max_</th>\n",
       "      <th>min_max_cat_</th>\n",
       "      <th>check</th>\n",
       "    </tr>\n",
       "  </thead>\n",
       "  <tbody>\n",
       "    <tr>\n",
       "      <th>101</th>\n",
       "      <td>ANZ_HH_TITEL</td>\n",
       "      <td>933755.0</td>\n",
       "      <td>0.044647</td>\n",
       "      <td>0.365891</td>\n",
       "      <td>0.0</td>\n",
       "      <td>0.0</td>\n",
       "      <td>0.0</td>\n",
       "      <td>0.0</td>\n",
       "      <td>23.0</td>\n",
       "      <td>number of academic title holder in building</td>\n",
       "      <td>0.137706</td>\n",
       "      <td>0 to 23</td>\n",
       "      <td>NaN</td>\n",
       "      <td>NaN</td>\n",
       "      <td>NaN</td>\n",
       "      <td>not in attr_num</td>\n",
       "    </tr>\n",
       "    <tr>\n",
       "      <th>125</th>\n",
       "      <td>ANZ_PERSONEN</td>\n",
       "      <td>962778.0</td>\n",
       "      <td>1.809025</td>\n",
       "      <td>1.209710</td>\n",
       "      <td>0.0</td>\n",
       "      <td>1.0</td>\n",
       "      <td>1.0</td>\n",
       "      <td>2.0</td>\n",
       "      <td>45.0</td>\n",
       "      <td>number of adult persons in the household</td>\n",
       "      <td>0.110904</td>\n",
       "      <td>0 to 45</td>\n",
       "      <td>NaN</td>\n",
       "      <td>NaN</td>\n",
       "      <td>NaN</td>\n",
       "      <td>not in attr_num</td>\n",
       "    </tr>\n",
       "    <tr>\n",
       "      <th>128</th>\n",
       "      <td>ANZ_TITEL</td>\n",
       "      <td>962778.0</td>\n",
       "      <td>0.006607</td>\n",
       "      <td>0.086903</td>\n",
       "      <td>0.0</td>\n",
       "      <td>0.0</td>\n",
       "      <td>0.0</td>\n",
       "      <td>0.0</td>\n",
       "      <td>6.0</td>\n",
       "      <td>number of professional title holder in household</td>\n",
       "      <td>0.110904</td>\n",
       "      <td>0 to 6</td>\n",
       "      <td>NaN</td>\n",
       "      <td>NaN</td>\n",
       "      <td>NaN</td>\n",
       "      <td>not in attr_num</td>\n",
       "    </tr>\n",
       "    <tr>\n",
       "      <th>234</th>\n",
       "      <td>MIN_GEBAEUDEJAHR</td>\n",
       "      <td>939798.0</td>\n",
       "      <td>1993.243781</td>\n",
       "      <td>3.296842</td>\n",
       "      <td>1985.0</td>\n",
       "      <td>1992.0</td>\n",
       "      <td>1992.0</td>\n",
       "      <td>1993.0</td>\n",
       "      <td>2016.0</td>\n",
       "      <td>year the building was first mentioned in our d...</td>\n",
       "      <td>0.132125</td>\n",
       "      <td>1_985 to 2_016</td>\n",
       "      <td>NaN</td>\n",
       "      <td>NaN</td>\n",
       "      <td>NaN</td>\n",
       "      <td>not in attr_num</td>\n",
       "    </tr>\n",
       "    <tr>\n",
       "      <th>236</th>\n",
       "      <td>GEBURTSJAHR</td>\n",
       "      <td>1082873.0</td>\n",
       "      <td>1083.871938</td>\n",
       "      <td>976.933275</td>\n",
       "      <td>0.0</td>\n",
       "      <td>0.0</td>\n",
       "      <td>1939.0</td>\n",
       "      <td>1967.0</td>\n",
       "      <td>2017.0</td>\n",
       "      <td>year of birth</td>\n",
       "      <td>0.000000</td>\n",
       "      <td>0 to 2_017</td>\n",
       "      <td>NaN</td>\n",
       "      <td>NaN</td>\n",
       "      <td>NaN</td>\n",
       "      <td>not in attr_num</td>\n",
       "    </tr>\n",
       "    <tr>\n",
       "      <th>279</th>\n",
       "      <td>KBA13_ANZAHL_PKW</td>\n",
       "      <td>925792.0</td>\n",
       "      <td>626.908028</td>\n",
       "      <td>340.528955</td>\n",
       "      <td>0.0</td>\n",
       "      <td>390.0</td>\n",
       "      <td>556.0</td>\n",
       "      <td>786.0</td>\n",
       "      <td>2300.0</td>\n",
       "      <td>number of cars in the PLZ8</td>\n",
       "      <td>0.145059</td>\n",
       "      <td>0 to 2_300</td>\n",
       "      <td>NaN</td>\n",
       "      <td>NaN</td>\n",
       "      <td>NaN</td>\n",
       "      <td>not in attr_num</td>\n",
       "    </tr>\n",
       "    <tr>\n",
       "      <th>293</th>\n",
       "      <td>ANZ_HAUSHALTE_AKTIV</td>\n",
       "      <td>939798.0</td>\n",
       "      <td>7.786384</td>\n",
       "      <td>15.482165</td>\n",
       "      <td>0.0</td>\n",
       "      <td>1.0</td>\n",
       "      <td>3.0</td>\n",
       "      <td>9.0</td>\n",
       "      <td>595.0</td>\n",
       "      <td>number of households in the building</td>\n",
       "      <td>0.132125</td>\n",
       "      <td>0 to 595</td>\n",
       "      <td>NaN</td>\n",
       "      <td>NaN</td>\n",
       "      <td>NaN</td>\n",
       "      <td>not in attr_num</td>\n",
       "    </tr>\n",
       "  </tbody>\n",
       "</table>\n",
       "</div>"
      ],
      "text/plain": [
       "               Attribute      count         mean         std     min     25%  \\\n",
       "101         ANZ_HH_TITEL   933755.0     0.044647    0.365891     0.0     0.0   \n",
       "125         ANZ_PERSONEN   962778.0     1.809025    1.209710     0.0     1.0   \n",
       "128            ANZ_TITEL   962778.0     0.006607    0.086903     0.0     0.0   \n",
       "234     MIN_GEBAEUDEJAHR   939798.0  1993.243781    3.296842  1985.0  1992.0   \n",
       "236          GEBURTSJAHR  1082873.0  1083.871938  976.933275     0.0     0.0   \n",
       "279     KBA13_ANZAHL_PKW   925792.0   626.908028  340.528955     0.0   390.0   \n",
       "293  ANZ_HAUSHALTE_AKTIV   939798.0     7.786384   15.482165     0.0     1.0   \n",
       "\n",
       "        50%     75%     max  \\\n",
       "101     0.0     0.0    23.0   \n",
       "125     1.0     2.0    45.0   \n",
       "128     0.0     0.0     6.0   \n",
       "234  1992.0  1993.0  2016.0   \n",
       "236  1939.0  1967.0  2017.0   \n",
       "279   556.0   786.0  2300.0   \n",
       "293     3.0     9.0   595.0   \n",
       "\n",
       "                                                  Desc  null_portion  \\\n",
       "101        number of academic title holder in building      0.137706   \n",
       "125           number of adult persons in the household      0.110904   \n",
       "128  number of professional title holder in household       0.110904   \n",
       "234  year the building was first mentioned in our d...      0.132125   \n",
       "236                                      year of birth      0.000000   \n",
       "279                         number of cars in the PLZ8      0.145059   \n",
       "293               number of households in the building      0.132125   \n",
       "\n",
       "        min_max_cat  min_  max_ min_max_cat_            check  \n",
       "101         0 to 23   NaN   NaN          NaN  not in attr_num  \n",
       "125         0 to 45   NaN   NaN          NaN  not in attr_num  \n",
       "128          0 to 6   NaN   NaN          NaN  not in attr_num  \n",
       "234  1_985 to 2_016   NaN   NaN          NaN  not in attr_num  \n",
       "236      0 to 2_017   NaN   NaN          NaN  not in attr_num  \n",
       "279      0 to 2_300   NaN   NaN          NaN  not in attr_num  \n",
       "293        0 to 595   NaN   NaN          NaN  not in attr_num  "
      ]
     },
     "execution_count": 51,
     "metadata": {},
     "output_type": "execute_result"
    }
   ],
   "source": [
    "'''\n",
    "7 features are continuous:\n",
    "in ref_attr, Score values of these continuous features have string form (see 2.3.2) \n",
    "'''\n",
    "continuous_in_datasets = temp_range_check.query('check == \"not in attr_num\"')\n",
    "print (set(continuous_in_datasets.Attribute.unique()) == set(pre_study_continuous))\n",
    "continuous_in_datasets"
   ]
  },
  {
   "cell_type": "code",
   "execution_count": 52,
   "metadata": {},
   "outputs": [
    {
     "data": {
      "image/png": "[encoded data removed]",
      "text/plain": [
       "<Figure size 1000x150 with 1 Axes>"
      ]
     },
     "metadata": {},
     "output_type": "display_data"
    },
    {
     "name": "stdout",
     "output_type": "stream",
     "text": [
      "10 outliers (Score: %) \n",
      " 45: 0.0%, 40: 0.0%, 38: 0.0%, 37: 0.0%, 35: 0.0% … 8: 0.1%, 7: 0.2%, 6: 0.7%, 5: 2.3%, 4: 6.6%\n",
      "\n",
      "\n"
     ]
    }
   ],
   "source": [
    "'''\n",
    "ANZ_PERSONEN  \n",
    "- Value 0 might be strange or extreme but is possible\n",
    "- outliers: household with over 10 adult persons is highly extreme or data error,\n",
    "  that Value over 10 should be replaced to NaN\n",
    "'''\n",
    "\n",
    "view_feature (datasets, feature_desc, 'ANZ_PERSONEN', False)"
   ]
  },
  {
   "cell_type": "code",
   "execution_count": 53,
   "metadata": {},
   "outputs": [],
   "source": [
    "'''\n",
    "NOTE\n",
    "'''\n",
    "\n",
    "p_process['3.1.1-ANZ_PERSONEN'] = 'np.where / ANZ_PERSONEN / Score > 10 to -1'"
   ]
  },
  {
   "cell_type": "code",
   "execution_count": 54,
   "metadata": {},
   "outputs": [
    {
     "data": {
      "image/png": "[encoded data removed]",
      "text/plain": [
       "<Figure size 1000x150 with 1 Axes>"
      ]
     },
     "metadata": {},
     "output_type": "display_data"
    },
    {
     "name": "stdout",
     "output_type": "stream",
     "text": [
      "10 outliers (Score: %) \n",
      " 6: 0.0%, 5: 0.0%, 4: 0.0%, 3: 0.0%, 2: 0.0% … 5: 0.0%, 4: 0.0%, 3: 0.0%, 2: 0.0%, 1: 0.6%\n",
      "\n",
      "\n"
     ]
    }
   ],
   "source": [
    "'''\n",
    "ANZ_TITEL\n",
    "- it seems that there is no pre-processing needed.\n",
    "  However, this feature is linked to ANZ_PERSONEN above\n",
    "  that Score should be replaced to null if corresponding ANZ_PERSONEN is null.\n",
    "'''\n",
    "\n",
    "view_feature (datasets, feature_desc, 'ANZ_TITEL', False)"
   ]
  },
  {
   "cell_type": "code",
   "execution_count": 55,
   "metadata": {},
   "outputs": [],
   "source": [
    "p_process['3.1.1-ANZ_TITEL'] = 'np.where / ANZ_TITEL / Score of ANZ_PERSONEN > 10 to -1'"
   ]
  },
  {
   "cell_type": "code",
   "execution_count": 56,
   "metadata": {},
   "outputs": [
    {
     "data": {
      "image/png": "[encoded data removed]",
      "text/plain": [
       "<Figure size 1000x150 with 1 Axes>"
      ]
     },
     "metadata": {},
     "output_type": "display_data"
    },
    {
     "name": "stdout",
     "output_type": "stream",
     "text": [
      "10 outliers (Score: %) \n",
      " 23: 0.0%, 20: 0.0%, 18: 0.0%, 17: 0.0%, 16: 0.0% … 5: 0.0%, 4: 0.0%, 3: 0.1%, 2: 0.3%, 1: 2.7%\n",
      "\n",
      "\n"
     ]
    }
   ],
   "source": [
    "'''\n",
    "ANZ_HH_TITEL  \n",
    "- No pre-processing needed: max values might be strange or extreme but are possible\n",
    "'''\n",
    "\n",
    "view_feature (datasets, feature_desc, 'ANZ_HH_TITEL', False)"
   ]
  },
  {
   "cell_type": "code",
   "execution_count": 57,
   "metadata": {},
   "outputs": [
    {
     "data": {
      "image/png": "[encoded data removed]",
      "text/plain": [
       "<Figure size 1000x150 with 1 Axes>"
      ]
     },
     "metadata": {},
     "output_type": "display_data"
    },
    {
     "data": {
      "image/png": "[encoded data removed]",
      "text/plain": [
       "<Figure size 1000x150 with 1 Axes>"
      ]
     },
     "metadata": {},
     "output_type": "display_data"
    },
    {
     "name": "stdout",
     "output_type": "stream",
     "text": [
      "10 outliers (Score: %) \n",
      " 2300: 0.1%, 2200: 0.0%, 2100: 0.1%, 2000: 0.2%, 1900: 0.2% … 1800: 0.3%, 1700: 0.5%, 1600: 0.8%, 1500: 1.1%, 1400: 1.5%\n",
      "\n",
      "\n"
     ]
    }
   ],
   "source": [
    "'''\n",
    "KBA13_ANZAHL_PKW\n",
    "- in this feature values over 1250 is grouped by 100. \n",
    "  Log scaling is needed due to high skewness.\n",
    "'''\n",
    "\n",
    "view_feature (datasets, feature_desc, 'KBA13_ANZAHL_PKW')"
   ]
  },
  {
   "cell_type": "code",
   "execution_count": 58,
   "metadata": {},
   "outputs": [],
   "source": [
    "p_process['3.1.1-KBA13_ANZAHL_PKW'] = 'log_scaling / KBA13_ANZAHL_PKW'"
   ]
  },
  {
   "cell_type": "code",
   "execution_count": 59,
   "metadata": {},
   "outputs": [
    {
     "data": {
      "image/png": "[encoded data removed]",
      "text/plain": [
       "<Figure size 1000x150 with 1 Axes>"
      ]
     },
     "metadata": {},
     "output_type": "display_data"
    },
    {
     "name": "stdout",
     "output_type": "stream",
     "text": [
      "10 outliers (Score: %) \n",
      " 2016: 0.0%, 2015: 0.1%, 2014: 0.1%, 2013: 0.2%, 2012: 0.2% … 1989: 0.3%, 1988: 0.1%, 1987: 0.1%, 1986: 0.0%, 1985: 0.0%\n",
      "\n",
      "\n"
     ]
    }
   ],
   "source": [
    "'''\n",
    "MIN_GEBAEUDEJAHR   \n",
    "- No pre-processing needed\n",
    "'''\n",
    "\n",
    "view_feature (datasets, feature_desc, 'MIN_GEBAEUDEJAHR', True, False)"
   ]
  },
  {
   "cell_type": "code",
   "execution_count": 60,
   "metadata": {},
   "outputs": [
    {
     "data": {
      "image/png": "[encoded data removed]",
      "text/plain": [
       "<Figure size 1000x150 with 1 Axes>"
      ]
     },
     "metadata": {},
     "output_type": "display_data"
    },
    {
     "data": {
      "image/png": "[encoded data removed]",
      "text/plain": [
       "<Figure size 1000x150 with 1 Axes>"
      ]
     },
     "metadata": {},
     "output_type": "display_data"
    },
    {
     "name": "stdout",
     "output_type": "stream",
     "text": [
      "10 outliers (Score: %) \n",
      "  … \n",
      "\n",
      "\n"
     ]
    }
   ],
   "source": [
    "'''\n",
    "GEBURTSJAHR  \n",
    "- outliers: birth year can not be 0 and anyone born before 1900 is extreme\n",
    "  that Value < 1900 should be replaced to null\n",
    "'''\n",
    "\n",
    "view_feature (datasets, feature_desc, 'GEBURTSJAHR')"
   ]
  },
  {
   "cell_type": "code",
   "execution_count": 61,
   "metadata": {},
   "outputs": [],
   "source": [
    "p_process['3.1.1-GEBURTSJAHR'] = 'np.where / GEBURTSJAHR / Score < 1900 to -1'"
   ]
  },
  {
   "cell_type": "code",
   "execution_count": 62,
   "metadata": {},
   "outputs": [
    {
     "data": {
      "image/png": "[encoded data removed]",
      "text/plain": [
       "<Figure size 1000x150 with 1 Axes>"
      ]
     },
     "metadata": {},
     "output_type": "display_data"
    },
    {
     "data": {
      "image/png": "[encoded data removed]",
      "text/plain": [
       "<Figure size 1000x150 with 1 Axes>"
      ]
     },
     "metadata": {},
     "output_type": "display_data"
    },
    {
     "name": "stdout",
     "output_type": "stream",
     "text": [
      "10 outliers (Score: %) \n",
      " 595: 0.0%, 536: 0.0%, 523: 0.0%, 515: 0.0%, 445: 0.0% … 26: 0.3%, 25: 0.3%, 24: 0.3%, 23: 0.4%, 22: 0.4%\n",
      "\n",
      "\n"
     ]
    }
   ],
   "source": [
    "'''\n",
    "ANZ_HAUSHALTE_AKTIV  \n",
    "- No pre-processing needed: Value 0 and max value might be strange or extreme but are possible\n",
    "- Log scaling is needed due to high skewness\n",
    "'''\n",
    "\n",
    "view_feature (datasets, feature_desc, 'ANZ_HAUSHALTE_AKTIV')"
   ]
  },
  {
   "cell_type": "code",
   "execution_count": 63,
   "metadata": {},
   "outputs": [],
   "source": [
    "'''\n",
    "NOTE\n",
    "'''\n",
    "\n",
    "p_process['3.1.1-ANZ_HAUSHALTE_AKTIV'] = 'log_scaling / ANZ_HAUSHALTE_AKTIV'"
   ]
  },
  {
   "attachments": {},
   "cell_type": "markdown",
   "metadata": {},
   "source": [
    "##### 3.1.2 object dataset Scores of intersection features"
   ]
  },
  {
   "attachments": {},
   "cell_type": "markdown",
   "metadata": {},
   "source": [
    "* 뭐뭐뭐"
   ]
  },
  {
   "cell_type": "code",
   "execution_count": 64,
   "metadata": {},
   "outputs": [
    {
     "name": "stdout",
     "output_type": "stream",
     "text": [
      "number of Attribute(s): 4\n"
     ]
    },
    {
     "data": {
      "text/html": [
       "<div>\n",
       "<style scoped>\n",
       "    .dataframe tbody tr th:only-of-type {\n",
       "        vertical-align: middle;\n",
       "    }\n",
       "\n",
       "    .dataframe tbody tr th {\n",
       "        vertical-align: top;\n",
       "    }\n",
       "\n",
       "    .dataframe thead th {\n",
       "        text-align: right;\n",
       "    }\n",
       "</style>\n",
       "<table border=\"1\" class=\"dataframe\">\n",
       "  <thead>\n",
       "    <tr style=\"text-align: right;\">\n",
       "      <th></th>\n",
       "      <th>Attribute</th>\n",
       "      <th>count</th>\n",
       "      <th>unique</th>\n",
       "      <th>top</th>\n",
       "      <th>freq</th>\n",
       "      <th>Desc</th>\n",
       "      <th>null_portion</th>\n",
       "    </tr>\n",
       "  </thead>\n",
       "  <tbody>\n",
       "    <tr>\n",
       "      <th>0</th>\n",
       "      <td>CAMEO_INTL_2015</td>\n",
       "      <td>933466</td>\n",
       "      <td>43</td>\n",
       "      <td>51</td>\n",
       "      <td>83563</td>\n",
       "      <td>CAMEO classification 2015 - international typology</td>\n",
       "      <td>0.137973</td>\n",
       "    </tr>\n",
       "    <tr>\n",
       "      <th>1</th>\n",
       "      <td>CAMEO_DEU_2015</td>\n",
       "      <td>933466</td>\n",
       "      <td>45</td>\n",
       "      <td>6B</td>\n",
       "      <td>66306</td>\n",
       "      <td>CAMEO classification 2015 - detailled classification</td>\n",
       "      <td>0.137973</td>\n",
       "    </tr>\n",
       "    <tr>\n",
       "      <th>2</th>\n",
       "      <td>OST_WEST_KZ</td>\n",
       "      <td>939798</td>\n",
       "      <td>2</td>\n",
       "      <td>W</td>\n",
       "      <td>759910</td>\n",
       "      <td>flag indicating the former GDR/FRG</td>\n",
       "      <td>0.132125</td>\n",
       "    </tr>\n",
       "    <tr>\n",
       "      <th>3</th>\n",
       "      <td>CAMEO_DEUG_2015</td>\n",
       "      <td>933466</td>\n",
       "      <td>19</td>\n",
       "      <td>8</td>\n",
       "      <td>87739</td>\n",
       "      <td>CAMEO classification 2015 - Uppergroup</td>\n",
       "      <td>0.137973</td>\n",
       "    </tr>\n",
       "  </tbody>\n",
       "</table>\n",
       "</div>"
      ],
      "text/plain": [
       "         Attribute   count unique top    freq  \\\n",
       "0  CAMEO_INTL_2015  933466     43  51   83563   \n",
       "1   CAMEO_DEU_2015  933466     45  6B   66306   \n",
       "2      OST_WEST_KZ  939798      2   W  759910   \n",
       "3  CAMEO_DEUG_2015  933466     19   8   87739   \n",
       "\n",
       "                                                   Desc null_portion  \n",
       "0    CAMEO classification 2015 - international typology     0.137973  \n",
       "1  CAMEO classification 2015 - detailled classification     0.137973  \n",
       "2                    flag indicating the former GDR/FRG     0.132125  \n",
       "3                CAMEO classification 2015 - Uppergroup     0.137973  "
      ]
     },
     "metadata": {},
     "output_type": "display_data"
    }
   ],
   "source": [
    "datasets_obj_score = dataset_summary(datasets, feature_desc, ['object'])"
   ]
  },
  {
   "cell_type": "code",
   "execution_count": 65,
   "metadata": {},
   "outputs": [
    {
     "name": "stdout",
     "output_type": "stream",
     "text": [
      "CAMEO_INTL_2015\n",
      "a) scores in datasets: {nan, '55', '31', 12.0, 13.0, 14.0, 15.0, '51', '23', 22.0, 23.0, 24.0, 25.0, 31.0, 32.0, 33.0, 34.0, 35.0, '43', 41.0, 43.0, 44.0, 45.0, 51.0, 52.0, 54.0, 55.0, '24', '12', '33', '14', '45', '35', '13', 'XX', '25', '22', '15', '52', '34', '32', '41', '54', '44'}\n",
      "b) scores in ref_attr: {11, 12, 13, 14, 15, 21, 22, 23, 24, 25, 31, 32, 33, 34, 35, 41, 42, 43, 44, 45, 51, 52, 53, 54, 55, -1}\n",
      "a) b) intersection: {12, 13, 14, 15, 22, 23, 24, 25, 31, 32, 33, 34, 35, 41, 43, 44, 45, 51, 52, 54, 55}\n",
      "a) - b): {nan, '55', '31', '51', '23', '43', '12', '24', '33', '14', '45', '35', '13', 'XX', '25', '22', '15', '52', '34', '32', '41', '54', '44'}\n",
      "b) - a): {42, 11, 53, 21, -1} \n",
      "\n",
      "CAMEO_DEU_2015\n",
      "a) scores in datasets: {'1D', '4D', '7C', '8A', '9A', '4B', '9E', '1C', '2C', '6D', '7E', '4E', '8B', '9D', '6F', '2D', '6E', '3C', '7B', '5F', '5B', '6A', '1E', '5A', '6C', 'XX', '4A', '1A', '5C', '9C', nan, '1B', '8C', '8D', '7A', '2A', '5D', '3B', '7D', '4C', '3D', '2B', '3A', '6B', '9B', '5E'}\n",
      "b) scores in ref_attr: {'1D', '4D', '7C', '8A', '9A', '4B', '1C', '9E', '9B', '2C', '6D', '7E', '4E', '8B', '9D', '6F', '2D', '6E', '3C', '7B', '5F', '5B', '6A', '1E', '5A', '6C', '4A', '1A', '5C', '9C', '1B', '8D', '8C', '7A', '2A', '5D', '3B', '7D', '4C', '3D', '2B', '3A', '5E', '6B'}\n",
      "a) b) intersection: {'1D', '4D', '7C', '8A', '9A', '4B', '9E', '1C', '2C', '6D', '7E', '4E', '8B', '9D', '6F', '2D', '6E', '3C', '7B', '5F', '5B', '6A', '1E', '5A', '6C', '4A', '1A', '5C', '9C', '1B', '8D', '8C', '7A', '2A', '5D', '3B', '7D', '4C', '3D', '2B', '3A', '5E', '9B', '6B'}\n",
      "a) - b): {nan, 'XX'}\n",
      "b) - a): set() \n",
      "\n",
      "OST_WEST_KZ\n",
      "a) scores in datasets: {'O', nan, 'W'}\n",
      "b) scores in ref_attr: {'O', -1, 'W'}\n",
      "a) b) intersection: {'O', 'W'}\n",
      "a) - b): {nan}\n",
      "b) - a): {-1} \n",
      "\n",
      "CAMEO_DEUG_2015\n",
      "a) scores in datasets: {1.0, 2.0, 3.0, 4.0, 5.0, 6.0, 7.0, 8.0, 9.0, '3', 'X', '6', '5', '1', '9', '2', '8', '7', '4', nan}\n",
      "b) scores in ref_attr: {1, 2, 3, 4, 5, 6, 7, 8, 9, -1}\n",
      "a) b) intersection: {1, 2, 3, 4, 5, 6, 7, 8, 9}\n",
      "a) - b): {'8', '7', '6', '5', '9', '3', 'X', '2', '4', nan, '1'}\n",
      "b) - a): {-1} \n",
      "\n"
     ]
    }
   ],
   "source": [
    "'''\n",
    "check if Scores in actual datasets are within range given by attr.\n",
    "'''\n",
    "\n",
    "# merge min/max values by Attribute in attr_num_score in 2.3.1\n",
    "for i in datasets_obj_score.Attribute.unique():\n",
    "    score_in_datasets = set(datasets[i].unique())\n",
    "    score_in_ref_attr = set(ref_attr.query('Attribute == \"{}\"'.format(i)).Score.values)\n",
    "    \n",
    "    print (i)\n",
    "    print (f'a) scores in datasets: {score_in_datasets}')\n",
    "    print (f'b) scores in ref_attr: {score_in_ref_attr}')\n",
    "    print (f'a) b) intersection: {score_in_datasets.intersection(score_in_ref_attr)}')\n",
    "    print (f'a) - b): {score_in_datasets - score_in_ref_attr}')\n",
    "    print (f'b) - a): {score_in_ref_attr - score_in_datasets}', '\\n')"
   ]
  },
  {
   "cell_type": "code",
   "execution_count": 66,
   "metadata": {},
   "outputs": [],
   "source": [
    "'''\n",
    "피쳐 2개는 Score가 추치가 아니며 나머지 2개는 수치 Score를 string으로 기록한 경우가 있으며\n",
    "'XX', 'X'로 null이 표기되어 있음\n",
    "'''\n",
    "\n",
    "none_numeric_in_datasets = ['CAMEO_DEU_2015', 'OST_WEST_KZ']\n",
    "\n",
    "'''\n",
    "NOTE\n",
    "'''\n",
    "\n",
    "p_process['3.1.2-CAMEO_INTL_2015XX'] = 'replace / CAMEO_INTL_2015 / {\"XX\": -1}'\n",
    "p_process['3.1.2-CAMEO_DEU_2015'] = 'replace / CAMEO_DEU_2015 / {\"XX\": -1}'\n",
    "p_process['3.1.2-CAMEO_DEUG_2015X'] = 'replace / CAMEO_DEUG_2015 / {\"X\": -1}'\n",
    "p_process['3.1.2-dtype'] = 'astype / All features in numeric_discrete_features / change dtype to float'"
   ]
  },
  {
   "attachments": {},
   "cell_type": "markdown",
   "metadata": {},
   "source": [
    "#### 3.2 exclusive features NOT in reference files"
   ]
  },
  {
   "cell_type": "code",
   "execution_count": 67,
   "metadata": {},
   "outputs": [],
   "source": [
    "'''\n",
    "datasets_excl containing exclusive features of datasets\n",
    "'''\n",
    "\n",
    "datasets_excl = concat_data[\n",
    "    list(feature_dict['in_customers_notin_ref_attr'])].copy()"
   ]
  },
  {
   "attachments": {},
   "cell_type": "markdown",
   "metadata": {},
   "source": [
    "##### 3.2.1 numeric dataset Scores of exclusive features\n",
    "\n",
    "뭐뭐뭐"
   ]
  },
  {
   "cell_type": "code",
   "execution_count": 68,
   "metadata": {},
   "outputs": [
    {
     "name": "stdout",
     "output_type": "stream",
     "text": [
      "number of Attribute(s): 57\n"
     ]
    },
    {
     "data": {
      "text/html": [
       "<div>\n",
       "<style scoped>\n",
       "    .dataframe tbody tr th:only-of-type {\n",
       "        vertical-align: middle;\n",
       "    }\n",
       "\n",
       "    .dataframe tbody tr th {\n",
       "        vertical-align: top;\n",
       "    }\n",
       "\n",
       "    .dataframe thead th {\n",
       "        text-align: right;\n",
       "    }\n",
       "</style>\n",
       "<table border=\"1\" class=\"dataframe\">\n",
       "  <thead>\n",
       "    <tr style=\"text-align: right;\">\n",
       "      <th></th>\n",
       "      <th>Attribute</th>\n",
       "      <th>count</th>\n",
       "      <th>mean</th>\n",
       "      <th>std</th>\n",
       "      <th>min</th>\n",
       "      <th>25%</th>\n",
       "      <th>50%</th>\n",
       "      <th>75%</th>\n",
       "      <th>max</th>\n",
       "      <th>Desc</th>\n",
       "      <th>null_portion</th>\n",
       "      <th>min_max_cat</th>\n",
       "    </tr>\n",
       "  </thead>\n",
       "  <tbody>\n",
       "    <tr>\n",
       "      <th>0</th>\n",
       "      <td>KBA13_ANTG4</td>\n",
       "      <td>925792.0</td>\n",
       "      <td>0.652691</td>\n",
       "      <td>0.724787</td>\n",
       "      <td>0.0</td>\n",
       "      <td>0.0</td>\n",
       "      <td>1.0</td>\n",
       "      <td>1.0</td>\n",
       "      <td>2.0</td>\n",
       "      <td>KBA13 ANTG4</td>\n",
       "      <td>0.145059</td>\n",
       "      <td>0 to 2</td>\n",
       "    </tr>\n",
       "    <tr>\n",
       "      <th>1</th>\n",
       "      <td>RT_UEBERGROESSE</td>\n",
       "      <td>987455.0</td>\n",
       "      <td>2.948525</td>\n",
       "      <td>1.492625</td>\n",
       "      <td>0.0</td>\n",
       "      <td>2.0</td>\n",
       "      <td>3.0</td>\n",
       "      <td>4.0</td>\n",
       "      <td>5.0</td>\n",
       "      <td>Rt overgrowth</td>\n",
       "      <td>0.088116</td>\n",
       "      <td>0 to 5</td>\n",
       "    </tr>\n",
       "    <tr>\n",
       "      <th>2</th>\n",
       "      <td>GEMEINDETYP</td>\n",
       "      <td>935123.0</td>\n",
       "      <td>24.275811</td>\n",
       "      <td>11.997949</td>\n",
       "      <td>11.0</td>\n",
       "      <td>12.0</td>\n",
       "      <td>22.0</td>\n",
       "      <td>30.0</td>\n",
       "      <td>50.0</td>\n",
       "      <td>Parish type</td>\n",
       "      <td>0.136443</td>\n",
       "      <td>11 to 50</td>\n",
       "    </tr>\n",
       "    <tr>\n",
       "      <th>3</th>\n",
       "      <td>MOBI_RASTER</td>\n",
       "      <td>939798.0</td>\n",
       "      <td>2.457470</td>\n",
       "      <td>1.546797</td>\n",
       "      <td>1.0</td>\n",
       "      <td>1.0</td>\n",
       "      <td>2.0</td>\n",
       "      <td>4.0</td>\n",
       "      <td>6.0</td>\n",
       "      <td>Mobi Raster</td>\n",
       "      <td>0.132125</td>\n",
       "      <td>1 to 6</td>\n",
       "    </tr>\n",
       "    <tr>\n",
       "      <th>4</th>\n",
       "      <td>ALTER_KIND2</td>\n",
       "      <td>34599.0</td>\n",
       "      <td>13.442412</td>\n",
       "      <td>3.244667</td>\n",
       "      <td>2.0</td>\n",
       "      <td>11.0</td>\n",
       "      <td>14.0</td>\n",
       "      <td>16.0</td>\n",
       "      <td>18.0</td>\n",
       "      <td>Old child2</td>\n",
       "      <td>0.968049</td>\n",
       "      <td>2 to 18</td>\n",
       "    </tr>\n",
       "  </tbody>\n",
       "</table>\n",
       "</div>"
      ],
      "text/plain": [
       "         Attribute     count       mean        std   min   25%   50%   75%  \\\n",
       "0      KBA13_ANTG4  925792.0   0.652691   0.724787   0.0   0.0   1.0   1.0   \n",
       "1  RT_UEBERGROESSE  987455.0   2.948525   1.492625   0.0   2.0   3.0   4.0   \n",
       "2      GEMEINDETYP  935123.0  24.275811  11.997949  11.0  12.0  22.0  30.0   \n",
       "3      MOBI_RASTER  939798.0   2.457470   1.546797   1.0   1.0   2.0   4.0   \n",
       "4      ALTER_KIND2   34599.0  13.442412   3.244667   2.0  11.0  14.0  16.0   \n",
       "\n",
       "    max           Desc  null_portion min_max_cat  \n",
       "0   2.0    KBA13 ANTG4      0.145059      0 to 2  \n",
       "1   5.0  Rt overgrowth      0.088116      0 to 5  \n",
       "2  50.0    Parish type      0.136443    11 to 50  \n",
       "3   6.0    Mobi Raster      0.132125      1 to 6  \n",
       "4  18.0     Old child2      0.968049     2 to 18  "
      ]
     },
     "metadata": {},
     "output_type": "display_data"
    },
    {
     "name": "stdout",
     "output_type": "stream",
     "text": [
      "min_max Scores: \n",
      " ['0 to 2' '0 to 5' '11 to 50' '1 to 6' '2 to 18' '1 to 9' '1 to 5'\n",
      " '1 to 10' '1 to 1_082_873' '0 to 1' '1 to 11' '7 to 18' '0 to 11'\n",
      " '1 to 13' '0 to 449' '0 to 4' '0 to 10' '0 to 25' '1 to 56' '4 to 18'\n",
      " '1_900 to 2_018' '0 to 45' '0 to 3' '1 to 3']\n"
     ]
    }
   ],
   "source": [
    "'''\n",
    "excl_num_score containing Scores denoted in number\n",
    "'''\n",
    "\n",
    "datasets_excl_num_score = dataset_summary(datasets_excl, feature_desc, ['int', 'float'])"
   ]
  },
  {
   "attachments": {},
   "cell_type": "markdown",
   "metadata": {},
   "source": [
    "* **data type of features with wider min/max Score gap**\n",
    "  \n",
    "min/max Score gap is not big. 아무 reference가 없으니 section_2에서 정리한 일반 원칙 적용하여 pre-processing\n",
    "\n",
    "All features that have min/max Score gap over 10 and null portion below 50% are to be checked below."
   ]
  },
  {
   "cell_type": "code",
   "execution_count": 69,
   "metadata": {},
   "outputs": [
    {
     "data": {
      "text/html": [
       "<div>\n",
       "<style scoped>\n",
       "    .dataframe tbody tr th:only-of-type {\n",
       "        vertical-align: middle;\n",
       "    }\n",
       "\n",
       "    .dataframe tbody tr th {\n",
       "        vertical-align: top;\n",
       "    }\n",
       "\n",
       "    .dataframe thead th {\n",
       "        text-align: right;\n",
       "    }\n",
       "</style>\n",
       "<table border=\"1\" class=\"dataframe\">\n",
       "  <thead>\n",
       "    <tr style=\"text-align: right;\">\n",
       "      <th></th>\n",
       "      <th>Attribute</th>\n",
       "      <th>count</th>\n",
       "      <th>mean</th>\n",
       "      <th>std</th>\n",
       "      <th>min</th>\n",
       "      <th>25%</th>\n",
       "      <th>50%</th>\n",
       "      <th>75%</th>\n",
       "      <th>max</th>\n",
       "      <th>Desc</th>\n",
       "      <th>null_portion</th>\n",
       "      <th>min_max_cat</th>\n",
       "    </tr>\n",
       "  </thead>\n",
       "  <tbody>\n",
       "    <tr>\n",
       "      <th>2</th>\n",
       "      <td>GEMEINDETYP</td>\n",
       "      <td>935123.0</td>\n",
       "      <td>24.275811</td>\n",
       "      <td>11.997949</td>\n",
       "      <td>11.0</td>\n",
       "      <td>12.0</td>\n",
       "      <td>22.0</td>\n",
       "      <td>30.0</td>\n",
       "      <td>50.0</td>\n",
       "      <td>Parish type</td>\n",
       "      <td>0.136443</td>\n",
       "      <td>11 to 50</td>\n",
       "    </tr>\n",
       "    <tr>\n",
       "      <th>9</th>\n",
       "      <td>LNR</td>\n",
       "      <td>1082873.0</td>\n",
       "      <td>541437.000000</td>\n",
       "      <td>312598.653361</td>\n",
       "      <td>1.0</td>\n",
       "      <td>270719.0</td>\n",
       "      <td>541437.0</td>\n",
       "      <td>812155.0</td>\n",
       "      <td>1082873.0</td>\n",
       "      <td>LNR</td>\n",
       "      <td>0.000000</td>\n",
       "      <td>1 to 1_082_873</td>\n",
       "    </tr>\n",
       "    <tr>\n",
       "      <th>15</th>\n",
       "      <td>ANZ_KINDER</td>\n",
       "      <td>962778.0</td>\n",
       "      <td>0.151364</td>\n",
       "      <td>0.501062</td>\n",
       "      <td>0.0</td>\n",
       "      <td>0.0</td>\n",
       "      <td>0.0</td>\n",
       "      <td>0.0</td>\n",
       "      <td>11.0</td>\n",
       "      <td>Anz children</td>\n",
       "      <td>0.110904</td>\n",
       "      <td>0 to 11</td>\n",
       "    </tr>\n",
       "    <tr>\n",
       "      <th>18</th>\n",
       "      <td>VK_DISTANZ</td>\n",
       "      <td>959085.0</td>\n",
       "      <td>7.087279</td>\n",
       "      <td>3.367266</td>\n",
       "      <td>1.0</td>\n",
       "      <td>4.0</td>\n",
       "      <td>7.0</td>\n",
       "      <td>10.0</td>\n",
       "      <td>13.0</td>\n",
       "      <td>VK distance</td>\n",
       "      <td>0.114314</td>\n",
       "      <td>1 to 13</td>\n",
       "    </tr>\n",
       "    <tr>\n",
       "      <th>20</th>\n",
       "      <td>ANZ_STATISTISCHE_HAUSHALTE</td>\n",
       "      <td>939798.0</td>\n",
       "      <td>7.162317</td>\n",
       "      <td>14.347487</td>\n",
       "      <td>0.0</td>\n",
       "      <td>1.0</td>\n",
       "      <td>3.0</td>\n",
       "      <td>8.0</td>\n",
       "      <td>449.0</td>\n",
       "      <td>Anz statistical households</td>\n",
       "      <td>0.132125</td>\n",
       "      <td>0 to 449</td>\n",
       "    </tr>\n",
       "    <tr>\n",
       "      <th>33</th>\n",
       "      <td>ALTERSKATEGORIE_FEIN</td>\n",
       "      <td>768084.0</td>\n",
       "      <td>13.087451</td>\n",
       "      <td>5.090172</td>\n",
       "      <td>0.0</td>\n",
       "      <td>10.0</td>\n",
       "      <td>14.0</td>\n",
       "      <td>17.0</td>\n",
       "      <td>25.0</td>\n",
       "      <td>Age category fine</td>\n",
       "      <td>0.290698</td>\n",
       "      <td>0 to 25</td>\n",
       "    </tr>\n",
       "    <tr>\n",
       "      <th>41</th>\n",
       "      <td>EINGEZOGENAM_HH_JAHR</td>\n",
       "      <td>962778.0</td>\n",
       "      <td>2003.044442</td>\n",
       "      <td>7.120764</td>\n",
       "      <td>1900.0</td>\n",
       "      <td>1997.0</td>\n",
       "      <td>2002.0</td>\n",
       "      <td>2009.0</td>\n",
       "      <td>2018.0</td>\n",
       "      <td>Intended HH year</td>\n",
       "      <td>0.110904</td>\n",
       "      <td>1_900 to 2_018</td>\n",
       "    </tr>\n",
       "    <tr>\n",
       "      <th>49</th>\n",
       "      <td>VERDICHTUNGSRAUM</td>\n",
       "      <td>935123.0</td>\n",
       "      <td>4.656614</td>\n",
       "      <td>8.595244</td>\n",
       "      <td>0.0</td>\n",
       "      <td>0.0</td>\n",
       "      <td>1.0</td>\n",
       "      <td>5.0</td>\n",
       "      <td>45.0</td>\n",
       "      <td>Compression room</td>\n",
       "      <td>0.136443</td>\n",
       "      <td>0 to 45</td>\n",
       "    </tr>\n",
       "  </tbody>\n",
       "</table>\n",
       "</div>"
      ],
      "text/plain": [
       "                     Attribute      count           mean            std  \\\n",
       "2                  GEMEINDETYP   935123.0      24.275811      11.997949   \n",
       "9                          LNR  1082873.0  541437.000000  312598.653361   \n",
       "15                  ANZ_KINDER   962778.0       0.151364       0.501062   \n",
       "18                  VK_DISTANZ   959085.0       7.087279       3.367266   \n",
       "20  ANZ_STATISTISCHE_HAUSHALTE   939798.0       7.162317      14.347487   \n",
       "33        ALTERSKATEGORIE_FEIN   768084.0      13.087451       5.090172   \n",
       "41        EINGEZOGENAM_HH_JAHR   962778.0    2003.044442       7.120764   \n",
       "49            VERDICHTUNGSRAUM   935123.0       4.656614       8.595244   \n",
       "\n",
       "       min       25%       50%       75%        max  \\\n",
       "2     11.0      12.0      22.0      30.0       50.0   \n",
       "9      1.0  270719.0  541437.0  812155.0  1082873.0   \n",
       "15     0.0       0.0       0.0       0.0       11.0   \n",
       "18     1.0       4.0       7.0      10.0       13.0   \n",
       "20     0.0       1.0       3.0       8.0      449.0   \n",
       "33     0.0      10.0      14.0      17.0       25.0   \n",
       "41  1900.0    1997.0    2002.0    2009.0     2018.0   \n",
       "49     0.0       0.0       1.0       5.0       45.0   \n",
       "\n",
       "                          Desc  null_portion     min_max_cat  \n",
       "2                  Parish type      0.136443        11 to 50  \n",
       "9                          LNR      0.000000  1 to 1_082_873  \n",
       "15                Anz children      0.110904         0 to 11  \n",
       "18                 VK distance      0.114314         1 to 13  \n",
       "20  Anz statistical households      0.132125        0 to 449  \n",
       "33           Age category fine      0.290698         0 to 25  \n",
       "41            Intended HH year      0.110904  1_900 to 2_018  \n",
       "49            Compression room      0.136443         0 to 45  "
      ]
     },
     "metadata": {},
     "output_type": "display_data"
    }
   ],
   "source": [
    "'''\n",
    "check features that have min/max Score gap over 10\n",
    "나머지 피쳐 중 드롭한 50% 이상 빈 피쳐를 제외하면 6개가 컨티뉴어스임 \n",
    "'''\n",
    "# from datasets_excl_num_score above, extract Attribute values having min/max Score gap over 10\n",
    "continuous_in_datasets_excl_attribute = datasets_excl_num_score[\n",
    "    (datasets_excl_num_score['max'] - datasets_excl_num_score['min']) > 10].Attribute.unique()\n",
    "\n",
    "continuous_in_datasets_excl = datasets_excl_num_score.query(\n",
    "    'Attribute in @continuous_in_datasets_excl_attribute and null_portion < 0.5')\n",
    "view_all(continuous_in_datasets_excl)"
   ]
  },
  {
   "cell_type": "code",
   "execution_count": 70,
   "metadata": {},
   "outputs": [],
   "source": [
    "'''\n",
    "디스크리트인 2개는 디스크립션을 보면 카테고리임\n",
    "'''\n",
    "continuous_in_datasets_excl = continuous_in_datasets_excl.query(\n",
    "    'Attribute != \"ALTERSKATEGORIE_FEIN\" and Attribute != \"GEMEINDETYP\"')"
   ]
  },
  {
   "cell_type": "code",
   "execution_count": 71,
   "metadata": {},
   "outputs": [],
   "source": [
    "'''\n",
    "NOTE\n",
    "LNR is the serial index of dataset 이므로 드롭함\n",
    "'''\n",
    "\n",
    "to_drop.append('LNR')"
   ]
  },
  {
   "cell_type": "code",
   "execution_count": 72,
   "metadata": {},
   "outputs": [
    {
     "data": {
      "image/png": "[encoded data removed]",
      "text/plain": [
       "<Figure size 1000x150 with 1 Axes>"
      ]
     },
     "metadata": {},
     "output_type": "display_data"
    },
    {
     "data": {
      "image/png": "[encoded data removed]",
      "text/plain": [
       "<Figure size 1000x150 with 1 Axes>"
      ]
     },
     "metadata": {},
     "output_type": "display_data"
    },
    {
     "name": "stdout",
     "output_type": "stream",
     "text": [
      "10 outliers (Score: %) \n",
      " 449: 0.0%, 445: 0.0%, 375: 0.0%, 371: 0.0%, 369: 0.0% … 23: 0.3%, 22: 0.4%, 21: 0.4%, 20: 0.4%, 19: 0.5%\n",
      "\n",
      "\n"
     ]
    }
   ],
   "source": [
    "'''\n",
    "ANZ_STATISTISCHE_HAUSHALTE   \n",
    "  - No pre-processing needed: Value 0 and max value might be strange or extreme but are possible\n",
    "  - Log scaling is needed due to high skewness\n",
    "'''\n",
    "\n",
    "view_feature (datasets_excl, feature_desc, 'ANZ_STATISTISCHE_HAUSHALTE')"
   ]
  },
  {
   "cell_type": "code",
   "execution_count": 73,
   "metadata": {},
   "outputs": [],
   "source": [
    "'''\n",
    "NOTE\n",
    "'''\n",
    "\n",
    "p_process['3.2.1-ANZ_STATISTISCHE_HAUSHALTE'] = 'log_scaling / ANZ_STATISTISCHE_HAUSHALTE'"
   ]
  },
  {
   "cell_type": "code",
   "execution_count": 74,
   "metadata": {},
   "outputs": [
    {
     "data": {
      "image/png": "[encoded data removed]",
      "text/plain": [
       "<Figure size 1000x150 with 1 Axes>"
      ]
     },
     "metadata": {},
     "output_type": "display_data"
    },
    {
     "name": "stdout",
     "output_type": "stream",
     "text": [
      "10 outliers (Score: %) \n",
      " 11: 0.0%, 9: 0.0%, 8: 0.0%, 7: 0.0%, 6: 0.0% … 5: 0.0%, 4: 0.1%, 3: 0.7%, 2: 3.0%, 1: 6.5%\n",
      "\n",
      "\n"
     ]
    }
   ],
   "source": [
    "'''\n",
    "ANZ_KINDER  \n",
    "  - 0이 매우 많기는 하나 정확한 뜻을 알 수 없으니 살림\n",
    "'''\n",
    "\n",
    "view_feature (datasets_excl, feature_desc, 'ANZ_KINDER', False, True)"
   ]
  },
  {
   "cell_type": "code",
   "execution_count": 75,
   "metadata": {},
   "outputs": [
    {
     "data": {
      "image/png": "[encoded data removed]",
      "text/plain": [
       "<Figure size 1000x150 with 1 Axes>"
      ]
     },
     "metadata": {},
     "output_type": "display_data"
    },
    {
     "name": "stdout",
     "output_type": "stream",
     "text": [
      "10 outliers (Score: %) \n",
      "  … \n",
      "\n",
      "\n"
     ]
    }
   ],
   "source": [
    "'''\n",
    "VK_DISTANZ  \n",
    "- No pre-processing needed although Eng translation not completely understandable\n",
    "'''\n",
    "\n",
    "view_feature (datasets_excl, feature_desc, 'VK_DISTANZ', False, True)"
   ]
  },
  {
   "cell_type": "code",
   "execution_count": 76,
   "metadata": {},
   "outputs": [
    {
     "data": {
      "image/png": "[encoded data removed]",
      "text/plain": [
       "<Figure size 1000x150 with 1 Axes>"
      ]
     },
     "metadata": {},
     "output_type": "display_data"
    },
    {
     "data": {
      "image/png": "[encoded data removed]",
      "text/plain": [
       "<Figure size 1000x150 with 1 Axes>"
      ]
     },
     "metadata": {},
     "output_type": "display_data"
    },
    {
     "name": "stdout",
     "output_type": "stream",
     "text": [
      "10 outliers (Score: %) \n",
      " 45: 0.2%, 44: 0.2%, 43: 0.2%, 42: 0.2%, 41: 0.1% … 17: 0.8%, 16: 0.8%, 15: 0.8%, 14: 0.9%, 13: 1.0%\n",
      "\n",
      "\n"
     ]
    }
   ],
   "source": [
    "'''\n",
    "VERDICHTUNGSRAUM   \n",
    "- No pre-processing needed although Eng translation not completely understandable\n",
    "'''\n",
    "\n",
    "view_feature (datasets_excl, feature_desc, 'VERDICHTUNGSRAUM')"
   ]
  },
  {
   "cell_type": "code",
   "execution_count": 77,
   "metadata": {},
   "outputs": [
    {
     "data": {
      "image/png": "[encoded data removed]",
      "text/plain": [
       "<Figure size 1000x150 with 1 Axes>"
      ]
     },
     "metadata": {},
     "output_type": "display_data"
    },
    {
     "name": "stdout",
     "output_type": "stream",
     "text": [
      "10 outliers (Score: %) \n",
      " 1971: 0.0%, 1904: 0.0%, 1900: 0.0% … 1971: 0.0%, 1904: 0.0%, 1900: 0.0%\n",
      "\n",
      "\n"
     ]
    }
   ],
   "source": [
    "'''\n",
    "EINGEZOGENAM_HH_JAHR \n",
    "- outliers: Eng translation is not completely understandable, but 3 outliers can be replaced to null\n",
    "'''\n",
    "\n",
    "view_feature (datasets_excl, feature_desc, 'EINGEZOGENAM_HH_JAHR', True, False)"
   ]
  },
  {
   "cell_type": "code",
   "execution_count": 78,
   "metadata": {},
   "outputs": [],
   "source": [
    "p_process['3.2.1-EINGEZOGENAM_HH_JAHR'] = 'np.where / EINGEZOGENAM_HH_JAHR / Score < 1980 to -1'"
   ]
  },
  {
   "attachments": {},
   "cell_type": "markdown",
   "metadata": {},
   "source": [
    "##### 3.2.2 object dataset Scores of exclusive features\n",
    "\n",
    "///// For ...."
   ]
  },
  {
   "cell_type": "code",
   "execution_count": 79,
   "metadata": {},
   "outputs": [
    {
     "name": "stdout",
     "output_type": "stream",
     "text": [
      "number of Attribute(s): 4\n"
     ]
    },
    {
     "data": {
      "text/html": [
       "<div>\n",
       "<style scoped>\n",
       "    .dataframe tbody tr th:only-of-type {\n",
       "        vertical-align: middle;\n",
       "    }\n",
       "\n",
       "    .dataframe tbody tr th {\n",
       "        vertical-align: top;\n",
       "    }\n",
       "\n",
       "    .dataframe thead th {\n",
       "        text-align: right;\n",
       "    }\n",
       "</style>\n",
       "<table border=\"1\" class=\"dataframe\">\n",
       "  <thead>\n",
       "    <tr style=\"text-align: right;\">\n",
       "      <th></th>\n",
       "      <th>Attribute</th>\n",
       "      <th>count</th>\n",
       "      <th>unique</th>\n",
       "      <th>top</th>\n",
       "      <th>freq</th>\n",
       "      <th>Desc</th>\n",
       "      <th>null_portion</th>\n",
       "    </tr>\n",
       "  </thead>\n",
       "  <tbody>\n",
       "    <tr>\n",
       "      <th>0</th>\n",
       "      <td>PRODUCT_GROUP</td>\n",
       "      <td>191652</td>\n",
       "      <td>3</td>\n",
       "      <td>COSMETIC_AND_FOOD</td>\n",
       "      <td>100860</td>\n",
       "      <td>Product Group</td>\n",
       "      <td>0.823015</td>\n",
       "    </tr>\n",
       "    <tr>\n",
       "      <th>1</th>\n",
       "      <td>EINGEFUEGT_AM</td>\n",
       "      <td>939798</td>\n",
       "      <td>5254</td>\n",
       "      <td>1992-02-10 00:00:00</td>\n",
       "      <td>448482</td>\n",
       "      <td>Finded on</td>\n",
       "      <td>0.132125</td>\n",
       "    </tr>\n",
       "    <tr>\n",
       "      <th>2</th>\n",
       "      <td>D19_LETZTER_KAUF_BRANCHE</td>\n",
       "      <td>778063</td>\n",
       "      <td>35</td>\n",
       "      <td>D19_UNBEKANNT</td>\n",
       "      <td>227248</td>\n",
       "      <td>D19 Last purchase industry</td>\n",
       "      <td>0.281483</td>\n",
       "    </tr>\n",
       "    <tr>\n",
       "      <th>3</th>\n",
       "      <td>CUSTOMER_GROUP</td>\n",
       "      <td>191652</td>\n",
       "      <td>2</td>\n",
       "      <td>MULTI_BUYER</td>\n",
       "      <td>132238</td>\n",
       "      <td>Customer Group</td>\n",
       "      <td>0.823015</td>\n",
       "    </tr>\n",
       "  </tbody>\n",
       "</table>\n",
       "</div>"
      ],
      "text/plain": [
       "                  Attribute   count unique                  top    freq  \\\n",
       "0             PRODUCT_GROUP  191652      3    COSMETIC_AND_FOOD  100860   \n",
       "1             EINGEFUEGT_AM  939798   5254  1992-02-10 00:00:00  448482   \n",
       "2  D19_LETZTER_KAUF_BRANCHE  778063     35        D19_UNBEKANNT  227248   \n",
       "3            CUSTOMER_GROUP  191652      2          MULTI_BUYER  132238   \n",
       "\n",
       "                         Desc null_portion  \n",
       "0               Product Group     0.823015  \n",
       "1                   Finded on     0.132125  \n",
       "2  D19 Last purchase industry     0.281483  \n",
       "3              Customer Group     0.823015  "
      ]
     },
     "metadata": {},
     "output_type": "display_data"
    }
   ],
   "source": [
    "'''\n",
    "datasets_excl_obj_score containing Scores denoted in obj\n",
    "'''\n",
    "\n",
    "datasets_excl_obj_score = dataset_summary(datasets_excl, feature_desc, ['object'])"
   ]
  },
  {
   "cell_type": "code",
   "execution_count": 80,
   "metadata": {},
   "outputs": [],
   "source": [
    "'''\n",
    "4개 모두 디스크리트임\n",
    "'''\n",
    "\n",
    "none_numeric_in_datasets_excl = ['D19_LETZTER_KAUF_BRANCHE', 'CUSTOMER_GROUP', 'EINGEFUEGT_AM', 'PRODUCT_GROUP']"
   ]
  },
  {
   "cell_type": "code",
   "execution_count": 81,
   "metadata": {},
   "outputs": [],
   "source": [
    "'''\n",
    "NOTE\n",
    "datetime으로 변환하데 년도만 남김 as there are too many unique values\n",
    "'''\n",
    "\n",
    "p_process['3.2.2-EINGEFUEGT_AM'] = 'astype / EINGEFUEGT_AM / change dtype to datetime only with year values'"
   ]
  },
  {
   "cell_type": "code",
   "execution_count": 82,
   "metadata": {},
   "outputs": [
    {
     "name": "stdout",
     "output_type": "stream",
     "text": [
      "PRODUCT_GROUP\n",
      "scores in datasets: {nan, 'COSMETIC', 'FOOD', 'COSMETIC_AND_FOOD'} \n",
      "\n",
      "D19_LETZTER_KAUF_BRANCHE\n",
      "scores in datasets: {'D19_SONSTIGE', 'D19_UNBEKANNT', 'D19_TIERARTIKEL', 'D19_BANKEN_GROSS', 'D19_BANKEN_DIREKT', 'D19_LEBENSMITTEL', 'D19_TELKO_REST', 'D19_SCHUHE', 'D19_VERSICHERUNGEN', 'D19_BANKEN_LOKAL', nan, 'D19_SAMMELARTIKEL', 'D19_RATGEBER', 'D19_HAUS_DEKO', 'D19_VERSAND_REST', 'D19_FREIZEIT', 'D19_KOSMETIK', 'D19_WEIN_FEINKOST', 'D19_GARTEN', 'D19_ENERGIE', 'D19_KINDERARTIKEL', 'D19_BILDUNG', 'D19_HANDWERK', 'D19_BUCH_CD', 'D19_NAHRUNGSERGAENZUNG', 'D19_DIGIT_SERV', 'D19_LOTTO', 'D19_DROGERIEARTIKEL', 'D19_BANKEN_REST', 'D19_TECHNIK', 'D19_TELKO_MOBILE', 'D19_BIO_OEKO', 'D19_VOLLSORTIMENT', 'D19_BEKLEIDUNG_REST', 'D19_BEKLEIDUNG_GEH', 'D19_REISEN'} \n",
      "\n",
      "CUSTOMER_GROUP\n",
      "scores in datasets: {nan, 'MULTI_BUYER', 'SINGLE_BUYER'} \n",
      "\n"
     ]
    }
   ],
   "source": [
    "'''\n",
    "check if abnormal Scores exist in actual datasets.\n",
    "으나 전처리 내용은 없음\n",
    "'''\n",
    "# 제외\n",
    "datasets_excl_obj_score = datasets_excl_obj_score.query('Attribute != \"EINGEFUEGT_AM\"')\n",
    "\n",
    "# \n",
    "for i in datasets_excl_obj_score.Attribute.unique():\n",
    "    \n",
    "    print (i)\n",
    "    print (f'scores in datasets: {set(datasets_excl[i].unique())}', '\\n')"
   ]
  },
  {
   "attachments": {},
   "cell_type": "markdown",
   "metadata": {},
   "source": [
    "### 4. Pre-processing"
   ]
  },
  {
   "attachments": {},
   "cell_type": "markdown",
   "metadata": {},
   "source": [
    "* categorize pre-processing items"
   ]
  },
  {
   "cell_type": "code",
   "execution_count": 83,
   "metadata": {},
   "outputs": [
    {
     "data": {
      "text/html": [
       "<div>\n",
       "<style scoped>\n",
       "    .dataframe tbody tr th:only-of-type {\n",
       "        vertical-align: middle;\n",
       "    }\n",
       "\n",
       "    .dataframe tbody tr th {\n",
       "        vertical-align: top;\n",
       "    }\n",
       "\n",
       "    .dataframe thead th {\n",
       "        text-align: right;\n",
       "    }\n",
       "</style>\n",
       "<table border=\"1\" class=\"dataframe\">\n",
       "  <thead>\n",
       "    <tr style=\"text-align: right;\">\n",
       "      <th></th>\n",
       "      <th>index</th>\n",
       "      <th>method</th>\n",
       "      <th>by_feature</th>\n",
       "    </tr>\n",
       "  </thead>\n",
       "  <tbody>\n",
       "    <tr>\n",
       "      <th>16</th>\n",
       "      <td>3.1.2-dtype</td>\n",
       "      <td>astype</td>\n",
       "      <td>All features in numeric_discrete_features / change dtype to float</td>\n",
       "    </tr>\n",
       "    <tr>\n",
       "      <th>19</th>\n",
       "      <td>3.2.2-EINGEFUEGT_AM</td>\n",
       "      <td>astype</td>\n",
       "      <td>EINGEFUEGT_AM / change dtype to datetime only with year values</td>\n",
       "    </tr>\n",
       "    <tr>\n",
       "      <th>1</th>\n",
       "      <td>2.3.1-drop</td>\n",
       "      <td>drop</td>\n",
       "      <td>All / drop features in to_drop</td>\n",
       "    </tr>\n",
       "    <tr>\n",
       "      <th>4</th>\n",
       "      <td>3.1.1-ANZ_HAUSHALTE_AKTIV</td>\n",
       "      <td>log_scaling</td>\n",
       "      <td>ANZ_HAUSHALTE_AKTIV</td>\n",
       "    </tr>\n",
       "    <tr>\n",
       "      <th>8</th>\n",
       "      <td>3.1.1-KBA13_ANZAHL_PKW</td>\n",
       "      <td>log_scaling</td>\n",
       "      <td>KBA13_ANZAHL_PKW</td>\n",
       "    </tr>\n",
       "    <tr>\n",
       "      <th>17</th>\n",
       "      <td>3.2.1-ANZ_STATISTISCHE_HAUSHALTE</td>\n",
       "      <td>log_scaling</td>\n",
       "      <td>ANZ_STATISTISCHE_HAUSHALTE</td>\n",
       "    </tr>\n",
       "    <tr>\n",
       "      <th>0</th>\n",
       "      <td>2.3.1-1</td>\n",
       "      <td>mask</td>\n",
       "      <td>All / replace Score to null if corresponding Meaning is in to_null</td>\n",
       "    </tr>\n",
       "    <tr>\n",
       "      <th>3</th>\n",
       "      <td>2.3.1-unknown_9</td>\n",
       "      <td>mask</td>\n",
       "      <td>category_small in unknown_9 / Score 9 to -1</td>\n",
       "    </tr>\n",
       "    <tr>\n",
       "      <th>5</th>\n",
       "      <td>3.1.1-ANZ_PERSONEN</td>\n",
       "      <td>np.where</td>\n",
       "      <td>ANZ_PERSONEN / Score &gt; 10 to -1</td>\n",
       "    </tr>\n",
       "    <tr>\n",
       "      <th>6</th>\n",
       "      <td>3.1.1-ANZ_TITEL</td>\n",
       "      <td>np.where</td>\n",
       "      <td>ANZ_TITEL / Score of ANZ_PERSONEN &gt; 10 to -1</td>\n",
       "    </tr>\n",
       "    <tr>\n",
       "      <th>7</th>\n",
       "      <td>3.1.1-GEBURTSJAHR</td>\n",
       "      <td>np.where</td>\n",
       "      <td>GEBURTSJAHR / Score &lt; 1900 to -1</td>\n",
       "    </tr>\n",
       "    <tr>\n",
       "      <th>18</th>\n",
       "      <td>3.2.1-EINGEZOGENAM_HH_JAHR</td>\n",
       "      <td>np.where</td>\n",
       "      <td>EINGEZOGENAM_HH_JAHR / Score &lt; 1980 to -1</td>\n",
       "    </tr>\n",
       "    <tr>\n",
       "      <th>2</th>\n",
       "      <td>2.3.1-minus1</td>\n",
       "      <td>replace</td>\n",
       "      <td>All / {-1: np.nan}</td>\n",
       "    </tr>\n",
       "    <tr>\n",
       "      <th>9</th>\n",
       "      <td>3.1.1-LP_FAMILIE_FEIN</td>\n",
       "      <td>replace</td>\n",
       "      <td>LP_FAMILIE_FEIN / {0: -1}</td>\n",
       "    </tr>\n",
       "    <tr>\n",
       "      <th>10</th>\n",
       "      <td>3.1.1-LP_FAMILIE_GROB</td>\n",
       "      <td>replace</td>\n",
       "      <td>LP_FAMILIE_GROB / {0: -1}</td>\n",
       "    </tr>\n",
       "    <tr>\n",
       "      <th>11</th>\n",
       "      <td>3.1.1-LP_LEBENSPHASE_FEIN</td>\n",
       "      <td>replace</td>\n",
       "      <td>LP_LEBENSPHASE_FEIN / {0: -1}</td>\n",
       "    </tr>\n",
       "    <tr>\n",
       "      <th>12</th>\n",
       "      <td>3.1.1-LP_LEBENSPHASE_GROB</td>\n",
       "      <td>replace</td>\n",
       "      <td>LP_LEBENSPHASE_GROB / {0: -1}</td>\n",
       "    </tr>\n",
       "    <tr>\n",
       "      <th>13</th>\n",
       "      <td>3.1.2-CAMEO_DEUG_2015X</td>\n",
       "      <td>replace</td>\n",
       "      <td>CAMEO_DEUG_2015 / {\"X\": -1}</td>\n",
       "    </tr>\n",
       "    <tr>\n",
       "      <th>14</th>\n",
       "      <td>3.1.2-CAMEO_DEU_2015</td>\n",
       "      <td>replace</td>\n",
       "      <td>CAMEO_DEU_2015 / {\"XX\": -1}</td>\n",
       "    </tr>\n",
       "    <tr>\n",
       "      <th>15</th>\n",
       "      <td>3.1.2-CAMEO_INTL_2015XX</td>\n",
       "      <td>replace</td>\n",
       "      <td>CAMEO_INTL_2015 / {\"XX\": -1}</td>\n",
       "    </tr>\n",
       "  </tbody>\n",
       "</table>\n",
       "</div>"
      ],
      "text/plain": [
       "                               index       method  \\\n",
       "16                       3.1.2-dtype       astype   \n",
       "19               3.2.2-EINGEFUEGT_AM       astype   \n",
       "1                         2.3.1-drop         drop   \n",
       "4          3.1.1-ANZ_HAUSHALTE_AKTIV  log_scaling   \n",
       "8             3.1.1-KBA13_ANZAHL_PKW  log_scaling   \n",
       "17  3.2.1-ANZ_STATISTISCHE_HAUSHALTE  log_scaling   \n",
       "0                            2.3.1-1         mask   \n",
       "3                    2.3.1-unknown_9         mask   \n",
       "5                 3.1.1-ANZ_PERSONEN     np.where   \n",
       "6                    3.1.1-ANZ_TITEL     np.where   \n",
       "7                  3.1.1-GEBURTSJAHR     np.where   \n",
       "18        3.2.1-EINGEZOGENAM_HH_JAHR     np.where   \n",
       "2                       2.3.1-minus1      replace   \n",
       "9              3.1.1-LP_FAMILIE_FEIN      replace   \n",
       "10             3.1.1-LP_FAMILIE_GROB      replace   \n",
       "11         3.1.1-LP_LEBENSPHASE_FEIN      replace   \n",
       "12         3.1.1-LP_LEBENSPHASE_GROB      replace   \n",
       "13            3.1.2-CAMEO_DEUG_2015X      replace   \n",
       "14              3.1.2-CAMEO_DEU_2015      replace   \n",
       "15           3.1.2-CAMEO_INTL_2015XX      replace   \n",
       "\n",
       "                                                            by_feature  \n",
       "16   All features in numeric_discrete_features / change dtype to float  \n",
       "19      EINGEFUEGT_AM / change dtype to datetime only with year values  \n",
       "1                                       All / drop features in to_drop  \n",
       "4                                                  ANZ_HAUSHALTE_AKTIV  \n",
       "8                                                     KBA13_ANZAHL_PKW  \n",
       "17                                          ANZ_STATISTISCHE_HAUSHALTE  \n",
       "0   All / replace Score to null if corresponding Meaning is in to_null  \n",
       "3                          category_small in unknown_9 / Score 9 to -1  \n",
       "5                                      ANZ_PERSONEN / Score > 10 to -1  \n",
       "6                         ANZ_TITEL / Score of ANZ_PERSONEN > 10 to -1  \n",
       "7                                     GEBURTSJAHR / Score < 1900 to -1  \n",
       "18                           EINGEZOGENAM_HH_JAHR / Score < 1980 to -1  \n",
       "2                                                   All / {-1: np.nan}  \n",
       "9                                            LP_FAMILIE_FEIN / {0: -1}  \n",
       "10                                           LP_FAMILIE_GROB / {0: -1}  \n",
       "11                                       LP_LEBENSPHASE_FEIN / {0: -1}  \n",
       "12                                       LP_LEBENSPHASE_GROB / {0: -1}  \n",
       "13                                         CAMEO_DEUG_2015 / {\"X\": -1}  \n",
       "14                                         CAMEO_DEU_2015 / {\"XX\": -1}  \n",
       "15                                        CAMEO_INTL_2015 / {\"XX\": -1}  "
      ]
     },
     "metadata": {},
     "output_type": "display_data"
    }
   ],
   "source": [
    "'''\n",
    "create pre-processing items\n",
    "'''\n",
    "# transform p_process from dictionary to dataframe \n",
    "p_process_items = {'pre_processing_itmes' : p_process}\n",
    "p_process_items = pd.DataFrame(p_process_items).reset_index()\n",
    "p_process_items [['method', 'by_feature']] = p_process_items[\n",
    "    'pre_processing_itmes'].str.split(' / ', n=1, expand=True)\n",
    "p_process_items = p_process_items[['index', 'method', 'by_feature']].sort_values(['method', 'index'])\n",
    "\n",
    "log_scaling_items = p_process_items.query('method == \"log_scaling\"')\n",
    "table = pa.Table.from_pandas(log_scaling_items)\n",
    "pq.write_table(table, 'log_scaling_items.parquet')\n",
    "\n",
    "view_all(p_process_items)"
   ]
  },
  {
   "attachments": {},
   "cell_type": "markdown",
   "metadata": {},
   "source": [
    "* create pre-processing reference"
   ]
  },
  {
   "cell_type": "code",
   "execution_count": 84,
   "metadata": {},
   "outputs": [
    {
     "data": {
      "text/plain": [
       "{'LP_FAMILIE_FEIN': {0: -1},\n",
       " 'LP_FAMILIE_GROB': {0: -1},\n",
       " 'LP_LEBENSPHASE_FEIN': {0: -1},\n",
       " 'LP_LEBENSPHASE_GROB': {0: -1},\n",
       " 'CAMEO_DEUG_2015': {'X': -1},\n",
       " 'CAMEO_DEU_2015': {'XX': -1},\n",
       " 'CAMEO_INTL_2015': {'XX': -1}}"
      ]
     },
     "execution_count": 84,
     "metadata": {},
     "output_type": "execute_result"
    }
   ],
   "source": [
    "'''\n",
    "replacements dictionary\n",
    "'''\n",
    "p_process_replace = p_process_items.query('method == \"replace\"').iloc[1:]\n",
    "p_process_replace[['col', 'dict_val']] = p_process_replace[\n",
    "    'by_feature'].str.split(' / ', expand=True)\n",
    "\n",
    "# replacements = dict(zip(p_process_replace['col'], p_process_replace['dict_val']))\n",
    "replacements = dict(map(lambda col, dict_val: (col, eval(dict_val)), \n",
    "                        p_process_replace['col'], p_process_replace['dict_val']))\n",
    "replacements"
   ]
  },
  {
   "cell_type": "code",
   "execution_count": 85,
   "metadata": {},
   "outputs": [],
   "source": [
    "'''\n",
    "mask to process Scores corresponding to Meaning in to_null\n",
    "'''\n",
    "\n",
    "mask_to_null = ref_attr.query('Meaning in (@to_null)')[['Attribute', 'Score']].set_index('Attribute')\n",
    "mask_to_null = mask_to_null[mask_to_null.Score != -1]\n",
    "\n",
    "features_unknown_9 = [i for i in feature_desc.Attribute.unique() if i.split('_')[0] in unknown_9]\n",
    "mask_unknown_9 = pd.DataFrame(index = features_unknown_9, columns = ['Score'], data = 9)"
   ]
  },
  {
   "cell_type": "code",
   "execution_count": 86,
   "metadata": {},
   "outputs": [],
   "source": [
    "'''feature categorization'''\n",
    "\n",
    "# excl features of customers\n",
    "customers_excl_discrete = ['CUSTOMER_GROUP', 'ONLINE_PURCHASE', 'PRODUCT_GROUP']\n",
    "customers_excl_none_numeric = ['CUSTOMER_GROUP', 'PRODUCT_GROUP']\n",
    "customers_excl_numeric = ['ONLINE_PURCHASE']\n",
    "\n",
    "# continuous_features form 3.1.1 and 3.2.1\n",
    "continuous_features = list(\n",
    "    continuous_in_datasets.Attribute.unique()) + list(continuous_in_datasets_excl.Attribute.unique())\n",
    "\n",
    "# discrete_features\n",
    "discrete_features = list(\n",
    "    x for x in feature_desc.Attribute.unique() if x not in continuous_features)\n",
    "discrete_features = list(\n",
    "    x for x in discrete_features if x not in customers_excl_discrete)\n",
    "\n",
    "# none_numeric_discrete_features form 3.1.2 and 3.2.2\n",
    "none_numeric_discrete_features = none_numeric_in_datasets + none_numeric_in_datasets_excl\n",
    "none_numeric_discrete_features = list(\n",
    "    x for x in none_numeric_discrete_features if x not in customers_excl_none_numeric)\n",
    "\n",
    "# numeric_discrete_features\n",
    "numeric_discrete_features = list(\n",
    "    x for x in discrete_features if x not in none_numeric_discrete_features)"
   ]
  },
  {
   "attachments": {},
   "cell_type": "markdown",
   "metadata": {},
   "source": [
    "* pre-processing"
   ]
  },
  {
   "cell_type": "code",
   "execution_count": 87,
   "metadata": {},
   "outputs": [],
   "source": [
    "def pre_processing (data):\n",
    "    '''\n",
    "    function to pre_process datasets\n",
    "    '''        \n",
    "    # mask\n",
    "    mask = data.eq(mask_to_null['Score'], axis=1)\n",
    "    data = data.mask(mask)\n",
    "    \n",
    "    mask = data.eq(mask_unknown_9['Score'], axis=1)\n",
    "    data = data.mask(mask)\n",
    "\n",
    "    # np.where\n",
    "    data['ANZ_PERSONEN'] = np.where(data['ANZ_PERSONEN'] > 10, -1, data['ANZ_PERSONEN'])\n",
    "    data['ANZ_TITEL'] = np.where(data['ANZ_PERSONEN'] > 10, -1, data['ANZ_TITEL'])\n",
    "    data['GEBURTSJAHR'] = np.where(data['GEBURTSJAHR'] < 1900, -1, data['GEBURTSJAHR'])\n",
    "    data['EINGEZOGENAM_HH_JAHR'] = np.where(data['EINGEZOGENAM_HH_JAHR'] < 1980, -1, data['EINGEZOGENAM_HH_JAHR'])\n",
    "\n",
    "    # replacement\n",
    "    data = data.replace(replacements)\n",
    "    data = data.replace(-1, np.nan)\n",
    "\n",
    "    # astype\n",
    "    data[numeric_discrete_features] = data[numeric_discrete_features].astype(float)\n",
    "    data['EINGEFUEGT_AM'] = pd.to_datetime(data['EINGEFUEGT_AM'], format = '%Y-%m-%d').dt.year \n",
    "    \n",
    "    # drop\n",
    "    data = data.drop(to_drop, axis = 1)\n",
    "\n",
    "    return data"
   ]
  },
  {
   "cell_type": "code",
   "execution_count": 88,
   "metadata": {},
   "outputs": [],
   "source": [
    "org_azdias = azdias.copy()\n",
    "azdias = pre_processing (azdias)"
   ]
  },
  {
   "cell_type": "code",
   "execution_count": 89,
   "metadata": {},
   "outputs": [],
   "source": [
    "org_customers = customers.copy()\n",
    "customers = pre_processing (customers)\n",
    "customers[customers_excl_numeric] = customers[customers_excl_numeric].astype(float)     "
   ]
  },
  {
   "attachments": {},
   "cell_type": "markdown",
   "metadata": {},
   "source": [
    "* drop columns with missing values over threshold"
   ]
  },
  {
   "cell_type": "code",
   "execution_count": 90,
   "metadata": {},
   "outputs": [
    {
     "name": "stdout",
     "output_type": "stream",
     "text": [
      "% of missing value in 361 columns of azdias\n",
      "mean    11.696800\n",
      "std     13.839740\n",
      "min      0.000000\n",
      "25%      0.544646\n",
      "50%     11.871354\n",
      "75%     13.073637\n",
      "max     99.864792\n"
     ]
    },
    {
     "data": {
      "image/png": "[encoded data removed]",
      "text/plain": [
       "<Figure size 1000x300 with 1 Axes>"
      ]
     },
     "metadata": {},
     "output_type": "display_data"
    },
    {
     "data": {
      "image/png": "[encoded data removed]",
      "text/plain": [
       "<Figure size 1000x300 with 1 Axes>"
      ]
     },
     "metadata": {},
     "output_type": "display_data"
    }
   ],
   "source": [
    "'''missing column overview: azdias'''\n",
    "\n",
    "azdias.name = 'azdias'\n",
    "miss_val_summary (azdias)"
   ]
  },
  {
   "cell_type": "code",
   "execution_count": 91,
   "metadata": {},
   "outputs": [
    {
     "name": "stdout",
     "output_type": "stream",
     "text": [
      "% of missing value in 364 columns of customers\n",
      "mean    21.025218\n",
      "std     15.660753\n",
      "min      0.000000\n",
      "25%      1.676476\n",
      "50%     26.757352\n",
      "75%     26.757352\n",
      "max     99.876860\n"
     ]
    },
    {
     "data": {
      "image/png": "[encoded data removed]",
      "text/plain": [
       "<Figure size 1000x300 with 1 Axes>"
      ]
     },
     "metadata": {},
     "output_type": "display_data"
    },
    {
     "data": {
      "image/png": "[encoded data removed]",
      "text/plain": [
       "<Figure size 1000x300 with 1 Axes>"
      ]
     },
     "metadata": {},
     "output_type": "display_data"
    }
   ],
   "source": [
    "'''missing column overview: customers'''\n",
    "\n",
    "customers.name = 'customers'\n",
    "miss_val_summary (customers)"
   ]
  },
  {
   "cell_type": "code",
   "execution_count": 92,
   "metadata": {},
   "outputs": [
    {
     "name": "stdout",
     "output_type": "stream",
     "text": [
      "azdias missing columns: ['AGER_TYP', 'ALTER_HH', 'ALTER_KIND1', 'ALTER_KIND2', 'ALTER_KIND3', 'ALTER_KIND4', 'EXTSEL992', 'GEBURTSJAHR', 'KBA05_BAUMAX', 'KK_KUNDENTYP', 'TITEL_KZ']\n",
      "customers missing columns: ['AGER_TYP', 'ALTER_HH', 'ALTER_KIND1', 'ALTER_KIND2', 'ALTER_KIND3', 'ALTER_KIND4', 'EXTSEL992', 'GEBURTSJAHR', 'KBA05_BAUMAX', 'KK_KUNDENTYP', 'TITEL_KZ']\n"
     ]
    }
   ],
   "source": [
    "'''\n",
    "columns of azdias with missing values over 33%\n",
    "'''\n",
    "temp_missing_col = azdias.isnull().mean()\n",
    "azdias_missing_col = list(temp_missing_col[temp_missing_col > 0.33].index)\n",
    "print ('azdias missing columns:', azdias_missing_col)\n",
    "\n",
    "temp_missing_col = customers.isnull().mean()\n",
    "customers_missing_col = list(temp_missing_col[temp_missing_col > 0.33].index)\n",
    "print ('customers missing columns:', customers_missing_col)"
   ]
  },
  {
   "cell_type": "code",
   "execution_count": 93,
   "metadata": {},
   "outputs": [],
   "source": [
    "'''drop columns with missing values over 33%'''\n",
    "\n",
    "azdias = azdias.drop(azdias_missing_col, axis = 1)\n",
    "customers = customers.drop(customers_missing_col, axis = 1)\n",
    "\n",
    "# add dropped columns to to_drop\n",
    "to_drop.extend(customers_missing_col)"
   ]
  },
  {
   "attachments": {},
   "cell_type": "markdown",
   "metadata": {},
   "source": [
    "* modify feature categorization"
   ]
  },
  {
   "cell_type": "code",
   "execution_count": 94,
   "metadata": {},
   "outputs": [
    {
     "data": {
      "text/html": [
       "<div>\n",
       "<style scoped>\n",
       "    .dataframe tbody tr th:only-of-type {\n",
       "        vertical-align: middle;\n",
       "    }\n",
       "\n",
       "    .dataframe tbody tr th {\n",
       "        vertical-align: top;\n",
       "    }\n",
       "\n",
       "    .dataframe thead th {\n",
       "        text-align: right;\n",
       "    }\n",
       "</style>\n",
       "<table border=\"1\" class=\"dataframe\">\n",
       "  <thead>\n",
       "    <tr style=\"text-align: right;\">\n",
       "      <th></th>\n",
       "      <th>index</th>\n",
       "      <th>method</th>\n",
       "      <th>by_feature</th>\n",
       "    </tr>\n",
       "  </thead>\n",
       "  <tbody>\n",
       "    <tr>\n",
       "      <th>4</th>\n",
       "      <td>3.1.1-ANZ_HAUSHALTE_AKTIV</td>\n",
       "      <td>log_scaling</td>\n",
       "      <td>ANZ_HAUSHALTE_AKTIV</td>\n",
       "    </tr>\n",
       "    <tr>\n",
       "      <th>8</th>\n",
       "      <td>3.1.1-KBA13_ANZAHL_PKW</td>\n",
       "      <td>log_scaling</td>\n",
       "      <td>KBA13_ANZAHL_PKW</td>\n",
       "    </tr>\n",
       "    <tr>\n",
       "      <th>17</th>\n",
       "      <td>3.2.1-ANZ_STATISTISCHE_HAUSHALTE</td>\n",
       "      <td>log_scaling</td>\n",
       "      <td>ANZ_STATISTISCHE_HAUSHALTE</td>\n",
       "    </tr>\n",
       "  </tbody>\n",
       "</table>\n",
       "</div>"
      ],
      "text/plain": [
       "                               index       method                  by_feature\n",
       "4          3.1.1-ANZ_HAUSHALTE_AKTIV  log_scaling         ANZ_HAUSHALTE_AKTIV\n",
       "8             3.1.1-KBA13_ANZAHL_PKW  log_scaling            KBA13_ANZAHL_PKW\n",
       "17  3.2.1-ANZ_STATISTISCHE_HAUSHALTE  log_scaling  ANZ_STATISTISCHE_HAUSHALTE"
      ]
     },
     "execution_count": 94,
     "metadata": {},
     "output_type": "execute_result"
    }
   ],
   "source": [
    "log_scaling_items = pq.read_table('log_scaling_items.parquet').to_pandas()\n",
    "log_scaling_items"
   ]
  },
  {
   "cell_type": "code",
   "execution_count": 95,
   "metadata": {},
   "outputs": [],
   "source": [
    "log_scaling_features = list(log_scaling_items.by_feature.values)\n",
    "continuous_features = [i for i in continuous_features if i not in (log_scaling_features)]"
   ]
  },
  {
   "cell_type": "code",
   "execution_count": 96,
   "metadata": {},
   "outputs": [],
   "source": [
    "# modify and save lists as pickle\n",
    "for i, j in zip(\n",
    "    [customers_excl_discrete, customers_excl_none_numeric, customers_excl_numeric, \n",
    "     log_scaling_features, continuous_features, \n",
    "     discrete_features, none_numeric_discrete_features, numeric_discrete_features],\n",
    "    ['customers_excl_discrete', 'customers_excl_none_numeric', 'customers_excl_numeric',\n",
    "     'log_scaling_features', 'continuous_features',\n",
    "     'discrete_features', 'none_numeric_discrete_features', 'numeric_discrete_features']):\n",
    "    \n",
    "    i = [x for x in i if x not in (to_drop)]\n",
    "    pickle_list = pickle.dumps(i)\n",
    "    with open(j + '.pkl', 'wb') as f:\n",
    "        f.write(pickle_list)"
   ]
  },
  {
   "attachments": {},
   "cell_type": "markdown",
   "metadata": {},
   "source": [
    "* drop rows with missing values over threshold"
   ]
  },
  {
   "cell_type": "code",
   "execution_count": 97,
   "metadata": {},
   "outputs": [
    {
     "name": "stdout",
     "output_type": "stream",
     "text": [
      "% of missing value in 891221 rows of azdias\n",
      "mean     9.682003\n",
      "std     21.665365\n",
      "min      0.000000\n",
      "25%      0.000000\n",
      "50%      0.285714\n",
      "75%      2.857143\n",
      "max     71.714286\n"
     ]
    },
    {
     "data": {
      "image/png": "[encoded data removed]",
      "text/plain": [
       "<Figure size 1000x300 with 1 Axes>"
      ]
     },
     "metadata": {},
     "output_type": "display_data"
    }
   ],
   "source": [
    "'''missing row overview: azdias'''\n",
    "\n",
    "azdias.name = 'azdias'\n",
    "miss_val_summary (azdias, axis_val = 'row', bar_chart = False)"
   ]
  },
  {
   "cell_type": "code",
   "execution_count": 98,
   "metadata": {},
   "outputs": [
    {
     "name": "stdout",
     "output_type": "stream",
     "text": [
      "% of missing value in 191652 rows of customers\n",
      "mean    19.465858\n",
      "std     30.702572\n",
      "min      0.000000\n",
      "25%      0.000000\n",
      "50%      0.000000\n",
      "75%     62.322946\n",
      "max     71.104816\n"
     ]
    },
    {
     "data": {
      "image/png": "[encoded data removed]",
      "text/plain": [
       "<Figure size 1000x300 with 1 Axes>"
      ]
     },
     "metadata": {},
     "output_type": "display_data"
    }
   ],
   "source": [
    "'''missing row overview: customers'''\n",
    "\n",
    "customers.name = 'customers'\n",
    "miss_val_summary (customers, axis_val = 'row', bar_chart = False)"
   ]
  },
  {
   "cell_type": "code",
   "execution_count": 99,
   "metadata": {},
   "outputs": [],
   "source": [
    "'''drop columns with missing values over 33%'''\n",
    "\n",
    "temp_missing_row = azdias.isnull().sum(axis = 1) / azdias.shape[1]\n",
    "temp_missing_row = temp_missing_row > 0.33\n",
    "azdias = azdias[~temp_missing_row]\n",
    "\n",
    "temp_missing_row = customers.isnull().sum(axis = 1) / customers.shape[1]\n",
    "temp_missing_row = temp_missing_row > 0.33\n",
    "customers = customers[~temp_missing_row]"
   ]
  },
  {
   "attachments": {},
   "cell_type": "markdown",
   "metadata": {},
   "source": [
    "* save pre-processed files as parquet"
   ]
  },
  {
   "cell_type": "code",
   "execution_count": 100,
   "metadata": {},
   "outputs": [],
   "source": [
    "table = pa.Table.from_pandas(azdias)\n",
    "pq.write_table(table, 'azdias.parquet')"
   ]
  },
  {
   "cell_type": "code",
   "execution_count": 101,
   "metadata": {},
   "outputs": [],
   "source": [
    "table = pa.Table.from_pandas(customers)\n",
    "pq.write_table(table, 'customers.parquet')"
   ]
  },
  {
   "attachments": {},
   "cell_type": "markdown",
   "metadata": {},
   "source": [
    "## Part 1: Customer Segmentation Report\n",
    "\n",
    "The main bulk of your analysis will come in this part of the project. Here, you should use unsupervised learning techniques to describe the relationship between the demographics of the company's existing customers and the general population of Germany. By the end of this part, you should be able to describe parts of the general population that are more likely to be part of the mail-order company's main customer base, and which parts of the general population are less so."
   ]
  },
  {
   "attachments": {},
   "cell_type": "markdown",
   "metadata": {},
   "source": [
    "* load pre-processed datasets and feature category lists "
   ]
  },
  {
   "cell_type": "code",
   "execution_count": 102,
   "metadata": {},
   "outputs": [
    {
     "data": {
      "text/plain": [
       "(785421, 350)"
      ]
     },
     "execution_count": 102,
     "metadata": {},
     "output_type": "execute_result"
    }
   ],
   "source": [
    "azdias = pq.read_table('azdias.parquet').to_pandas()\n",
    "azdias.shape"
   ]
  },
  {
   "cell_type": "code",
   "execution_count": 103,
   "metadata": {},
   "outputs": [
    {
     "data": {
      "text/plain": [
       "(140400, 353)"
      ]
     },
     "execution_count": 103,
     "metadata": {},
     "output_type": "execute_result"
    }
   ],
   "source": [
    "customers = pq.read_table('customers.parquet').to_pandas()\n",
    "customers.shape"
   ]
  },
  {
   "cell_type": "code",
   "execution_count": 104,
   "metadata": {},
   "outputs": [],
   "source": [
    "'''load feature category lists'''\n",
    "for i in [\n",
    "    'customers_excl_discrete', 'customers_excl_none_numeric', 'customers_excl_numeric',\n",
    "    'log_scaling_features', 'continuous_features',\n",
    "    'discrete_features', 'none_numeric_discrete_features', 'numeric_discrete_features']:\n",
    "    \n",
    "    with open(i + '.pkl', 'rb') as f:\n",
    "        pickle_list = f.read()\n",
    "\n",
    "    globals()[i] = pickle.loads(pickle_list)"
   ]
  },
  {
   "attachments": {},
   "cell_type": "markdown",
   "metadata": {},
   "source": [
    "### 1. Dataset transformation"
   ]
  },
  {
   "attachments": {},
   "cell_type": "markdown",
   "metadata": {},
   "source": [
    "* transformation pipelines"
   ]
  },
  {
   "cell_type": "code",
   "execution_count": 105,
   "metadata": {},
   "outputs": [],
   "source": [
    "'''log_scaling_features'''\n",
    "\n",
    "log_scaling_pipeline = Pipeline([\n",
    "    ('log_scaling', FunctionTransformer(np.log1p)),\n",
    "    ('imputation', SimpleImputer(missing_values = np.nan, strategy = 'median')),\n",
    "    ('standardization', StandardScaler())\n",
    "])"
   ]
  },
  {
   "cell_type": "code",
   "execution_count": 106,
   "metadata": {},
   "outputs": [],
   "source": [
    "'''continuous_features'''\n",
    "\n",
    "continuous_pipeline = Pipeline([\n",
    "    ('imputation', SimpleImputer(missing_values = np.nan, strategy = 'median')),\n",
    "    ('standardization', StandardScaler())\n",
    "])"
   ]
  },
  {
   "cell_type": "code",
   "execution_count": 107,
   "metadata": {},
   "outputs": [],
   "source": [
    "'''numeric_discrete_features'''\n",
    "\n",
    "numeric_discrete_pipeline = Pipeline([\n",
    "    ('imputation', SimpleImputer(missing_values = np.nan, strategy = 'most_frequent')),\n",
    "    ('standardization', StandardScaler())\n",
    "])"
   ]
  },
  {
   "cell_type": "code",
   "execution_count": 108,
   "metadata": {},
   "outputs": [],
   "source": [
    "'''customers_excl_numeric'''\n",
    "\n",
    "customers_excl_numeric_pipeline = Pipeline([\n",
    "    ('imputation', SimpleImputer(missing_values = np.nan, strategy = 'most_frequent')),\n",
    "    ('standardization', StandardScaler())\n",
    "])"
   ]
  },
  {
   "cell_type": "code",
   "execution_count": 109,
   "metadata": {},
   "outputs": [],
   "source": [
    "'''none_numeric_discrete_features'''\n",
    "\n",
    "none_numeric_discrete_pipeline = Pipeline([\n",
    "    ('imputation', SimpleImputer(missing_values = np.nan, strategy = 'most_frequent')),\n",
    "    ('one_hot_encoding', OneHotEncoder(handle_unknown = 'ignore'))\n",
    "])"
   ]
  },
  {
   "cell_type": "code",
   "execution_count": 110,
   "metadata": {},
   "outputs": [],
   "source": [
    "'''customers_excl_none_numeric'''\n",
    "\n",
    "customers_excl_none_numeric_pipeline = Pipeline([\n",
    "    ('imputation', SimpleImputer(missing_values = np.nan, strategy = 'most_frequent')),\n",
    "    ('one_hot_encoding', OneHotEncoder(handle_unknown = 'ignore'))\n",
    "])"
   ]
  },
  {
   "attachments": {},
   "cell_type": "markdown",
   "metadata": {},
   "source": [
    "* dataset transformation"
   ]
  },
  {
   "cell_type": "code",
   "execution_count": 111,
   "metadata": {},
   "outputs": [
    {
     "data": {
      "text/plain": [
       "['CAMEO_DEU_2015', 'OST_WEST_KZ', 'D19_LETZTER_KAUF_BRANCHE', 'EINGEFUEGT_AM']"
      ]
     },
     "execution_count": 111,
     "metadata": {},
     "output_type": "execute_result"
    }
   ],
   "source": [
    "none_numeric_discrete_features"
   ]
  },
  {
   "cell_type": "code",
   "execution_count": 114,
   "metadata": {},
   "outputs": [],
   "source": [
    "'''azdias_tf'''\n",
    "\n",
    "azdias_transformers = [('log_scaling', log_scaling_pipeline, log_scaling_features),\n",
    "                      ('continuous', continuous_pipeline, continuous_features),\n",
    "                      ('numeric_discrete', numeric_discrete_pipeline, numeric_discrete_features),\n",
    "                      ('none_numeric_discrete', none_numeric_discrete_pipeline, none_numeric_discrete_features)]\n",
    "\n",
    "azdias_col_transformer = ColumnTransformer(transformers = azdias_transformers)\n",
    "azdias_tf = azdias_col_transformer.fit_transform(azdias)\n",
    "azdias_tf.shape"
   ]
  },
  {
   "cell_type": "code",
   "execution_count": 116,
   "metadata": {},
   "outputs": [],
   "source": [
    "'''customers_tf'''\n",
    "\n",
    "customers_transformers = [('log_scaling', log_scaling_pipeline, log_scaling_features),\n",
    "                          ('continuous', continuous_pipeline, continuous_features),\n",
    "                          ('numeric_discrete', numeric_discrete_pipeline, numeric_discrete_features),\n",
    "                          ('customers_excl_numeric', customers_excl_numeric_pipeline, customers_excl_numeric),\n",
    "                          ('none_numeric_discrete', none_numeric_discrete_pipeline, none_numeric_discrete_features),\n",
    "                          ('customers_excl_none_numeric', customers_excl_none_numeric_pipeline, customers_excl_none_numeric),                          \n",
    "                          ]\n",
    "\n",
    "customers_col_transformer = ColumnTransformer(transformers = customers_transformers)\n",
    "customers_tf = customers_col_transformer.fit_transform(customers)\n",
    "customers_tf.shape"
   ]
  },
  {
   "attachments": {},
   "cell_type": "markdown",
   "metadata": {},
   "source": [
    "### 2. PCA"
   ]
  },
  {
   "cell_type": "code",
   "execution_count": 127,
   "metadata": {},
   "outputs": [],
   "source": [
    "pca = PCA()\n",
    "azdias_pca = pca.fit_transform(azdias_tf)"
   ]
  },
  {
   "cell_type": "code",
   "execution_count": 141,
   "metadata": {},
   "outputs": [
    {
     "name": "stdout",
     "output_type": "stream",
     "text": [
      "Number of principal components for 0.9 explained variance: 178\n"
     ]
    },
    {
     "data": {
      "image/png": "[encoded data removed]",
      "text/plain": [
       "<Figure size 640x480 with 1 Axes>"
      ]
     },
     "metadata": {},
     "output_type": "display_data"
    }
   ],
   "source": [
    "plt.plot(np.cumsum(pca.explained_variance_ratio_))\n",
    "plt.title('Explained variance: azdias')\n",
    "plt.xlabel('number of principle components')\n",
    "plt.ylabel('explained variance')\n",
    "plt.yticks(np.arange(0, 1.1, 0.1));\n",
    "\n",
    "cumulative_variance = np.cumsum(pca.explained_variance_ratio_)\n",
    "print('Number of principal components for 0.9 explained variance:',\n",
    "      np.argmax(cumulative_variance >= 0.9) + 1)"
   ]
  },
  {
   "cell_type": "code",
   "execution_count": null,
   "metadata": {},
   "outputs": [],
   "source": []
  },
  {
   "attachments": {},
   "cell_type": "markdown",
   "metadata": {},
   "source": [
    "## Part 2: Supervised Learning Model\n",
    "\n",
    "Now that you've found which parts of the population are more likely to be customers of the mail-order company, it's time to build a prediction model. Each of the rows in the \"MAILOUT\" data files represents an individual that was targeted for a mailout campaign. Ideally, we should be able to use the demographic information from each individual to decide whether or not it will be worth it to include that person in the campaign.\n",
    "\n",
    "The \"MAILOUT\" data has been split into two approximately equal parts, each with almost 43 000 data rows. In this part, you can verify your model with the \"TRAIN\" partition, which includes a column, \"RESPONSE\", that states whether or not a person became a customer of the company following the campaign. In the next part, you'll need to create predictions on the \"TEST\" partition, where the \"RESPONSE\" column has been withheld."
   ]
  },
  {
   "cell_type": "code",
   "execution_count": 113,
   "metadata": {},
   "outputs": [
    {
     "ename": "FileNotFoundError",
     "evalue": "[Errno 2] No such file or directory: '../../data/Term2/capstone/arvato_data/Udacity_MAILOUT_052018_TRAIN.csv'",
     "output_type": "error",
     "traceback": [
      "\u001b[0;31m---------------------------------------------------------------------------\u001b[0m",
      "\u001b[0;31mFileNotFoundError\u001b[0m                         Traceback (most recent call last)",
      "Cell \u001b[0;32mIn[113], line 1\u001b[0m\n\u001b[0;32m----> 1\u001b[0m mailout_train \u001b[39m=\u001b[39m pd\u001b[39m.\u001b[39;49mread_csv(\u001b[39m'\u001b[39;49m\u001b[39m../../data/Term2/capstone/arvato_data/Udacity_MAILOUT_052018_TRAIN.csv\u001b[39;49m\u001b[39m'\u001b[39;49m, sep\u001b[39m=\u001b[39;49m\u001b[39m'\u001b[39;49m\u001b[39m;\u001b[39;49m\u001b[39m'\u001b[39;49m)\n",
      "File \u001b[0;32m/opt/anaconda3/envs/py/lib/python3.10/site-packages/pandas/util/_decorators.py:211\u001b[0m, in \u001b[0;36mdeprecate_kwarg.<locals>._deprecate_kwarg.<locals>.wrapper\u001b[0;34m(*args, **kwargs)\u001b[0m\n\u001b[1;32m    209\u001b[0m     \u001b[39melse\u001b[39;00m:\n\u001b[1;32m    210\u001b[0m         kwargs[new_arg_name] \u001b[39m=\u001b[39m new_arg_value\n\u001b[0;32m--> 211\u001b[0m \u001b[39mreturn\u001b[39;00m func(\u001b[39m*\u001b[39;49margs, \u001b[39m*\u001b[39;49m\u001b[39m*\u001b[39;49mkwargs)\n",
      "File \u001b[0;32m/opt/anaconda3/envs/py/lib/python3.10/site-packages/pandas/util/_decorators.py:331\u001b[0m, in \u001b[0;36mdeprecate_nonkeyword_arguments.<locals>.decorate.<locals>.wrapper\u001b[0;34m(*args, **kwargs)\u001b[0m\n\u001b[1;32m    325\u001b[0m \u001b[39mif\u001b[39;00m \u001b[39mlen\u001b[39m(args) \u001b[39m>\u001b[39m num_allow_args:\n\u001b[1;32m    326\u001b[0m     warnings\u001b[39m.\u001b[39mwarn(\n\u001b[1;32m    327\u001b[0m         msg\u001b[39m.\u001b[39mformat(arguments\u001b[39m=\u001b[39m_format_argument_list(allow_args)),\n\u001b[1;32m    328\u001b[0m         \u001b[39mFutureWarning\u001b[39;00m,\n\u001b[1;32m    329\u001b[0m         stacklevel\u001b[39m=\u001b[39mfind_stack_level(),\n\u001b[1;32m    330\u001b[0m     )\n\u001b[0;32m--> 331\u001b[0m \u001b[39mreturn\u001b[39;00m func(\u001b[39m*\u001b[39;49margs, \u001b[39m*\u001b[39;49m\u001b[39m*\u001b[39;49mkwargs)\n",
      "File \u001b[0;32m/opt/anaconda3/envs/py/lib/python3.10/site-packages/pandas/io/parsers/readers.py:950\u001b[0m, in \u001b[0;36mread_csv\u001b[0;34m(filepath_or_buffer, sep, delimiter, header, names, index_col, usecols, squeeze, prefix, mangle_dupe_cols, dtype, engine, converters, true_values, false_values, skipinitialspace, skiprows, skipfooter, nrows, na_values, keep_default_na, na_filter, verbose, skip_blank_lines, parse_dates, infer_datetime_format, keep_date_col, date_parser, dayfirst, cache_dates, iterator, chunksize, compression, thousands, decimal, lineterminator, quotechar, quoting, doublequote, escapechar, comment, encoding, encoding_errors, dialect, error_bad_lines, warn_bad_lines, on_bad_lines, delim_whitespace, low_memory, memory_map, float_precision, storage_options)\u001b[0m\n\u001b[1;32m    935\u001b[0m kwds_defaults \u001b[39m=\u001b[39m _refine_defaults_read(\n\u001b[1;32m    936\u001b[0m     dialect,\n\u001b[1;32m    937\u001b[0m     delimiter,\n\u001b[0;32m   (...)\u001b[0m\n\u001b[1;32m    946\u001b[0m     defaults\u001b[39m=\u001b[39m{\u001b[39m\"\u001b[39m\u001b[39mdelimiter\u001b[39m\u001b[39m\"\u001b[39m: \u001b[39m\"\u001b[39m\u001b[39m,\u001b[39m\u001b[39m\"\u001b[39m},\n\u001b[1;32m    947\u001b[0m )\n\u001b[1;32m    948\u001b[0m kwds\u001b[39m.\u001b[39mupdate(kwds_defaults)\n\u001b[0;32m--> 950\u001b[0m \u001b[39mreturn\u001b[39;00m _read(filepath_or_buffer, kwds)\n",
      "File \u001b[0;32m/opt/anaconda3/envs/py/lib/python3.10/site-packages/pandas/io/parsers/readers.py:605\u001b[0m, in \u001b[0;36m_read\u001b[0;34m(filepath_or_buffer, kwds)\u001b[0m\n\u001b[1;32m    602\u001b[0m _validate_names(kwds\u001b[39m.\u001b[39mget(\u001b[39m\"\u001b[39m\u001b[39mnames\u001b[39m\u001b[39m\"\u001b[39m, \u001b[39mNone\u001b[39;00m))\n\u001b[1;32m    604\u001b[0m \u001b[39m# Create the parser.\u001b[39;00m\n\u001b[0;32m--> 605\u001b[0m parser \u001b[39m=\u001b[39m TextFileReader(filepath_or_buffer, \u001b[39m*\u001b[39;49m\u001b[39m*\u001b[39;49mkwds)\n\u001b[1;32m    607\u001b[0m \u001b[39mif\u001b[39;00m chunksize \u001b[39mor\u001b[39;00m iterator:\n\u001b[1;32m    608\u001b[0m     \u001b[39mreturn\u001b[39;00m parser\n",
      "File \u001b[0;32m/opt/anaconda3/envs/py/lib/python3.10/site-packages/pandas/io/parsers/readers.py:1442\u001b[0m, in \u001b[0;36mTextFileReader.__init__\u001b[0;34m(self, f, engine, **kwds)\u001b[0m\n\u001b[1;32m   1439\u001b[0m     \u001b[39mself\u001b[39m\u001b[39m.\u001b[39moptions[\u001b[39m\"\u001b[39m\u001b[39mhas_index_names\u001b[39m\u001b[39m\"\u001b[39m] \u001b[39m=\u001b[39m kwds[\u001b[39m\"\u001b[39m\u001b[39mhas_index_names\u001b[39m\u001b[39m\"\u001b[39m]\n\u001b[1;32m   1441\u001b[0m \u001b[39mself\u001b[39m\u001b[39m.\u001b[39mhandles: IOHandles \u001b[39m|\u001b[39m \u001b[39mNone\u001b[39;00m \u001b[39m=\u001b[39m \u001b[39mNone\u001b[39;00m\n\u001b[0;32m-> 1442\u001b[0m \u001b[39mself\u001b[39m\u001b[39m.\u001b[39m_engine \u001b[39m=\u001b[39m \u001b[39mself\u001b[39;49m\u001b[39m.\u001b[39;49m_make_engine(f, \u001b[39mself\u001b[39;49m\u001b[39m.\u001b[39;49mengine)\n",
      "File \u001b[0;32m/opt/anaconda3/envs/py/lib/python3.10/site-packages/pandas/io/parsers/readers.py:1735\u001b[0m, in \u001b[0;36mTextFileReader._make_engine\u001b[0;34m(self, f, engine)\u001b[0m\n\u001b[1;32m   1733\u001b[0m     \u001b[39mif\u001b[39;00m \u001b[39m\"\u001b[39m\u001b[39mb\u001b[39m\u001b[39m\"\u001b[39m \u001b[39mnot\u001b[39;00m \u001b[39min\u001b[39;00m mode:\n\u001b[1;32m   1734\u001b[0m         mode \u001b[39m+\u001b[39m\u001b[39m=\u001b[39m \u001b[39m\"\u001b[39m\u001b[39mb\u001b[39m\u001b[39m\"\u001b[39m\n\u001b[0;32m-> 1735\u001b[0m \u001b[39mself\u001b[39m\u001b[39m.\u001b[39mhandles \u001b[39m=\u001b[39m get_handle(\n\u001b[1;32m   1736\u001b[0m     f,\n\u001b[1;32m   1737\u001b[0m     mode,\n\u001b[1;32m   1738\u001b[0m     encoding\u001b[39m=\u001b[39;49m\u001b[39mself\u001b[39;49m\u001b[39m.\u001b[39;49moptions\u001b[39m.\u001b[39;49mget(\u001b[39m\"\u001b[39;49m\u001b[39mencoding\u001b[39;49m\u001b[39m\"\u001b[39;49m, \u001b[39mNone\u001b[39;49;00m),\n\u001b[1;32m   1739\u001b[0m     compression\u001b[39m=\u001b[39;49m\u001b[39mself\u001b[39;49m\u001b[39m.\u001b[39;49moptions\u001b[39m.\u001b[39;49mget(\u001b[39m\"\u001b[39;49m\u001b[39mcompression\u001b[39;49m\u001b[39m\"\u001b[39;49m, \u001b[39mNone\u001b[39;49;00m),\n\u001b[1;32m   1740\u001b[0m     memory_map\u001b[39m=\u001b[39;49m\u001b[39mself\u001b[39;49m\u001b[39m.\u001b[39;49moptions\u001b[39m.\u001b[39;49mget(\u001b[39m\"\u001b[39;49m\u001b[39mmemory_map\u001b[39;49m\u001b[39m\"\u001b[39;49m, \u001b[39mFalse\u001b[39;49;00m),\n\u001b[1;32m   1741\u001b[0m     is_text\u001b[39m=\u001b[39;49mis_text,\n\u001b[1;32m   1742\u001b[0m     errors\u001b[39m=\u001b[39;49m\u001b[39mself\u001b[39;49m\u001b[39m.\u001b[39;49moptions\u001b[39m.\u001b[39;49mget(\u001b[39m\"\u001b[39;49m\u001b[39mencoding_errors\u001b[39;49m\u001b[39m\"\u001b[39;49m, \u001b[39m\"\u001b[39;49m\u001b[39mstrict\u001b[39;49m\u001b[39m\"\u001b[39;49m),\n\u001b[1;32m   1743\u001b[0m     storage_options\u001b[39m=\u001b[39;49m\u001b[39mself\u001b[39;49m\u001b[39m.\u001b[39;49moptions\u001b[39m.\u001b[39;49mget(\u001b[39m\"\u001b[39;49m\u001b[39mstorage_options\u001b[39;49m\u001b[39m\"\u001b[39;49m, \u001b[39mNone\u001b[39;49;00m),\n\u001b[1;32m   1744\u001b[0m )\n\u001b[1;32m   1745\u001b[0m \u001b[39massert\u001b[39;00m \u001b[39mself\u001b[39m\u001b[39m.\u001b[39mhandles \u001b[39mis\u001b[39;00m \u001b[39mnot\u001b[39;00m \u001b[39mNone\u001b[39;00m\n\u001b[1;32m   1746\u001b[0m f \u001b[39m=\u001b[39m \u001b[39mself\u001b[39m\u001b[39m.\u001b[39mhandles\u001b[39m.\u001b[39mhandle\n",
      "File \u001b[0;32m/opt/anaconda3/envs/py/lib/python3.10/site-packages/pandas/io/common.py:856\u001b[0m, in \u001b[0;36mget_handle\u001b[0;34m(path_or_buf, mode, encoding, compression, memory_map, is_text, errors, storage_options)\u001b[0m\n\u001b[1;32m    851\u001b[0m \u001b[39melif\u001b[39;00m \u001b[39misinstance\u001b[39m(handle, \u001b[39mstr\u001b[39m):\n\u001b[1;32m    852\u001b[0m     \u001b[39m# Check whether the filename is to be opened in binary mode.\u001b[39;00m\n\u001b[1;32m    853\u001b[0m     \u001b[39m# Binary mode does not support 'encoding' and 'newline'.\u001b[39;00m\n\u001b[1;32m    854\u001b[0m     \u001b[39mif\u001b[39;00m ioargs\u001b[39m.\u001b[39mencoding \u001b[39mand\u001b[39;00m \u001b[39m\"\u001b[39m\u001b[39mb\u001b[39m\u001b[39m\"\u001b[39m \u001b[39mnot\u001b[39;00m \u001b[39min\u001b[39;00m ioargs\u001b[39m.\u001b[39mmode:\n\u001b[1;32m    855\u001b[0m         \u001b[39m# Encoding\u001b[39;00m\n\u001b[0;32m--> 856\u001b[0m         handle \u001b[39m=\u001b[39m \u001b[39mopen\u001b[39;49m(\n\u001b[1;32m    857\u001b[0m             handle,\n\u001b[1;32m    858\u001b[0m             ioargs\u001b[39m.\u001b[39;49mmode,\n\u001b[1;32m    859\u001b[0m             encoding\u001b[39m=\u001b[39;49mioargs\u001b[39m.\u001b[39;49mencoding,\n\u001b[1;32m    860\u001b[0m             errors\u001b[39m=\u001b[39;49merrors,\n\u001b[1;32m    861\u001b[0m             newline\u001b[39m=\u001b[39;49m\u001b[39m\"\u001b[39;49m\u001b[39m\"\u001b[39;49m,\n\u001b[1;32m    862\u001b[0m         )\n\u001b[1;32m    863\u001b[0m     \u001b[39melse\u001b[39;00m:\n\u001b[1;32m    864\u001b[0m         \u001b[39m# Binary mode\u001b[39;00m\n\u001b[1;32m    865\u001b[0m         handle \u001b[39m=\u001b[39m \u001b[39mopen\u001b[39m(handle, ioargs\u001b[39m.\u001b[39mmode)\n",
      "\u001b[0;31mFileNotFoundError\u001b[0m: [Errno 2] No such file or directory: '../../data/Term2/capstone/arvato_data/Udacity_MAILOUT_052018_TRAIN.csv'"
     ]
    }
   ],
   "source": [
    "mailout_train = pd.read_csv('../../data/Term2/capstone/arvato_data/Udacity_MAILOUT_052018_TRAIN.csv', sep=';')"
   ]
  },
  {
   "cell_type": "code",
   "execution_count": null,
   "metadata": {},
   "outputs": [],
   "source": []
  },
  {
   "cell_type": "code",
   "execution_count": null,
   "metadata": {},
   "outputs": [],
   "source": []
  },
  {
   "attachments": {},
   "cell_type": "markdown",
   "metadata": {},
   "source": [
    "Work / Ref"
   ]
  },
  {
   "cell_type": "code",
   "execution_count": null,
   "metadata": {},
   "outputs": [],
   "source": [
    "# def col_val (df):\n",
    "#     '''\n",
    "#     function to check values of dataframe columns\n",
    "#     df : dataframe\n",
    "#     '''\n",
    "#     # for i in df.columns:\n",
    "#     #     print (i, '-', df[i].nunique(), 'values', '\\n',\n",
    "#     #         df[i].value_counts(), '\\n', '*     *     *')\n",
    "#     for i in df.columns:\n",
    "#         print (i, '-', df[i].nunique(), 'values', '\\n',\n",
    "#         list(df[i].unique()), '\\n', '*     *     *')"
   ]
  },
  {
   "cell_type": "code",
   "execution_count": null,
   "metadata": {},
   "outputs": [],
   "source": [
    "# # from googletrans import Translator\n",
    "\n",
    "# # Create an instance of the Translator\n",
    "# translator = Translator(service_urls=['translate.google.com'])\n",
    "\n",
    "# # Text to be translated\n",
    "# text = \"AGER_TYP\"\n",
    "\n",
    "# # Translate the text from German to English\n",
    "# translation = translator.translate(text, src='de', dest='en')\n",
    "\n",
    "# # Print the translated text\n",
    "# print(\"Original text (German):\", text)\n",
    "# print(\"Translated text (English):\", translation.text)"
   ]
  },
  {
   "cell_type": "code",
   "execution_count": null,
   "metadata": {},
   "outputs": [],
   "source": [
    "# def miss_val_hist(df, axis_val, x_bin = 10):\n",
    "#     '''\n",
    "#     function to display missing value histogram by column or raw\n",
    "#     df: dataframe\n",
    "#     axis_val: str, one of 'column' or 'row'\n",
    "#     x_bin: size of xtick bin, 10 as default \n",
    "#     '''\n",
    "#     # axis value\n",
    "#     axis_num = 0 if axis_val == 'column' else 1\n",
    "    \n",
    "#     # % of missing values\n",
    "#     missing_pct = df.isnull().mean(axis = axis_num) * 100\n",
    "\n",
    "#     # max % of missing values by column\n",
    "#     missing_pct_max = missing_pct.max()\n",
    "#     print ('max % of missing values by ' + axis_val + ': ', missing_pct_max)\n",
    "\n",
    "#     # plot missing values by column\n",
    "    \n",
    "#     print (missing_pct.describe())\n",
    "    \n",
    "#     x_range = ((missing_pct_max + x_bin * 2) // x_bin) * x_bin\n",
    "\n",
    "#     ax = missing_pct.plot(\n",
    "#         kind = 'hist', figsize=(10, 3), color='gray',\n",
    "#         bins = np.arange(0, x_range, 10),\n",
    "#         title = (df.name + ': missing value by ' + axis_val)\n",
    "#         )\n",
    "#     ax.set_xlabel('% of missing value');"
   ]
  },
  {
   "cell_type": "code",
   "execution_count": null,
   "metadata": {},
   "outputs": [],
   "source": [
    "# 파이써닉 하지 못한 코드\n",
    "# # missing value overview\n",
    "# for i in range(0, ((azdias.shape[1] + 100) // 100) * 100, 100):\n",
    "#     msno.matrix(azdias.iloc[:, i : i + 99],\n",
    "#                 figsize=(10, 3), fontsize = 12, labels = False, sparkline = False)\n",
    "#     plt.title('missing value overview: col ' + str (i) + ' to ' + str (min(i + 99, azdias.shape[1] - 1)),\n",
    "#               fontsize = 12);"
   ]
  },
  {
   "cell_type": "code",
   "execution_count": null,
   "metadata": {},
   "outputs": [],
   "source": [
    "# # % of columns with missing values of over 30%\n",
    "# (azdias.isnull().mean() * 100 > 30).mean()"
   ]
  },
  {
   "cell_type": "code",
   "execution_count": null,
   "metadata": {},
   "outputs": [],
   "source": [
    "# # % of columns with missing values of 25% to 30%\n",
    "# ((azdias.isnull().mean() * 100 > 25) & (30 >= azdias.isnull().mean() * 100)).mean()"
   ]
  },
  {
   "cell_type": "code",
   "execution_count": null,
   "metadata": {},
   "outputs": [],
   "source": [
    "# 아마도 쓰지 않을 plot\n",
    "# plot = azdias_col_missing_pct.plot(\n",
    "#     kind = 'bar', figsize=(10, 3), color='dimgray', xticks = [],\n",
    "#     title = 'azdias_col_missing_pct',\n",
    "#     xlabel = '366 columns',\n",
    "#     ylabel = '% of missing values')"
   ]
  },
  {
   "cell_type": "code",
   "execution_count": null,
   "metadata": {},
   "outputs": [],
   "source": [
    "# num_df = customers.select_dtypes(include=['float', 'int64']).iloc[:, 1:]\n",
    "# num_df.head()"
   ]
  },
  {
   "cell_type": "code",
   "execution_count": null,
   "metadata": {},
   "outputs": [],
   "source": [
    "# len(pd.unique(customers.select_dtypes(include='float').values.flatten()).tolist())"
   ]
  },
  {
   "cell_type": "code",
   "execution_count": null,
   "metadata": {},
   "outputs": [],
   "source": [
    "# with pd.option_context(\n",
    "#     'display.max_rows', None, 'display.max_colwidth', None):\n",
    "#     display(pd.DataFrame(attr.apply(lambda x: x.unique())))"
   ]
  },
  {
   "cell_type": "code",
   "execution_count": null,
   "metadata": {},
   "outputs": [],
   "source": [
    "# attr_not_null = ~(attr.Attribute.isna())\n",
    "# attr.loc[attr_not_null, 'Description'] = attr.loc[\n",
    "#     attr_not_null, 'Description'] + ' ' + attr.loc[attr_not_null, 'desc_shift']\n",
    "\n",
    "# desc_to_null = (attr.Attribute.isna()) & ~(attr.Description.isna())\n",
    "# attr.loc[desc_to_null, 'Description'] = np.nan\n",
    "# attr = attr.drop(columns = 'desc_shift')\n",
    "# attr.loc[attr_with_value.shift(-1, fill_value = True), 'Description']\n",
    "# attr_shift = attr_null.shift\n",
    "# attr[attr_null.shift, 'Description'] = attr.loc[\n",
    "#     attr_null.shift(fill_value = False), 'Description'] + ' ' + attr[attr_null, 'Description']"
   ]
  },
  {
   "cell_type": "code",
   "execution_count": null,
   "metadata": {},
   "outputs": [],
   "source": [
    "# '''\n",
    "# to 313 rows of Attribute in info, add 15 values exclusively in attr,\n",
    "# and remove 52 values exclusively in information files\n",
    "# '''\n",
    "\n",
    "# info_mg = info.iloc[:, 1:].copy()\n",
    "# info_mg = info_mg.applymap(lambda x: x.strip().lower() if isinstance(x, str) else x)\n",
    "# # attr_excl = attr[attr.Attribute.isin(attr_excl)].copy()\n",
    "# attr_not_null = attr.dropna(subset = 'Attribute').copy()\n",
    "# attr_not_null = attr_not_null.applymap(lambda x: x.strip().lower() if isinstance(x, str) else x)\n",
    "\n",
    "# info_mg = pd.concat(\n",
    "#     [info_mg, attr_not_null[['Attribute', 'Description']]],\n",
    "#     ignore_index  = True,\n",
    "#     axis = 0\n",
    "#     )\n",
    "# info_mg = info_mg.drop_duplicates(subset = ['Attribute', 'Description'])\n",
    "# info_mg = info_mg.sort_values(by = list(info_mg.columns), ascending=False)\n",
    "# # info_mg = info_mg.drop_duplicates(subset='Attribute')\n",
    "\n",
    "# info_mg = info_mg[~(info_mg.Attribute.isin(infofile_excl))]\n",
    "\n",
    "# print(info_mg.info())\n",
    "# info_mg.head()"
   ]
  },
  {
   "cell_type": "code",
   "execution_count": null,
   "metadata": {},
   "outputs": [],
   "source": [
    "# '''\n",
    "# to 313 rows of Attribute in info, add 15 values exclusively in attr,\n",
    "# and remove 52 values exclusively in information files\n",
    "# '''\n",
    "\n",
    "# info_mg = info.iloc[:, 1:].copy()\n",
    "# attr_excl = attr[attr.Attribute.isin(attr_excl)][['Attribute', 'Description']].copy()\n",
    "\n",
    "# info_mg = pd.concat(\n",
    "#     [info_mg, attr_excl],\n",
    "#     ignore_index  = True,\n",
    "#     axis = 0\n",
    "#     )\n",
    "# info_mg = info_mg.drop_duplicates(subset = ['Attribute', 'Description'])\n",
    "# # info_mg = info_mg.sort_values(by = list(info_mg.columns), ascending=False)\n",
    "# # # info_mg = info_mg.drop_duplicates(subset='Attribute')\n",
    "\n",
    "# info_mg = info_mg[~(info_mg.Attribute.isin(infofile_excl))]\n",
    "\n",
    "# print(info_mg.info())\n",
    "# info_mg.head()"
   ]
  },
  {
   "cell_type": "code",
   "execution_count": null,
   "metadata": {},
   "outputs": [],
   "source": [
    "# view_all(info_mg)"
   ]
  },
  {
   "cell_type": "code",
   "execution_count": null,
   "metadata": {},
   "outputs": [],
   "source": [
    "# '''\n",
    "# to 2258 rows of Attribute in attr, add 13 values exclusively in info,\n",
    "# and remove 52 values exclusively in information files\n",
    "# '''\n",
    "\n",
    "# attr_mg = attr.copy()\n",
    "# info_excl = info[info.Attribute.isin(info_excl)][['Attribute', 'Description']].copy()\n",
    "# info_excl['Value'] = 'form info'\n",
    "# info_excl['Meaning'] = 'form info'\n",
    "\n",
    "# attr_mg = pd.concat(\n",
    "#     [attr_mg, info_excl],\n",
    "#     ignore_index  = True,\n",
    "#     axis = 0\n",
    "#     )\n",
    "# # info_mg = info_mg.drop_duplicates()\n",
    "\n",
    "# # info_mg = info_mg[~(info_mg.Attribute.isin(infofile_excl))]\n",
    "\n",
    "# print(attr_mg.info())\n",
    "# attr_mg.head()"
   ]
  },
  {
   "cell_type": "code",
   "execution_count": null,
   "metadata": {},
   "outputs": [],
   "source": [
    "# attr_mg.tail(30)"
   ]
  },
  {
   "cell_type": "code",
   "execution_count": null,
   "metadata": {},
   "outputs": [],
   "source": [
    "# '''\n",
    "# there are 93 and 51 exclusive values in data and information files\n",
    "# '''\n",
    "\n",
    "# datafile_Attr = azdias_Attr.union(customers_Attr)\n",
    "# infofile_Attr = info_Attr.union(attr_Attr)\n",
    "\n",
    "# datafile_excl = datafile_Attr - infofile_Attr\n",
    "# infofile_excl = infofile_Attr - datafile_Attr\n",
    "\n",
    "# print (len(datafile_excl), 'Attribute value(s) exclusively in data files:',\n",
    "#        '\\n', datafile_excl)\n",
    "# print (len(infofile_excl), 'Attribute value(s) exclusively in information files:',\n",
    "#        '\\n', infofile_excl)"
   ]
  },
  {
   "cell_type": "code",
   "execution_count": null,
   "metadata": {},
   "outputs": [],
   "source": [
    "# 불필요 한 것으로 보임\n",
    "# '''\n",
    "# fill null cells as only 1st lines of information have values\n",
    "# '''\n",
    "\n",
    "# info['Information level'] = info['Information level'].fillna(method = 'ffill')\n",
    "\n",
    "# info.head()"
   ]
  },
  {
   "cell_type": "code",
   "execution_count": null,
   "metadata": {},
   "outputs": [],
   "source": [
    "# 불필요 한 것으로 보임\n",
    "# '''\n",
    "# fill null cells as only 1st lines of information have values\n",
    "# '''\n",
    "\n",
    "# attr[['Attribute', 'Description']] = attr[\n",
    "#     ['Attribute', 'Description']].fillna(method = 'ffill')\n",
    "\n",
    "# attr.head(10)"
   ]
  },
  {
   "cell_type": "code",
   "execution_count": null,
   "metadata": {},
   "outputs": [],
   "source": [
    "# '''\n",
    "# To enhance readability of data set - over 100 features are without description -   \n",
    "# I added 14 Description values from attr, and made a column of translation   \n",
    "# (ger_to_eng) to df_feature using code below.\n",
    "# However as this code-running takes somewhat long time, I saved the dataframe processed\n",
    "# as df_feature.xlsx in root folder\n",
    "# '''\n",
    "\n",
    "# # For values of Attribute without Description, add 14 Description values from attr\n",
    "# df_feature.set_index('Attribute', inplace = True)\n",
    "\n",
    "# attr_excl = attr[attr.Attribute.isin(attr_Attr - info_Attr)][['Attribute', 'Description']].copy()\n",
    "# attr_excl.set_index('Attribute', inplace = True)\n",
    "# df_feature.update(attr_excl)\n",
    "\n",
    "# df_feature.reset_index(inplace = True)\n",
    "\n",
    "# # For values of Attribute without Description, make colum of translation (ger_to_eng)\n",
    "# def ger_to_eng (ger_text):\n",
    "#     '''\n",
    "#     function to translate German text\n",
    "#     '''    \n",
    "#     translator = Translator(service_urls=['translate.google.com'])    \n",
    "#     try:\n",
    "#         translation = translator.translate(ger_text, src='de', dest='en')\n",
    "#         return translation.text        \n",
    "#     except:\n",
    "#         return np.nan\n",
    "\n",
    "# df_feature['ger_to_eng'] = np.where(\n",
    "#     df_feature.Description.isnull(),\n",
    "#     df_feature.Attribute.str.replace('_', ' ').apply(ger_to_eng),\n",
    "#     np.nan)\n",
    "# df_feature['Desc'] = df_feature.Description.fillna('') + df_feature.ger_to_eng.fillna('')\n",
    "\n",
    "# # # sort by Attribute and Information level\n",
    "# # df_feature.sort_values(by = ['Attribute', 'Information level'], inplace= True)\n",
    "\n",
    "# # df_feature = pd.read_excel('df_feature.xlsx', index_col = [0])\n",
    "# # df_feature.head(10)"
   ]
  },
  {
   "cell_type": "code",
   "execution_count": null,
   "metadata": {},
   "outputs": [],
   "source": [
    "# attr_excl = attr[attr.Attribute.isin(attr_Attr - info_Attr)][['Attribute', 'Description']].copy()\n",
    "# df_feature.Description = df_feature.Description.mask(\n",
    "#     df_feature.Attribute == attr_excl.Attribute,\n",
    "#     attr_excl.Description\n",
    "#     )\n",
    "# print ('Attributes missing Description:', df_feature[df_feature.Description.isna()].shape[0])\n",
    "# print (df_feature.shape)\n",
    "# df_feature.head()\n",
    "\n",
    "# ValueError: Can only compare identically-labeled Series objects"
   ]
  },
  {
   "cell_type": "code",
   "execution_count": null,
   "metadata": {},
   "outputs": [],
   "source": [
    "# feature_desc.set_index('Attribute', inplace = True)\n",
    "\n",
    "# attr_Attr = set(attr.Attribute.dropna().unique())\n",
    "# info_Attr = set(info.Attribute.dropna().unique())\n",
    "# attr_excl = attr[\n",
    "#     attr.Attribute.isin(attr_Attr - info_Attr)][['Attribute', 'Description']].copy()\n",
    "# attr_excl.set_index('Attribute', inplace = True)\n",
    "# feature_desc.update(attr_excl)\n",
    "\n",
    "# feature_desc.reset_index(inplace = True)"
   ]
  },
  {
   "cell_type": "code",
   "execution_count": null,
   "metadata": {},
   "outputs": [],
   "source": [
    "# '''\n",
    "# alignment of features between data files: \n",
    "# df customers has 3 more exclusive columns\n",
    "# '''\n",
    "\n",
    "# azdias_Attr = set(azdias.columns)\n",
    "# customers_Attr = set(customers.columns)\n",
    "\n",
    "# print(azdias_Attr - customers_Attr)\n",
    "# print(customers_Attr - azdias_Attr)"
   ]
  },
  {
   "cell_type": "code",
   "execution_count": null,
   "metadata": {},
   "outputs": [],
   "source": [
    "# '''\n",
    "# alignment of features between information files\n",
    "# '''\n",
    "# info_Attr = set(info.Attribute.dropna().unique())\n",
    "# attr_Attr = set(attr.Attribute.dropna().unique())\n",
    "\n",
    "# # info_excl = info_Attr - attr_Attr\n",
    "# # attr_excl = attr_Attr - info_Attr\n",
    "\n",
    "# print (len(info_Attr - attr_Attr), 'Attribute value(s) exclusively in info:',\n",
    "#        '\\n', info_Attr - attr_Attr)\n",
    "# print (len(attr_Attr - info_Attr), 'Attribute value(s) exclusively in attr:',\n",
    "#        '\\n', attr_Attr - info_Attr)\n",
    "# '''\n",
    "# alignment of features between customers and information files\n",
    "# '''\n",
    "# print ('Attribute between customers and info')\n",
    "# print (len(customers_Attr - info_Attr), 'feature(s) exclusively in customers:',\n",
    "#        '\\n', customers_Attr - info_Attr)\n",
    "# print (len(info_Attr - customers_Attr), 'Attribute value(s) exclusively in info:',\n",
    "#        '\\n', info_Attr - customers_Attr)\n",
    "# print ('In', len(info_Attr), 'features of info,', \n",
    "#        len(info_Attr) - len(info_Attr - customers_Attr), 'features are in Attribute of customers', '\\n')\n",
    "\n",
    "# print ('Attribute between customers and attr')\n",
    "# print (len(customers_Attr - attr_Attr), 'feature(s) exclusively in customers:',\n",
    "#        '\\n', customers_Attr - attr_Attr)\n",
    "# print (len(attr_Attr - customers_Attr), 'Attribute value(s) exclusively in attr:',\n",
    "#        '\\n', attr_Attr - customers_Attr)\n",
    "# print ('In', len(attr_Attr), 'features of attr,',\n",
    "#        len(attr_Attr) - len(attr_Attr - customers_Attr), 'features are in Attribute of customers')"
   ]
  },
  {
   "cell_type": "code",
   "execution_count": null,
   "metadata": {},
   "outputs": [],
   "source": [
    "# list(feature_dict.keys())[0]\n",
    "# feature_dict.values()"
   ]
  },
  {
   "cell_type": "code",
   "execution_count": null,
   "metadata": {},
   "outputs": [],
   "source": [
    "# values = np.array([1, 2, 3, 4])\n",
    "\n",
    "# subtractions = np.subtract.outer(values, values)[np.triu_indices(len(values), k=1)]\n",
    "\n",
    "# for result in subtractions:\n",
    "#     print(result)"
   ]
  },
  {
   "cell_type": "code",
   "execution_count": null,
   "metadata": {},
   "outputs": [],
   "source": [
    "# for i, (k, v) in enumerate(feature_dict.items()):\n",
    "#     for j in range(i + 1, 4):\n",
    "#             result = values[i] - values[j]\n",
    "#             print(f\"{values[i]} - {values[j]} = {result}\")\n",
    "#     print (i, k, v)\n",
    "    \n",
    "# for i, (k, v) in enumerate(zip(list(feature_dict.keys()), list(feature_dict.values()))):\n",
    "#     print (i, (k, v))"
   ]
  },
  {
   "cell_type": "code",
   "execution_count": null,
   "metadata": {},
   "outputs": [],
   "source": [
    "# '''\n",
    "# customers에는 없고 attr에만 있는 42개 Attribute는 Desc가 없으으로\n",
    "# (1.5 alignment) desc가 null이 아닌 행만 keep\n",
    "# '''\n",
    "\n",
    "# print ('customers에는 없고 attr에만 있는 42개 Attribute 수:', \n",
    "#        attr_num[attr_num.Desc.isna() == True].Attribute.nunique(),\n",
    "#        '\\n')\n",
    "\n",
    "# attr_num = attr_num[attr_num.Desc.isna() == False]\n",
    "# print (attr_num.info())"
   ]
  },
  {
   "cell_type": "code",
   "execution_count": null,
   "metadata": {},
   "outputs": [],
   "source": [
    "# '''\n",
    "# str data of column Value\n",
    "# '''\n",
    "# # attr_num with only numeric values in Value\n",
    "# attr_str = attr[attr['Value_dtype'] == str].copy()\n",
    "# print (attr_str.shape) \n",
    "\n",
    "# # add Desc and Information level\n",
    "# attr_str = vlookup(attr_str, feature_desc, 'Attribute', ['Desc', 'Additional notes'])\n",
    "# print (attr_str.info())\n",
    "# attr_str.head()"
   ]
  },
  {
   "cell_type": "code",
   "execution_count": null,
   "metadata": {},
   "outputs": [],
   "source": [
    "# '''\n",
    "# 3개 null attribute는 정수와 문자를 모두 값을로 갖는 것들로 42개는 유효하고\n",
    "# 이 42개는 다음 section에서 볼 예정이므로 (1.5 alignment) desc가 null이 아닌 행만 keep\n",
    "# '''\n",
    "\n",
    "# # attr_str[attr_str.Desc.isna() == True] # int와 str을 모두 갖는 셀. 따라서 42는 맞음.... 이 별로 중요하지도 않은 것을 남겨야 하나...\n",
    "\n",
    "# attr_str = attr_str[attr_str.Desc.isna() == False]\n",
    "# print (attr_str.info())"
   ]
  },
  {
   "cell_type": "code",
   "execution_count": null,
   "metadata": {},
   "outputs": [],
   "source": [
    "# # attr_str_to_check = pv_attr_str[pv_attr_str.Meaning.str.contains('numeric value')].Attribute\n",
    "# attr_str_to_check = pv_attr_str[\n",
    "#     pv_attr_str.index.get_level_values(2).str.contains('numeric value')].index.get_level_values(0)\n",
    "# # 먼저 추후 체크할 것들을 뽑아 놓고\n",
    "# attr_str_to_check"
   ]
  },
  {
   "cell_type": "code",
   "execution_count": null,
   "metadata": {},
   "outputs": [],
   "source": [
    "# pv_attr_str = pd.DataFrame(pv_attr_str[\n",
    "#     ~(pv_attr_str.index.get_level_values(0).isin(attr_str_to_check))\n",
    "#     &~(pv_attr_str.index.get_level_values(2) == 'unknown')\n",
    "#     ].to_records())\n",
    "\n",
    "# pv_attr_str = pd.pivot_table(\n",
    "#     pv_attr_str,\n",
    "#     index = ['Attribute', 'Desc'],\n",
    "#     values = 'Value',\n",
    "#     aggfunc = lambda x: list(x)\n",
    "#     )\n",
    "\n",
    "# view_all(pv_attr_str)"
   ]
  },
  {
   "cell_type": "code",
   "execution_count": null,
   "metadata": {},
   "outputs": [],
   "source": [
    "# print(not_in_attr_str.values.T.shape)\n",
    "# not_in_attr_str.values.T.tolist()"
   ]
  },
  {
   "cell_type": "code",
   "execution_count": null,
   "metadata": {},
   "outputs": [],
   "source": [
    "# for i in concat_cont_ft[1:]:\n",
    "\n",
    "#     min_val = cc_num[i].min()\n",
    "#     max_val = cc_num[i].max()\n",
    "#     bin_interval = 1\n",
    "#     bin_edges = np.arange(min_val, max_val + bin_interval, bin_interval)\n",
    "\n",
    "#     desc_val = concat_num[concat_num['Attribute'] == i]['Desc'].values[0]\n",
    "#     count_val = int(concat_num[concat_num['Attribute'] == i].fillna(0)['count'].values[0])\n",
    "\n",
    "#     ax = cc_num[i].plot(\n",
    "#         kind = 'hist',\n",
    "#         figsize=(10, 1.5),\n",
    "#         color='gray',\n",
    "#         bins = bin_edges,\n",
    "#         align = 'mid',\n",
    "#         title = ('histogram - ' + desc_val + ' ' + i)\n",
    "#         );\n",
    "#     ax.set_xlabel('Values: Min: ' + str(int(min_val)) + ', Max: ' + str(int(max_val)));\n",
    "#     plt.show()\n",
    "    \n",
    "#     ax = cc_num[i].plot(\n",
    "#         kind = 'hist',\n",
    "#         figsize=(10, 1.5),\n",
    "#         color='gray',\n",
    "#         bins = np.arange(-0.5, 11.5, 1),\n",
    "#         align = 'mid',\n",
    "#         title = ('histogram - ' + desc_val + ' - Value 0 to 10')\n",
    "#         );\n",
    "#     ax.set_xlabel('Values');\n",
    "#     plt.show()\n",
    "    \n",
    "#     # Define the outlier thresholds by applying multiplier 5.0\n",
    "#     q1 = concat_num[concat_num['Attribute'] == i]['25%'].values[0]\n",
    "#     q3 = concat_num[concat_num['Attribute'] == i]['75%'].values[0]\n",
    "#     iqr = q3 - q1\n",
    "#     lower_threshold = q1 - 5.0 * iqr\n",
    "#     upper_threshold = q3 + 5.0 * iqr\n",
    "\n",
    "#     # Identify outliers\n",
    "#     col_val = cc_num[i].values\n",
    "#     outliers = sorted(set([i for i in col_val if i < lower_threshold or i > upper_threshold]), reverse = True)\n",
    "#     for j in outliers:\n",
    "#         print (int(j), '{:.1%}'.format(((cc_num[i] == j).sum())/count_val*100), end = ' ')\n",
    "#     print ('\\n', '==========' * 10)"
   ]
  },
  {
   "cell_type": "code",
   "execution_count": null,
   "metadata": {},
   "outputs": [],
   "source": [
    "# for i in concat_cont_ft[1:]:\n",
    "\n",
    "#     min_val = cc_num[i].min()\n",
    "#     max_val = cc_num[i].max()\n",
    "#     # bin_interval = 1\n",
    "#     bin_edges = np.arange(min_val, max_val + 10, 10)\n",
    "\n",
    "#     desc_val = concat_num[concat_num['Attribute'] == i]['Desc'].values[0]\n",
    "#     count_val = int(concat_num[concat_num['Attribute'] == i].fillna(0)['count'].values[0])\n",
    "\n",
    "#     ax = cc_num[i].plot(\n",
    "#         kind = 'hist',\n",
    "#         figsize=(10, 1.5),\n",
    "#         color='gray',\n",
    "#         bins = bin_edges,\n",
    "#         align = 'mid',\n",
    "#         title = ('histogram - ' + desc_val + ' ' + i)\n",
    "#         );\n",
    "#     ax.set_xlabel('Values: Min: ' + str(int(min_val)) + ', Max: ' + str(int(max_val)));\n",
    "#     plt.show()\n",
    "    \n",
    "#     ax = cc_num[i].plot(\n",
    "#         kind = 'hist',\n",
    "#         figsize=(10, 1.5),\n",
    "#         color='gray',\n",
    "#         bins = np.arange(-0.5, 11.5, 1),\n",
    "#         align = 'mid',\n",
    "#         title = ('histogram - ' + desc_val + ' - Value 0 to 10')\n",
    "#         );\n",
    "#     ax.set_xlabel('Values');\n",
    "#     plt.show()\n",
    "    \n",
    "#     # Define the outlier thresholds by applying multiplier 1.5\n",
    "#     q1 = concat_num[concat_num['Attribute'] == i]['25%'].values[0]\n",
    "#     q3 = concat_num[concat_num['Attribute'] == i]['75%'].values[0]\n",
    "#     iqr = q3 - q1\n",
    "#     lower_threshold = q1 - 1.5 * iqr\n",
    "#     upper_threshold = q3 + 1.5 * iqr\n",
    "\n",
    "#     # Identify outliers\n",
    "#     col_val = cc_num[i].values\n",
    "#     outliers = sorted(\n",
    "#         set([i for i in col_val if i < lower_threshold or i > upper_threshold]),\n",
    "#         reverse = True)\n",
    "#     # for j in outliers:\n",
    "#     #     print (int(j), '{:.1%}'.format(((cc_num[i] == j).sum())/count_val*100), end = ' ')\n",
    "        \n",
    "#     outlier_list = [str(int(j)) + ': ' + '{:.1%}'.format((cc_num[i] == j).sum() / count_val)\n",
    "#                     for j in outliers]\n",
    "    \n",
    "#     print('Outliers (Value: %)')\n",
    "#     for j in range(0, len(outlier_list), 10):\n",
    "#         print (', '.join(outlier_list[j: j+10]))\n",
    "#     print ('\\n')"
   ]
  },
  {
   "attachments": {},
   "cell_type": "markdown",
   "metadata": {},
   "source": [
    "**[function]** score_meaning_val"
   ]
  },
  {
   "cell_type": "code",
   "execution_count": null,
   "metadata": {},
   "outputs": [],
   "source": [
    "# def score_meaning_val(data, pv_idx = ['Attribute', 'Description', 'Desc', 'Additional notes']):\n",
    "#     '''\n",
    "#     function to check unique values of Score and Meaning by Attribute\n",
    "#     data : dataframe to examine\n",
    "#     pv_idx: list of pivot_table index\n",
    "#     '''\n",
    "#     data = vlookup(data, feature_desc, 'Attribute', ['Desc', 'Additional notes'], nan_val = 'no_info')\n",
    "#     pv = pd.pivot_table(\n",
    "#         data,\n",
    "#         index = pv_idx,\n",
    "#         values = ['Meaning', 'Score'],\n",
    "#         aggfunc = lambda x: list(x))\n",
    "    \n",
    "#     return pv"
   ]
  },
  {
   "cell_type": "code",
   "execution_count": null,
   "metadata": {},
   "outputs": [],
   "source": [
    "# def verify_null(data, null_list, pv_idx = ['Attribute', 'Description', 'Desc', 'Additional notes']):\n",
    "#     '''\n",
    "#     function to display the summary of Score and Meaning values,\n",
    "#     when Meaning values are in the list containing possibly null values.   \n",
    "    \n",
    "#     data: dataframe to examine\n",
    "#     null_list: list of possibly null values\n",
    "#     pv_idx: pivot_table index\n",
    "#     '''\n",
    "#     null_check_Attribute = data[data['Meaning'].isin(null_list)]['Attribute'].to_list()\n",
    "#     null_check = data[data['Attribute'].isin(null_check_Attribute)]\n",
    "    \n",
    "#     null_check = vlookup(null_check, feature_desc, 'Attribute', ['Desc', 'Additional notes'], fill_na = 'no_info')\n",
    "#     pv = pd.pivot_table(\n",
    "#         null_check,\n",
    "#         index = pv_idx,\n",
    "#         values = ['Score', 'Meaning'],\n",
    "#         aggfunc = lambda x: list(x))\n",
    "    \n",
    "#     return pv"
   ]
  },
  {
   "cell_type": "code",
   "execution_count": null,
   "metadata": {},
   "outputs": [],
   "source": [
    "# # For values of Attribute without Description, add 12 Description values from attr\n",
    "# attr_to_add = attr[['Attribute', 'Description']].copy()\n",
    "# attr_to_add.dropna(inplace = True)\n",
    "# attr_to_add = attr_to_add.rename(columns = {'Description': 'Description_to_add'})\n",
    "\n",
    "# feature_desc = vlookup(feature_desc, attr_to_add, 'Attribute')\n",
    "# feature_desc.Description = np.where(\n",
    "#     ((feature_desc.Description.isnull() == True) & (feature_desc.Description_to_add.isnull() == False)),\n",
    "#     feature_desc.Description_to_add,\n",
    "#     feature_desc.Description)\n",
    "# feature_desc = feature_desc.drop('Description_to_add', axis=1)\n",
    "\n",
    "# # For values of Attribute without Description, make colum of translation (ger_to_eng)\n",
    "# def ger_to_eng (ger_text):\n",
    "#     '''\n",
    "#     function to translate German text\n",
    "#     '''    \n",
    "#     translator = Translator(service_urls=['translate.google.com'])    \n",
    "#     try:\n",
    "#         translation = translator.translate(ger_text, src='de', dest='en')\n",
    "#         return translation.text        \n",
    "#     except:\n",
    "#         return np.nan\n",
    "\n",
    "# feature_desc['ger_to_eng'] = np.where(\n",
    "#     feature_desc.Description.isnull(),\n",
    "#     feature_desc.Attribute.str.replace('_', ' ').apply(ger_to_eng),\n",
    "#     np.nan)\n",
    "# feature_desc['Desc'] = feature_desc.Description.fillna('') + feature_desc.ger_to_eng.fillna('')\n",
    "\n",
    "# feature_desc.info()"
   ]
  },
  {
   "cell_type": "code",
   "execution_count": null,
   "metadata": {},
   "outputs": [],
   "source": [
    "# # pv_min_max 2.3.1 변경 for merge\n",
    "# min_max_copy = pd.DataFrame(pv_min_max.to_records())\n",
    "# min_max_copy.columns = list(\n",
    "#     min_max_copy.columns[:2]) + list(eval(i)[0] for i in min_max_copy.columns[2:])\n",
    "# min_max_copy"
   ]
  },
  {
   "cell_type": "code",
   "execution_count": null,
   "metadata": {},
   "outputs": [],
   "source": [
    "# import pandas as pd\n",
    "# import numpy as np\n",
    "# from IPython.display import display\n",
    "# import sys\n",
    "# from contextlib import ExitStack\n",
    "\n",
    "# def view_all (data):\n",
    "#     '''\n",
    "#     function to display all contents of data\n",
    "#     '''\n",
    "#     # with ExitStack() as stack:\n",
    "#     #     stack.enter_context(pd.option_context(\n",
    "#     #     'display.max_rows', None,\n",
    "#     #     'display.max_colwidth', None,\n",
    "#     #     'display.max_seq_items', None\n",
    "#     #     ))\n",
    "#     #     stack.enter_context(np.printoptions(threshold=np.inf))\n",
    "    \n",
    "#     # np.set_printoptions(threshold = sys.maxsize)\n",
    "    \n",
    "#     with pd.option_context(\n",
    "#     'display.max_rows', None, \n",
    "#     'display.max_colwidth', None,\n",
    "#     'display.max_seq_items', None,\n",
    "#     ):\n",
    "#         display(data)"
   ]
  },
  {
   "cell_type": "code",
   "execution_count": null,
   "metadata": {},
   "outputs": [],
   "source": [
    "# '''\n",
    "# categorize pre-processing items\n",
    "# '''\n",
    "# # # categorize p_process_items\n",
    "# # p_process_all = p_process_items.query('by_feature.str.contains(\"All\")')\n",
    "# # p_process_items = p_process_items.query('not by_feature.str.contains(\"All\")')\n",
    "\n",
    "# # p_process_list = ['p_process_all']\n",
    "# p_process_list = []\n",
    "# for i in p_process_items.method.unique():\n",
    "#     globals()['p_process_' + i] = p_process_items.query('method == \"{}\"'.format(i))\n",
    "#     globals()['p_process_' + i].name = 'p_process_' + i\n",
    "#     p_process_list.append('p_process_' + i)\n",
    "\n",
    "# p_process_list"
   ]
  },
  {
   "cell_type": "code",
   "execution_count": null,
   "metadata": {},
   "outputs": [],
   "source": [
    "# correlation_matrix = customers.corr(numeric_only = True)\n",
    "# correlation_matrix"
   ]
  },
  {
   "attachments": {},
   "cell_type": "markdown",
   "metadata": {},
   "source": [
    "### eod"
   ]
  }
 ],
 "metadata": {
  "kernelspec": {
   "display_name": "Python 3",
   "language": "python",
   "name": "python3"
  },
  "language_info": {
   "codemirror_mode": {
    "name": "ipython",
    "version": 3
   },
   "file_extension": ".py",
   "mimetype": "text/x-python",
   "name": "python",
   "nbconvert_exporter": "python",
   "pygments_lexer": "ipython3",
   "version": "3.10.8"
  }
 },
 "nbformat": 4,
 "nbformat_minor": 2
}
