{
 "cells": [
  {
   "attachments": {},
   "cell_type": "markdown",
   "metadata": {},
   "source": [
    "# Capstone Project: Create a Customer Segmentation Report for Arvato Financial Services\n",
    "\n",
    "In this project, you will analyze demographics data for customers of a mail-order sales company in Germany, comparing it against demographics information for the general population. You'll use unsupervised learning techniques to perform customer segmentation, identifying the parts of the population that best describe the core customer base of the company. Then, you'll apply what you've learned on a third dataset with demographics information for targets of a marketing campaign for the company, and use a model to predict which individuals are most likely to convert into becoming customers for the company. The data that you will use has been provided by our partners at Bertelsmann Arvato Analytics, and represents a real-life data science task.\n",
    "\n",
    "The versions of those two datasets used in this project will include many more features and has not been pre-cleaned. You are also free to choose whatever approach you'd like to analyzing the data rather than follow pre-determined steps. In your work on this project, make sure that you carefully document your steps and decisions, since your main deliverable for this project will be a blog post reporting your findings."
   ]
  },
  {
   "cell_type": "code",
   "execution_count": 1,
   "metadata": {},
   "outputs": [],
   "source": [
    "# import libraries here; add more as necessary\n",
    "import numpy as np\n",
    "import pandas as pd\n",
    "import matplotlib.pyplot as plt\n",
    "import seaborn as sns\n",
    "\n",
    "# magic word for producing visualizations in notebook\n",
    "%matplotlib inline\n",
    "\n",
    "import missingno as msno\n",
    "from googletrans import Translator\n",
    "\n",
    "# import sys\n",
    "# from IPython.display import display\n",
    "# import pprint\n",
    "# import itertools\n",
    "# import math\n",
    "# import nltk\n",
    "# from nltk.corpus import wordnet\n",
    "\n",
    "'''\n",
    "custom modules\n",
    "'''\n",
    "# function similar to Excel's vlookup\n",
    "from vlookup import vlookup\n",
    "from vlookuporg import vlookup_org\n",
    "# function to view all contents of a dataframe\n",
    "from view_all import view_all"
   ]
  },
  {
   "cell_type": "code",
   "execution_count": 2,
   "metadata": {},
   "outputs": [],
   "source": [
    "# pip install googletrans==4.0.0-rc1\n",
    "# pip install missingno\n",
    "# custom modules for convenience are in root folder"
   ]
  },
  {
   "attachments": {},
   "cell_type": "markdown",
   "metadata": {},
   "source": [
    "## Part 0: Get to Know the Data\n",
    "\n",
    "There are four data files associated with this project:\n",
    "\n",
    "- `Udacity_AZDIAS_052018.csv`: Demographics data for the general population of Germany; 891 211 persons (rows) x 366 features (columns).\n",
    "- `Udacity_CUSTOMERS_052018.csv`: Demographics data for customers of a mail-order company; 191 652 persons (rows) x 369 features (columns).\n",
    "- `Udacity_MAILOUT_052018_TRAIN.csv`: Demographics data for individuals who were targets of a marketing campaign; 42 982 persons (rows) x 367 (columns).\n",
    "- `Udacity_MAILOUT_052018_TEST.csv`: Demographics data for individuals who were targets of a marketing campaign; 42 833 persons (rows) x 366 (columns).\n",
    "\n",
    "Each row of the demographics files represents a single person, but also includes information outside of individuals, including information about their household, building, and neighborhood. Use the information from the first two files to figure out how customers (\"CUSTOMERS\") are similar to or differ from the general population at large (\"AZDIAS\"), then use your analysis to make predictions on the other two files (\"MAILOUT\"), predicting which recipients are most likely to become a customer for the mail-order company.\n",
    "\n",
    "The \"CUSTOMERS\" file contains three extra columns ('CUSTOMER_GROUP', 'ONLINE_PURCHASE', and 'PRODUCT_GROUP'), which provide broad information about the customers depicted in the file. The original \"MAILOUT\" file included one additional column, \"RESPONSE\", which indicated whether or not each recipient became a customer of the company. For the \"TRAIN\" subset, this column has been retained, but in the \"TEST\" subset it has been removed; it is against that withheld column that your final predictions will be assessed in the Kaggle competition.\n",
    "\n",
    "Otherwise, all of the remaining columns are the same between the three data files. For more information about the columns depicted in the files, you can refer to two Excel spreadsheets provided in the workspace. [One of them](./DIAS Information Levels - Attributes 2017.xlsx) is a top-level list of attributes and descriptions, organized by informational category. [The other](./DIAS Attributes - Values 2017.xlsx) is a detailed mapping of data values for each feature in alphabetical order.\n",
    "\n",
    "In the below cell, we've provided some initial code to load in the first two datasets. Note for all of the `.csv` data files in this project that they're semicolon (`;`) delimited, so an additional argument in the [`read_csv()`](https://pandas.pydata.org/pandas-docs/stable/generated/pandas.read_csv.html) call has been included to read in the data properly. Also, considering the size of the datasets, it may take some time for them to load completely.\n",
    "\n",
    "You'll notice when the data is loaded in that a warning message will immediately pop up. Before you really start digging into the modeling and analysis, you're going to need to perform some cleaning. Take some time to browse the structure of the data and look over the informational spreadsheets to understand the data values. Make some decisions on which features to keep, which features to drop, and if any revisions need to be made on data formats. It'll be a good idea to create a function with pre-processing steps, since you'll need to clean all of the datasets before you work with them."
   ]
  },
  {
   "attachments": {},
   "cell_type": "markdown",
   "metadata": {},
   "source": [
    "### 1. Load and overview"
   ]
  },
  {
   "attachments": {},
   "cell_type": "markdown",
   "metadata": {},
   "source": [
    "**[function]**"
   ]
  },
  {
   "cell_type": "code",
   "execution_count": 4,
   "metadata": {},
   "outputs": [],
   "source": [
    "def msno_overview (data, chunk_size = 100):\n",
    "    '''\n",
    "    function to display missing value using missingno library\n",
    "    data: dataframe\n",
    "    chunk_size: int, size of column chunk, 100 as default  \n",
    "    '''\n",
    "    # split data columns into chunks\n",
    "    chunk_size = chunk_size\n",
    "    column_chunks = [data.iloc[:, i : i + chunk_size] for i in range(0, data.shape[1], chunk_size)]\n",
    "\n",
    "    # generate and display missingno plots for each chunk\n",
    "    for i, j in enumerate(column_chunks):\n",
    "        msno.matrix(j, figsize = (10, 3), fontsize = 8, labels = False, sparkline = False)\n",
    "        plt.title(\n",
    "            f'{data.name}: missing value overview - column {i * 100} to {min (i * chunk_size + chunk_size - 1, data.shape[1] - 1)}',\n",
    "            fontsize = 10);"
   ]
  },
  {
   "attachments": {},
   "cell_type": "markdown",
   "metadata": {},
   "source": [
    "#### 1.1 azdias"
   ]
  },
  {
   "cell_type": "code",
   "execution_count": 5,
   "metadata": {},
   "outputs": [],
   "source": [
    "# 제출전 주석 해제\n",
    "# '''\n",
    "# load and file overview\n",
    "# '''\n",
    "\n",
    "# azdias = pd.read_csv('../csv_pickle/Udacity_AZDIAS_052018.csv', sep=';')\n",
    "# azdias.name = 'azdias'\n",
    "#\n",
    "# print (azdias.info())\n",
    "# azdias.head()"
   ]
  },
  {
   "cell_type": "code",
   "execution_count": 6,
   "metadata": {},
   "outputs": [
    {
     "name": "stdout",
     "output_type": "stream",
     "text": [
      "<class 'pandas.core.frame.DataFrame'>\n",
      "RangeIndex: 891221 entries, 0 to 891220\n",
      "Columns: 366 entries, LNR to ALTERSKATEGORIE_GROB\n",
      "dtypes: float64(267), int64(93), object(6)\n",
      "memory usage: 2.4+ GB\n",
      "None\n"
     ]
    },
    {
     "data": {
      "text/html": [
       "<div>\n",
       "<style scoped>\n",
       "    .dataframe tbody tr th:only-of-type {\n",
       "        vertical-align: middle;\n",
       "    }\n",
       "\n",
       "    .dataframe tbody tr th {\n",
       "        vertical-align: top;\n",
       "    }\n",
       "\n",
       "    .dataframe thead th {\n",
       "        text-align: right;\n",
       "    }\n",
       "</style>\n",
       "<table border=\"1\" class=\"dataframe\">\n",
       "  <thead>\n",
       "    <tr style=\"text-align: right;\">\n",
       "      <th></th>\n",
       "      <th>LNR</th>\n",
       "      <th>AGER_TYP</th>\n",
       "      <th>AKT_DAT_KL</th>\n",
       "      <th>ALTER_HH</th>\n",
       "      <th>ALTER_KIND1</th>\n",
       "      <th>ALTER_KIND2</th>\n",
       "      <th>ALTER_KIND3</th>\n",
       "      <th>ALTER_KIND4</th>\n",
       "      <th>ALTERSKATEGORIE_FEIN</th>\n",
       "      <th>ANZ_HAUSHALTE_AKTIV</th>\n",
       "      <th>...</th>\n",
       "      <th>VHN</th>\n",
       "      <th>VK_DHT4A</th>\n",
       "      <th>VK_DISTANZ</th>\n",
       "      <th>VK_ZG11</th>\n",
       "      <th>W_KEIT_KIND_HH</th>\n",
       "      <th>WOHNDAUER_2008</th>\n",
       "      <th>WOHNLAGE</th>\n",
       "      <th>ZABEOTYP</th>\n",
       "      <th>ANREDE_KZ</th>\n",
       "      <th>ALTERSKATEGORIE_GROB</th>\n",
       "    </tr>\n",
       "  </thead>\n",
       "  <tbody>\n",
       "    <tr>\n",
       "      <th>0</th>\n",
       "      <td>910215</td>\n",
       "      <td>-1</td>\n",
       "      <td>NaN</td>\n",
       "      <td>NaN</td>\n",
       "      <td>NaN</td>\n",
       "      <td>NaN</td>\n",
       "      <td>NaN</td>\n",
       "      <td>NaN</td>\n",
       "      <td>NaN</td>\n",
       "      <td>NaN</td>\n",
       "      <td>...</td>\n",
       "      <td>NaN</td>\n",
       "      <td>NaN</td>\n",
       "      <td>NaN</td>\n",
       "      <td>NaN</td>\n",
       "      <td>NaN</td>\n",
       "      <td>NaN</td>\n",
       "      <td>NaN</td>\n",
       "      <td>3</td>\n",
       "      <td>1</td>\n",
       "      <td>2</td>\n",
       "    </tr>\n",
       "    <tr>\n",
       "      <th>1</th>\n",
       "      <td>910220</td>\n",
       "      <td>-1</td>\n",
       "      <td>9.0</td>\n",
       "      <td>0.0</td>\n",
       "      <td>NaN</td>\n",
       "      <td>NaN</td>\n",
       "      <td>NaN</td>\n",
       "      <td>NaN</td>\n",
       "      <td>21.0</td>\n",
       "      <td>11.0</td>\n",
       "      <td>...</td>\n",
       "      <td>4.0</td>\n",
       "      <td>8.0</td>\n",
       "      <td>11.0</td>\n",
       "      <td>10.0</td>\n",
       "      <td>3.0</td>\n",
       "      <td>9.0</td>\n",
       "      <td>4.0</td>\n",
       "      <td>5</td>\n",
       "      <td>2</td>\n",
       "      <td>1</td>\n",
       "    </tr>\n",
       "    <tr>\n",
       "      <th>2</th>\n",
       "      <td>910225</td>\n",
       "      <td>-1</td>\n",
       "      <td>9.0</td>\n",
       "      <td>17.0</td>\n",
       "      <td>NaN</td>\n",
       "      <td>NaN</td>\n",
       "      <td>NaN</td>\n",
       "      <td>NaN</td>\n",
       "      <td>17.0</td>\n",
       "      <td>10.0</td>\n",
       "      <td>...</td>\n",
       "      <td>2.0</td>\n",
       "      <td>9.0</td>\n",
       "      <td>9.0</td>\n",
       "      <td>6.0</td>\n",
       "      <td>3.0</td>\n",
       "      <td>9.0</td>\n",
       "      <td>2.0</td>\n",
       "      <td>5</td>\n",
       "      <td>2</td>\n",
       "      <td>3</td>\n",
       "    </tr>\n",
       "    <tr>\n",
       "      <th>3</th>\n",
       "      <td>910226</td>\n",
       "      <td>2</td>\n",
       "      <td>1.0</td>\n",
       "      <td>13.0</td>\n",
       "      <td>NaN</td>\n",
       "      <td>NaN</td>\n",
       "      <td>NaN</td>\n",
       "      <td>NaN</td>\n",
       "      <td>13.0</td>\n",
       "      <td>1.0</td>\n",
       "      <td>...</td>\n",
       "      <td>0.0</td>\n",
       "      <td>7.0</td>\n",
       "      <td>10.0</td>\n",
       "      <td>11.0</td>\n",
       "      <td>NaN</td>\n",
       "      <td>9.0</td>\n",
       "      <td>7.0</td>\n",
       "      <td>3</td>\n",
       "      <td>2</td>\n",
       "      <td>4</td>\n",
       "    </tr>\n",
       "    <tr>\n",
       "      <th>4</th>\n",
       "      <td>910241</td>\n",
       "      <td>-1</td>\n",
       "      <td>1.0</td>\n",
       "      <td>20.0</td>\n",
       "      <td>NaN</td>\n",
       "      <td>NaN</td>\n",
       "      <td>NaN</td>\n",
       "      <td>NaN</td>\n",
       "      <td>14.0</td>\n",
       "      <td>3.0</td>\n",
       "      <td>...</td>\n",
       "      <td>2.0</td>\n",
       "      <td>3.0</td>\n",
       "      <td>5.0</td>\n",
       "      <td>4.0</td>\n",
       "      <td>2.0</td>\n",
       "      <td>9.0</td>\n",
       "      <td>3.0</td>\n",
       "      <td>4</td>\n",
       "      <td>1</td>\n",
       "      <td>3</td>\n",
       "    </tr>\n",
       "  </tbody>\n",
       "</table>\n",
       "<p>5 rows × 366 columns</p>\n",
       "</div>"
      ],
      "text/plain": [
       "      LNR  AGER_TYP  AKT_DAT_KL  ALTER_HH  ALTER_KIND1  ALTER_KIND2  \\\n",
       "0  910215        -1         NaN       NaN          NaN          NaN   \n",
       "1  910220        -1         9.0       0.0          NaN          NaN   \n",
       "2  910225        -1         9.0      17.0          NaN          NaN   \n",
       "3  910226         2         1.0      13.0          NaN          NaN   \n",
       "4  910241        -1         1.0      20.0          NaN          NaN   \n",
       "\n",
       "   ALTER_KIND3  ALTER_KIND4  ALTERSKATEGORIE_FEIN  ANZ_HAUSHALTE_AKTIV  ...  \\\n",
       "0          NaN          NaN                   NaN                  NaN  ...   \n",
       "1          NaN          NaN                  21.0                 11.0  ...   \n",
       "2          NaN          NaN                  17.0                 10.0  ...   \n",
       "3          NaN          NaN                  13.0                  1.0  ...   \n",
       "4          NaN          NaN                  14.0                  3.0  ...   \n",
       "\n",
       "   VHN  VK_DHT4A  VK_DISTANZ  VK_ZG11  W_KEIT_KIND_HH  WOHNDAUER_2008  \\\n",
       "0  NaN       NaN         NaN      NaN             NaN             NaN   \n",
       "1  4.0       8.0        11.0     10.0             3.0             9.0   \n",
       "2  2.0       9.0         9.0      6.0             3.0             9.0   \n",
       "3  0.0       7.0        10.0     11.0             NaN             9.0   \n",
       "4  2.0       3.0         5.0      4.0             2.0             9.0   \n",
       "\n",
       "   WOHNLAGE ZABEOTYP ANREDE_KZ ALTERSKATEGORIE_GROB  \n",
       "0       NaN        3         1                    2  \n",
       "1       4.0        5         2                    1  \n",
       "2       2.0        5         2                    3  \n",
       "3       7.0        3         2                    4  \n",
       "4       3.0        4         1                    3  \n",
       "\n",
       "[5 rows x 366 columns]"
      ]
     },
     "execution_count": 6,
     "metadata": {},
     "output_type": "execute_result"
    }
   ],
   "source": [
    "azdias = pd.read_pickle('../csv_pickle/azdias.pickle')\n",
    "\n",
    "print (azdias.info())\n",
    "azdias.head()"
   ]
  },
  {
   "cell_type": "code",
   "execution_count": 7,
   "metadata": {},
   "outputs": [],
   "source": [
    "# '''\n",
    "# missing value overview\n",
    "# '''\n",
    "\n",
    "# azdias.name = 'azdias'\n",
    "# msno_overview(azdias)"
   ]
  },
  {
   "attachments": {},
   "cell_type": "markdown",
   "metadata": {},
   "source": [
    "#### 1.2 customers"
   ]
  },
  {
   "cell_type": "code",
   "execution_count": 8,
   "metadata": {},
   "outputs": [],
   "source": [
    "# 제출전 주석 해제\n",
    "# '''\n",
    "# load and file overview\n",
    "# '''\n",
    "\n",
    "# customers = pd.read_csv('../csv_pickle/Udacity_CUSTOMERS_052018.csv', sep=';')\n",
    "# print (customers.info())\n",
    "# customers.head()"
   ]
  },
  {
   "cell_type": "code",
   "execution_count": 9,
   "metadata": {},
   "outputs": [
    {
     "name": "stdout",
     "output_type": "stream",
     "text": [
      "<class 'pandas.core.frame.DataFrame'>\n",
      "RangeIndex: 191652 entries, 0 to 191651\n",
      "Columns: 369 entries, LNR to ALTERSKATEGORIE_GROB\n",
      "dtypes: float64(267), int64(94), object(8)\n",
      "memory usage: 539.5+ MB\n",
      "None\n"
     ]
    },
    {
     "data": {
      "text/html": [
       "<div>\n",
       "<style scoped>\n",
       "    .dataframe tbody tr th:only-of-type {\n",
       "        vertical-align: middle;\n",
       "    }\n",
       "\n",
       "    .dataframe tbody tr th {\n",
       "        vertical-align: top;\n",
       "    }\n",
       "\n",
       "    .dataframe thead th {\n",
       "        text-align: right;\n",
       "    }\n",
       "</style>\n",
       "<table border=\"1\" class=\"dataframe\">\n",
       "  <thead>\n",
       "    <tr style=\"text-align: right;\">\n",
       "      <th></th>\n",
       "      <th>LNR</th>\n",
       "      <th>AGER_TYP</th>\n",
       "      <th>AKT_DAT_KL</th>\n",
       "      <th>ALTER_HH</th>\n",
       "      <th>ALTER_KIND1</th>\n",
       "      <th>ALTER_KIND2</th>\n",
       "      <th>ALTER_KIND3</th>\n",
       "      <th>ALTER_KIND4</th>\n",
       "      <th>ALTERSKATEGORIE_FEIN</th>\n",
       "      <th>ANZ_HAUSHALTE_AKTIV</th>\n",
       "      <th>...</th>\n",
       "      <th>VK_ZG11</th>\n",
       "      <th>W_KEIT_KIND_HH</th>\n",
       "      <th>WOHNDAUER_2008</th>\n",
       "      <th>WOHNLAGE</th>\n",
       "      <th>ZABEOTYP</th>\n",
       "      <th>PRODUCT_GROUP</th>\n",
       "      <th>CUSTOMER_GROUP</th>\n",
       "      <th>ONLINE_PURCHASE</th>\n",
       "      <th>ANREDE_KZ</th>\n",
       "      <th>ALTERSKATEGORIE_GROB</th>\n",
       "    </tr>\n",
       "  </thead>\n",
       "  <tbody>\n",
       "    <tr>\n",
       "      <th>0</th>\n",
       "      <td>9626</td>\n",
       "      <td>2</td>\n",
       "      <td>1.0</td>\n",
       "      <td>10.0</td>\n",
       "      <td>NaN</td>\n",
       "      <td>NaN</td>\n",
       "      <td>NaN</td>\n",
       "      <td>NaN</td>\n",
       "      <td>10.0</td>\n",
       "      <td>1.0</td>\n",
       "      <td>...</td>\n",
       "      <td>2.0</td>\n",
       "      <td>6.0</td>\n",
       "      <td>9.0</td>\n",
       "      <td>7.0</td>\n",
       "      <td>3</td>\n",
       "      <td>COSMETIC_AND_FOOD</td>\n",
       "      <td>MULTI_BUYER</td>\n",
       "      <td>0</td>\n",
       "      <td>1</td>\n",
       "      <td>4</td>\n",
       "    </tr>\n",
       "    <tr>\n",
       "      <th>1</th>\n",
       "      <td>9628</td>\n",
       "      <td>-1</td>\n",
       "      <td>9.0</td>\n",
       "      <td>11.0</td>\n",
       "      <td>NaN</td>\n",
       "      <td>NaN</td>\n",
       "      <td>NaN</td>\n",
       "      <td>NaN</td>\n",
       "      <td>NaN</td>\n",
       "      <td>NaN</td>\n",
       "      <td>...</td>\n",
       "      <td>3.0</td>\n",
       "      <td>0.0</td>\n",
       "      <td>9.0</td>\n",
       "      <td>NaN</td>\n",
       "      <td>3</td>\n",
       "      <td>FOOD</td>\n",
       "      <td>SINGLE_BUYER</td>\n",
       "      <td>0</td>\n",
       "      <td>1</td>\n",
       "      <td>4</td>\n",
       "    </tr>\n",
       "    <tr>\n",
       "      <th>2</th>\n",
       "      <td>143872</td>\n",
       "      <td>-1</td>\n",
       "      <td>1.0</td>\n",
       "      <td>6.0</td>\n",
       "      <td>NaN</td>\n",
       "      <td>NaN</td>\n",
       "      <td>NaN</td>\n",
       "      <td>NaN</td>\n",
       "      <td>0.0</td>\n",
       "      <td>1.0</td>\n",
       "      <td>...</td>\n",
       "      <td>11.0</td>\n",
       "      <td>6.0</td>\n",
       "      <td>9.0</td>\n",
       "      <td>2.0</td>\n",
       "      <td>3</td>\n",
       "      <td>COSMETIC_AND_FOOD</td>\n",
       "      <td>MULTI_BUYER</td>\n",
       "      <td>0</td>\n",
       "      <td>2</td>\n",
       "      <td>4</td>\n",
       "    </tr>\n",
       "    <tr>\n",
       "      <th>3</th>\n",
       "      <td>143873</td>\n",
       "      <td>1</td>\n",
       "      <td>1.0</td>\n",
       "      <td>8.0</td>\n",
       "      <td>NaN</td>\n",
       "      <td>NaN</td>\n",
       "      <td>NaN</td>\n",
       "      <td>NaN</td>\n",
       "      <td>8.0</td>\n",
       "      <td>0.0</td>\n",
       "      <td>...</td>\n",
       "      <td>2.0</td>\n",
       "      <td>NaN</td>\n",
       "      <td>9.0</td>\n",
       "      <td>7.0</td>\n",
       "      <td>1</td>\n",
       "      <td>COSMETIC</td>\n",
       "      <td>MULTI_BUYER</td>\n",
       "      <td>0</td>\n",
       "      <td>1</td>\n",
       "      <td>4</td>\n",
       "    </tr>\n",
       "    <tr>\n",
       "      <th>4</th>\n",
       "      <td>143874</td>\n",
       "      <td>-1</td>\n",
       "      <td>1.0</td>\n",
       "      <td>20.0</td>\n",
       "      <td>NaN</td>\n",
       "      <td>NaN</td>\n",
       "      <td>NaN</td>\n",
       "      <td>NaN</td>\n",
       "      <td>14.0</td>\n",
       "      <td>7.0</td>\n",
       "      <td>...</td>\n",
       "      <td>4.0</td>\n",
       "      <td>2.0</td>\n",
       "      <td>9.0</td>\n",
       "      <td>3.0</td>\n",
       "      <td>1</td>\n",
       "      <td>FOOD</td>\n",
       "      <td>MULTI_BUYER</td>\n",
       "      <td>0</td>\n",
       "      <td>1</td>\n",
       "      <td>3</td>\n",
       "    </tr>\n",
       "  </tbody>\n",
       "</table>\n",
       "<p>5 rows × 369 columns</p>\n",
       "</div>"
      ],
      "text/plain": [
       "      LNR  AGER_TYP  AKT_DAT_KL  ALTER_HH  ALTER_KIND1  ALTER_KIND2  \\\n",
       "0    9626         2         1.0      10.0          NaN          NaN   \n",
       "1    9628        -1         9.0      11.0          NaN          NaN   \n",
       "2  143872        -1         1.0       6.0          NaN          NaN   \n",
       "3  143873         1         1.0       8.0          NaN          NaN   \n",
       "4  143874        -1         1.0      20.0          NaN          NaN   \n",
       "\n",
       "   ALTER_KIND3  ALTER_KIND4  ALTERSKATEGORIE_FEIN  ANZ_HAUSHALTE_AKTIV  ...  \\\n",
       "0          NaN          NaN                  10.0                  1.0  ...   \n",
       "1          NaN          NaN                   NaN                  NaN  ...   \n",
       "2          NaN          NaN                   0.0                  1.0  ...   \n",
       "3          NaN          NaN                   8.0                  0.0  ...   \n",
       "4          NaN          NaN                  14.0                  7.0  ...   \n",
       "\n",
       "   VK_ZG11  W_KEIT_KIND_HH  WOHNDAUER_2008  WOHNLAGE  ZABEOTYP  \\\n",
       "0      2.0             6.0             9.0       7.0         3   \n",
       "1      3.0             0.0             9.0       NaN         3   \n",
       "2     11.0             6.0             9.0       2.0         3   \n",
       "3      2.0             NaN             9.0       7.0         1   \n",
       "4      4.0             2.0             9.0       3.0         1   \n",
       "\n",
       "       PRODUCT_GROUP  CUSTOMER_GROUP ONLINE_PURCHASE ANREDE_KZ  \\\n",
       "0  COSMETIC_AND_FOOD     MULTI_BUYER               0         1   \n",
       "1               FOOD    SINGLE_BUYER               0         1   \n",
       "2  COSMETIC_AND_FOOD     MULTI_BUYER               0         2   \n",
       "3           COSMETIC     MULTI_BUYER               0         1   \n",
       "4               FOOD     MULTI_BUYER               0         1   \n",
       "\n",
       "  ALTERSKATEGORIE_GROB  \n",
       "0                    4  \n",
       "1                    4  \n",
       "2                    4  \n",
       "3                    4  \n",
       "4                    3  \n",
       "\n",
       "[5 rows x 369 columns]"
      ]
     },
     "execution_count": 9,
     "metadata": {},
     "output_type": "execute_result"
    }
   ],
   "source": [
    "customers = pd.read_pickle('../csv_pickle/customers.pickle')\n",
    "\n",
    "print (customers.info())\n",
    "customers.head()"
   ]
  },
  {
   "cell_type": "code",
   "execution_count": 10,
   "metadata": {},
   "outputs": [],
   "source": [
    "# '''\n",
    "# missing value overview\n",
    "# '''\n",
    "\n",
    "# customers.name = 'customers'\n",
    "# msno_overview(customers)"
   ]
  },
  {
   "attachments": {},
   "cell_type": "markdown",
   "metadata": {},
   "source": [
    "#### 1.3 info"
   ]
  },
  {
   "cell_type": "code",
   "execution_count": 11,
   "metadata": {},
   "outputs": [
    {
     "name": "stdout",
     "output_type": "stream",
     "text": [
      "<class 'pandas.core.frame.DataFrame'>\n",
      "RangeIndex: 313 entries, 0 to 312\n",
      "Data columns (total 4 columns):\n",
      " #   Column             Non-Null Count  Dtype \n",
      "---  ------             --------------  ----- \n",
      " 0   Information level  10 non-null     object\n",
      " 1   Attribute          313 non-null    object\n",
      " 2   Description        313 non-null    object\n",
      " 3   Additional notes   20 non-null     object\n",
      "dtypes: object(4)\n",
      "memory usage: 9.9+ KB\n",
      "None\n"
     ]
    },
    {
     "data": {
      "text/html": [
       "<div>\n",
       "<style scoped>\n",
       "    .dataframe tbody tr th:only-of-type {\n",
       "        vertical-align: middle;\n",
       "    }\n",
       "\n",
       "    .dataframe tbody tr th {\n",
       "        vertical-align: top;\n",
       "    }\n",
       "\n",
       "    .dataframe thead th {\n",
       "        text-align: right;\n",
       "    }\n",
       "</style>\n",
       "<table border=\"1\" class=\"dataframe\">\n",
       "  <thead>\n",
       "    <tr style=\"text-align: right;\">\n",
       "      <th></th>\n",
       "      <th>Information level</th>\n",
       "      <th>Attribute</th>\n",
       "      <th>Description</th>\n",
       "      <th>Additional notes</th>\n",
       "    </tr>\n",
       "  </thead>\n",
       "  <tbody>\n",
       "    <tr>\n",
       "      <th>0</th>\n",
       "      <td>NaN</td>\n",
       "      <td>AGER_TYP</td>\n",
       "      <td>best-ager typology</td>\n",
       "      <td>in cooperation with Kantar TNS; the informatio...</td>\n",
       "    </tr>\n",
       "    <tr>\n",
       "      <th>1</th>\n",
       "      <td>Person</td>\n",
       "      <td>ALTERSKATEGORIE_GROB</td>\n",
       "      <td>age through prename analysis</td>\n",
       "      <td>modelled on millions of first name-age-referen...</td>\n",
       "    </tr>\n",
       "    <tr>\n",
       "      <th>2</th>\n",
       "      <td>NaN</td>\n",
       "      <td>ANREDE_KZ</td>\n",
       "      <td>gender</td>\n",
       "      <td>NaN</td>\n",
       "    </tr>\n",
       "    <tr>\n",
       "      <th>3</th>\n",
       "      <td>NaN</td>\n",
       "      <td>CJT_GESAMTTYP</td>\n",
       "      <td>Customer-Journey-Typology relating to the pref...</td>\n",
       "      <td>relating to the preferred information, marketi...</td>\n",
       "    </tr>\n",
       "    <tr>\n",
       "      <th>4</th>\n",
       "      <td>NaN</td>\n",
       "      <td>FINANZ_MINIMALIST</td>\n",
       "      <td>financial typology: low financial interest</td>\n",
       "      <td>Gfk-Typology based on a representative househo...</td>\n",
       "    </tr>\n",
       "    <tr>\n",
       "      <th>5</th>\n",
       "      <td>NaN</td>\n",
       "      <td>FINANZ_SPARER</td>\n",
       "      <td>financial typology: money saver</td>\n",
       "      <td>NaN</td>\n",
       "    </tr>\n",
       "  </tbody>\n",
       "</table>\n",
       "</div>"
      ],
      "text/plain": [
       "  Information level             Attribute  \\\n",
       "0               NaN              AGER_TYP   \n",
       "1            Person  ALTERSKATEGORIE_GROB   \n",
       "2               NaN             ANREDE_KZ   \n",
       "3               NaN         CJT_GESAMTTYP   \n",
       "4               NaN     FINANZ_MINIMALIST   \n",
       "5               NaN         FINANZ_SPARER   \n",
       "\n",
       "                                         Description  \\\n",
       "0                                 best-ager typology   \n",
       "1                      age through prename analysis    \n",
       "2                                             gender   \n",
       "3  Customer-Journey-Typology relating to the pref...   \n",
       "4         financial typology: low financial interest   \n",
       "5                    financial typology: money saver   \n",
       "\n",
       "                                    Additional notes  \n",
       "0  in cooperation with Kantar TNS; the informatio...  \n",
       "1  modelled on millions of first name-age-referen...  \n",
       "2                                                NaN  \n",
       "3  relating to the preferred information, marketi...  \n",
       "4  Gfk-Typology based on a representative househo...  \n",
       "5                                                NaN  "
      ]
     },
     "execution_count": 11,
     "metadata": {},
     "output_type": "execute_result"
    }
   ],
   "source": [
    "'''\n",
    "load and overview\n",
    "'''\n",
    "\n",
    "info = pd.read_excel(\n",
    "    'DIAS Information Levels - Attributes 2017.xlsx', header=1).iloc[:, 1:]\n",
    "\n",
    "print (info.info())\n",
    "info.head(6)"
   ]
  },
  {
   "attachments": {},
   "cell_type": "markdown",
   "metadata": {},
   "source": [
    "#### 1.4 attr"
   ]
  },
  {
   "cell_type": "code",
   "execution_count": 53,
   "metadata": {},
   "outputs": [
    {
     "name": "stdout",
     "output_type": "stream",
     "text": [
      "<class 'pandas.core.frame.DataFrame'>\n",
      "RangeIndex: 2258 entries, 0 to 2257\n",
      "Data columns (total 4 columns):\n",
      " #   Column       Non-Null Count  Dtype \n",
      "---  ------       --------------  ----- \n",
      " 0   Attribute    314 non-null    object\n",
      " 1   Description  351 non-null    object\n",
      " 2   Score        2258 non-null   object\n",
      " 3   Meaning      2247 non-null   object\n",
      "dtypes: object(4)\n",
      "memory usage: 70.7+ KB\n",
      "None\n"
     ]
    },
    {
     "data": {
      "text/html": [
       "<div>\n",
       "<style scoped>\n",
       "    .dataframe tbody tr th:only-of-type {\n",
       "        vertical-align: middle;\n",
       "    }\n",
       "\n",
       "    .dataframe tbody tr th {\n",
       "        vertical-align: top;\n",
       "    }\n",
       "\n",
       "    .dataframe thead th {\n",
       "        text-align: right;\n",
       "    }\n",
       "</style>\n",
       "<table border=\"1\" class=\"dataframe\">\n",
       "  <thead>\n",
       "    <tr style=\"text-align: right;\">\n",
       "      <th></th>\n",
       "      <th>Attribute</th>\n",
       "      <th>Description</th>\n",
       "      <th>Score</th>\n",
       "      <th>Meaning</th>\n",
       "    </tr>\n",
       "  </thead>\n",
       "  <tbody>\n",
       "    <tr>\n",
       "      <th>103</th>\n",
       "      <td>NaN</td>\n",
       "      <td>NaN</td>\n",
       "      <td>9D</td>\n",
       "      <td>Mini-Jobber</td>\n",
       "    </tr>\n",
       "    <tr>\n",
       "      <th>104</th>\n",
       "      <td>NaN</td>\n",
       "      <td>NaN</td>\n",
       "      <td>9E</td>\n",
       "      <td>Socking Away</td>\n",
       "    </tr>\n",
       "    <tr>\n",
       "      <th>105</th>\n",
       "      <td>CAMEO_DEUINTL_2015</td>\n",
       "      <td>CAMEO classification 2015 - international typo...</td>\n",
       "      <td>-1</td>\n",
       "      <td>unknown</td>\n",
       "    </tr>\n",
       "    <tr>\n",
       "      <th>106</th>\n",
       "      <td>NaN</td>\n",
       "      <td>(each German CAMEO code belongs to one interna...</td>\n",
       "      <td>11</td>\n",
       "      <td>Wealthy Households-Pre-Family Couples &amp; Singles</td>\n",
       "    </tr>\n",
       "    <tr>\n",
       "      <th>107</th>\n",
       "      <td>NaN</td>\n",
       "      <td>NaN</td>\n",
       "      <td>12</td>\n",
       "      <td>Wealthy Households-Young Couples With Children</td>\n",
       "    </tr>\n",
       "  </tbody>\n",
       "</table>\n",
       "</div>"
      ],
      "text/plain": [
       "              Attribute                                        Description  \\\n",
       "103                 NaN                                                NaN   \n",
       "104                 NaN                                                NaN   \n",
       "105  CAMEO_DEUINTL_2015  CAMEO classification 2015 - international typo...   \n",
       "106                 NaN  (each German CAMEO code belongs to one interna...   \n",
       "107                 NaN                                                NaN   \n",
       "\n",
       "    Score                                          Meaning  \n",
       "103    9D                                      Mini-Jobber  \n",
       "104    9E                                     Socking Away  \n",
       "105    -1                                          unknown  \n",
       "106    11  Wealthy Households-Pre-Family Couples & Singles  \n",
       "107    12   Wealthy Households-Young Couples With Children  "
      ]
     },
     "execution_count": 53,
     "metadata": {},
     "output_type": "execute_result"
    }
   ],
   "source": [
    "'''\n",
    "load and overview\n",
    "'''\n",
    "\n",
    "attr = pd.read_excel(\n",
    "    'DIAS Attributes - Values 2017.xlsx', header=1).iloc[:, 1:]\n",
    "# rename column Value to Score for easier documentation\n",
    "attr = attr.rename(columns = {'Value' : 'Score'})\n",
    "\n",
    "print (attr.info())\n",
    "attr[103:108]"
   ]
  },
  {
   "attachments": {},
   "cell_type": "markdown",
   "metadata": {},
   "source": [
    "### 2. Baseline understanding\n",
    "\n",
    "**2자리 넘버링으로 정리 되도록 함**\n",
    "\n",
    "There are 4 files given:\n",
    "* 2 dataset files - azdias & customers\n",
    "* 2 reference files - info & attr:  \n",
    "  - info is for information on dataset features which are in unreadable German acronyms  \n",
    "  - attr is for information on dataset values which are in numbers and acronyms,  \n",
    "  and has corresponding meanings  \n",
    "\n",
    "To establish a baseline, this section aims to identify key factors in the reference files   \n",
    "that can help in understanding the contents of the dataset."
   ]
  },
  {
   "attachments": {},
   "cell_type": "markdown",
   "metadata": {},
   "source": [
    "**[function]**"
   ]
  },
  {
   "cell_type": "code",
   "execution_count": 13,
   "metadata": {},
   "outputs": [],
   "source": [
    "def str_to_num (number):\n",
    "    '''\n",
    "    function to change dtype of numbers in string form\n",
    "    '''\n",
    "    if isinstance(number, str) and (\n",
    "        number.isdigit() or (number.startswith('-') and number[1:].isdigit())):\n",
    "        return int(number)\n",
    "    else:\n",
    "        return number"
   ]
  },
  {
   "cell_type": "code",
   "execution_count": 14,
   "metadata": {},
   "outputs": [],
   "source": [
    "def ger_to_eng (ger_text):\n",
    "    '''\n",
    "    function to translate German text\n",
    "    '''\n",
    "    translator = Translator(service_urls=['translate.google.com'])    \n",
    "    try:\n",
    "        translation = translator.translate(ger_text, src='de', dest='en')\n",
    "        return translation.text        \n",
    "    except:\n",
    "        return np.nan"
   ]
  },
  {
   "cell_type": "code",
   "execution_count": 15,
   "metadata": {},
   "outputs": [],
   "source": [
    "def pv_min_max(data, pv_idx = ['Attribute', 'Description', 'Desc', 'Additional notes'], display = True):\n",
    "    '''\n",
    "    function to display min/max values of Score after adding information from feature_desc\n",
    "    \n",
    "    data : dataframe to examine\n",
    "    pv_idx: list of pivot_table index\n",
    "    display: boolean, selection of result display\n",
    "    '''\n",
    "    data = vlookup(data, feature_desc, 'Attribute', ['Desc', 'Additional notes'], fill_na = 'no_info')\n",
    "    pv = pd.pivot_table(\n",
    "        data,\n",
    "        index = pv_idx,\n",
    "        values = 'Score',\n",
    "        aggfunc = [min, max]\n",
    "        )\n",
    "        \n",
    "    pv['min_max_cat'] = pv['min'].astype(int).astype(str) + ' to ' + pv['max'].astype(int).astype(str)\n",
    "    pv = pv.sort_values(by = 'min_max_cat')\n",
    "    \n",
    "    pv = pd.DataFrame(pv.to_records())\n",
    "    pv.columns = list(pv.columns[:-3]) + list(eval(i)[0] for i in pv.columns[-3:])\n",
    "    print (f'number of Attribute(s): {data.Attribute.nunique()}')\n",
    "\n",
    "    if display:\n",
    "        print (pv.min_max_cat.unique())\n",
    "    \n",
    "    return pv"
   ]
  },
  {
   "cell_type": "code",
   "execution_count": 16,
   "metadata": {},
   "outputs": [],
   "source": [
    "def pv_meaning_score(\n",
    "    data, \n",
    "    pv_idx = ['Attribute', 'Description', 'Desc', 'Additional notes'],\n",
    "    pv_val = ['Meaning', 'Score'],\n",
    "    display = True\n",
    "    ):\n",
    "    '''\n",
    "    function to display the summary of Meaning and Score values\n",
    "    after adding information from feature_desc\n",
    "    \n",
    "    data : dataframe to examine\n",
    "    pv_idx: list of pivot_table index\n",
    "    pv_val: list of pivot_table value\n",
    "    display: boolean, selection of result display\n",
    "    '''\n",
    "    data = vlookup(data, feature_desc, 'Attribute', ['Desc', 'Additional notes'], fill_na = 'no_info')\n",
    "    pv = pd.pivot_table(\n",
    "        data,\n",
    "        index = pv_idx,\n",
    "        values = pv_val,\n",
    "        aggfunc = lambda x: list(x))\n",
    "    \n",
    "    pv = pd.DataFrame(pv.to_records())\n",
    "    print (f'number of Attribute(s): {data.Attribute.nunique()}')\n",
    "    \n",
    "    if display:\n",
    "        view_all(pv.iloc[:5])\n",
    "    \n",
    "    return pv"
   ]
  },
  {
   "cell_type": "code",
   "execution_count": 17,
   "metadata": {},
   "outputs": [],
   "source": [
    "def pv_verify_null(\n",
    "    data,\n",
    "    null_list,\n",
    "    pv_idx = ['Attribute', 'Description', 'Desc', 'Additional notes'], \n",
    "    pv_val = ['Meaning', 'Score'],    \n",
    "    display = True\n",
    "    ):\n",
    "    '''\n",
    "    function to display the summary of Meaning and Score values\n",
    "    when Meaning values are in the list containing possibly null values \n",
    "    \n",
    "    data: dataframe to examine\n",
    "    null_list: list of possibly null values\n",
    "    pv_idx: pivot_table index\n",
    "    pv_val: list of pivot_table value\n",
    "    display: boolean, selection of result display\n",
    "    '''\n",
    "    null_check_Attribute = data.query('Meaning in @null_list').Attribute.to_list()\n",
    "    null_check = data.query('Attribute in @null_check_Attribute')\n",
    "    \n",
    "    pv = pv_meaning_score(null_check, pv_idx, pv_val, display)\n",
    "    \n",
    "    return pv"
   ]
  },
  {
   "attachments": {},
   "cell_type": "markdown",
   "metadata": {},
   "source": [
    "#### 2.1 reference features from info\n",
    "\n",
    "As datasets do not have information on what each column feature exactly means,  \n",
    "values of reference files have to be mapped to the features.\n",
    "  \n",
    "feature_desc below is for this needs, and formed with 369 column features from customers. \n",
    "\n",
    "After merging information columns, there are 264 features from both customers and info,  \n",
    "along with 105 exclusive features of customers lacking Description values."
   ]
  },
  {
   "cell_type": "code",
   "execution_count": 18,
   "metadata": {},
   "outputs": [
    {
     "name": "stdout",
     "output_type": "stream",
     "text": [
      "<class 'pandas.core.frame.DataFrame'>\n",
      "Int64Index: 369 entries, 0 to 368\n",
      "Data columns (total 6 columns):\n",
      " #   Column             Non-Null Count  Dtype \n",
      "---  ------             --------------  ----- \n",
      " 0   Attribute          369 non-null    object\n",
      " 1   Information level  9 non-null      object\n",
      " 2   Additional notes   17 non-null     object\n",
      " 3   Description        276 non-null    object\n",
      " 4   ger_to_eng         93 non-null     object\n",
      " 5   Desc               369 non-null    object\n",
      "dtypes: object(6)\n",
      "memory usage: 20.2+ KB\n"
     ]
    }
   ],
   "source": [
    "'''\n",
    "feature_desc with column features of customers and added information from info \n",
    "'''\n",
    "\n",
    "feature_desc = pd.DataFrame(customers.columns, columns=['Attribute'])\n",
    "feature_desc = vlookup(feature_desc, info, 'Attribute')\n",
    "\n",
    "'''\n",
    "To fill missing Descriptions, add some values from attr and create translation using googletrans.\n",
    "The result is saved in the root folder due to the time-consuming code execution.\n",
    "'''\n",
    "# # for Attribute without Description, add 12 Description values from attr\n",
    "# feature_desc = vlookup(feature_desc, attr, 'Attribute', 'Description', intsec = 'update')\n",
    "\n",
    "# # add Desc (colum of translation) using ger_to_eng\n",
    "# feature_desc['ger_to_eng'] = np.where(\n",
    "#     feature_desc.Description.isnull(),\n",
    "#     feature_desc.Attribute.str.replace('_', ' ').apply(ger_to_eng),\n",
    "#     np.nan)\n",
    "# feature_desc['Desc'] = feature_desc.Description.fillna('') + feature_desc.ger_to_eng.fillna('')\n",
    "\n",
    "feature_desc = pd.read_excel('feature_desc.xlsx', index_col = [0])\n",
    "feature_desc.info()"
   ]
  },
  {
   "attachments": {},
   "cell_type": "markdown",
   "metadata": {},
   "source": [
    "#### 2.2 feature alignment\n",
    "\n",
    "The improved readability of feature_desc has enhanced the understanding  \n",
    "of the overall structure of the datasets and the meanings of the features,  \n",
    "although some translations still remain unclear.  \n",
    "\n",
    "Since there are a few features that have similar contents, it is necessary  \n",
    "to perform imputation steps to resolve collinearity and reduce dimensionality  \n",
    "before proceeding with the modeling process.\n",
    "\n",
    "The following cells provide an overview of the number of features in each file  \n",
    "and illustrates the feature intersection and difference between the files."
   ]
  },
  {
   "cell_type": "code",
   "execution_count": 19,
   "metadata": {},
   "outputs": [
    {
     "name": "stdout",
     "output_type": "stream",
     "text": [
      "Number of features by file\n",
      "azdias : 366\n",
      "customers : 369\n",
      "info : 313\n",
      "attr : 314\n",
      "feature_desc : 369\n"
     ]
    }
   ],
   "source": [
    "feature_dict = {\n",
    "    'azdias' : set(azdias.columns.unique()),\n",
    "    'customers' : set(customers.columns.unique()),\n",
    "    'info' : set(info.Attribute.dropna().unique()),\n",
    "    'attr' : set(attr.Attribute.dropna().unique()),\n",
    "    'feature_desc' : set(feature_desc.Attribute.dropna().unique())\n",
    "    }\n",
    "\n",
    "print ('Number of features by file')\n",
    "for k, v in feature_dict.items():\n",
    "    print (k, ':', len(v))"
   ]
  },
  {
   "cell_type": "code",
   "execution_count": 20,
   "metadata": {},
   "outputs": [
    {
     "name": "stdout",
     "output_type": "stream",
     "text": [
      "Feature intersection & difference between files\n",
      "azdias & customers intersection:       366  /  in azdias & not-in customers:       0\n",
      "azdias & info intersection:            264  /  in azdias & not-in info:          102\n",
      "azdias & attr intersection:            272  /  in azdias & not-in attr:           94\n",
      "azdias & feature_desc intersection:    366  /  in azdias & not-in feature_desc:    0\n",
      "customers & azdias intersection:       366  /  in customers & not-in azdias:       3\n",
      "customers & info intersection:         264  /  in customers & not-in info:       105\n",
      "customers & attr intersection:         272  /  in customers & not-in attr:        97\n",
      "customers & feature_desc intersection: 369  /  in customers & not-in feature_desc: 0\n",
      "info & azdias intersection:            264  /  in info & not-in azdias:           49\n",
      "info & customers intersection:         264  /  in info & not-in customers:        49\n",
      "info & attr intersection:              300  /  in info & not-in attr:             13\n",
      "info & feature_desc intersection:      264  /  in info & not-in feature_desc:     49\n",
      "attr & azdias intersection:            272  /  in attr & not-in azdias:           42\n",
      "attr & customers intersection:         272  /  in attr & not-in customers:        42\n",
      "attr & info intersection:              300  /  in attr & not-in info:             14\n",
      "attr & feature_desc intersection:      272  /  in attr & not-in feature_desc:     42\n",
      "feature_desc & azdias intersection:    366  /  in feature_desc & not-in azdias:    3\n",
      "feature_desc & customers intersection: 369  /  in feature_desc & not-in customers: 0\n",
      "feature_desc & info intersection:      264  /  in feature_desc & not-in info:    105\n",
      "feature_desc & attr intersection:      272  /  in feature_desc & not-in attr:     97\n"
     ]
    }
   ],
   "source": [
    "print ('Feature intersection & difference between files')\n",
    "for i in range(0, 5):\n",
    "    for j in range (0, 5):\n",
    "        if i == j:\n",
    "            continue\n",
    "        \n",
    "        key_1 = list(feature_dict.keys())[i]\n",
    "        key_2 = list(feature_dict.keys())[j]\n",
    "        set_1 = list(feature_dict.values())[i]\n",
    "        set_2 = list(feature_dict.values())[j]\n",
    "        \n",
    "        intsec = set_1.intersection(set_2)\n",
    "        ft_diff = set_1 - set_2\n",
    "        feature_dict[f'{key_1}_intsec_{key_2}'] = intsec\n",
    "        feature_dict[f'in_{key_1}_notin_{key_2}'] = ft_diff\n",
    "        \n",
    "        intsec_print = f'{key_1} & {key_2} intersection:'\n",
    "        ft_diff_print = f' /  in {key_1} & not-in {key_2}:'        \n",
    "        print (intsec_print, str(len(intsec)).rjust(41 - len(intsec_print)),\n",
    "               ft_diff_print, str(len(ft_diff)).rjust(40 - len(ft_diff_print)))"
   ]
  },
  {
   "attachments": {},
   "cell_type": "markdown",
   "metadata": {},
   "source": [
    "#### 2.3 reference values from attr\n",
    "\n",
    "After identifying the dataset structure in parts 2.1 and 2.2 above,  \n",
    "part 2.3 focuses on examining the dataset contents.  \n",
    "In this part, various aspects such as the ranges of feature values,  \n",
    "values actually meaning null, data types, and more are to be verified,  \n",
    "and preliminary notes will be recorded on pre-processing requirements.\n",
    "\n",
    "<!-- ##### 2.3.0 attr modification -->\n",
    "\n",
    "Considering that info contains information about dataset features, attr contains  \n",
    "information about dataset values and the values within the datasets can be understood  \n",
    "by mapping them to the corresponding Meaning values in attr.\n",
    "\n",
    "However, it is necessary to initially modify attr since it is not in a neat form:\n",
    "* 2 numbers in 1 str value like '-1, 0' or number(s) in str like '-1'\n",
    "* add-on information cell below Description value cell\n",
    "* only 1st rows of Attribute & Description with values, etc."
   ]
  },
  {
   "attachments": {},
   "cell_type": "markdown",
   "metadata": {},
   "source": [
    "* clean attr"
   ]
  },
  {
   "cell_type": "code",
   "execution_count": 54,
   "metadata": {},
   "outputs": [
    {
     "name": "stdout",
     "output_type": "stream",
     "text": [
      "number of Attribute: 272\n",
      "<class 'pandas.core.frame.DataFrame'>\n",
      "Int64Index: 2004 entries, 0 to 2257\n",
      "Data columns (total 4 columns):\n",
      " #   Column       Non-Null Count  Dtype \n",
      "---  ------       --------------  ----- \n",
      " 0   Attribute    2004 non-null   object\n",
      " 1   Description  2004 non-null   object\n",
      " 2   Score        2004 non-null   object\n",
      " 3   Meaning      1993 non-null   object\n",
      "dtypes: object(4)\n",
      "memory usage: 78.3+ KB\n"
     ]
    }
   ],
   "source": [
    "# keep attr original\n",
    "attr_org = attr.copy()\n",
    "\n",
    "'''\n",
    "change numbers in str form\n",
    "'''\n",
    "# 2 numbers in 1 str value\n",
    "attr.Score = attr.Score.apply(\n",
    "    lambda x: [int(i) for i in x.split(',')] if isinstance(x, str) and ',' in x else x)\n",
    "attr = attr.explode('Score')\n",
    "# '-1' to -1\n",
    "attr.Score = attr.Score.apply(str_to_num)\n",
    "\n",
    "'''\n",
    "merge add-on information in some cells below Description\n",
    "'''\n",
    "# create attribute and description_shift with shift(-1)\n",
    "attr['attribute_shift'] = attr.Attribute.shift(-1).fillna('')\n",
    "attr['description_shift'] = attr.Description.shift(-1).fillna('')\n",
    "# merge Description and add-on\n",
    "attr.Description = attr.Description.mask(\n",
    "    (~(attr['Attribute'].isna()) & (attr['attribute_shift'].isna())),\n",
    "    attr.Description + ' ' + attr.description_shift)\n",
    "# replace add-on with np.nan\n",
    "attr.Description = attr.Description.mask(\n",
    "    (attr['Attribute'].isna()) & ~(attr['Description'].isna()),\n",
    "    np.nan)\n",
    "# drop description shift\n",
    "attr = attr.drop(['attribute_shift', 'description_shift'], axis = 1)\n",
    "\n",
    "'''\n",
    "fill blank cells with corresponding values as only 1st lines\n",
    "of Attribute & Description have values\n",
    "'''\n",
    "\n",
    "attr[['Attribute', 'Description']] = attr[\n",
    "    ['Attribute', 'Description']].fillna(method = 'ffill')\n",
    "\n",
    "'''\n",
    "keep 272 intersection features between attr and datasets,\n",
    "and drop exclusive features of datasets that are not useful at this step\n",
    "'''\n",
    "\n",
    "attr = attr[attr.Attribute.isin(feature_dict['attr_intsec_customers'])] # simple query not working\n",
    "\n",
    "print (f'number of Attribute: {attr.Attribute.nunique()}')\n",
    "attr.info()"
   ]
  },
  {
   "cell_type": "code",
   "execution_count": 55,
   "metadata": {},
   "outputs": [
    {
     "name": "stdout",
     "output_type": "stream",
     "text": [
      "LP_FAMILIE_GROB    6\n",
      "LP_STATUS_GROB     5\n",
      "Name: Attribute, dtype: int64\n",
      "            Attribute          Description Score                       Meaning\n",
      "1900  LP_FAMILIE_FEIN       familytyp fine     9                   shared flat\n",
      "1901  LP_FAMILIE_FEIN       familytyp fine    10    two-generational household\n",
      "1902  LP_FAMILIE_FEIN       familytyp fine    11  multi-generational household\n",
      "1911  LP_FAMILIE_GROB      familytyp rough     9         multiperson household\n",
      "1912  LP_FAMILIE_GROB      familytyp rough    10                           NaN\n",
      "1913  LP_FAMILIE_GROB      familytyp rough    11                           NaN\n",
      "1974   LP_STATUS_FEIN   social status fine     9                   houseowners\n",
      "1975   LP_STATUS_FEIN   social status fine    10                  top earners \n",
      "1984   LP_STATUS_GROB  social status rough     9                           NaN\n",
      "1985   LP_STATUS_GROB  social status rough    10                  top earners \n"
     ]
    }
   ],
   "source": [
    "'''\n",
    "A small issue detected here is that there are 11 lines without value of Meaning.  \n",
    "From the examination below, 2 features involved with these lines can be dropped,  \n",
    "as they have other features with similar but more detailed Meaning values.\n",
    "\n",
    "2 features are without Meaning values\n",
    "'''\n",
    "\n",
    "print (attr.query('Meaning.isnull()').Attribute.value_counts())\n",
    "\n",
    "'''\n",
    "these features can be dropped, as they have similar features\n",
    "with more detailed Meaning values\n",
    "'''\n",
    "\n",
    "attribute_without_meaning = attr.query('Attribute.str.contains(\"LP_FAMILIE|LP_STATUS\")')\n",
    "print (attribute_without_meaning.query('Score > 8'))"
   ]
  },
  {
   "cell_type": "code",
   "execution_count": 32,
   "metadata": {},
   "outputs": [],
   "source": [
    "'''\n",
    "NOTE dict p_process to note points to be pre-processed\n",
    "'''\n",
    "\n",
    "p_process = {'2.3' : 'drop features LP_FAMILIE_GROB / LP_STATUS_GROB'}\n",
    "\n",
    "# remove 2 features from attr\n",
    "attr = attr.query('Attribute not in [\"LP_FAMILIE_GROB\", \"LP_STATUS_GROB\"]')"
   ]
  },
  {
   "attachments": {},
   "cell_type": "markdown",
   "metadata": {},
   "source": [
    "* create pre-study dataframes by value form of Score"
   ]
  },
  {
   "cell_type": "code",
   "execution_count": 33,
   "metadata": {},
   "outputs": [
    {
     "data": {
      "text/plain": [
       "<class 'int'>    1930\n",
       "<class 'str'>      53\n",
       "Name: Score_form, dtype: int64"
      ]
     },
     "execution_count": 33,
     "metadata": {},
     "output_type": "execute_result"
    }
   ],
   "source": [
    "'''\n",
    "add delimiter column Score_form\n",
    "'''\n",
    "\n",
    "attr = attr.copy() # to avoid SettingWithCopyWarning\n",
    "attr['Score_form'] = attr.Score.map(type)\n",
    "attr.Score_form.value_counts()"
   ]
  },
  {
   "cell_type": "code",
   "execution_count": 34,
   "metadata": {},
   "outputs": [
    {
     "name": "stdout",
     "output_type": "stream",
     "text": [
      "number of Attribute(s): 262\n"
     ]
    }
   ],
   "source": [
    "'''\n",
    "attr_num containing Scores denoted in number\n",
    "'''\n",
    "\n",
    "attr_num = attr[attr.Score_form == int].copy()\n",
    "print (f'number of Attribute(s): {attr_num.Attribute.nunique()}')"
   ]
  },
  {
   "cell_type": "code",
   "execution_count": 35,
   "metadata": {},
   "outputs": [
    {
     "name": "stdout",
     "output_type": "stream",
     "text": [
      "number of Attribute(s): 9\n"
     ]
    }
   ],
   "source": [
    "'''\n",
    "attr_str containing Scores denoted in string\n",
    "'''\n",
    "\n",
    "attr_str = attr[attr.Score_form == str].copy()\n",
    "print (f'number of Attribute(s): {attr_str.Attribute.nunique()}')"
   ]
  },
  {
   "cell_type": "code",
   "execution_count": 36,
   "metadata": {},
   "outputs": [
    {
     "data": {
      "text/plain": [
       "{'OST_WEST_KZ'}"
      ]
     },
     "execution_count": 36,
     "metadata": {},
     "output_type": "execute_result"
    }
   ],
   "source": [
    "'''\n",
    "there is 1 feature that Scores are in both numeric and string forms\n",
    "'''\n",
    "\n",
    "set(attr_num.Attribute.unique()).intersection(set(attr_str.Attribute.unique()))"
   ]
  },
  {
   "attachments": {},
   "cell_type": "markdown",
   "metadata": {},
   "source": [
    "##### 2.3.1 attr Scores denoted in number\n",
    "\n",
    "From min/max categories 를 만들었으며, to be further checked are:   \n",
    "* If Score -1 and 0 contain data equal to null or -inf  \n",
    "* If max Score values contain data equal to null or inf\n",
    "* If features with wider min/max gap are discrete or continuous"
   ]
  },
  {
   "cell_type": "code",
   "execution_count": 37,
   "metadata": {},
   "outputs": [
    {
     "name": "stdout",
     "output_type": "stream",
     "text": [
      "number of Attribute(s): 262\n",
      "['-1 to -1' '-1 to 15' '-1 to 2' '-1 to 3' '-1 to 4' '-1 to 5' '-1 to 6'\n",
      " '-1 to 7' '-1 to 8' '-1 to 9' '0 to 1' '0 to 10' '0 to 21' '0 to 5'\n",
      " '0 to 6' '1 to 10' '1 to 11' '1 to 12' '1 to 40' '1 to 5' '1 to 6'\n",
      " '1 to 7' '1 to 9']\n"
     ]
    }
   ],
   "source": [
    "'''\n",
    "summary of attr_num with min/max value observed\n",
    "'''\n",
    "\n",
    "attr_num_score = pv_min_max(attr_num)"
   ]
  },
  {
   "attachments": {},
   "cell_type": "markdown",
   "metadata": {},
   "source": [
    "* **cases of Score -1 and 0**\n",
    "     \n",
    "  i) All Score value -1s in datasets should be replaced to null,  \n",
    "    as the reference of attr shows that it always means unknown.\n",
    "\n",
    "  ii) Few Score value 0s can be replaced to null if the corresponding  \n",
    "    value of Meaning is in list to_null.\n",
    "\n",
    "  iii) All other Score value 0s should be remained, as the reference  \n",
    "    of attr shows value 0 is not meaning null in nearly all cases.  \n",
    "\n",
    "  Analyses for this conclusion are in the following cells."
   ]
  },
  {
   "cell_type": "code",
   "execution_count": 38,
   "metadata": {},
   "outputs": [
    {
     "data": {
      "text/plain": [
       "unknown    222\n",
       "Name: Meaning, dtype: int64"
      ]
     },
     "execution_count": 38,
     "metadata": {},
     "output_type": "execute_result"
    }
   ],
   "source": [
    "'''\n",
    "when Score value is -1, the meaning is 100% unknown in reference file\n",
    "'''\n",
    "\n",
    "attr_num.query('Score < 0').Meaning.value_counts()"
   ]
  },
  {
   "cell_type": "code",
   "execution_count": 39,
   "metadata": {},
   "outputs": [
    {
     "data": {
      "text/plain": [
       "none                                                136\n",
       "unknown                                              15\n",
       "no transactions known                                10\n",
       "no Online-transactions within the last 12 months      3\n",
       "no classification possible                            1\n",
       "unknown / no main age detectable                      1\n",
       "doesn't belong to the green avantgarde                1\n",
       "classification not possible                           1\n",
       "no 1-2 family homes                                   1\n",
       "no 3-5 family homes                                   1\n",
       "no 6-10 family homes                                  1\n",
       "no >10 family homes                                   1\n",
       "external supplied hedonists                           1\n",
       "no score calculated                                   1\n",
       "Name: Meaning, dtype: int64"
      ]
     },
     "execution_count": 39,
     "metadata": {},
     "output_type": "execute_result"
    }
   ],
   "source": [
    "'''\n",
    "when Score value is 0, it means none in most cases,\n",
    "and there are also some corresponding Meaning values\n",
    "that seem to be definitely equal to null\n",
    "'''\n",
    "\n",
    "attr_num.query('Score == 0').Meaning.value_counts()"
   ]
  },
  {
   "cell_type": "code",
   "execution_count": 42,
   "metadata": {},
   "outputs": [
    {
     "name": "stdout",
     "output_type": "stream",
     "text": [
      "number of Attribute(s): 247\n"
     ]
    },
    {
     "data": {
      "text/html": [
       "<div>\n",
       "<style scoped>\n",
       "    .dataframe tbody tr th:only-of-type {\n",
       "        vertical-align: middle;\n",
       "    }\n",
       "\n",
       "    .dataframe tbody tr th {\n",
       "        vertical-align: top;\n",
       "    }\n",
       "\n",
       "    .dataframe thead th {\n",
       "        text-align: right;\n",
       "    }\n",
       "</style>\n",
       "<table border=\"1\" class=\"dataframe\">\n",
       "  <thead>\n",
       "    <tr style=\"text-align: right;\">\n",
       "      <th></th>\n",
       "      <th>Attribute</th>\n",
       "      <th>Description</th>\n",
       "      <th>Desc</th>\n",
       "      <th>Additional notes</th>\n",
       "      <th>Meaning</th>\n",
       "      <th>Score</th>\n",
       "    </tr>\n",
       "  </thead>\n",
       "  <tbody>\n",
       "    <tr>\n",
       "      <th>0</th>\n",
       "      <td>AGER_TYP</td>\n",
       "      <td>best-ager typology</td>\n",
       "      <td>best-ager typology</td>\n",
       "      <td>in cooperation with Kantar TNS; the information basis is a consumer survey</td>\n",
       "      <td>[unknown, no classification possible, passive elderly, cultural elderly, experience-driven elderly]</td>\n",
       "      <td>[-1, 0, 1, 2, 3]</td>\n",
       "    </tr>\n",
       "    <tr>\n",
       "      <th>1</th>\n",
       "      <td>ALTERSKATEGORIE_GROB</td>\n",
       "      <td>age classification through prename analysis</td>\n",
       "      <td>age classification through prename analysis</td>\n",
       "      <td>modelled on millions of first name-age-reference data</td>\n",
       "      <td>[unknown, unknown, &lt; 30 years, 30 - 45 years, 46 - 60 years, &gt; 60 years, uniformly distributed]</td>\n",
       "      <td>[-1, 0, 1, 2, 3, 4, 9]</td>\n",
       "    </tr>\n",
       "    <tr>\n",
       "      <th>2</th>\n",
       "      <td>ALTER_HH</td>\n",
       "      <td>main age within the household</td>\n",
       "      <td>main age within the household</td>\n",
       "      <td>no_info</td>\n",
       "      <td>[unknown / no main age detectable, 01.01.1895 bis 31.12.1899, 01.01.1900 bis 31.12.1904, 01.01.1905 bis 31.12.1909, 01.01.1910 bis 31.12.1914, 01.01.1915 bis 31.12.1919, 01.01.1920 bis 31.12.1924, 01.01.1925 bis 31.12.1929, 01.01.1930 bis 31.12.1934, 01.01.1935 bis 31.12.1939, 01.01.1940 bis 31.12.1944, 01.01.1945 bis 31.12.1949, 01.01.1950 bis 31.12.1954, 01.01.1955 bis 31.12.1959, 01.01.1960 bis 31.12.1964, 01.01.1965 bis 31.12.1969, 01.01.1970 bis 31.12.1974, 01.01.1975 bis 31.12.1979, 01.01.1980 bis 31.12.1984, 01.01.1985 bis 31.12.1989, 01.01.1990 bis 31.12.1994, 01.01.1995 bis 31.12.1999]</td>\n",
       "      <td>[0, 1, 2, 3, 4, 5, 6, 7, 8, 9, 10, 11, 12, 13, 14, 15, 16, 17, 18, 19, 20, 21]</td>\n",
       "    </tr>\n",
       "    <tr>\n",
       "      <th>3</th>\n",
       "      <td>ANREDE_KZ</td>\n",
       "      <td>gender</td>\n",
       "      <td>gender</td>\n",
       "      <td>no_info</td>\n",
       "      <td>[unknown, unknown, male, female]</td>\n",
       "      <td>[-1, 0, 1, 2]</td>\n",
       "    </tr>\n",
       "    <tr>\n",
       "      <th>4</th>\n",
       "      <td>BALLRAUM</td>\n",
       "      <td>distance to next urban centre</td>\n",
       "      <td>distance to next urban centre</td>\n",
       "      <td>no_info</td>\n",
       "      <td>[unknown, till 10 km, 10 - 20 km, 20 - 30 km, 30 - 40 km, 40 - 50 km, 50-100 km, more than 100 km ]</td>\n",
       "      <td>[-1, 1, 2, 3, 4, 5, 6, 7]</td>\n",
       "    </tr>\n",
       "  </tbody>\n",
       "</table>\n",
       "</div>"
      ],
      "text/plain": [
       "              Attribute                                   Description  \\\n",
       "0              AGER_TYP                            best-ager typology   \n",
       "1  ALTERSKATEGORIE_GROB  age classification through prename analysis    \n",
       "2              ALTER_HH                 main age within the household   \n",
       "3             ANREDE_KZ                                        gender   \n",
       "4              BALLRAUM                distance to next urban centre    \n",
       "\n",
       "                                           Desc  \\\n",
       "0                            best-ager typology   \n",
       "1  age classification through prename analysis    \n",
       "2                 main age within the household   \n",
       "3                                        gender   \n",
       "4                distance to next urban centre    \n",
       "\n",
       "                                                             Additional notes  \\\n",
       "0  in cooperation with Kantar TNS; the information basis is a consumer survey   \n",
       "1                     modelled on millions of first name-age-reference data     \n",
       "2                                                                     no_info   \n",
       "3                                                                     no_info   \n",
       "4                                                                     no_info   \n",
       "\n",
       "                                                                                                                                                                                                                                                                                                                                                                                                                                                                                                                                                                                                                     Meaning  \\\n",
       "0                                                                                                                                                                                                                                                                                                                                                                                                                                                                                                                        [unknown, no classification possible, passive elderly, cultural elderly, experience-driven elderly]   \n",
       "1                                                                                                                                                                                                                                                                                                                                                                                                                                                                                                                            [unknown, unknown, < 30 years, 30 - 45 years, 46 - 60 years, > 60 years, uniformly distributed]   \n",
       "2  [unknown / no main age detectable, 01.01.1895 bis 31.12.1899, 01.01.1900 bis 31.12.1904, 01.01.1905 bis 31.12.1909, 01.01.1910 bis 31.12.1914, 01.01.1915 bis 31.12.1919, 01.01.1920 bis 31.12.1924, 01.01.1925 bis 31.12.1929, 01.01.1930 bis 31.12.1934, 01.01.1935 bis 31.12.1939, 01.01.1940 bis 31.12.1944, 01.01.1945 bis 31.12.1949, 01.01.1950 bis 31.12.1954, 01.01.1955 bis 31.12.1959, 01.01.1960 bis 31.12.1964, 01.01.1965 bis 31.12.1969, 01.01.1970 bis 31.12.1974, 01.01.1975 bis 31.12.1979, 01.01.1980 bis 31.12.1984, 01.01.1985 bis 31.12.1989, 01.01.1990 bis 31.12.1994, 01.01.1995 bis 31.12.1999]   \n",
       "3                                                                                                                                                                                                                                                                                                                                                                                                                                                                                                                                                                                           [unknown, unknown, male, female]   \n",
       "4                                                                                                                                                                                                                                                                                                                                                                                                                                                                                                                        [unknown, till 10 km, 10 - 20 km, 20 - 30 km, 30 - 40 km, 40 - 50 km, 50-100 km, more than 100 km ]   \n",
       "\n",
       "                                                                            Score  \n",
       "0                                                                [-1, 0, 1, 2, 3]  \n",
       "1                                                          [-1, 0, 1, 2, 3, 4, 9]  \n",
       "2  [0, 1, 2, 3, 4, 5, 6, 7, 8, 9, 10, 11, 12, 13, 14, 15, 16, 17, 18, 19, 20, 21]  \n",
       "3                                                                   [-1, 0, 1, 2]  \n",
       "4                                                       [-1, 1, 2, 3, 4, 5, 6, 7]  "
      ]
     },
     "metadata": {},
     "output_type": "display_data"
    }
   ],
   "source": [
    "'''\n",
    "select Meaning values which seems to be definitely null,\n",
    "and verify them\n",
    "'''\n",
    "to_null = ['unknown', 'no transactions known', 'no classification possible',\n",
    "           'unknown / no main age detectable', 'classification not possible',\n",
    "           'no score calculated'\n",
    "            ]\n",
    "\n",
    "verify_to_null = pv_verify_null(attr_num, to_null)"
   ]
  },
  {
   "cell_type": "code",
   "execution_count": 43,
   "metadata": {},
   "outputs": [
    {
     "name": "stdout",
     "output_type": "stream",
     "text": [
      "number of Attribute(s): 137\n"
     ]
    },
    {
     "data": {
      "text/html": [
       "<div>\n",
       "<style scoped>\n",
       "    .dataframe tbody tr th:only-of-type {\n",
       "        vertical-align: middle;\n",
       "    }\n",
       "\n",
       "    .dataframe tbody tr th {\n",
       "        vertical-align: top;\n",
       "    }\n",
       "\n",
       "    .dataframe thead th {\n",
       "        text-align: right;\n",
       "    }\n",
       "</style>\n",
       "<table border=\"1\" class=\"dataframe\">\n",
       "  <thead>\n",
       "    <tr style=\"text-align: right;\">\n",
       "      <th></th>\n",
       "      <th>Attribute</th>\n",
       "      <th>Description</th>\n",
       "      <th>Desc</th>\n",
       "      <th>Additional notes</th>\n",
       "      <th>Meaning</th>\n",
       "      <th>Score</th>\n",
       "    </tr>\n",
       "  </thead>\n",
       "  <tbody>\n",
       "    <tr>\n",
       "      <th>0</th>\n",
       "      <td>KBA05_ALTER1</td>\n",
       "      <td>share of car owners less than 31 years old</td>\n",
       "      <td>share of car owners less than 31 years old</td>\n",
       "      <td>no_info</td>\n",
       "      <td>[unknown, unknown, none, low, average, high, very high]</td>\n",
       "      <td>[-1, 9, 0, 1, 2, 3, 4]</td>\n",
       "    </tr>\n",
       "    <tr>\n",
       "      <th>1</th>\n",
       "      <td>KBA05_ALTER4</td>\n",
       "      <td>share of cars owners elder than 61 years</td>\n",
       "      <td>share of cars owners elder than 61 years</td>\n",
       "      <td>no_info</td>\n",
       "      <td>[unknown, unknown, none, very low, low, average, high, very high]</td>\n",
       "      <td>[-1, 9, 0, 1, 2, 3, 4, 5]</td>\n",
       "    </tr>\n",
       "    <tr>\n",
       "      <th>2</th>\n",
       "      <td>KBA05_ANHANG</td>\n",
       "      <td>share of trailers in the microcell</td>\n",
       "      <td>share of trailers in the microcell</td>\n",
       "      <td>no_info</td>\n",
       "      <td>[unknown, unknown, none, some, some more, very many]</td>\n",
       "      <td>[-1, 9, 0, 1, 2, 3]</td>\n",
       "    </tr>\n",
       "    <tr>\n",
       "      <th>3</th>\n",
       "      <td>KBA05_CCM4</td>\n",
       "      <td>share of cars with more than 2499ccm</td>\n",
       "      <td>share of cars with more than 2499ccm</td>\n",
       "      <td>no_info</td>\n",
       "      <td>[unknown, unknown, none, low, average, high, very high]</td>\n",
       "      <td>[-1, 9, 0, 1, 2, 3, 4]</td>\n",
       "    </tr>\n",
       "    <tr>\n",
       "      <th>4</th>\n",
       "      <td>KBA05_DIESEL</td>\n",
       "      <td>share of cars with Diesel-engine in the microcell</td>\n",
       "      <td>share of cars with Diesel-engine in the microcell</td>\n",
       "      <td>no_info</td>\n",
       "      <td>[unknown, unknown, none, very low, low, average, high]</td>\n",
       "      <td>[-1, 9, 0, 1, 2, 3, 4]</td>\n",
       "    </tr>\n",
       "  </tbody>\n",
       "</table>\n",
       "</div>"
      ],
      "text/plain": [
       "      Attribute                                        Description  \\\n",
       "0  KBA05_ALTER1         share of car owners less than 31 years old   \n",
       "1  KBA05_ALTER4           share of cars owners elder than 61 years   \n",
       "2  KBA05_ANHANG                 share of trailers in the microcell   \n",
       "3    KBA05_CCM4               share of cars with more than 2499ccm   \n",
       "4  KBA05_DIESEL  share of cars with Diesel-engine in the microcell   \n",
       "\n",
       "                                                Desc Additional notes  \\\n",
       "0         share of car owners less than 31 years old          no_info   \n",
       "1           share of cars owners elder than 61 years          no_info   \n",
       "2                 share of trailers in the microcell          no_info   \n",
       "3               share of cars with more than 2499ccm          no_info   \n",
       "4  share of cars with Diesel-engine in the microcell          no_info   \n",
       "\n",
       "                                                             Meaning  \\\n",
       "0            [unknown, unknown, none, low, average, high, very high]   \n",
       "1  [unknown, unknown, none, very low, low, average, high, very high]   \n",
       "2               [unknown, unknown, none, some, some more, very many]   \n",
       "3            [unknown, unknown, none, low, average, high, very high]   \n",
       "4             [unknown, unknown, none, very low, low, average, high]   \n",
       "\n",
       "                       Score  \n",
       "0     [-1, 9, 0, 1, 2, 3, 4]  \n",
       "1  [-1, 9, 0, 1, 2, 3, 4, 5]  \n",
       "2        [-1, 9, 0, 1, 2, 3]  \n",
       "3     [-1, 9, 0, 1, 2, 3, 4]  \n",
       "4     [-1, 9, 0, 1, 2, 3, 4]  "
      ]
     },
     "metadata": {},
     "output_type": "display_data"
    }
   ],
   "source": [
    "maybe_null = ['none']\n",
    "\n",
    "'''\n",
    "check if none is also equal to null and should be added to to_nul:\n",
    "none does not mean null in any case (see examples below).\n",
    "'''\n",
    "\n",
    "verify_maybe_null = pv_verify_null(attr_num, maybe_null)"
   ]
  },
  {
   "cell_type": "code",
   "execution_count": 44,
   "metadata": {},
   "outputs": [],
   "source": [
    "'''\n",
    "NOTE pre-processing items\n",
    "'''\n",
    "\n",
    "p_process['2.3.1-value_-1'] = 'replace all -1 Score to null'\n",
    "p_process['2.3.1-to_null'] = 'replace Scores, of which corresponding Meanings are in to_null, to null'"
   ]
  },
  {
   "attachments": {},
   "cell_type": "markdown",
   "metadata": {},
   "source": [
    "* **max Score values**  \n",
    "  \n",
    "  some Meaning values linked to max Scores seem to possibly be null.  \n",
    "  However most of them are not verified as null or already in list to_null. "
   ]
  },
  {
   "cell_type": "code",
   "execution_count": 45,
   "metadata": {},
   "outputs": [
    {
     "data": {
      "text/plain": [
       "array(['experience-driven elderly', 'uniformly distributed',\n",
       "       '01.01.1995 bis 31.12.1999', 'female', 'more than 100 km ',\n",
       "       'urban working class',\n",
       "       'Advertising-Enthusiast with restricted Cross-Channel-Behaviour ',\n",
       "       'very high activity', 'no transactions known',\n",
       "       '100% Online-transactions within the last 12 months', 'Inactive',\n",
       "       'more than 999 HH/²', 'unremarkable', 'very low',\n",
       "       'mixed building without actually known company ',\n",
       "       'residential cell', 'without vacation',\n",
       "       'belongs to the green avantgarde', 'jaunty hedonists ',\n",
       "       'very low income', 'distance to the city centre > 40 km',\n",
       "       'unknown', 'very high share of 1-2 family homes',\n",
       "       'very high share of 3-5 family homes',\n",
       "       'high share of 6-10 family homes',\n",
       "       'high share of >10 family homes',\n",
       "       'mainly business buildings in the microcell', '>=23 buildings',\n",
       "       'very high', 'high', 'mainly very big engines', 'low',\n",
       "       'building is not located in a 10 x 10km-range to a a consumption cell',\n",
       "       'multi-generational household',\n",
       "       'top earners at retirement age from mulitperson households',\n",
       "       'high-income earners of higher age from multiperson households',\n",
       "       'top earners ', 'none', 'assimilated names', 'highest  ',\n",
       "       '> 700.000  inhabitants', 'very high share', 'high share',\n",
       "       'mainly business building', 'more than 449 buildings',\n",
       "       'more than 849 households',\n",
       "       '90ies - ecological awareness (Avantgarde, O+W)',\n",
       "       'marginal groups', 'determined Minimal-Returner',\n",
       "       'demanding shopper', 'other', 'individualistic-accepting risks',\n",
       "       'length of residence more than 10 years',\n",
       "       'new building in rural neighbourhood', 'very unlikely'],\n",
       "      dtype=object)"
      ]
     },
     "execution_count": 45,
     "metadata": {},
     "output_type": "execute_result"
    }
   ],
   "source": [
    "'''\n",
    "Meaning values corresponding to max Scores\n",
    "'''\n",
    "# row indexes corresponding to max Scores of Attributes  \n",
    "attr_num['Score'] = attr_num.Score.astype(float)\n",
    "max_idx = attr_num.groupby('Attribute')['Score'].idxmax()\n",
    "\n",
    "attr_num.loc[max_idx].Meaning.unique()"
   ]
  },
  {
   "cell_type": "code",
   "execution_count": 46,
   "metadata": {},
   "outputs": [
    {
     "data": {
      "text/plain": [
       "['uniformly distributed', 'Inactive', 'unremarkable', 'other', 'indifferent']"
      ]
     },
     "execution_count": 46,
     "metadata": {},
     "output_type": "execute_result"
    }
   ],
   "source": [
    "'''\n",
    "select Meaning values to be checked\n",
    "'''\n",
    "maybe_null = ['uniformly distributed', 'no transactions known', 'Inactive', 'unremarkable',\n",
    "              'unknown', 'other', 'indifferent']\n",
    "\n",
    "# filter values already in to_null\n",
    "maybe_null = [i for i in maybe_null if i not in to_null]\n",
    "maybe_null"
   ]
  },
  {
   "cell_type": "code",
   "execution_count": 47,
   "metadata": {},
   "outputs": [
    {
     "name": "stdout",
     "output_type": "stream",
     "text": [
      "number of Attribute(s): 5\n"
     ]
    },
    {
     "data": {
      "text/html": [
       "<div>\n",
       "<style scoped>\n",
       "    .dataframe tbody tr th:only-of-type {\n",
       "        vertical-align: middle;\n",
       "    }\n",
       "\n",
       "    .dataframe tbody tr th {\n",
       "        vertical-align: top;\n",
       "    }\n",
       "\n",
       "    .dataframe thead th {\n",
       "        text-align: right;\n",
       "    }\n",
       "</style>\n",
       "<table border=\"1\" class=\"dataframe\">\n",
       "  <thead>\n",
       "    <tr style=\"text-align: right;\">\n",
       "      <th></th>\n",
       "      <th>Attribute</th>\n",
       "      <th>Description</th>\n",
       "      <th>Desc</th>\n",
       "      <th>Additional notes</th>\n",
       "      <th>Meaning</th>\n",
       "      <th>Score</th>\n",
       "    </tr>\n",
       "  </thead>\n",
       "  <tbody>\n",
       "    <tr>\n",
       "      <th>0</th>\n",
       "      <td>ALTERSKATEGORIE_GROB</td>\n",
       "      <td>age classification through prename analysis</td>\n",
       "      <td>age classification through prename analysis</td>\n",
       "      <td>modelled on millions of first name-age-reference data</td>\n",
       "      <td>[unknown, unknown, &lt; 30 years, 30 - 45 years, 46 - 60 years, &gt; 60 years, uniformly distributed]</td>\n",
       "      <td>[-1.0, 0.0, 1.0, 2.0, 3.0, 4.0, 9.0]</td>\n",
       "    </tr>\n",
       "    <tr>\n",
       "      <th>1</th>\n",
       "      <td>D19_KONSUMTYP</td>\n",
       "      <td>consumption type</td>\n",
       "      <td>consumption type</td>\n",
       "      <td>no_info</td>\n",
       "      <td>[Universal, Versatile, Gourmet, Family, Informed , Modern, Inactive]</td>\n",
       "      <td>[1.0, 2.0, 3.0, 4.0, 5.0, 6.0, 9.0]</td>\n",
       "    </tr>\n",
       "    <tr>\n",
       "      <th>2</th>\n",
       "      <td>FINANZTYP</td>\n",
       "      <td>best descirbing financial type for the person</td>\n",
       "      <td>best descirbing financial type for the person</td>\n",
       "      <td>no_info</td>\n",
       "      <td>[unknown, low finacial interest, money saver, main focus is the own house, be prepared, Investor, unremarkable]</td>\n",
       "      <td>[-1.0, 1.0, 2.0, 3.0, 4.0, 5.0, 6.0]</td>\n",
       "    </tr>\n",
       "    <tr>\n",
       "      <th>3</th>\n",
       "      <td>TITEL_KZ</td>\n",
       "      <td>flag whether this person holds an academic title</td>\n",
       "      <td>flag whether this person holds an academic title</td>\n",
       "      <td>no_info</td>\n",
       "      <td>[unknown, unknown, Dr., Dr. Dr., Prof., Prof. Dr., other]</td>\n",
       "      <td>[-1.0, 0.0, 1.0, 2.0, 3.0, 4.0, 5.0]</td>\n",
       "    </tr>\n",
       "    <tr>\n",
       "      <th>4</th>\n",
       "      <td>ZABEOTYP</td>\n",
       "      <td>typification of energy consumers</td>\n",
       "      <td>typification of energy consumers</td>\n",
       "      <td>modelled on different AZ DIAS data</td>\n",
       "      <td>[unknown, unknown, green, smart, fair supplied, price driven, seeking orientation, indifferent]</td>\n",
       "      <td>[-1.0, 9.0, 1.0, 2.0, 3.0, 4.0, 5.0, 6.0]</td>\n",
       "    </tr>\n",
       "  </tbody>\n",
       "</table>\n",
       "</div>"
      ],
      "text/plain": [
       "              Attribute                                       Description  \\\n",
       "0  ALTERSKATEGORIE_GROB      age classification through prename analysis    \n",
       "1         D19_KONSUMTYP                                 consumption type    \n",
       "2             FINANZTYP     best descirbing financial type for the person   \n",
       "3              TITEL_KZ  flag whether this person holds an academic title   \n",
       "4              ZABEOTYP                  typification of energy consumers   \n",
       "\n",
       "                                               Desc  \\\n",
       "0      age classification through prename analysis    \n",
       "1                                 consumption type    \n",
       "2     best descirbing financial type for the person   \n",
       "3  flag whether this person holds an academic title   \n",
       "4                  typification of energy consumers   \n",
       "\n",
       "                                          Additional notes  \\\n",
       "0  modelled on millions of first name-age-reference data     \n",
       "1                                                  no_info   \n",
       "2                                                  no_info   \n",
       "3                                                  no_info   \n",
       "4                       modelled on different AZ DIAS data   \n",
       "\n",
       "                                                                                                           Meaning  \\\n",
       "0                  [unknown, unknown, < 30 years, 30 - 45 years, 46 - 60 years, > 60 years, uniformly distributed]   \n",
       "1                                             [Universal, Versatile, Gourmet, Family, Informed , Modern, Inactive]   \n",
       "2  [unknown, low finacial interest, money saver, main focus is the own house, be prepared, Investor, unremarkable]   \n",
       "3                                                        [unknown, unknown, Dr., Dr. Dr., Prof., Prof. Dr., other]   \n",
       "4                  [unknown, unknown, green, smart, fair supplied, price driven, seeking orientation, indifferent]   \n",
       "\n",
       "                                       Score  \n",
       "0       [-1.0, 0.0, 1.0, 2.0, 3.0, 4.0, 9.0]  \n",
       "1        [1.0, 2.0, 3.0, 4.0, 5.0, 6.0, 9.0]  \n",
       "2       [-1.0, 1.0, 2.0, 3.0, 4.0, 5.0, 6.0]  \n",
       "3       [-1.0, 0.0, 1.0, 2.0, 3.0, 4.0, 5.0]  \n",
       "4  [-1.0, 9.0, 1.0, 2.0, 3.0, 4.0, 5.0, 6.0]  "
      ]
     },
     "metadata": {},
     "output_type": "display_data"
    }
   ],
   "source": [
    "'''\n",
    "check if Meaning values of maybe_null should be added to to_nul\n",
    "'''\n",
    "\n",
    "verify_maybe_null = pv_verify_null(attr_num, maybe_null)"
   ]
  },
  {
   "cell_type": "code",
   "execution_count": 48,
   "metadata": {},
   "outputs": [],
   "source": [
    "'''\n",
    "form list maybe_null add only 'inactive' to to_null,\n",
    "as other values seems to have their own meanings\n",
    "'''\n",
    "\n",
    "to_null.append('Inactive')"
   ]
  },
  {
   "attachments": {},
   "cell_type": "markdown",
   "metadata": {},
   "source": [
    "* **data type of features with wider min/max Score gap**\n",
    "  \n",
    "  All features that have min/max Score gap over 10 are found to be discrete"
   ]
  },
  {
   "cell_type": "code",
   "execution_count": 49,
   "metadata": {},
   "outputs": [
    {
     "name": "stdout",
     "output_type": "stream",
     "text": [
      "number of Attribute(s): 5\n"
     ]
    },
    {
     "data": {
      "text/html": [
       "<div>\n",
       "<style scoped>\n",
       "    .dataframe tbody tr th:only-of-type {\n",
       "        vertical-align: middle;\n",
       "    }\n",
       "\n",
       "    .dataframe tbody tr th {\n",
       "        vertical-align: top;\n",
       "    }\n",
       "\n",
       "    .dataframe thead th {\n",
       "        text-align: right;\n",
       "    }\n",
       "</style>\n",
       "<table border=\"1\" class=\"dataframe\">\n",
       "  <thead>\n",
       "    <tr style=\"text-align: right;\">\n",
       "      <th></th>\n",
       "      <th>Attribute</th>\n",
       "      <th>Description</th>\n",
       "      <th>Desc</th>\n",
       "      <th>Additional notes</th>\n",
       "      <th>Meaning</th>\n",
       "      <th>Score</th>\n",
       "    </tr>\n",
       "  </thead>\n",
       "  <tbody>\n",
       "    <tr>\n",
       "      <th>0</th>\n",
       "      <td>ALTER_HH</td>\n",
       "      <td>main age within the household</td>\n",
       "      <td>main age within the household</td>\n",
       "      <td>no_info</td>\n",
       "      <td>[unknown / no main age detectable, 01.01.1895 bis 31.12.1899, 01.01.1900 bis 31.12.1904, 01.01.1905 bis 31.12.1909, 01.01.1910 bis 31.12.1914, 01.01.1915 bis 31.12.1919, 01.01.1920 bis 31.12.1924, 01.01.1925 bis 31.12.1929, 01.01.1930 bis 31.12.1934, 01.01.1935 bis 31.12.1939, 01.01.1940 bis 31.12.1944, 01.01.1945 bis 31.12.1949, 01.01.1950 bis 31.12.1954, 01.01.1955 bis 31.12.1959, 01.01.1960 bis 31.12.1964, 01.01.1965 bis 31.12.1969, 01.01.1970 bis 31.12.1974, 01.01.1975 bis 31.12.1979, 01.01.1980 bis 31.12.1984, 01.01.1985 bis 31.12.1989, 01.01.1990 bis 31.12.1994, 01.01.1995 bis 31.12.1999]</td>\n",
       "      <td>[0.0, 1.0, 2.0, 3.0, 4.0, 5.0, 6.0, 7.0, 8.0, 9.0, 10.0, 11.0, 12.0, 13.0, 14.0, 15.0, 16.0, 17.0, 18.0, 19.0, 20.0, 21.0]</td>\n",
       "    </tr>\n",
       "    <tr>\n",
       "      <th>1</th>\n",
       "      <td>GFK_URLAUBERTYP</td>\n",
       "      <td>vacation habits</td>\n",
       "      <td>vacation habits</td>\n",
       "      <td>no_info</td>\n",
       "      <td>[Event travelers, Family-oriented vacationists, Winter sportspeople, Culture lovers, Nature fans, Hiker, Golden ager, Homeland-connected vacationists , Package tour travelers, Connoisseurs, Active families, without vacation]</td>\n",
       "      <td>[1.0, 2.0, 3.0, 4.0, 5.0, 6.0, 7.0, 8.0, 9.0, 10.0, 11.0, 12.0]</td>\n",
       "    </tr>\n",
       "    <tr>\n",
       "      <th>2</th>\n",
       "      <td>LP_LEBENSPHASE_FEIN</td>\n",
       "      <td>lifestage fine</td>\n",
       "      <td>lifestage fine</td>\n",
       "      <td>modelled on different AZ DIAS data</td>\n",
       "      <td>[single low-income earners of younger age, single low-income earners of middle age, single average earners of younger age , single average earners of middle age, single low-income earners of advanced age, single low-income earners at retirement age , single average earners of advanced age, single average earners at retirement age, single independant persons, wealthy single homeowners, single homeowners of advanced age, single homeowners at retirement age, single top earners of higher age , low-income- and average earner-couples of younger age, low-income earner-couples of higher age, average earner-couples of higher age , independant couples, wealthy homeowner-couples of younger age , homeowner-couples of higher age, top earner-couples of higher age, single parent low-income earners, single parent average earners, single parent high-income earners, low-income earner-families, average earner-families , independant families, homeowner-families, top earner-families, low-income earners of younger age from mulitperson households, average earners of younger age from mulitperson households, low-income earners of higher age from mulitperson households, average earners of higher age from mulitperson households, independant persons of younger age from mulitperson households, homeowners of younger age from mulitperson households, top earners of younger age from mulitperson households, independant persons of higher age from mulitperson households, homeowners of advanced age from mulitperson households, homeowners at retirement age from mulitperson households, top earners of middle age from mulitperson households, top earners at retirement age from mulitperson households]</td>\n",
       "      <td>[1.0, 2.0, 3.0, 4.0, 5.0, 6.0, 7.0, 8.0, 9.0, 10.0, 11.0, 12.0, 13.0, 14.0, 15.0, 16.0, 17.0, 18.0, 19.0, 20.0, 21.0, 22.0, 23.0, 24.0, 25.0, 26.0, 27.0, 28.0, 29.0, 30.0, 31.0, 32.0, 33.0, 34.0, 35.0, 36.0, 37.0, 38.0, 39.0, 40.0]</td>\n",
       "    </tr>\n",
       "    <tr>\n",
       "      <th>3</th>\n",
       "      <td>LP_LEBENSPHASE_GROB</td>\n",
       "      <td>lifestage rough</td>\n",
       "      <td>lifestage rough</td>\n",
       "      <td>modelled on different AZ DIAS data</td>\n",
       "      <td>[single low-income- and average earners of younger age , single low-income- and average earners of higher age , single high-income earners, single low-income- and average earner-couples , single high-income earner-couples, single parents, single low-income- and average earner-families, high-income earner-families, average earners of younger age from mulitperson households, low-income- and average earners of higher age from mulitperson households, high-income earners of younger age from multiperson households, high-income earners of higher age from multiperson households]</td>\n",
       "      <td>[1.0, 2.0, 3.0, 4.0, 5.0, 6.0, 7.0, 8.0, 9.0, 10.0, 11.0, 12.0]</td>\n",
       "    </tr>\n",
       "    <tr>\n",
       "      <th>4</th>\n",
       "      <td>PRAEGENDE_JUGENDJAHRE</td>\n",
       "      <td>dominating movement in the person's youth (avantgarde or mainstream)</td>\n",
       "      <td>dominating movement in the person's youth (avantgarde or mainstream)</td>\n",
       "      <td>own typology modelled on different AZ DIAS data</td>\n",
       "      <td>[unknown, unknown, 40ies - war years (Mainstream, O+W), 40ies - reconstruction years (Avantgarde, O+W), 50ies - economic miracle (Mainstream, O+W), 50ies - milk bar / Individualisation (Avantgarde, O+W), 60ies - economic miracle (Mainstream, O+W), 60ies - generation 68 / student protestors (Avantgarde, W), 60ies - opponents to the building of the Wall (Avantgarde, O), 70ies - family orientation (Mainstream, O+W), 70ies - peace movement (Avantgarde, O+W), 80ies - Generation Golf (Mainstream, W), 80ies - ecological awareness (Avantgarde, W), 80ies - FDJ / communist party youth organisation (Mainstream, O), 80ies - Swords into ploughshares (Avantgarde, O), 90ies - digital media kids (Mainstream, O+W), 90ies - ecological awareness (Avantgarde, O+W)]</td>\n",
       "      <td>[-1.0, 0.0, 1.0, 2.0, 3.0, 4.0, 5.0, 6.0, 7.0, 8.0, 9.0, 10.0, 11.0, 12.0, 13.0, 14.0, 15.0]</td>\n",
       "    </tr>\n",
       "  </tbody>\n",
       "</table>\n",
       "</div>"
      ],
      "text/plain": [
       "               Attribute  \\\n",
       "0               ALTER_HH   \n",
       "1        GFK_URLAUBERTYP   \n",
       "2    LP_LEBENSPHASE_FEIN   \n",
       "3    LP_LEBENSPHASE_GROB   \n",
       "4  PRAEGENDE_JUGENDJAHRE   \n",
       "\n",
       "                                                            Description  \\\n",
       "0                                         main age within the household   \n",
       "1                                                       vacation habits   \n",
       "2                                                       lifestage fine    \n",
       "3                                                       lifestage rough   \n",
       "4  dominating movement in the person's youth (avantgarde or mainstream)   \n",
       "\n",
       "                                                                   Desc  \\\n",
       "0                                         main age within the household   \n",
       "1                                                       vacation habits   \n",
       "2                                                       lifestage fine    \n",
       "3                                                       lifestage rough   \n",
       "4  dominating movement in the person's youth (avantgarde or mainstream)   \n",
       "\n",
       "                                   Additional notes  \\\n",
       "0                                           no_info   \n",
       "1                                           no_info   \n",
       "2                modelled on different AZ DIAS data   \n",
       "3                modelled on different AZ DIAS data   \n",
       "4  own typology modelled on different AZ DIAS data    \n",
       "\n",
       "                                                                                                                                                                                                                                                                                                                                                                                                                                                                                                                                                                                                                                                                                                                                                                                                                                                                                                                                                                                                                                                                                                                                                                                                                                                                                                                                                                                                                                                                                                                                                                                                                                                                                                                                                   Meaning  \\\n",
       "0                                                                                                                                                                                                                                                                                                                                                                                                                                                                                                                                                                                                                                                                                                                                                                                                                                                                                                                                                                                                                                                                                                                                [unknown / no main age detectable, 01.01.1895 bis 31.12.1899, 01.01.1900 bis 31.12.1904, 01.01.1905 bis 31.12.1909, 01.01.1910 bis 31.12.1914, 01.01.1915 bis 31.12.1919, 01.01.1920 bis 31.12.1924, 01.01.1925 bis 31.12.1929, 01.01.1930 bis 31.12.1934, 01.01.1935 bis 31.12.1939, 01.01.1940 bis 31.12.1944, 01.01.1945 bis 31.12.1949, 01.01.1950 bis 31.12.1954, 01.01.1955 bis 31.12.1959, 01.01.1960 bis 31.12.1964, 01.01.1965 bis 31.12.1969, 01.01.1970 bis 31.12.1974, 01.01.1975 bis 31.12.1979, 01.01.1980 bis 31.12.1984, 01.01.1985 bis 31.12.1989, 01.01.1990 bis 31.12.1994, 01.01.1995 bis 31.12.1999]   \n",
       "1                                                                                                                                                                                                                                                                                                                                                                                                                                                                                                                                                                                                                                                                                                                                                                                                                                                                                                                                                                                                                                                                                                                                                                                                                                                                                                                                                                                                                                                                                                                         [Event travelers, Family-oriented vacationists, Winter sportspeople, Culture lovers, Nature fans, Hiker, Golden ager, Homeland-connected vacationists , Package tour travelers, Connoisseurs, Active families, without vacation]   \n",
       "2  [single low-income earners of younger age, single low-income earners of middle age, single average earners of younger age , single average earners of middle age, single low-income earners of advanced age, single low-income earners at retirement age , single average earners of advanced age, single average earners at retirement age, single independant persons, wealthy single homeowners, single homeowners of advanced age, single homeowners at retirement age, single top earners of higher age , low-income- and average earner-couples of younger age, low-income earner-couples of higher age, average earner-couples of higher age , independant couples, wealthy homeowner-couples of younger age , homeowner-couples of higher age, top earner-couples of higher age, single parent low-income earners, single parent average earners, single parent high-income earners, low-income earner-families, average earner-families , independant families, homeowner-families, top earner-families, low-income earners of younger age from mulitperson households, average earners of younger age from mulitperson households, low-income earners of higher age from mulitperson households, average earners of higher age from mulitperson households, independant persons of younger age from mulitperson households, homeowners of younger age from mulitperson households, top earners of younger age from mulitperson households, independant persons of higher age from mulitperson households, homeowners of advanced age from mulitperson households, homeowners at retirement age from mulitperson households, top earners of middle age from mulitperson households, top earners at retirement age from mulitperson households]   \n",
       "3                                                                                                                                                                                                                                                                                                                                                                                                                                                                                                                                                                                                                                                                                                                                                                                                                                                                                                                                                                                                                                                                                                                                                        [single low-income- and average earners of younger age , single low-income- and average earners of higher age , single high-income earners, single low-income- and average earner-couples , single high-income earner-couples, single parents, single low-income- and average earner-families, high-income earner-families, average earners of younger age from mulitperson households, low-income- and average earners of higher age from mulitperson households, high-income earners of younger age from multiperson households, high-income earners of higher age from multiperson households]   \n",
       "4                                                                                                                                                                                                                                                                                                                                                                                                                                                                                                                                                                                                                                                                                                                                                                                                                                                                                                                                                                      [unknown, unknown, 40ies - war years (Mainstream, O+W), 40ies - reconstruction years (Avantgarde, O+W), 50ies - economic miracle (Mainstream, O+W), 50ies - milk bar / Individualisation (Avantgarde, O+W), 60ies - economic miracle (Mainstream, O+W), 60ies - generation 68 / student protestors (Avantgarde, W), 60ies - opponents to the building of the Wall (Avantgarde, O), 70ies - family orientation (Mainstream, O+W), 70ies - peace movement (Avantgarde, O+W), 80ies - Generation Golf (Mainstream, W), 80ies - ecological awareness (Avantgarde, W), 80ies - FDJ / communist party youth organisation (Mainstream, O), 80ies - Swords into ploughshares (Avantgarde, O), 90ies - digital media kids (Mainstream, O+W), 90ies - ecological awareness (Avantgarde, O+W)]   \n",
       "\n",
       "                                                                                                                                                                                                                                     Score  \n",
       "0                                                                                                               [0.0, 1.0, 2.0, 3.0, 4.0, 5.0, 6.0, 7.0, 8.0, 9.0, 10.0, 11.0, 12.0, 13.0, 14.0, 15.0, 16.0, 17.0, 18.0, 19.0, 20.0, 21.0]  \n",
       "1                                                                                                                                                                          [1.0, 2.0, 3.0, 4.0, 5.0, 6.0, 7.0, 8.0, 9.0, 10.0, 11.0, 12.0]  \n",
       "2  [1.0, 2.0, 3.0, 4.0, 5.0, 6.0, 7.0, 8.0, 9.0, 10.0, 11.0, 12.0, 13.0, 14.0, 15.0, 16.0, 17.0, 18.0, 19.0, 20.0, 21.0, 22.0, 23.0, 24.0, 25.0, 26.0, 27.0, 28.0, 29.0, 30.0, 31.0, 32.0, 33.0, 34.0, 35.0, 36.0, 37.0, 38.0, 39.0, 40.0]  \n",
       "3                                                                                                                                                                          [1.0, 2.0, 3.0, 4.0, 5.0, 6.0, 7.0, 8.0, 9.0, 10.0, 11.0, 12.0]  \n",
       "4                                                                                                                                             [-1.0, 0.0, 1.0, 2.0, 3.0, 4.0, 5.0, 6.0, 7.0, 8.0, 9.0, 10.0, 11.0, 12.0, 13.0, 14.0, 15.0]  "
      ]
     },
     "metadata": {},
     "output_type": "display_data"
    }
   ],
   "source": [
    "'''\n",
    "check features that have min/max Score gap over 10\n",
    "'''\n",
    "# from attr_num_score above, extract Attribute values having min/max Score gap over 10\n",
    "gap_over10_attribute = attr_num_score[\n",
    "    (attr_num_score['max'] - attr_num_score['min']) > 10].Attribute.unique()\n",
    "\n",
    "gap_over10 = pv_meaning_score(\n",
    "    attr_num.query('Attribute in @gap_over10_attribute'))"
   ]
  },
  {
   "attachments": {},
   "cell_type": "markdown",
   "metadata": {},
   "source": [
    "##### 2.3.2 attr Scores denoted in string\n",
    "\n",
    "///// 98 features in str type are analyzed"
   ]
  },
  {
   "cell_type": "code",
   "execution_count": 50,
   "metadata": {},
   "outputs": [
    {
     "name": "stdout",
     "output_type": "stream",
     "text": [
      "number of Attribute(s): 9\n"
     ]
    },
    {
     "data": {
      "text/html": [
       "<div>\n",
       "<style scoped>\n",
       "    .dataframe tbody tr th:only-of-type {\n",
       "        vertical-align: middle;\n",
       "    }\n",
       "\n",
       "    .dataframe tbody tr th {\n",
       "        vertical-align: top;\n",
       "    }\n",
       "\n",
       "    .dataframe thead th {\n",
       "        text-align: right;\n",
       "    }\n",
       "</style>\n",
       "<table border=\"1\" class=\"dataframe\">\n",
       "  <thead>\n",
       "    <tr style=\"text-align: right;\">\n",
       "      <th></th>\n",
       "      <th>Attribute</th>\n",
       "      <th>Description</th>\n",
       "      <th>Desc</th>\n",
       "      <th>Additional notes</th>\n",
       "      <th>Meaning</th>\n",
       "      <th>Score</th>\n",
       "    </tr>\n",
       "  </thead>\n",
       "  <tbody>\n",
       "    <tr>\n",
       "      <th>0</th>\n",
       "      <td>ANZ_HAUSHALTE_AKTIV</td>\n",
       "      <td>number of households in the building</td>\n",
       "      <td>number of households in the building</td>\n",
       "      <td>no_info</td>\n",
       "      <td>[numeric value (typically coded from 1-10)]</td>\n",
       "      <td>[…]</td>\n",
       "    </tr>\n",
       "    <tr>\n",
       "      <th>1</th>\n",
       "      <td>ANZ_HH_TITEL</td>\n",
       "      <td>number of academic title holder in building</td>\n",
       "      <td>number of academic title holder in building</td>\n",
       "      <td>no_info</td>\n",
       "      <td>[numeric value (typically coded from 1-10)]</td>\n",
       "      <td>[…]</td>\n",
       "    </tr>\n",
       "    <tr>\n",
       "      <th>2</th>\n",
       "      <td>ANZ_PERSONEN</td>\n",
       "      <td>number of adult persons in the household</td>\n",
       "      <td>number of adult persons in the household</td>\n",
       "      <td>no_info</td>\n",
       "      <td>[numeric value (typically coded from 1-3)]</td>\n",
       "      <td>[…]</td>\n",
       "    </tr>\n",
       "    <tr>\n",
       "      <th>3</th>\n",
       "      <td>ANZ_TITEL</td>\n",
       "      <td>number of professional title holder in household</td>\n",
       "      <td>number of professional title holder in household</td>\n",
       "      <td>no_info</td>\n",
       "      <td>[numeric value (typically coded from 1-10)]</td>\n",
       "      <td>[…]</td>\n",
       "    </tr>\n",
       "    <tr>\n",
       "      <th>4</th>\n",
       "      <td>CAMEO_DEU_2015</td>\n",
       "      <td>CAMEO classification 2015 - detailled classification</td>\n",
       "      <td>CAMEO classification 2015 - detailled classification</td>\n",
       "      <td>no_info</td>\n",
       "      <td>[Work-Life-Balance, Wealthy Best Ager, Successful Songwriter, Old Nobility, City Nobility, Cottage Chic, Noble Jogger, Established gourmet, Fine Management, Career &amp; Family, Powershopping Families, Rural Neighborhood, Secure Retirement, Family Starter, Family Life, String Trimmer, Empty Nest, Golden Ager, Younger Employees, Suddenly Family, Family First, Stock Market Junkies, Coffee Rider, Active Retirement, Jobstarter, Petty Bourgeois, Long-established, Sportgardener, Urban Parents, Frugal Aging, Journeymen, Mantaplatte, Factory Worker, Rear Window, Interested Retirees, Multi-culteral, Young &amp; Mobile, Prefab, Town Seniors, First Shared Apartment, Temporary Workers, Afternoon Talk Show, Mini-Jobber, Socking Away]</td>\n",
       "      <td>[1A, 1B, 1C, 1D, 1E, 2A, 2B, 2C, 2D, 3A, 3B, 3C, 3D, 4A, 4B, 4C, 4D, 4E, 5A, 5B, 5C, 5D, 5E, 5F, 6A, 6B, 6C, 6D, 6E, 6F, 7A, 7B, 7C, 7D, 7E, 8A, 8B, 8C, 8D, 9A, 9B, 9C, 9D, 9E]</td>\n",
       "    </tr>\n",
       "    <tr>\n",
       "      <th>5</th>\n",
       "      <td>GEBURTSJAHR</td>\n",
       "      <td>year of birth</td>\n",
       "      <td>year of birth</td>\n",
       "      <td>no_info</td>\n",
       "      <td>[numeric value]</td>\n",
       "      <td>[…]</td>\n",
       "    </tr>\n",
       "    <tr>\n",
       "      <th>6</th>\n",
       "      <td>KBA13_ANZAHL_PKW</td>\n",
       "      <td>number of cars in the PLZ8</td>\n",
       "      <td>number of cars in the PLZ8</td>\n",
       "      <td>no_info</td>\n",
       "      <td>[numeric value]</td>\n",
       "      <td>[…]</td>\n",
       "    </tr>\n",
       "    <tr>\n",
       "      <th>7</th>\n",
       "      <td>MIN_GEBAEUDEJAHR</td>\n",
       "      <td>year the building was first mentioned in our database</td>\n",
       "      <td>year the building was first mentioned in our database</td>\n",
       "      <td>no_info</td>\n",
       "      <td>[numeric value]</td>\n",
       "      <td>[…]</td>\n",
       "    </tr>\n",
       "    <tr>\n",
       "      <th>8</th>\n",
       "      <td>OST_WEST_KZ</td>\n",
       "      <td>flag indicating the former GDR/FRG</td>\n",
       "      <td>flag indicating the former GDR/FRG</td>\n",
       "      <td>no_info</td>\n",
       "      <td>[East (GDR), West (FRG)]</td>\n",
       "      <td>[O, W]</td>\n",
       "    </tr>\n",
       "  </tbody>\n",
       "</table>\n",
       "</div>"
      ],
      "text/plain": [
       "             Attribute                                            Description  \\\n",
       "0  ANZ_HAUSHALTE_AKTIV                   number of households in the building   \n",
       "1         ANZ_HH_TITEL            number of academic title holder in building   \n",
       "2         ANZ_PERSONEN               number of adult persons in the household   \n",
       "3            ANZ_TITEL      number of professional title holder in household    \n",
       "4       CAMEO_DEU_2015   CAMEO classification 2015 - detailled classification   \n",
       "5          GEBURTSJAHR                                          year of birth   \n",
       "6     KBA13_ANZAHL_PKW                             number of cars in the PLZ8   \n",
       "7     MIN_GEBAEUDEJAHR  year the building was first mentioned in our database   \n",
       "8          OST_WEST_KZ                     flag indicating the former GDR/FRG   \n",
       "\n",
       "                                                    Desc Additional notes  \\\n",
       "0                   number of households in the building          no_info   \n",
       "1            number of academic title holder in building          no_info   \n",
       "2               number of adult persons in the household          no_info   \n",
       "3      number of professional title holder in household           no_info   \n",
       "4   CAMEO classification 2015 - detailled classification          no_info   \n",
       "5                                          year of birth          no_info   \n",
       "6                             number of cars in the PLZ8          no_info   \n",
       "7  year the building was first mentioned in our database          no_info   \n",
       "8                     flag indicating the former GDR/FRG          no_info   \n",
       "\n",
       "                                                                                                                                                                                                                                                                                                                                                                                                                                                                                                                                                                                                                                                                                                                                              Meaning  \\\n",
       "0                                                                                                                                                                                                                                                                                                                                                                                                                                                                                                                                                                                                                                                                                                         [numeric value (typically coded from 1-10)]   \n",
       "1                                                                                                                                                                                                                                                                                                                                                                                                                                                                                                                                                                                                                                                                                                         [numeric value (typically coded from 1-10)]   \n",
       "2                                                                                                                                                                                                                                                                                                                                                                                                                                                                                                                                                                                                                                                                                                          [numeric value (typically coded from 1-3)]   \n",
       "3                                                                                                                                                                                                                                                                                                                                                                                                                                                                                                                                                                                                                                                                                                         [numeric value (typically coded from 1-10)]   \n",
       "4  [Work-Life-Balance, Wealthy Best Ager, Successful Songwriter, Old Nobility, City Nobility, Cottage Chic, Noble Jogger, Established gourmet, Fine Management, Career & Family, Powershopping Families, Rural Neighborhood, Secure Retirement, Family Starter, Family Life, String Trimmer, Empty Nest, Golden Ager, Younger Employees, Suddenly Family, Family First, Stock Market Junkies, Coffee Rider, Active Retirement, Jobstarter, Petty Bourgeois, Long-established, Sportgardener, Urban Parents, Frugal Aging, Journeymen, Mantaplatte, Factory Worker, Rear Window, Interested Retirees, Multi-culteral, Young & Mobile, Prefab, Town Seniors, First Shared Apartment, Temporary Workers, Afternoon Talk Show, Mini-Jobber, Socking Away]   \n",
       "5                                                                                                                                                                                                                                                                                                                                                                                                                                                                                                                                                                                                                                                                                                                                     [numeric value]   \n",
       "6                                                                                                                                                                                                                                                                                                                                                                                                                                                                                                                                                                                                                                                                                                                                     [numeric value]   \n",
       "7                                                                                                                                                                                                                                                                                                                                                                                                                                                                                                                                                                                                                                                                                                                                     [numeric value]   \n",
       "8                                                                                                                                                                                                                                                                                                                                                                                                                                                                                                                                                                                                                                                                                                                            [East (GDR), West (FRG)]   \n",
       "\n",
       "                                                                                                                                                                              Score  \n",
       "0                                                                                                                                                                               […]  \n",
       "1                                                                                                                                                                               […]  \n",
       "2                                                                                                                                                                               […]  \n",
       "3                                                                                                                                                                               […]  \n",
       "4  [1A, 1B, 1C, 1D, 1E, 2A, 2B, 2C, 2D, 3A, 3B, 3C, 3D, 4A, 4B, 4C, 4D, 4E, 5A, 5B, 5C, 5D, 5E, 5F, 6A, 6B, 6C, 6D, 6E, 6F, 7A, 7B, 7C, 7D, 7E, 8A, 8B, 8C, 8D, 9A, 9B, 9C, 9D, 9E]  \n",
       "5                                                                                                                                                                               […]  \n",
       "6                                                                                                                                                                               […]  \n",
       "7                                                                                                                                                                               […]  \n",
       "8                                                                                                                                                                            [O, W]  "
      ]
     },
     "metadata": {},
     "output_type": "display_data"
    }
   ],
   "source": [
    "'''\n",
    "summary of attr_str with Meaning and Score values\n",
    "'''\n",
    "\n",
    "attr_str_score = pv_meaning_score(attr_str, display = False)\n",
    "view_all(attr_str_score)"
   ]
  },
  {
   "attachments": {},
   "cell_type": "markdown",
   "metadata": {},
   "source": [
    "* **7 features are found as continuous.**  \n",
    "  These features will checked in detail in the next section."
   ]
  },
  {
   "cell_type": "code",
   "execution_count": 51,
   "metadata": {},
   "outputs": [],
   "source": [
    "# '''\n",
    "# NOTE pre-processing items\n",
    "# '''\n",
    "\n",
    "continuous_feature_list = list(\n",
    "    attr_str_score[attr_str_score.Score.apply(lambda x: x == ['…'])].Attribute.unique())\n",
    "\n",
    "# p_process['2.3.2'] = 'check skewness for scaling of ' + ', '.join(continuous_feature_list)"
   ]
  },
  {
   "attachments": {},
   "cell_type": "markdown",
   "metadata": {},
   "source": [
    "### 3. Dataset exploration\n",
    "\n",
    "Based on baseline understanding and frame works from reference files in section_2,  \n",
    "section_3 is dealing with actual datasets.  \n",
    "In this section, steps taken in the previous section will be repeated to fine-tune  \n",
    "and finalize pro-processing items."
   ]
  },
  {
   "cell_type": "code",
   "execution_count": 56,
   "metadata": {},
   "outputs": [
    {
     "name": "stdout",
     "output_type": "stream",
     "text": [
      "<class 'pandas.core.frame.DataFrame'>\n",
      "Int64Index: 1082873 entries, 0 to 891220\n",
      "Columns: 369 entries, LNR to ALTERSKATEGORIE_GROB\n",
      "dtypes: float64(268), int64(93), object(8)\n",
      "memory usage: 3.0+ GB\n"
     ]
    }
   ],
   "source": [
    "'''\n",
    "create a concatenated dataframe of 2 datasets for temporary use\n",
    "'''\n",
    "\n",
    "concat_data = pd.concat([customers, azdias], axis=0)\n",
    "concat_data.info()"
   ]
  },
  {
   "attachments": {},
   "cell_type": "markdown",
   "metadata": {},
   "source": [
    "**[function]**"
   ]
  },
  {
   "cell_type": "code",
   "execution_count": 57,
   "metadata": {},
   "outputs": [],
   "source": [
    "def dataset_summary (data,  score_form, display = True):\n",
    "    '''\n",
    "    function to create the summary table of given dataframe,\n",
    "    by applying describe and transpose methods\n",
    "    \n",
    "    data: dataframe\n",
    "    score_form : str / list, dtypes of columns to be selected\n",
    "    display: boolean, selection of result display\n",
    "    '''\n",
    "    # filter data    \n",
    "    data_copy = data.select_dtypes(include = score_form)\n",
    "    \n",
    "    # extract summary of data by applying describe and transpose\n",
    "    data_summary = data_copy.describe().T.reset_index()\n",
    "\n",
    "    # merge Desc (information on Attribute) from feature_desc and add min_max_cat\n",
    "    data_summary = data_summary.rename(columns = {'index' : 'Attribute'})\n",
    "    data_summary = vlookup(data_summary, feature_desc, 'Attribute', 'Desc')\n",
    "    # data_summary['null_portion'] = (1 - data_summary['count'] / data.shape[0]).map('{:.1%}'.format)    \n",
    "    data_summary['null_portion'] = 1 - data_summary['count'] / data.shape[0]\n",
    "    \n",
    "    # add min_max_cat incase score_form in numeric\n",
    "    if any(x in ['int', 'float'] for x in score_form):\n",
    "        min_max_display = True\n",
    "        data_summary['min_max_cat'] = data_summary[\n",
    "            'min'].apply(lambda x: '{:_.0f}'.format(x)).astype(str) + ' to ' + data_summary[\n",
    "            'max'].apply(lambda x: '{:_.0f}'.format(x)).astype(str)\n",
    "    else:\n",
    "        min_max_display = False\n",
    "    \n",
    "    if display:\n",
    "        print (f'number of Attribute(s): {data_summary.Attribute.nunique()}')\n",
    "        view_all(data_summary.iloc[:5])\n",
    "        \n",
    "        if min_max_display:\n",
    "            print ('min_max Scores:', '\\n', data_summary.min_max_cat.unique())\n",
    "    \n",
    "    return data_summary"
   ]
  },
  {
   "cell_type": "code",
   "execution_count": 87,
   "metadata": {},
   "outputs": [],
   "source": [
    "def view_feature (data, feature, view_all = True, view_0_10 = True):\n",
    "    '''\n",
    "    function to view and check continuous numeric data\n",
    "    feature : str, feature name\n",
    "    view_0_10 : boolean for histogram display of value 0 to 10, default as True\n",
    "    '''\n",
    "    # create data_stat using \n",
    "    data_stat = dataset_summary(data, ['int', 'float'], display = False)\n",
    "\n",
    "    min_val = data[feature].min()\n",
    "    max_val = data[feature].max()\n",
    "    bin_edges = np.arange(min_val, max_val + 10, 10)\n",
    "    desc_val = data_stat[data_stat['Attribute'] == feature]['Desc'].values[0]\n",
    "\n",
    "    if view_all:\n",
    "        ax = data[feature].plot(\n",
    "            kind = 'hist',\n",
    "            figsize=(10, 1.5),\n",
    "            color='gray',\n",
    "            bins = bin_edges,\n",
    "            align = 'mid',\n",
    "            title = (f'histogram - {desc_val} - {feature}')\n",
    "            );\n",
    "        ax.set_xlabel('Scores - Min: ' + str(int(min_val)) + ', Max: ' + str(int(max_val)));\n",
    "        plt.show()\n",
    "\n",
    "    if view_0_10:\n",
    "        ax = data[feature].plot(\n",
    "            kind = 'hist',\n",
    "            figsize=(10, 1.5),\n",
    "            color='gray',\n",
    "            bins = np.arange(-0.5, 11.5, 1),\n",
    "            align = 'mid',\n",
    "            title = (f'histogram - {desc_val} - {feature} - Score 0 to 10'),\n",
    "            );\n",
    "        ax.set_xlabel('Scores - Min: ' + str(int(min_val)) + ', Max: ' + str(int(max_val)));\n",
    "        plt.show()\n",
    "    \n",
    "    # define the outlier thresholds by applying multiplier 1.5\n",
    "    q1 = data_stat[data_stat['Attribute'] == feature]['25%'].values[0]\n",
    "    q3 = data_stat[data_stat['Attribute'] == feature]['75%'].values[0]\n",
    "    iqr = q3 - q1\n",
    "    lower_threshold = q1 - 1.5 * iqr\n",
    "    upper_threshold = q3 + 1.5 * iqr\n",
    "\n",
    "    # identify outliers\n",
    "    col_val = data[feature].values\n",
    "    outliers = sorted(\n",
    "        set([feature for feature in col_val if feature < lower_threshold or feature > upper_threshold]),\n",
    "        reverse = True)\n",
    "\n",
    "    # print outliers\n",
    "    count_val = data_stat[data_stat['Attribute'] == feature].fillna(0)['count'].values[0]       \n",
    "    outlier_list = [\n",
    "        str(int(j)) + ': ' + '{:.1%}'.format((data[feature] == j).sum() / count_val)\n",
    "        for j in outliers\n",
    "        ]\n",
    "    \n",
    "    print('10 outliers (Score: %)', '\\n',\n",
    "          ', '.join(outlier_list[:5]), '…', ', '.join(outlier_list[-5:]))\n",
    "\n",
    "    # for j in range(0, len(outlier_list), 10):\n",
    "    #     print (', '.join(outlier_list[j : j+10]))\n",
    "    \n",
    "    print ('\\n')"
   ]
  },
  {
   "attachments": {},
   "cell_type": "markdown",
   "metadata": {},
   "source": [
    "#### 3.1 intersection features in both of datasets and reference files\n",
    "///// For ...."
   ]
  },
  {
   "cell_type": "code",
   "execution_count": 59,
   "metadata": {},
   "outputs": [],
   "source": [
    "'''\n",
    "concat_intsec containing intersection features in both of datasets and attr\n",
    "'''\n",
    "\n",
    "concat_intsec = concat_data[\n",
    "    list(feature_dict['customers_intsec_attr'])].copy()"
   ]
  },
  {
   "attachments": {},
   "cell_type": "markdown",
   "metadata": {},
   "source": [
    "##### 3.1.1 numeric dataset Scores of intersection features\n",
    "\n",
    "///// For ...."
   ]
  },
  {
   "cell_type": "code",
   "execution_count": 61,
   "metadata": {},
   "outputs": [
    {
     "name": "stdout",
     "output_type": "stream",
     "text": [
      "number of Attribute(s): 269\n"
     ]
    },
    {
     "data": {
      "text/html": [
       "<div>\n",
       "<style scoped>\n",
       "    .dataframe tbody tr th:only-of-type {\n",
       "        vertical-align: middle;\n",
       "    }\n",
       "\n",
       "    .dataframe tbody tr th {\n",
       "        vertical-align: top;\n",
       "    }\n",
       "\n",
       "    .dataframe thead th {\n",
       "        text-align: right;\n",
       "    }\n",
       "</style>\n",
       "<table border=\"1\" class=\"dataframe\">\n",
       "  <thead>\n",
       "    <tr style=\"text-align: right;\">\n",
       "      <th></th>\n",
       "      <th>Attribute</th>\n",
       "      <th>count</th>\n",
       "      <th>mean</th>\n",
       "      <th>std</th>\n",
       "      <th>min</th>\n",
       "      <th>25%</th>\n",
       "      <th>50%</th>\n",
       "      <th>75%</th>\n",
       "      <th>max</th>\n",
       "      <th>Desc</th>\n",
       "      <th>null_portion</th>\n",
       "      <th>min_max_cat</th>\n",
       "    </tr>\n",
       "  </thead>\n",
       "  <tbody>\n",
       "    <tr>\n",
       "      <th>0</th>\n",
       "      <td>KBA13_KRSSEG_VAN</td>\n",
       "      <td>925792.0</td>\n",
       "      <td>1.950685</td>\n",
       "      <td>0.612014</td>\n",
       "      <td>0.0</td>\n",
       "      <td>2.0</td>\n",
       "      <td>2.0</td>\n",
       "      <td>2.0</td>\n",
       "      <td>3.0</td>\n",
       "      <td>share of vans (referred to the county average) - PLZ8</td>\n",
       "      <td>0.145059</td>\n",
       "      <td>0 to 3</td>\n",
       "    </tr>\n",
       "    <tr>\n",
       "      <th>1</th>\n",
       "      <td>SEMIO_DOM</td>\n",
       "      <td>1082873.0</td>\n",
       "      <td>4.635036</td>\n",
       "      <td>1.769222</td>\n",
       "      <td>1.0</td>\n",
       "      <td>3.0</td>\n",
       "      <td>5.0</td>\n",
       "      <td>6.0</td>\n",
       "      <td>7.0</td>\n",
       "      <td>affinity indicating in what way the person is dominant minded</td>\n",
       "      <td>0.000000</td>\n",
       "      <td>1 to 7</td>\n",
       "    </tr>\n",
       "    <tr>\n",
       "      <th>2</th>\n",
       "      <td>SEMIO_PFLICHT</td>\n",
       "      <td>1082873.0</td>\n",
       "      <td>4.127262</td>\n",
       "      <td>1.746703</td>\n",
       "      <td>1.0</td>\n",
       "      <td>3.0</td>\n",
       "      <td>4.0</td>\n",
       "      <td>5.0</td>\n",
       "      <td>7.0</td>\n",
       "      <td>affinity indicating in what way the person is dutyfull traditional minded</td>\n",
       "      <td>0.000000</td>\n",
       "      <td>1 to 7</td>\n",
       "    </tr>\n",
       "    <tr>\n",
       "      <th>3</th>\n",
       "      <td>GEBURTSJAHR</td>\n",
       "      <td>1082873.0</td>\n",
       "      <td>1083.871938</td>\n",
       "      <td>976.933275</td>\n",
       "      <td>0.0</td>\n",
       "      <td>0.0</td>\n",
       "      <td>1939.0</td>\n",
       "      <td>1967.0</td>\n",
       "      <td>2017.0</td>\n",
       "      <td>year of birth</td>\n",
       "      <td>0.000000</td>\n",
       "      <td>0 to 2_017</td>\n",
       "    </tr>\n",
       "    <tr>\n",
       "      <th>4</th>\n",
       "      <td>KBA13_KW_30</td>\n",
       "      <td>925792.0</td>\n",
       "      <td>1.398311</td>\n",
       "      <td>0.675765</td>\n",
       "      <td>1.0</td>\n",
       "      <td>1.0</td>\n",
       "      <td>1.0</td>\n",
       "      <td>2.0</td>\n",
       "      <td>3.0</td>\n",
       "      <td>share of cars up to 30 KW engine power - PLZ8</td>\n",
       "      <td>0.145059</td>\n",
       "      <td>1 to 3</td>\n",
       "    </tr>\n",
       "  </tbody>\n",
       "</table>\n",
       "</div>"
      ],
      "text/plain": [
       "          Attribute      count         mean         std  min  25%     50%  \\\n",
       "0  KBA13_KRSSEG_VAN   925792.0     1.950685    0.612014  0.0  2.0     2.0   \n",
       "1         SEMIO_DOM  1082873.0     4.635036    1.769222  1.0  3.0     5.0   \n",
       "2     SEMIO_PFLICHT  1082873.0     4.127262    1.746703  1.0  3.0     4.0   \n",
       "3       GEBURTSJAHR  1082873.0  1083.871938  976.933275  0.0  0.0  1939.0   \n",
       "4       KBA13_KW_30   925792.0     1.398311    0.675765  1.0  1.0     1.0   \n",
       "\n",
       "      75%     max  \\\n",
       "0     2.0     3.0   \n",
       "1     6.0     7.0   \n",
       "2     5.0     7.0   \n",
       "3  1967.0  2017.0   \n",
       "4     2.0     3.0   \n",
       "\n",
       "                                                                        Desc  \\\n",
       "0                      share of vans (referred to the county average) - PLZ8   \n",
       "1              affinity indicating in what way the person is dominant minded   \n",
       "2  affinity indicating in what way the person is dutyfull traditional minded   \n",
       "3                                                              year of birth   \n",
       "4                              share of cars up to 30 KW engine power - PLZ8   \n",
       "\n",
       "   null_portion min_max_cat  \n",
       "0      0.145059      0 to 3  \n",
       "1      0.000000      1 to 7  \n",
       "2      0.000000      1 to 7  \n",
       "3      0.000000  0 to 2_017  \n",
       "4      0.145059      1 to 3  "
      ]
     },
     "metadata": {},
     "output_type": "display_data"
    },
    {
     "name": "stdout",
     "output_type": "stream",
     "text": [
      "min_max Scores: \n",
      " ['0 to 3' '1 to 7' '0 to 2_017' '1 to 3' '1 to 6' '0 to 9' '0 to 5'\n",
      " '1 to 9' '1 to 5' '0 to 4' '1 to 10' '0 to 6' '-1 to 3' '1 to 8'\n",
      " '-1 to 2' '0 to 21' '0 to 45' '0 to 2' '1 to 2' '0 to 15' '0 to 40'\n",
      " '0 to 10' '0 to 595' '1 to 4' '1 to 12' '0 to 23' '1_985 to 2_016'\n",
      " '0 to 12' '0 to 7' '0 to 8' '0 to 11' '0 to 1' '0 to 2_300']\n"
     ]
    }
   ],
   "source": [
    "'''\n",
    "intsec_num_score containing Scores denoted in number\n",
    "'''\n",
    "\n",
    "intsec_num_score = dataset_summary(concat_intsec, ['int', 'float'])"
   ]
  },
  {
   "cell_type": "code",
   "execution_count": 62,
   "metadata": {},
   "outputs": [
    {
     "data": {
      "text/plain": [
       "within min/max range    257\n",
       "not in attr_num           9\n",
       "min lower                 3\n",
       "Name: check, dtype: int64"
      ]
     },
     "execution_count": 62,
     "metadata": {},
     "output_type": "execute_result"
    }
   ],
   "source": [
    "'''\n",
    "check if Scores in actual datasets are within range given by attr.\n",
    "'''\n",
    "\n",
    "# merge min/max values by Attribute in attr_num_score in 2.3.1\n",
    "num_range_check = vlookup(\n",
    "    intsec_num_score, attr_num_score, 'Attribute', ['min', 'max', 'min_max_cat'], intsec = 'copy')\n",
    "\n",
    "num_range_check['check'] = np.where(\n",
    "    num_range_check['min_max_cat_'].isnull(), \n",
    "    'not in attr_num',\n",
    "    np.where(\n",
    "        (num_range_check['min'] < num_range_check['min_']),\n",
    "         'min lower',\n",
    "         np.where((num_range_check['max'] > num_range_check['max_']),\n",
    "         'max higher',\n",
    "         'within min/max range')))\n",
    "\n",
    "num_range_check.check.value_counts()"
   ]
  },
  {
   "attachments": {},
   "cell_type": "markdown",
   "metadata": {},
   "source": [
    "* features out of reference Score range:  \n",
    "  뭐뭐뭐 "
   ]
  },
  {
   "cell_type": "code",
   "execution_count": 63,
   "metadata": {},
   "outputs": [
    {
     "data": {
      "text/html": [
       "<div>\n",
       "<style scoped>\n",
       "    .dataframe tbody tr th:only-of-type {\n",
       "        vertical-align: middle;\n",
       "    }\n",
       "\n",
       "    .dataframe tbody tr th {\n",
       "        vertical-align: top;\n",
       "    }\n",
       "\n",
       "    .dataframe thead th {\n",
       "        text-align: right;\n",
       "    }\n",
       "</style>\n",
       "<table border=\"1\" class=\"dataframe\">\n",
       "  <thead>\n",
       "    <tr style=\"text-align: right;\">\n",
       "      <th></th>\n",
       "      <th>Attribute</th>\n",
       "      <th>count</th>\n",
       "      <th>mean</th>\n",
       "      <th>std</th>\n",
       "      <th>min</th>\n",
       "      <th>25%</th>\n",
       "      <th>50%</th>\n",
       "      <th>75%</th>\n",
       "      <th>max</th>\n",
       "      <th>Desc</th>\n",
       "      <th>null_portion</th>\n",
       "      <th>min_max_cat</th>\n",
       "      <th>min_</th>\n",
       "      <th>max_</th>\n",
       "      <th>min_max_cat_</th>\n",
       "      <th>check</th>\n",
       "    </tr>\n",
       "  </thead>\n",
       "  <tbody>\n",
       "    <tr>\n",
       "      <th>145</th>\n",
       "      <td>LP_LEBENSPHASE_FEIN</td>\n",
       "      <td>1074806.0</td>\n",
       "      <td>15.246603</td>\n",
       "      <td>13.138044</td>\n",
       "      <td>0.0</td>\n",
       "      <td>4.0</td>\n",
       "      <td>12.0</td>\n",
       "      <td>28.0</td>\n",
       "      <td>40.0</td>\n",
       "      <td>lifestage fine</td>\n",
       "      <td>0.00745</td>\n",
       "      <td>0 to 40</td>\n",
       "      <td>1.0</td>\n",
       "      <td>40.0</td>\n",
       "      <td>1 to 40</td>\n",
       "      <td>min lower</td>\n",
       "    </tr>\n",
       "    <tr>\n",
       "      <th>214</th>\n",
       "      <td>LP_LEBENSPHASE_GROB</td>\n",
       "      <td>1074806.0</td>\n",
       "      <td>4.623523</td>\n",
       "      <td>4.037057</td>\n",
       "      <td>0.0</td>\n",
       "      <td>1.0</td>\n",
       "      <td>3.0</td>\n",
       "      <td>8.0</td>\n",
       "      <td>12.0</td>\n",
       "      <td>lifestage rough</td>\n",
       "      <td>0.00745</td>\n",
       "      <td>0 to 12</td>\n",
       "      <td>1.0</td>\n",
       "      <td>12.0</td>\n",
       "      <td>1 to 12</td>\n",
       "      <td>min lower</td>\n",
       "    </tr>\n",
       "    <tr>\n",
       "      <th>245</th>\n",
       "      <td>LP_FAMILIE_FEIN</td>\n",
       "      <td>1074806.0</td>\n",
       "      <td>3.714389</td>\n",
       "      <td>4.039212</td>\n",
       "      <td>0.0</td>\n",
       "      <td>1.0</td>\n",
       "      <td>1.0</td>\n",
       "      <td>8.0</td>\n",
       "      <td>11.0</td>\n",
       "      <td>familytyp fine</td>\n",
       "      <td>0.00745</td>\n",
       "      <td>0 to 11</td>\n",
       "      <td>1.0</td>\n",
       "      <td>11.0</td>\n",
       "      <td>1 to 11</td>\n",
       "      <td>min lower</td>\n",
       "    </tr>\n",
       "  </tbody>\n",
       "</table>\n",
       "</div>"
      ],
      "text/plain": [
       "               Attribute      count       mean        std  min  25%   50%  \\\n",
       "145  LP_LEBENSPHASE_FEIN  1074806.0  15.246603  13.138044  0.0  4.0  12.0   \n",
       "214  LP_LEBENSPHASE_GROB  1074806.0   4.623523   4.037057  0.0  1.0   3.0   \n",
       "245      LP_FAMILIE_FEIN  1074806.0   3.714389   4.039212  0.0  1.0   1.0   \n",
       "\n",
       "      75%   max             Desc  null_portion min_max_cat  min_  max_  \\\n",
       "145  28.0  40.0  lifestage fine        0.00745     0 to 40   1.0  40.0   \n",
       "214   8.0  12.0  lifestage rough       0.00745     0 to 12   1.0  12.0   \n",
       "245   8.0  11.0   familytyp fine       0.00745     0 to 11   1.0  11.0   \n",
       "\n",
       "    min_max_cat_      check  \n",
       "145      1 to 40  min lower  \n",
       "214      1 to 12  min lower  \n",
       "245      1 to 11  min lower  "
      ]
     },
     "execution_count": 63,
     "metadata": {},
     "output_type": "execute_result"
    }
   ],
   "source": [
    "'''\n",
    "3 features are showing lower min value in dataset \n",
    "'''\n",
    "num_range_check.query('check == \"min lower\"')"
   ]
  },
  {
   "cell_type": "code",
   "execution_count": 64,
   "metadata": {},
   "outputs": [
    {
     "data": {
      "text/plain": [
       "array(['single low-income- and average earners of younger age ',\n",
       "       'single low-income- and average earners of higher age ',\n",
       "       'single high-income earners',\n",
       "       'single low-income- and average earner-couples ',\n",
       "       'single high-income earner-couples', 'single parents',\n",
       "       'single low-income- and average earner-families',\n",
       "       'high-income earner-families',\n",
       "       'average earners of younger age from mulitperson households',\n",
       "       'low-income- and average earners of higher age from mulitperson households',\n",
       "       'high-income earners of younger age from multiperson households',\n",
       "       'high-income earners of higher age from multiperson households'],\n",
       "      dtype=object)"
      ]
     },
     "execution_count": 64,
     "metadata": {},
     "output_type": "execute_result"
    }
   ],
   "source": [
    "'''\n",
    "as Meaning values of these 3 features in attr do not cover null value,\n",
    "value 0 should be replaced as null (see example below)\n",
    "'''\n",
    "\n",
    "attr.query('Attribute == \"LP_LEBENSPHASE_GROB\"').Meaning.unique()"
   ]
  },
  {
   "cell_type": "code",
   "execution_count": 69,
   "metadata": {},
   "outputs": [],
   "source": [
    "'''\n",
    "NOTE pre-processing items\n",
    "'''\n",
    "\n",
    "score0_to_null = list(num_range_check.query('check == \"min lower\"').Attribute.unique())\n",
    "\n",
    "p_process['3.1.1'] = 'replace Score 0 of {} to null'.format(', '.join(score0_to_null))"
   ]
  },
  {
   "cell_type": "code",
   "execution_count": 71,
   "metadata": {},
   "outputs": [
    {
     "data": {
      "text/html": [
       "<div>\n",
       "<style scoped>\n",
       "    .dataframe tbody tr th:only-of-type {\n",
       "        vertical-align: middle;\n",
       "    }\n",
       "\n",
       "    .dataframe tbody tr th {\n",
       "        vertical-align: top;\n",
       "    }\n",
       "\n",
       "    .dataframe thead th {\n",
       "        text-align: right;\n",
       "    }\n",
       "</style>\n",
       "<table border=\"1\" class=\"dataframe\">\n",
       "  <thead>\n",
       "    <tr style=\"text-align: right;\">\n",
       "      <th></th>\n",
       "      <th>Attribute</th>\n",
       "      <th>count</th>\n",
       "      <th>mean</th>\n",
       "      <th>std</th>\n",
       "      <th>min</th>\n",
       "      <th>25%</th>\n",
       "      <th>50%</th>\n",
       "      <th>75%</th>\n",
       "      <th>max</th>\n",
       "      <th>Desc</th>\n",
       "      <th>null_portion</th>\n",
       "      <th>min_max_cat</th>\n",
       "      <th>min_</th>\n",
       "      <th>max_</th>\n",
       "      <th>min_max_cat_</th>\n",
       "      <th>check</th>\n",
       "    </tr>\n",
       "  </thead>\n",
       "  <tbody>\n",
       "    <tr>\n",
       "      <th>3</th>\n",
       "      <td>GEBURTSJAHR</td>\n",
       "      <td>1082873.0</td>\n",
       "      <td>1083.871938</td>\n",
       "      <td>976.933275</td>\n",
       "      <td>0.0</td>\n",
       "      <td>0.0</td>\n",
       "      <td>1939.0</td>\n",
       "      <td>1967.0</td>\n",
       "      <td>2017.0</td>\n",
       "      <td>year of birth</td>\n",
       "      <td>0.000000</td>\n",
       "      <td>0 to 2_017</td>\n",
       "      <td>NaN</td>\n",
       "      <td>NaN</td>\n",
       "      <td>NaN</td>\n",
       "      <td>not in attr_num</td>\n",
       "    </tr>\n",
       "    <tr>\n",
       "      <th>58</th>\n",
       "      <td>LP_STATUS_GROB</td>\n",
       "      <td>1074806.0</td>\n",
       "      <td>2.568744</td>\n",
       "      <td>1.497248</td>\n",
       "      <td>1.0</td>\n",
       "      <td>1.0</td>\n",
       "      <td>2.0</td>\n",
       "      <td>4.0</td>\n",
       "      <td>5.0</td>\n",
       "      <td>social status rough</td>\n",
       "      <td>0.007450</td>\n",
       "      <td>1 to 5</td>\n",
       "      <td>NaN</td>\n",
       "      <td>NaN</td>\n",
       "      <td>NaN</td>\n",
       "      <td>not in attr_num</td>\n",
       "    </tr>\n",
       "    <tr>\n",
       "      <th>103</th>\n",
       "      <td>ANZ_PERSONEN</td>\n",
       "      <td>962778.0</td>\n",
       "      <td>1.809025</td>\n",
       "      <td>1.209710</td>\n",
       "      <td>0.0</td>\n",
       "      <td>1.0</td>\n",
       "      <td>1.0</td>\n",
       "      <td>2.0</td>\n",
       "      <td>45.0</td>\n",
       "      <td>number of adult persons in the household</td>\n",
       "      <td>0.110904</td>\n",
       "      <td>0 to 45</td>\n",
       "      <td>NaN</td>\n",
       "      <td>NaN</td>\n",
       "      <td>NaN</td>\n",
       "      <td>not in attr_num</td>\n",
       "    </tr>\n",
       "    <tr>\n",
       "      <th>152</th>\n",
       "      <td>ANZ_HAUSHALTE_AKTIV</td>\n",
       "      <td>939798.0</td>\n",
       "      <td>7.786384</td>\n",
       "      <td>15.482165</td>\n",
       "      <td>0.0</td>\n",
       "      <td>1.0</td>\n",
       "      <td>3.0</td>\n",
       "      <td>9.0</td>\n",
       "      <td>595.0</td>\n",
       "      <td>number of households in the building</td>\n",
       "      <td>0.132125</td>\n",
       "      <td>0 to 595</td>\n",
       "      <td>NaN</td>\n",
       "      <td>NaN</td>\n",
       "      <td>NaN</td>\n",
       "      <td>not in attr_num</td>\n",
       "    </tr>\n",
       "    <tr>\n",
       "      <th>155</th>\n",
       "      <td>LP_FAMILIE_GROB</td>\n",
       "      <td>1074806.0</td>\n",
       "      <td>2.215609</td>\n",
       "      <td>1.812993</td>\n",
       "      <td>0.0</td>\n",
       "      <td>1.0</td>\n",
       "      <td>1.0</td>\n",
       "      <td>4.0</td>\n",
       "      <td>5.0</td>\n",
       "      <td>familytyp rough</td>\n",
       "      <td>0.007450</td>\n",
       "      <td>0 to 5</td>\n",
       "      <td>NaN</td>\n",
       "      <td>NaN</td>\n",
       "      <td>NaN</td>\n",
       "      <td>not in attr_num</td>\n",
       "    </tr>\n",
       "    <tr>\n",
       "      <th>157</th>\n",
       "      <td>ANZ_TITEL</td>\n",
       "      <td>962778.0</td>\n",
       "      <td>0.006607</td>\n",
       "      <td>0.086903</td>\n",
       "      <td>0.0</td>\n",
       "      <td>0.0</td>\n",
       "      <td>0.0</td>\n",
       "      <td>0.0</td>\n",
       "      <td>6.0</td>\n",
       "      <td>number of professional title holder in household</td>\n",
       "      <td>0.110904</td>\n",
       "      <td>0 to 6</td>\n",
       "      <td>NaN</td>\n",
       "      <td>NaN</td>\n",
       "      <td>NaN</td>\n",
       "      <td>not in attr_num</td>\n",
       "    </tr>\n",
       "    <tr>\n",
       "      <th>205</th>\n",
       "      <td>ANZ_HH_TITEL</td>\n",
       "      <td>933755.0</td>\n",
       "      <td>0.044647</td>\n",
       "      <td>0.365891</td>\n",
       "      <td>0.0</td>\n",
       "      <td>0.0</td>\n",
       "      <td>0.0</td>\n",
       "      <td>0.0</td>\n",
       "      <td>23.0</td>\n",
       "      <td>number of academic title holder in building</td>\n",
       "      <td>0.137706</td>\n",
       "      <td>0 to 23</td>\n",
       "      <td>NaN</td>\n",
       "      <td>NaN</td>\n",
       "      <td>NaN</td>\n",
       "      <td>not in attr_num</td>\n",
       "    </tr>\n",
       "    <tr>\n",
       "      <th>211</th>\n",
       "      <td>MIN_GEBAEUDEJAHR</td>\n",
       "      <td>939798.0</td>\n",
       "      <td>1993.243781</td>\n",
       "      <td>3.296842</td>\n",
       "      <td>1985.0</td>\n",
       "      <td>1992.0</td>\n",
       "      <td>1992.0</td>\n",
       "      <td>1993.0</td>\n",
       "      <td>2016.0</td>\n",
       "      <td>year the building was first mentioned in our d...</td>\n",
       "      <td>0.132125</td>\n",
       "      <td>1_985 to 2_016</td>\n",
       "      <td>NaN</td>\n",
       "      <td>NaN</td>\n",
       "      <td>NaN</td>\n",
       "      <td>not in attr_num</td>\n",
       "    </tr>\n",
       "    <tr>\n",
       "      <th>264</th>\n",
       "      <td>KBA13_ANZAHL_PKW</td>\n",
       "      <td>925792.0</td>\n",
       "      <td>626.908028</td>\n",
       "      <td>340.528955</td>\n",
       "      <td>0.0</td>\n",
       "      <td>390.0</td>\n",
       "      <td>556.0</td>\n",
       "      <td>786.0</td>\n",
       "      <td>2300.0</td>\n",
       "      <td>number of cars in the PLZ8</td>\n",
       "      <td>0.145059</td>\n",
       "      <td>0 to 2_300</td>\n",
       "      <td>NaN</td>\n",
       "      <td>NaN</td>\n",
       "      <td>NaN</td>\n",
       "      <td>not in attr_num</td>\n",
       "    </tr>\n",
       "  </tbody>\n",
       "</table>\n",
       "</div>"
      ],
      "text/plain": [
       "               Attribute      count         mean         std     min     25%  \\\n",
       "3            GEBURTSJAHR  1082873.0  1083.871938  976.933275     0.0     0.0   \n",
       "58        LP_STATUS_GROB  1074806.0     2.568744    1.497248     1.0     1.0   \n",
       "103         ANZ_PERSONEN   962778.0     1.809025    1.209710     0.0     1.0   \n",
       "152  ANZ_HAUSHALTE_AKTIV   939798.0     7.786384   15.482165     0.0     1.0   \n",
       "155      LP_FAMILIE_GROB  1074806.0     2.215609    1.812993     0.0     1.0   \n",
       "157            ANZ_TITEL   962778.0     0.006607    0.086903     0.0     0.0   \n",
       "205         ANZ_HH_TITEL   933755.0     0.044647    0.365891     0.0     0.0   \n",
       "211     MIN_GEBAEUDEJAHR   939798.0  1993.243781    3.296842  1985.0  1992.0   \n",
       "264     KBA13_ANZAHL_PKW   925792.0   626.908028  340.528955     0.0   390.0   \n",
       "\n",
       "        50%     75%     max  \\\n",
       "3    1939.0  1967.0  2017.0   \n",
       "58      2.0     4.0     5.0   \n",
       "103     1.0     2.0    45.0   \n",
       "152     3.0     9.0   595.0   \n",
       "155     1.0     4.0     5.0   \n",
       "157     0.0     0.0     6.0   \n",
       "205     0.0     0.0    23.0   \n",
       "211  1992.0  1993.0  2016.0   \n",
       "264   556.0   786.0  2300.0   \n",
       "\n",
       "                                                  Desc  null_portion  \\\n",
       "3                                        year of birth      0.000000   \n",
       "58                                 social status rough      0.007450   \n",
       "103           number of adult persons in the household      0.110904   \n",
       "152               number of households in the building      0.132125   \n",
       "155                                    familytyp rough      0.007450   \n",
       "157  number of professional title holder in household       0.110904   \n",
       "205        number of academic title holder in building      0.137706   \n",
       "211  year the building was first mentioned in our d...      0.132125   \n",
       "264                         number of cars in the PLZ8      0.145059   \n",
       "\n",
       "        min_max_cat  min_  max_ min_max_cat_            check  \n",
       "3        0 to 2_017   NaN   NaN          NaN  not in attr_num  \n",
       "58           1 to 5   NaN   NaN          NaN  not in attr_num  \n",
       "103         0 to 45   NaN   NaN          NaN  not in attr_num  \n",
       "152        0 to 595   NaN   NaN          NaN  not in attr_num  \n",
       "155          0 to 5   NaN   NaN          NaN  not in attr_num  \n",
       "157          0 to 6   NaN   NaN          NaN  not in attr_num  \n",
       "205         0 to 23   NaN   NaN          NaN  not in attr_num  \n",
       "211  1_985 to 2_016   NaN   NaN          NaN  not in attr_num  \n",
       "264      0 to 2_300   NaN   NaN          NaN  not in attr_num  "
      ]
     },
     "execution_count": 71,
     "metadata": {},
     "output_type": "execute_result"
    }
   ],
   "source": [
    "'''\n",
    "9 features are expected to be continuous,\n",
    "as Meaning values of continuous features have string form in attr. \n",
    "'''\n",
    "not_in_attr_num = num_range_check.query('check == \"not in attr_num\"')\n",
    "not_in_attr_num"
   ]
  },
  {
   "cell_type": "code",
   "execution_count": 72,
   "metadata": {},
   "outputs": [
    {
     "data": {
      "text/plain": [
       "True"
      ]
     },
     "execution_count": 72,
     "metadata": {},
     "output_type": "execute_result"
    }
   ],
   "source": [
    "'''\n",
    "after removing 2 features to be dropped (see 2.3)\n",
    "remaining 7 features are same as continuous features denoted in 2.3.2\n",
    "'''\n",
    "\n",
    "not_in_attr_num = not_in_attr_num.query('Attribute != \"LP_FAMILIE_GROB\" and Attribute != \"LP_STATUS_GROB\"')\n",
    "set(not_in_attr_num.Attribute.unique()) == set(continuous_feature_list)"
   ]
  },
  {
   "attachments": {},
   "cell_type": "markdown",
   "metadata": {},
   "source": [
    "* continuous features:   \n",
    "  뭐뭐뭐"
   ]
  },
  {
   "cell_type": "code",
   "execution_count": 88,
   "metadata": {},
   "outputs": [
    {
     "data": {
      "image/png": "[encoded data removed]",
      "text/plain": [
       "<Figure size 1000x150 with 1 Axes>"
      ]
     },
     "metadata": {},
     "output_type": "display_data"
    },
    {
     "name": "stdout",
     "output_type": "stream",
     "text": [
      "10 outliers (Score: %) \n",
      " 45: 0.0%, 40: 0.0%, 38: 0.0%, 37: 0.0%, 35: 0.0% … 8: 0.1%, 7: 0.2%, 6: 0.7%, 5: 2.3%, 4: 6.6%\n",
      "\n",
      "\n"
     ]
    }
   ],
   "source": [
    "'''\n",
    "ANZ_PERSONEN  \n",
    "- Value 0 might be strange or extreme but is possible\n",
    "- outliers: household with over 10 adult persons is highly extreme or data error,\n",
    "  that Value over 10 should be replaced to NaN\n",
    "'''\n",
    "\n",
    "view_feature (concat_intsec, 'ANZ_PERSONEN', False)"
   ]
  },
  {
   "cell_type": "code",
   "execution_count": 89,
   "metadata": {},
   "outputs": [],
   "source": [
    "'''\n",
    "NOTE\n",
    "'''\n",
    "\n",
    "p_process['3.1.1-ANZ_PERSONEN'] = 'replace Score > 10 to NaN'"
   ]
  },
  {
   "cell_type": "code",
   "execution_count": 90,
   "metadata": {},
   "outputs": [
    {
     "data": {
      "image/png": "[encoded data removed]",
      "text/plain": [
       "<Figure size 1000x150 with 1 Axes>"
      ]
     },
     "metadata": {},
     "output_type": "display_data"
    },
    {
     "name": "stdout",
     "output_type": "stream",
     "text": [
      "10 outliers (Score: %) \n",
      " 23: 0.0%, 20: 0.0%, 18: 0.0%, 17: 0.0%, 16: 0.0% … 5: 0.0%, 4: 0.0%, 3: 0.1%, 2: 0.3%, 1: 2.7%\n",
      "\n",
      "\n"
     ]
    }
   ],
   "source": [
    "'''\n",
    "ANZ_HH_TITEL  \n",
    "- No pre-processing needed: max values might be strange or extreme but are possible\n",
    "'''\n",
    "\n",
    "view_feature (concat_intsec, 'ANZ_HH_TITEL', False)"
   ]
  },
  {
   "cell_type": "code",
   "execution_count": 91,
   "metadata": {},
   "outputs": [
    {
     "data": {
      "image/png": "[encoded data removed]",
      "text/plain": [
       "<Figure size 1000x150 with 1 Axes>"
      ]
     },
     "metadata": {},
     "output_type": "display_data"
    },
    {
     "data": {
      "image/png": "[encoded data removed]",
      "text/plain": [
       "<Figure size 1000x150 with 1 Axes>"
      ]
     },
     "metadata": {},
     "output_type": "display_data"
    },
    {
     "name": "stdout",
     "output_type": "stream",
     "text": [
      "10 outliers (Score: %) \n",
      " 2300: 0.1%, 2200: 0.0%, 2100: 0.1%, 2000: 0.2%, 1900: 0.2% … 1800: 0.3%, 1700: 0.5%, 1600: 0.8%, 1500: 1.1%, 1400: 1.5%\n",
      "\n",
      "\n"
     ]
    }
   ],
   "source": [
    "'''\n",
    "KBA13_ANZAHL_PKW\n",
    "- in this feature values over 1250 is grouped by 100. \n",
    "  Log scaling is needed due to high skewness.\n",
    "'''\n",
    "\n",
    "view_feature (concat_intsec, 'KBA13_ANZAHL_PKW')"
   ]
  },
  {
   "cell_type": "code",
   "execution_count": 92,
   "metadata": {},
   "outputs": [],
   "source": [
    "p_process['3.1.1-KBA13_ANZAHL_PKW'] = '[Log scaling]'"
   ]
  },
  {
   "cell_type": "code",
   "execution_count": 93,
   "metadata": {},
   "outputs": [
    {
     "data": {
      "image/png": "[encoded data removed]",
      "text/plain": [
       "<Figure size 1000x150 with 1 Axes>"
      ]
     },
     "metadata": {},
     "output_type": "display_data"
    },
    {
     "name": "stdout",
     "output_type": "stream",
     "text": [
      "10 outliers (Score: %) \n",
      " 6: 0.0%, 5: 0.0%, 4: 0.0%, 3: 0.0%, 2: 0.0% … 5: 0.0%, 4: 0.0%, 3: 0.0%, 2: 0.0%, 1: 0.6%\n",
      "\n",
      "\n"
     ]
    }
   ],
   "source": [
    "'''\n",
    "ANZ_TITEL\n",
    "- it seems that there is no pre-processing needed.\n",
    "  However, this feature is linked to ANZ_PERSONEN above\n",
    "  that Score should be replaced to null if corresponding ANZ_PERSONEN is null.\n",
    "'''\n",
    "\n",
    "view_feature (concat_intsec, 'ANZ_TITEL', False)"
   ]
  },
  {
   "cell_type": "code",
   "execution_count": 94,
   "metadata": {},
   "outputs": [],
   "source": [
    "p_process['3.1.1-ANZ_TITEL'] = 'replace Score to null if ANZ_PERSONEN is null'"
   ]
  },
  {
   "cell_type": "code",
   "execution_count": 95,
   "metadata": {},
   "outputs": [
    {
     "data": {
      "image/png": "[encoded data removed]",
      "text/plain": [
       "<Figure size 1000x150 with 1 Axes>"
      ]
     },
     "metadata": {},
     "output_type": "display_data"
    },
    {
     "name": "stdout",
     "output_type": "stream",
     "text": [
      "10 outliers (Score: %) \n",
      " 2016: 0.0%, 2015: 0.1%, 2014: 0.1%, 2013: 0.2%, 2012: 0.2% … 1989: 0.3%, 1988: 0.1%, 1987: 0.1%, 1986: 0.0%, 1985: 0.0%\n",
      "\n",
      "\n"
     ]
    }
   ],
   "source": [
    "'''\n",
    "MIN_GEBAEUDEJAHR   \n",
    "- No pre-processing needed\n",
    "'''\n",
    "\n",
    "view_feature (concat_intsec, 'MIN_GEBAEUDEJAHR', True, False)"
   ]
  },
  {
   "cell_type": "code",
   "execution_count": 96,
   "metadata": {},
   "outputs": [
    {
     "data": {
      "image/png": "[encoded data removed]",
      "text/plain": [
       "<Figure size 1000x150 with 1 Axes>"
      ]
     },
     "metadata": {},
     "output_type": "display_data"
    },
    {
     "data": {
      "image/png": "[encoded data removed]",
      "text/plain": [
       "<Figure size 1000x150 with 1 Axes>"
      ]
     },
     "metadata": {},
     "output_type": "display_data"
    },
    {
     "name": "stdout",
     "output_type": "stream",
     "text": [
      "10 outliers (Score: %) \n",
      "  … \n",
      "\n",
      "\n"
     ]
    }
   ],
   "source": [
    "'''\n",
    "GEBURTSJAHR  \n",
    "- outliers: birth year can not be 0, that Value < 1900 should be replaced to null\n",
    "'''\n",
    "\n",
    "view_feature (concat_intsec, 'GEBURTSJAHR')"
   ]
  },
  {
   "cell_type": "code",
   "execution_count": 97,
   "metadata": {},
   "outputs": [],
   "source": [
    "p_process['3.1.1-GEBURTSJAHR'] = 'replace Score < 1900 to NaN'"
   ]
  },
  {
   "cell_type": "code",
   "execution_count": 98,
   "metadata": {},
   "outputs": [
    {
     "data": {
      "image/png": "[encoded data removed]",
      "text/plain": [
       "<Figure size 1000x150 with 1 Axes>"
      ]
     },
     "metadata": {},
     "output_type": "display_data"
    },
    {
     "data": {
      "image/png": "[encoded data removed]",
      "text/plain": [
       "<Figure size 1000x150 with 1 Axes>"
      ]
     },
     "metadata": {},
     "output_type": "display_data"
    },
    {
     "name": "stdout",
     "output_type": "stream",
     "text": [
      "10 outliers (Score: %) \n",
      " 595: 0.0%, 536: 0.0%, 523: 0.0%, 515: 0.0%, 445: 0.0% … 26: 0.3%, 25: 0.3%, 24: 0.3%, 23: 0.4%, 22: 0.4%\n",
      "\n",
      "\n"
     ]
    }
   ],
   "source": [
    "'''\n",
    "ANZ_HAUSHALTE_AKTIV  \n",
    "- No pre-processing needed: Value 0 and max value might be strange or extreme but are possible\n",
    "- Log scaling is needed due to high skewness\n",
    "'''\n",
    "\n",
    "view_feature (concat_intsec, 'ANZ_HAUSHALTE_AKTIV')"
   ]
  },
  {
   "cell_type": "code",
   "execution_count": 99,
   "metadata": {},
   "outputs": [],
   "source": [
    "'''\n",
    "NOTE\n",
    "'''\n",
    "\n",
    "p_process['3.1.1-ANZ_HAUSHALTE_AKTIV'] = '[Log scaling]'"
   ]
  },
  {
   "attachments": {},
   "cell_type": "markdown",
   "metadata": {},
   "source": [
    "##### 3.1.2 string dataset Scores of intersection features"
   ]
  },
  {
   "attachments": {},
   "cell_type": "markdown",
   "metadata": {},
   "source": [
    "* 뭐뭐뭐"
   ]
  },
  {
   "cell_type": "code",
   "execution_count": 100,
   "metadata": {},
   "outputs": [
    {
     "data": {
      "text/html": [
       "<div>\n",
       "<style scoped>\n",
       "    .dataframe tbody tr th:only-of-type {\n",
       "        vertical-align: middle;\n",
       "    }\n",
       "\n",
       "    .dataframe tbody tr th {\n",
       "        vertical-align: top;\n",
       "    }\n",
       "\n",
       "    .dataframe thead th {\n",
       "        text-align: right;\n",
       "    }\n",
       "</style>\n",
       "<table border=\"1\" class=\"dataframe\">\n",
       "  <thead>\n",
       "    <tr style=\"text-align: right;\">\n",
       "      <th></th>\n",
       "      <th>Attribute</th>\n",
       "      <th>count</th>\n",
       "      <th>unique</th>\n",
       "      <th>top</th>\n",
       "      <th>freq</th>\n",
       "      <th>Desc</th>\n",
       "      <th>null_portion</th>\n",
       "    </tr>\n",
       "  </thead>\n",
       "  <tbody>\n",
       "    <tr>\n",
       "      <th>0</th>\n",
       "      <td>OST_WEST_KZ</td>\n",
       "      <td>939798</td>\n",
       "      <td>2</td>\n",
       "      <td>W</td>\n",
       "      <td>759910</td>\n",
       "      <td>flag indicating the former GDR/FRG</td>\n",
       "      <td>0.132125</td>\n",
       "    </tr>\n",
       "    <tr>\n",
       "      <th>1</th>\n",
       "      <td>CAMEO_DEU_2015</td>\n",
       "      <td>933466</td>\n",
       "      <td>45</td>\n",
       "      <td>6B</td>\n",
       "      <td>66306</td>\n",
       "      <td>CAMEO classification 2015 - detailled classifi...</td>\n",
       "      <td>0.137973</td>\n",
       "    </tr>\n",
       "    <tr>\n",
       "      <th>2</th>\n",
       "      <td>CAMEO_DEUG_2015</td>\n",
       "      <td>933466</td>\n",
       "      <td>19</td>\n",
       "      <td>8</td>\n",
       "      <td>87739</td>\n",
       "      <td>CAMEO classification 2015 - Uppergroup</td>\n",
       "      <td>0.137973</td>\n",
       "    </tr>\n",
       "  </tbody>\n",
       "</table>\n",
       "</div>"
      ],
      "text/plain": [
       "         Attribute   count unique top    freq  \\\n",
       "0      OST_WEST_KZ  939798      2   W  759910   \n",
       "1   CAMEO_DEU_2015  933466     45  6B   66306   \n",
       "2  CAMEO_DEUG_2015  933466     19   8   87739   \n",
       "\n",
       "                                                Desc null_portion  \n",
       "0                 flag indicating the former GDR/FRG     0.132125  \n",
       "1  CAMEO classification 2015 - detailled classifi...     0.137973  \n",
       "2             CAMEO classification 2015 - Uppergroup     0.137973  "
      ]
     },
     "execution_count": 100,
     "metadata": {},
     "output_type": "execute_result"
    }
   ],
   "source": [
    "intsec_obj_score = dataset_summary(concat_intsec, ['object'], False)\n",
    "intsec_obj_score"
   ]
  },
  {
   "cell_type": "code",
   "execution_count": 101,
   "metadata": {},
   "outputs": [
    {
     "name": "stdout",
     "output_type": "stream",
     "text": [
      "OST_WEST_KZ\n",
      "a) scores in datasets: {'W', 'O', nan}\n",
      "b) scores in datasets: {'W', 'O', -1}\n",
      "a) b) intersection: {'W', 'O'}\n",
      "a) - b): {nan}\n",
      "b) - a): {-1} \n",
      "\n",
      "CAMEO_DEU_2015\n",
      "a) scores in datasets: {'7D', 'XX', '3B', '7E', '9E', '3A', '9C', '6E', '3D', '7A', '1E', '5A', '5B', '8A', '5E', '5C', '4C', nan, '2B', '3C', '5F', '5D', '1C', '6D', '7B', '8B', '4A', '4E', '9B', '8D', '6A', '6F', '6B', '1B', '8C', '2A', '1D', '4D', '7C', '2D', '4B', '6C', '9A', '1A', '2C', '9D'}\n",
      "b) scores in datasets: {'7D', '3B', '7E', '9E', '3A', '9C', '6E', '3D', '1E', '5A', '5E', '5B', '7A', '8A', '5C', '4C', '2B', '9D', '3C', '5F', '1C', '5D', '6D', '7B', '8B', '4A', '4E', '9B', '8D', '6A', '6F', '6B', '1B', '8C', '2A', '1D', '7C', '2D', '4B', '6C', '9A', '1A', '2C', '4D'}\n",
      "a) b) intersection: {'7D', '3B', '7E', '9E', '3A', '9C', '6E', '3D', '7A', '5A', '5E', '5B', '8A', '1E', '5C', '4C', '2B', '3C', '5F', '1C', '5D', '6D', '7B', '8B', '4A', '4E', '9B', '8D', '6A', '6F', '6B', '1B', '8C', '2A', '1D', '4D', '7C', '2D', '4B', '6C', '9A', '1A', '2C', '9D'}\n",
      "a) - b): {'XX', nan}\n",
      "b) - a): set() \n",
      "\n",
      "CAMEO_DEUG_2015\n",
      "a) scores in datasets: {1.0, 2.0, 3.0, 4.0, 5.0, 6.0, 7.0, 8.0, 9.0, '9', '5', '7', '6', nan, '8', '4', '2', '3', '1', 'X'}\n",
      "b) scores in datasets: {1, 2, 3, 4, 5, 6, 7, 8, 9, -1}\n",
      "a) b) intersection: {1, 2, 3, 4, 5, 6, 7, 8, 9}\n",
      "a) - b): {'9', nan, '4', '8', '3', '1', '5', '7', '6', '2', 'X'}\n",
      "b) - a): {-1} \n",
      "\n"
     ]
    }
   ],
   "source": [
    "'''\n",
    "check if Scores in actual datasets are within range given by attr.\n",
    "'''\n",
    "\n",
    "# merge min/max values by Attribute in attr_num_score in 2.3.1\n",
    "for i in intsec_obj_score.Attribute.unique():\n",
    "    score_in_dataset = set(concat_intsec[i].unique())\n",
    "    score_in_attr = set(attr.query('Attribute == \"{}\"'.format(i)).Score.values)\n",
    "    \n",
    "    print (i)\n",
    "    print (f'a) scores in datasets: {score_in_dataset}')\n",
    "    print (f'b) scores in datasets: {score_in_attr}')\n",
    "    print (f'a) b) intersection: {score_in_dataset.intersection(score_in_attr)}')\n",
    "    print (f'a) - b): {score_in_dataset - score_in_attr}')\n",
    "    print (f'b) - a): {score_in_attr - score_in_dataset}', '\\n')"
   ]
  },
  {
   "cell_type": "code",
   "execution_count": 103,
   "metadata": {},
   "outputs": [],
   "source": [
    "'''\n",
    "NOTE\n",
    "'''\n",
    "\n",
    "p_process['3.1.2-CAMEO_DEU_2015'] = 'replace XX to null'\n",
    "p_process['3.1.2-CAMEO_DEUG_2015'] = 'replace X to null and change dtypes of numbers in string form'"
   ]
  },
  {
   "attachments": {},
   "cell_type": "markdown",
   "metadata": {},
   "source": [
    "#### 3.2 exclusive features NOT in reference files"
   ]
  },
  {
   "cell_type": "code",
   "execution_count": 104,
   "metadata": {},
   "outputs": [],
   "source": [
    "'''\n",
    "concat_excl containing exclusive features of datasets\n",
    "'''\n",
    "\n",
    "concat_excl = concat_data[\n",
    "    list(feature_dict['in_customers_notin_attr'])].copy()"
   ]
  },
  {
   "attachments": {},
   "cell_type": "markdown",
   "metadata": {},
   "source": [
    "##### 3.2.1 numeric dataset Scores of exclusive features\n",
    "\n",
    "뭐뭐뭐"
   ]
  },
  {
   "cell_type": "code",
   "execution_count": 105,
   "metadata": {},
   "outputs": [
    {
     "name": "stdout",
     "output_type": "stream",
     "text": [
      "number of Attribute(s): 92\n"
     ]
    },
    {
     "data": {
      "text/html": [
       "<div>\n",
       "<style scoped>\n",
       "    .dataframe tbody tr th:only-of-type {\n",
       "        vertical-align: middle;\n",
       "    }\n",
       "\n",
       "    .dataframe tbody tr th {\n",
       "        vertical-align: top;\n",
       "    }\n",
       "\n",
       "    .dataframe thead th {\n",
       "        text-align: right;\n",
       "    }\n",
       "</style>\n",
       "<table border=\"1\" class=\"dataframe\">\n",
       "  <thead>\n",
       "    <tr style=\"text-align: right;\">\n",
       "      <th></th>\n",
       "      <th>Attribute</th>\n",
       "      <th>count</th>\n",
       "      <th>mean</th>\n",
       "      <th>std</th>\n",
       "      <th>min</th>\n",
       "      <th>25%</th>\n",
       "      <th>50%</th>\n",
       "      <th>75%</th>\n",
       "      <th>max</th>\n",
       "      <th>Desc</th>\n",
       "      <th>null_portion</th>\n",
       "      <th>min_max_cat</th>\n",
       "    </tr>\n",
       "  </thead>\n",
       "  <tbody>\n",
       "    <tr>\n",
       "      <th>0</th>\n",
       "      <td>D19_VERSI_ONLINE_QUOTE_12</td>\n",
       "      <td>778063.0</td>\n",
       "      <td>0.023798</td>\n",
       "      <td>0.483784</td>\n",
       "      <td>0.0</td>\n",
       "      <td>0.0</td>\n",
       "      <td>0.0</td>\n",
       "      <td>0.0</td>\n",
       "      <td>10.0</td>\n",
       "      <td>D19 versi online quote 12</td>\n",
       "      <td>0.281483</td>\n",
       "      <td>0 to 10</td>\n",
       "    </tr>\n",
       "    <tr>\n",
       "      <th>1</th>\n",
       "      <td>VHA</td>\n",
       "      <td>962778.0</td>\n",
       "      <td>0.503563</td>\n",
       "      <td>1.181750</td>\n",
       "      <td>0.0</td>\n",
       "      <td>0.0</td>\n",
       "      <td>0.0</td>\n",
       "      <td>0.0</td>\n",
       "      <td>5.0</td>\n",
       "      <td>Vha</td>\n",
       "      <td>0.110904</td>\n",
       "      <td>0 to 5</td>\n",
       "    </tr>\n",
       "    <tr>\n",
       "      <th>2</th>\n",
       "      <td>AKT_DAT_KL</td>\n",
       "      <td>962778.0</td>\n",
       "      <td>4.018992</td>\n",
       "      <td>3.569841</td>\n",
       "      <td>1.0</td>\n",
       "      <td>1.0</td>\n",
       "      <td>1.0</td>\n",
       "      <td>9.0</td>\n",
       "      <td>9.0</td>\n",
       "      <td>Act Dat KL</td>\n",
       "      <td>0.110904</td>\n",
       "      <td>1 to 9</td>\n",
       "    </tr>\n",
       "    <tr>\n",
       "      <th>3</th>\n",
       "      <td>KBA13_ANTG2</td>\n",
       "      <td>925792.0</td>\n",
       "      <td>2.774118</td>\n",
       "      <td>0.920952</td>\n",
       "      <td>0.0</td>\n",
       "      <td>2.0</td>\n",
       "      <td>3.0</td>\n",
       "      <td>3.0</td>\n",
       "      <td>4.0</td>\n",
       "      <td>KBA13 Ang2</td>\n",
       "      <td>0.145059</td>\n",
       "      <td>0 to 4</td>\n",
       "    </tr>\n",
       "    <tr>\n",
       "      <th>4</th>\n",
       "      <td>D19_SONSTIGE</td>\n",
       "      <td>1082873.0</td>\n",
       "      <td>2.525860</td>\n",
       "      <td>2.885597</td>\n",
       "      <td>0.0</td>\n",
       "      <td>0.0</td>\n",
       "      <td>0.0</td>\n",
       "      <td>6.0</td>\n",
       "      <td>7.0</td>\n",
       "      <td>D19 others</td>\n",
       "      <td>0.000000</td>\n",
       "      <td>0 to 7</td>\n",
       "    </tr>\n",
       "  </tbody>\n",
       "</table>\n",
       "</div>"
      ],
      "text/plain": [
       "                   Attribute      count      mean       std  min  25%  50%  \\\n",
       "0  D19_VERSI_ONLINE_QUOTE_12   778063.0  0.023798  0.483784  0.0  0.0  0.0   \n",
       "1                        VHA   962778.0  0.503563  1.181750  0.0  0.0  0.0   \n",
       "2                 AKT_DAT_KL   962778.0  4.018992  3.569841  1.0  1.0  1.0   \n",
       "3                KBA13_ANTG2   925792.0  2.774118  0.920952  0.0  2.0  3.0   \n",
       "4               D19_SONSTIGE  1082873.0  2.525860  2.885597  0.0  0.0  0.0   \n",
       "\n",
       "   75%   max                       Desc  null_portion min_max_cat  \n",
       "0  0.0  10.0  D19 versi online quote 12      0.281483     0 to 10  \n",
       "1  0.0   5.0                        Vha      0.110904      0 to 5  \n",
       "2  9.0   9.0                 Act Dat KL      0.110904      1 to 9  \n",
       "3  3.0   4.0                 KBA13 Ang2      0.145059      0 to 4  \n",
       "4  6.0   7.0                 D19 others      0.000000      0 to 7  "
      ]
     },
     "metadata": {},
     "output_type": "display_data"
    },
    {
     "name": "stdout",
     "output_type": "stream",
     "text": [
      "min_max Scores: \n",
      " ['0 to 10' '0 to 5' '1 to 9' '0 to 4' '0 to 7' '1 to 13' '1 to 11'\n",
      " '1 to 5' '0 to 449' '0 to 1' '1 to 1_082_873' '1 to 6' '0 to 3' '0 to 6'\n",
      " '1 to 56' '1 to 10' '2 to 18' '7 to 18' '0 to 25' '11 to 50' '0 to 11'\n",
      " '1_900 to 2_018' '0 to 2' '1 to 3' '4 to 18' '0 to 45']\n"
     ]
    }
   ],
   "source": [
    "'''\n",
    "excl_num_score containing Scores denoted in number\n",
    "'''\n",
    "\n",
    "excl_num_score = dataset_summary(concat_excl, ['int', 'float'])"
   ]
  },
  {
   "attachments": {},
   "cell_type": "markdown",
   "metadata": {},
   "source": [
    "* **data type of features with wider min/max Score gap**\n",
    "  \n",
    "min/max Score gap is not big. 아무 reference가 없으니 section_2에서 정리한 일반 원칙 적용하여 pre-processing\n",
    "\n",
    "All features that have min/max Score gap over 10 and null portion below 50% are to be checked below."
   ]
  },
  {
   "cell_type": "code",
   "execution_count": 106,
   "metadata": {},
   "outputs": [
    {
     "data": {
      "text/html": [
       "<div>\n",
       "<style scoped>\n",
       "    .dataframe tbody tr th:only-of-type {\n",
       "        vertical-align: middle;\n",
       "    }\n",
       "\n",
       "    .dataframe tbody tr th {\n",
       "        vertical-align: top;\n",
       "    }\n",
       "\n",
       "    .dataframe thead th {\n",
       "        text-align: right;\n",
       "    }\n",
       "</style>\n",
       "<table border=\"1\" class=\"dataframe\">\n",
       "  <thead>\n",
       "    <tr style=\"text-align: right;\">\n",
       "      <th></th>\n",
       "      <th>Attribute</th>\n",
       "      <th>count</th>\n",
       "      <th>mean</th>\n",
       "      <th>std</th>\n",
       "      <th>min</th>\n",
       "      <th>25%</th>\n",
       "      <th>50%</th>\n",
       "      <th>75%</th>\n",
       "      <th>max</th>\n",
       "      <th>Desc</th>\n",
       "      <th>null_portion</th>\n",
       "      <th>min_max_cat</th>\n",
       "    </tr>\n",
       "  </thead>\n",
       "  <tbody>\n",
       "    <tr>\n",
       "      <th>6</th>\n",
       "      <td>VK_DISTANZ</td>\n",
       "      <td>959085.0</td>\n",
       "      <td>7.087279</td>\n",
       "      <td>3.367266</td>\n",
       "      <td>1.0</td>\n",
       "      <td>4.0</td>\n",
       "      <td>7.0</td>\n",
       "      <td>10.0</td>\n",
       "      <td>13.0</td>\n",
       "      <td>VK distance</td>\n",
       "      <td>0.114314</td>\n",
       "      <td>1 to 13</td>\n",
       "    </tr>\n",
       "    <tr>\n",
       "      <th>9</th>\n",
       "      <td>ANZ_STATISTISCHE_HAUSHALTE</td>\n",
       "      <td>939798.0</td>\n",
       "      <td>7.162317</td>\n",
       "      <td>14.347487</td>\n",
       "      <td>0.0</td>\n",
       "      <td>1.0</td>\n",
       "      <td>3.0</td>\n",
       "      <td>8.0</td>\n",
       "      <td>449.0</td>\n",
       "      <td>Anz statistical households</td>\n",
       "      <td>0.132125</td>\n",
       "      <td>0 to 449</td>\n",
       "    </tr>\n",
       "    <tr>\n",
       "      <th>14</th>\n",
       "      <td>LNR</td>\n",
       "      <td>1082873.0</td>\n",
       "      <td>541437.000000</td>\n",
       "      <td>312598.653361</td>\n",
       "      <td>1.0</td>\n",
       "      <td>270719.0</td>\n",
       "      <td>541437.0</td>\n",
       "      <td>812155.0</td>\n",
       "      <td>1082873.0</td>\n",
       "      <td>LNR</td>\n",
       "      <td>0.000000</td>\n",
       "      <td>1 to 1_082_873</td>\n",
       "    </tr>\n",
       "    <tr>\n",
       "      <th>28</th>\n",
       "      <td>EXTSEL992</td>\n",
       "      <td>343437.0</td>\n",
       "      <td>34.911830</td>\n",
       "      <td>14.472052</td>\n",
       "      <td>1.0</td>\n",
       "      <td>25.0</td>\n",
       "      <td>35.0</td>\n",
       "      <td>48.0</td>\n",
       "      <td>56.0</td>\n",
       "      <td>Extsel992</td>\n",
       "      <td>0.682846</td>\n",
       "      <td>1 to 56</td>\n",
       "    </tr>\n",
       "    <tr>\n",
       "      <th>34</th>\n",
       "      <td>ALTER_KIND2</td>\n",
       "      <td>34599.0</td>\n",
       "      <td>13.442412</td>\n",
       "      <td>3.244667</td>\n",
       "      <td>2.0</td>\n",
       "      <td>11.0</td>\n",
       "      <td>14.0</td>\n",
       "      <td>16.0</td>\n",
       "      <td>18.0</td>\n",
       "      <td>Old child2</td>\n",
       "      <td>0.968049</td>\n",
       "      <td>2 to 18</td>\n",
       "    </tr>\n",
       "    <tr>\n",
       "      <th>36</th>\n",
       "      <td>ALTER_KIND4</td>\n",
       "      <td>1441.0</td>\n",
       "      <td>15.136711</td>\n",
       "      <td>2.431287</td>\n",
       "      <td>7.0</td>\n",
       "      <td>14.0</td>\n",
       "      <td>16.0</td>\n",
       "      <td>17.0</td>\n",
       "      <td>18.0</td>\n",
       "      <td>Old child4</td>\n",
       "      <td>0.998669</td>\n",
       "      <td>7 to 18</td>\n",
       "    </tr>\n",
       "    <tr>\n",
       "      <th>38</th>\n",
       "      <td>ALTERSKATEGORIE_FEIN</td>\n",
       "      <td>768084.0</td>\n",
       "      <td>13.087451</td>\n",
       "      <td>5.090172</td>\n",
       "      <td>0.0</td>\n",
       "      <td>10.0</td>\n",
       "      <td>14.0</td>\n",
       "      <td>17.0</td>\n",
       "      <td>25.0</td>\n",
       "      <td>Age category fine</td>\n",
       "      <td>0.290698</td>\n",
       "      <td>0 to 25</td>\n",
       "    </tr>\n",
       "    <tr>\n",
       "      <th>59</th>\n",
       "      <td>GEMEINDETYP</td>\n",
       "      <td>935123.0</td>\n",
       "      <td>24.275811</td>\n",
       "      <td>11.997949</td>\n",
       "      <td>11.0</td>\n",
       "      <td>12.0</td>\n",
       "      <td>22.0</td>\n",
       "      <td>30.0</td>\n",
       "      <td>50.0</td>\n",
       "      <td>Parish type</td>\n",
       "      <td>0.136443</td>\n",
       "      <td>11 to 50</td>\n",
       "    </tr>\n",
       "    <tr>\n",
       "      <th>62</th>\n",
       "      <td>ANZ_KINDER</td>\n",
       "      <td>962778.0</td>\n",
       "      <td>0.151364</td>\n",
       "      <td>0.501062</td>\n",
       "      <td>0.0</td>\n",
       "      <td>0.0</td>\n",
       "      <td>0.0</td>\n",
       "      <td>0.0</td>\n",
       "      <td>11.0</td>\n",
       "      <td>Anz children</td>\n",
       "      <td>0.110904</td>\n",
       "      <td>0 to 11</td>\n",
       "    </tr>\n",
       "    <tr>\n",
       "      <th>63</th>\n",
       "      <td>EINGEZOGENAM_HH_JAHR</td>\n",
       "      <td>962778.0</td>\n",
       "      <td>2003.044442</td>\n",
       "      <td>7.120764</td>\n",
       "      <td>1900.0</td>\n",
       "      <td>1997.0</td>\n",
       "      <td>2002.0</td>\n",
       "      <td>2009.0</td>\n",
       "      <td>2018.0</td>\n",
       "      <td>Intended HH year</td>\n",
       "      <td>0.110904</td>\n",
       "      <td>1_900 to 2_018</td>\n",
       "    </tr>\n",
       "    <tr>\n",
       "      <th>77</th>\n",
       "      <td>ALTER_KIND1</td>\n",
       "      <td>92824.0</td>\n",
       "      <td>11.820413</td>\n",
       "      <td>4.090882</td>\n",
       "      <td>2.0</td>\n",
       "      <td>8.0</td>\n",
       "      <td>12.0</td>\n",
       "      <td>15.0</td>\n",
       "      <td>18.0</td>\n",
       "      <td>Old child1</td>\n",
       "      <td>0.914280</td>\n",
       "      <td>2 to 18</td>\n",
       "    </tr>\n",
       "    <tr>\n",
       "      <th>90</th>\n",
       "      <td>ALTER_KIND3</td>\n",
       "      <td>7445.0</td>\n",
       "      <td>14.505306</td>\n",
       "      <td>2.720132</td>\n",
       "      <td>4.0</td>\n",
       "      <td>13.0</td>\n",
       "      <td>15.0</td>\n",
       "      <td>17.0</td>\n",
       "      <td>18.0</td>\n",
       "      <td>Old child3</td>\n",
       "      <td>0.993125</td>\n",
       "      <td>4 to 18</td>\n",
       "    </tr>\n",
       "    <tr>\n",
       "      <th>91</th>\n",
       "      <td>VERDICHTUNGSRAUM</td>\n",
       "      <td>935123.0</td>\n",
       "      <td>4.656614</td>\n",
       "      <td>8.595244</td>\n",
       "      <td>0.0</td>\n",
       "      <td>0.0</td>\n",
       "      <td>1.0</td>\n",
       "      <td>5.0</td>\n",
       "      <td>45.0</td>\n",
       "      <td>Compression room</td>\n",
       "      <td>0.136443</td>\n",
       "      <td>0 to 45</td>\n",
       "    </tr>\n",
       "  </tbody>\n",
       "</table>\n",
       "</div>"
      ],
      "text/plain": [
       "                     Attribute      count           mean            std  \\\n",
       "6                   VK_DISTANZ   959085.0       7.087279       3.367266   \n",
       "9   ANZ_STATISTISCHE_HAUSHALTE   939798.0       7.162317      14.347487   \n",
       "14                         LNR  1082873.0  541437.000000  312598.653361   \n",
       "28                   EXTSEL992   343437.0      34.911830      14.472052   \n",
       "34                 ALTER_KIND2    34599.0      13.442412       3.244667   \n",
       "36                 ALTER_KIND4     1441.0      15.136711       2.431287   \n",
       "38        ALTERSKATEGORIE_FEIN   768084.0      13.087451       5.090172   \n",
       "59                 GEMEINDETYP   935123.0      24.275811      11.997949   \n",
       "62                  ANZ_KINDER   962778.0       0.151364       0.501062   \n",
       "63        EINGEZOGENAM_HH_JAHR   962778.0    2003.044442       7.120764   \n",
       "77                 ALTER_KIND1    92824.0      11.820413       4.090882   \n",
       "90                 ALTER_KIND3     7445.0      14.505306       2.720132   \n",
       "91            VERDICHTUNGSRAUM   935123.0       4.656614       8.595244   \n",
       "\n",
       "       min       25%       50%       75%        max  \\\n",
       "6      1.0       4.0       7.0      10.0       13.0   \n",
       "9      0.0       1.0       3.0       8.0      449.0   \n",
       "14     1.0  270719.0  541437.0  812155.0  1082873.0   \n",
       "28     1.0      25.0      35.0      48.0       56.0   \n",
       "34     2.0      11.0      14.0      16.0       18.0   \n",
       "36     7.0      14.0      16.0      17.0       18.0   \n",
       "38     0.0      10.0      14.0      17.0       25.0   \n",
       "59    11.0      12.0      22.0      30.0       50.0   \n",
       "62     0.0       0.0       0.0       0.0       11.0   \n",
       "63  1900.0    1997.0    2002.0    2009.0     2018.0   \n",
       "77     2.0       8.0      12.0      15.0       18.0   \n",
       "90     4.0      13.0      15.0      17.0       18.0   \n",
       "91     0.0       0.0       1.0       5.0       45.0   \n",
       "\n",
       "                          Desc  null_portion     min_max_cat  \n",
       "6                  VK distance      0.114314         1 to 13  \n",
       "9   Anz statistical households      0.132125        0 to 449  \n",
       "14                         LNR      0.000000  1 to 1_082_873  \n",
       "28                   Extsel992      0.682846         1 to 56  \n",
       "34                  Old child2      0.968049         2 to 18  \n",
       "36                  Old child4      0.998669         7 to 18  \n",
       "38           Age category fine      0.290698         0 to 25  \n",
       "59                 Parish type      0.136443        11 to 50  \n",
       "62                Anz children      0.110904         0 to 11  \n",
       "63            Intended HH year      0.110904  1_900 to 2_018  \n",
       "77                  Old child1      0.914280         2 to 18  \n",
       "90                  Old child3      0.993125         4 to 18  \n",
       "91            Compression room      0.136443         0 to 45  "
      ]
     },
     "metadata": {},
     "output_type": "display_data"
    }
   ],
   "source": [
    "'''\n",
    "check features that have min/max Score gap over 10\n",
    "'''\n",
    "# from pv_min_max above, extract Attribute values having Score values over 7\n",
    "gap_over10_attribute = excl_num_score[\n",
    "    (excl_num_score['max'] - excl_num_score['min']) > 10].Attribute.unique()\n",
    "\n",
    "gap_over10 = excl_num_score.query('Attribute.isin(@gap_over10_attribute)')\n",
    "view_all(gap_over10)"
   ]
  },
  {
   "cell_type": "code",
   "execution_count": 108,
   "metadata": {},
   "outputs": [
    {
     "data": {
      "image/png": "[encoded data removed]",
      "text/plain": [
       "<Figure size 1000x150 with 1 Axes>"
      ]
     },
     "metadata": {},
     "output_type": "display_data"
    },
    {
     "name": "stdout",
     "output_type": "stream",
     "text": [
      "10 outliers (Score: %) \n",
      "  … \n",
      "\n",
      "\n"
     ]
    }
   ],
   "source": [
    "'''\n",
    "VK_DISTANZ  \n",
    "- No pre-processing needed\n",
    "'''\n",
    "\n",
    "view_feature (concat_excl, 'VK_DISTANZ', False, True)"
   ]
  },
  {
   "cell_type": "code",
   "execution_count": 109,
   "metadata": {},
   "outputs": [
    {
     "data": {
      "image/png": "[encoded data removed]",
      "text/plain": [
       "<Figure size 1000x150 with 1 Axes>"
      ]
     },
     "metadata": {},
     "output_type": "display_data"
    },
    {
     "data": {
      "image/png": "[encoded data removed]",
      "text/plain": [
       "<Figure size 1000x150 with 1 Axes>"
      ]
     },
     "metadata": {},
     "output_type": "display_data"
    },
    {
     "name": "stdout",
     "output_type": "stream",
     "text": [
      "10 outliers (Score: %) \n",
      " 449: 0.0%, 445: 0.0%, 375: 0.0%, 371: 0.0%, 369: 0.0% … 23: 0.3%, 22: 0.4%, 21: 0.4%, 20: 0.4%, 19: 0.5%\n",
      "\n",
      "\n"
     ]
    }
   ],
   "source": [
    "'''\n",
    "ANZ_STATISTISCHE_HAUSHALTE   \n",
    "  - No pre-processing needed: Value 0 and max value might be strange or extreme but are possible\n",
    "  - Log scaling is needed due to high skewness\n",
    "'''\n",
    "\n",
    "view_feature (concat_excl, 'ANZ_STATISTISCHE_HAUSHALTE')"
   ]
  },
  {
   "cell_type": "code",
   "execution_count": 110,
   "metadata": {},
   "outputs": [],
   "source": [
    "'''\n",
    "NOTE\n",
    "'''\n",
    "\n",
    "p_process['3.2.1-ANZ_HAUSHALTE_AKTIV'] = '[Log scaling]'"
   ]
  },
  {
   "cell_type": "code",
   "execution_count": null,
   "metadata": {},
   "outputs": [],
   "source": [
    "'''\n",
    "NOTE\n",
    "LNR is the serial index of dataset\n",
    "'''\n",
    "\n",
    "p_process['3.2'] = 'drop LNR'"
   ]
  },
  {
   "cell_type": "code",
   "execution_count": 111,
   "metadata": {},
   "outputs": [
    {
     "data": {
      "image/png": "[encoded data removed]",
      "text/plain": [
       "<Figure size 1000x150 with 1 Axes>"
      ]
     },
     "metadata": {},
     "output_type": "display_data"
    },
    {
     "data": {
      "image/png": "[encoded data removed]",
      "text/plain": [
       "<Figure size 1000x150 with 1 Axes>"
      ]
     },
     "metadata": {},
     "output_type": "display_data"
    },
    {
     "name": "stdout",
     "output_type": "stream",
     "text": [
      "10 outliers (Score: %) \n",
      "  … \n",
      "\n",
      "\n"
     ]
    }
   ],
   "source": [
    "'''\n",
    "ALTERSKATEGORIE_FEIN  \n",
    "- 0을 null로\n",
    "'''\n",
    "\n",
    "view_feature (concat_excl, 'ALTERSKATEGORIE_FEIN')"
   ]
  },
  {
   "cell_type": "code",
   "execution_count": 112,
   "metadata": {},
   "outputs": [],
   "source": [
    "p_process['3.2.1-ALTERSKATEGORIE_FEIN'] = 'replace 0 to null'"
   ]
  },
  {
   "cell_type": "code",
   "execution_count": 113,
   "metadata": {},
   "outputs": [
    {
     "data": {
      "image/png": "[encoded data removed]",
      "text/plain": [
       "<Figure size 1000x150 with 1 Axes>"
      ]
     },
     "metadata": {},
     "output_type": "display_data"
    },
    {
     "name": "stdout",
     "output_type": "stream",
     "text": [
      "10 outliers (Score: %) \n",
      "  … \n",
      "\n",
      "\n"
     ]
    }
   ],
   "source": [
    "'''\n",
    "GEMEINDETYP   \n",
    "- No pre-processing needed, 정확한 의미는 모르겠으나 극단적 특이성은 없음\n",
    "'''\n",
    "\n",
    "view_feature (concat_excl, 'GEMEINDETYP', True, False)"
   ]
  },
  {
   "attachments": {},
   "cell_type": "markdown",
   "metadata": {},
   "source": [
    "* ANZ_KINDER  \n",
    "  - 0을 null로 보면 대부분 값이 없으므로 Drop"
   ]
  },
  {
   "cell_type": "code",
   "execution_count": 116,
   "metadata": {},
   "outputs": [
    {
     "data": {
      "image/png": "[encoded data removed]",
      "text/plain": [
       "<Figure size 1000x150 with 1 Axes>"
      ]
     },
     "metadata": {},
     "output_type": "display_data"
    },
    {
     "name": "stdout",
     "output_type": "stream",
     "text": [
      "10 outliers (Score: %) \n",
      " 11: 0.0%, 9: 0.0%, 8: 0.0%, 7: 0.0%, 6: 0.0% … 5: 0.0%, 4: 0.1%, 3: 0.7%, 2: 3.0%, 1: 6.5%\n",
      "\n",
      "\n"
     ]
    }
   ],
   "source": [
    "'''\n",
    "ANZ_KINDER  \n",
    "  - 0을 null로 보면 대부분 값이 없으므로 Drop\n",
    "'''\n",
    "\n",
    "view_feature (concat_excl, 'ANZ_KINDER', False, True)"
   ]
  },
  {
   "cell_type": "code",
   "execution_count": 117,
   "metadata": {},
   "outputs": [],
   "source": [
    "p_process['3.2.1-ANZ_KINDER'] = 'drop feature'"
   ]
  },
  {
   "attachments": {},
   "cell_type": "markdown",
   "metadata": {},
   "source": [
    "* EINGEZOGENAM_HH_JAHR \n",
    "  - outliers: Eng translation is not completely understandable, but 3 outliers can be replaced to NaN "
   ]
  },
  {
   "cell_type": "code",
   "execution_count": 118,
   "metadata": {},
   "outputs": [
    {
     "data": {
      "image/png": "[encoded data removed]",
      "text/plain": [
       "<Figure size 1000x150 with 1 Axes>"
      ]
     },
     "metadata": {},
     "output_type": "display_data"
    },
    {
     "name": "stdout",
     "output_type": "stream",
     "text": [
      "10 outliers (Score: %) \n",
      " 1971: 0.0%, 1904: 0.0%, 1900: 0.0% … 1971: 0.0%, 1904: 0.0%, 1900: 0.0%\n",
      "\n",
      "\n"
     ]
    }
   ],
   "source": [
    "'''\n",
    "EINGEZOGENAM_HH_JAHR \n",
    "- outliers: Eng translation is not completely understandable, but 3 outliers can be replaced to null\n",
    "'''\n",
    "\n",
    "view_feature (concat_excl, 'EINGEZOGENAM_HH_JAHR', True, False)"
   ]
  },
  {
   "cell_type": "code",
   "execution_count": 119,
   "metadata": {},
   "outputs": [],
   "source": [
    "p_process['3.2.1-EINGEZOGENAM_HH_JAHR'] = 'replace Value < 1980 to null'"
   ]
  },
  {
   "attachments": {},
   "cell_type": "markdown",
   "metadata": {},
   "source": [
    "* VERDICHTUNGSRAUM   \n",
    "  - No pre-processing needed with Eng translation not completely understandable"
   ]
  },
  {
   "cell_type": "code",
   "execution_count": 120,
   "metadata": {},
   "outputs": [
    {
     "data": {
      "image/png": "[encoded data removed]",
      "text/plain": [
       "<Figure size 1000x150 with 1 Axes>"
      ]
     },
     "metadata": {},
     "output_type": "display_data"
    },
    {
     "data": {
      "image/png": "[encoded data removed]",
      "text/plain": [
       "<Figure size 1000x150 with 1 Axes>"
      ]
     },
     "metadata": {},
     "output_type": "display_data"
    },
    {
     "name": "stdout",
     "output_type": "stream",
     "text": [
      "10 outliers (Score: %) \n",
      " 45: 0.2%, 44: 0.2%, 43: 0.2%, 42: 0.2%, 41: 0.1% … 17: 0.8%, 16: 0.8%, 15: 0.8%, 14: 0.9%, 13: 1.0%\n",
      "\n",
      "\n"
     ]
    }
   ],
   "source": [
    "'''\n",
    "VERDICHTUNGSRAUM   \n",
    "- No pre-processing needed although Eng translation not completely understandable\n",
    "'''\n",
    "\n",
    "view_feature (concat_excl, 'VERDICHTUNGSRAUM')"
   ]
  },
  {
   "attachments": {},
   "cell_type": "markdown",
   "metadata": {},
   "source": [
    "##### 3.2.2 string dataset Scores of exclusive features\n",
    "\n",
    "///// For ...."
   ]
  },
  {
   "cell_type": "code",
   "execution_count": 121,
   "metadata": {},
   "outputs": [
    {
     "name": "stdout",
     "output_type": "stream",
     "text": [
      "number of Attribute(s): 5\n"
     ]
    },
    {
     "data": {
      "text/html": [
       "<div>\n",
       "<style scoped>\n",
       "    .dataframe tbody tr th:only-of-type {\n",
       "        vertical-align: middle;\n",
       "    }\n",
       "\n",
       "    .dataframe tbody tr th {\n",
       "        vertical-align: top;\n",
       "    }\n",
       "\n",
       "    .dataframe thead th {\n",
       "        text-align: right;\n",
       "    }\n",
       "</style>\n",
       "<table border=\"1\" class=\"dataframe\">\n",
       "  <thead>\n",
       "    <tr style=\"text-align: right;\">\n",
       "      <th></th>\n",
       "      <th>Attribute</th>\n",
       "      <th>count</th>\n",
       "      <th>unique</th>\n",
       "      <th>top</th>\n",
       "      <th>freq</th>\n",
       "      <th>Desc</th>\n",
       "      <th>null_portion</th>\n",
       "    </tr>\n",
       "  </thead>\n",
       "  <tbody>\n",
       "    <tr>\n",
       "      <th>0</th>\n",
       "      <td>CUSTOMER_GROUP</td>\n",
       "      <td>191652</td>\n",
       "      <td>2</td>\n",
       "      <td>MULTI_BUYER</td>\n",
       "      <td>132238</td>\n",
       "      <td>Customer Group</td>\n",
       "      <td>0.823015</td>\n",
       "    </tr>\n",
       "    <tr>\n",
       "      <th>1</th>\n",
       "      <td>D19_LETZTER_KAUF_BRANCHE</td>\n",
       "      <td>778063</td>\n",
       "      <td>35</td>\n",
       "      <td>D19_UNBEKANNT</td>\n",
       "      <td>227248</td>\n",
       "      <td>D19 Last purchase industry</td>\n",
       "      <td>0.281483</td>\n",
       "    </tr>\n",
       "    <tr>\n",
       "      <th>2</th>\n",
       "      <td>CAMEO_INTL_2015</td>\n",
       "      <td>933466</td>\n",
       "      <td>43</td>\n",
       "      <td>51</td>\n",
       "      <td>83563</td>\n",
       "      <td>CAMEO INTL 2015</td>\n",
       "      <td>0.137973</td>\n",
       "    </tr>\n",
       "    <tr>\n",
       "      <th>3</th>\n",
       "      <td>PRODUCT_GROUP</td>\n",
       "      <td>191652</td>\n",
       "      <td>3</td>\n",
       "      <td>COSMETIC_AND_FOOD</td>\n",
       "      <td>100860</td>\n",
       "      <td>Product Group</td>\n",
       "      <td>0.823015</td>\n",
       "    </tr>\n",
       "    <tr>\n",
       "      <th>4</th>\n",
       "      <td>EINGEFUEGT_AM</td>\n",
       "      <td>939798</td>\n",
       "      <td>5254</td>\n",
       "      <td>1992-02-10 00:00:00</td>\n",
       "      <td>448482</td>\n",
       "      <td>Finded on</td>\n",
       "      <td>0.132125</td>\n",
       "    </tr>\n",
       "  </tbody>\n",
       "</table>\n",
       "</div>"
      ],
      "text/plain": [
       "                  Attribute   count unique                  top    freq  \\\n",
       "0            CUSTOMER_GROUP  191652      2          MULTI_BUYER  132238   \n",
       "1  D19_LETZTER_KAUF_BRANCHE  778063     35        D19_UNBEKANNT  227248   \n",
       "2           CAMEO_INTL_2015  933466     43                   51   83563   \n",
       "3             PRODUCT_GROUP  191652      3    COSMETIC_AND_FOOD  100860   \n",
       "4             EINGEFUEGT_AM  939798   5254  1992-02-10 00:00:00  448482   \n",
       "\n",
       "                         Desc null_portion  \n",
       "0              Customer Group     0.823015  \n",
       "1  D19 Last purchase industry     0.281483  \n",
       "2             CAMEO INTL 2015     0.137973  \n",
       "3               Product Group     0.823015  \n",
       "4                   Finded on     0.132125  "
      ]
     },
     "metadata": {},
     "output_type": "display_data"
    }
   ],
   "source": [
    "'''\n",
    "excl_obj_score containing Scores denoted in obj\n",
    "'''\n",
    "\n",
    "excl_obj_score = dataset_summary(concat_excl, ['object'])"
   ]
  },
  {
   "cell_type": "code",
   "execution_count": 124,
   "metadata": {},
   "outputs": [
    {
     "name": "stdout",
     "output_type": "stream",
     "text": [
      "D19_LETZTER_KAUF_BRANCHE\n",
      "scores in datasets: {'D19_BANKEN_GROSS', 'D19_TECHNIK', 'D19_UNBEKANNT', 'D19_SONSTIGE', 'D19_VERSICHERUNGEN', 'D19_BUCH_CD', 'D19_SAMMELARTIKEL', 'D19_BEKLEIDUNG_REST', 'D19_LOTTO', 'D19_NAHRUNGSERGAENZUNG', 'D19_TIERARTIKEL', 'D19_TELKO_MOBILE', 'D19_BANKEN_REST', 'D19_REISEN', 'D19_DIGIT_SERV', 'D19_VOLLSORTIMENT', 'D19_BIO_OEKO', 'D19_GARTEN', 'D19_KOSMETIK', 'D19_LEBENSMITTEL', 'D19_DROGERIEARTIKEL', 'D19_HAUS_DEKO', 'D19_ENERGIE', 'D19_BEKLEIDUNG_GEH', 'D19_SCHUHE', 'D19_BANKEN_LOKAL', 'D19_BILDUNG', 'D19_FREIZEIT', 'D19_TELKO_REST', nan, 'D19_HANDWERK', 'D19_RATGEBER', 'D19_VERSAND_REST', 'D19_WEIN_FEINKOST', 'D19_BANKEN_DIREKT', 'D19_KINDERARTIKEL'} \n",
      "\n",
      "CAMEO_INTL_2015\n",
      "scores in datasets: {'XX', '43', '12', '13', 12.0, 13.0, 14.0, 15.0, 22.0, 23.0, 24.0, 25.0, '32', 31.0, 32.0, 33.0, 34.0, 35.0, '35', '34', '33', 41.0, 43.0, 44.0, 45.0, '41', 51.0, 52.0, 54.0, 55.0, '25', '55', '51', '14', '44', '24', nan, '54', '45', '52', '15', '31', '23', '22'} \n",
      "\n",
      "EINGEFUEGT_AM\n",
      "scores in datasets: {'2008-08-22 00:00:00', '2012-07-11 00:00:00', '1995-03-04 00:00:00', '2004-03-31 00:00:00', '2010-05-07 00:00:00', '2001-06-07 00:00:00', '2004-09-09 00:00:00', '2007-04-12 00:00:00', '2005-12-15 00:00:00', '2008-06-05 00:00:00', '1995-08-31 00:00:00', '1993-02-10 00:00:00', '1993-09-14 00:00:00', '1997-08-04 00:00:00', '1994-04-12 00:00:00', '1996-11-20 00:00:00', '1994-02-04 00:00:00', '1996-07-01 00:00:00', '2013-07-18 00:00:00', '2003-10-03 00:00:00', '2005-03-21 00:00:00', '2005-03-15 00:00:00', '2014-10-07 00:00:00', '2006-01-24 00:00:00', '2009-02-09 00:00:00', '1994-01-25 00:00:00', '2002-07-18 00:00:00', '2002-08-08 00:00:00', '2011-07-27 00:00:00', '2003-09-19 00:00:00', '2002-05-02 00:00:00', '1994-09-30 00:00:00', '2003-11-11 00:00:00', '2015-10-23 00:00:00', '2006-06-16 00:00:00', '1995-08-30 00:00:00', '2010-06-29 00:00:00', '2005-10-09 00:00:00', '2014-12-02 00:00:00', '2007-06-21 00:00:00', '1998-04-29 00:00:00', '2015-10-13 00:00:00', '2009-12-16 00:00:00', '2001-10-09 00:00:00', '2004-09-01 00:00:00', '2012-07-12 00:00:00', '2004-05-03 00:00:00', '2000-07-10 00:00:00', '1998-09-25 00:00:00', '2006-03-09 00:00:00', '1992-02-19 00:00:00', '2002-09-06 00:00:00', '2007-10-30 00:00:00', '1997-09-04 00:00:00', '1993-09-22 00:00:00', '2006-10-10 00:00:00', '2007-12-20 00:00:00', '2007-08-25 00:00:00', '2007-11-16 00:00:00', '1996-01-22 00:00:00', '2007-02-01 00:00:00', '2003-09-11 00:00:00', '1997-11-20 00:00:00', '2011-10-17 00:00:00', '2005-05-03 00:00:00', '1993-04-07 00:00:00', '1999-08-13 00:00:00', '2012-08-20 00:00:00', '2003-10-29 00:00:00', '2011-02-10 00:00:00', '1998-08-26 00:00:00', '1994-06-17 00:00:00', '2009-04-14 00:00:00', '2000-12-18 00:00:00', '2003-06-14 00:00:00', '1999-09-24 00:00:00', '2005-05-09 00:00:00', '1993-09-13 00:00:00', '1996-10-04 00:00:00', '1993-11-10 00:00:00', '2008-08-18 00:00:00', '1993-05-07 00:00:00', '1996-05-10 00:00:00', '2006-01-11 00:00:00', '2000-09-20 00:00:00', '2011-01-13 00:00:00', '2008-12-03 00:00:00', '1997-07-28 00:00:00', '2001-11-07 00:00:00', '2009-08-05 00:00:00', '1997-08-20 00:00:00', '2015-07-13 00:00:00', '2015-03-26 00:00:00', '2004-07-19 00:00:00', '2008-06-03 00:00:00', '1993-12-17 00:00:00', '2010-10-04 00:00:00', '1995-09-04 00:00:00', '1996-03-05 00:00:00', '2013-02-26 00:00:00', '2015-07-31 00:00:00', '2012-11-28 00:00:00', '2012-08-30 00:00:00', '2000-10-21 00:00:00', '2001-01-29 00:00:00', '2006-02-28 00:00:00', '1995-02-20 00:00:00', '1997-07-07 00:00:00', '2013-06-27 00:00:00', '2006-02-17 00:00:00', '1997-05-14 00:00:00', '2000-08-04 00:00:00', '2006-07-16 00:00:00', '2013-08-06 00:00:00', '2002-07-24 00:00:00', '2005-02-10 00:00:00', '1997-03-20 00:00:00', '2006-02-14 00:00:00', '2001-08-29 00:00:00', '2011-05-30 00:00:00', '2013-08-30 00:00:00', '2006-09-12 00:00:00', '1995-09-06 00:00:00', '2005-01-21 00:00:00', '2006-02-01 00:00:00', '2003-08-18 00:00:00', '1995-10-13 00:00:00', '2007-03-30 00:00:00', '1993-07-12 00:00:00', '1999-05-05 00:00:00', '2000-03-27 00:00:00', '2010-05-18 00:00:00', '2005-06-07 00:00:00', '2003-06-11 00:00:00', '1997-11-24 00:00:00', '2014-10-27 00:00:00', '2006-10-17 00:00:00', '2011-12-15 00:00:00', '2009-04-17 00:00:00', '1995-11-10 00:00:00', '2000-06-19 00:00:00', '2010-01-21 00:00:00', '2014-08-07 00:00:00', '2012-09-13 00:00:00', '2008-11-06 00:00:00', '2002-11-04 00:00:00', '2009-06-16 00:00:00', '2012-03-06 00:00:00', '2004-10-13 00:00:00', '2002-06-21 00:00:00', '2010-04-07 00:00:00', '2002-07-16 00:00:00', '2003-07-24 00:00:00', '2000-06-15 00:00:00', '1995-03-22 00:00:00', '2015-05-29 00:00:00', '1996-06-04 00:00:00', '2005-04-15 00:00:00', '1997-11-17 00:00:00', '1995-07-21 00:00:00', '2004-02-25 00:00:00', '2005-03-12 00:00:00', '1996-05-03 00:00:00', '2006-11-16 00:00:00', '2004-11-26 00:00:00', '1998-07-30 00:00:00', '1994-05-13 00:00:00', '2010-07-09 00:00:00', '2012-03-27 00:00:00', '2002-04-22 00:00:00', '2004-08-21 00:00:00', '2009-09-24 00:00:00', '2005-05-06 00:00:00', '1995-12-28 00:00:00', '2004-01-30 00:00:00', '2000-05-03 00:00:00', '2008-08-29 00:00:00', '1998-03-10 00:00:00', '2006-07-17 00:00:00', '2006-01-28 00:00:00', '1997-12-30 00:00:00', '1994-11-18 00:00:00', '2010-04-12 00:00:00', '2015-11-03 00:00:00', '2012-02-10 00:00:00', '2000-04-25 00:00:00', '2004-02-15 00:00:00', '2003-12-12 00:00:00', '2007-10-01 00:00:00', '2000-03-31 00:00:00', '2009-07-23 00:00:00', '2014-05-28 00:00:00', '2003-06-21 00:00:00', '2009-11-17 00:00:00', '2008-01-15 00:00:00', '1994-11-30 00:00:00', '2013-06-24 00:00:00', '2015-02-03 00:00:00', '2003-07-12 00:00:00', '2004-12-22 00:00:00', '2004-03-01 00:00:00', '2010-11-25 00:00:00', '2004-12-15 00:00:00', '2004-09-18 00:00:00', '2006-04-02 00:00:00', '1999-11-26 00:00:00', '1999-01-18 00:00:00', '1995-08-25 00:00:00', '1995-04-12 00:00:00', '2001-06-12 00:00:00', '2002-01-08 00:00:00', '1995-05-23 00:00:00', '2014-11-12 00:00:00', '2004-09-16 00:00:00', '1993-09-08 00:00:00', '2012-05-23 00:00:00', '1997-11-05 00:00:00', '2010-09-15 00:00:00', '2010-10-27 00:00:00', '1996-02-27 00:00:00', '2000-06-05 00:00:00', '2002-05-22 00:00:00', '2006-11-02 00:00:00', '2011-02-06 00:00:00', '2003-12-16 00:00:00', '2001-10-17 00:00:00', '2010-11-09 00:00:00', '2005-06-03 00:00:00', '1997-04-04 00:00:00', '1994-02-10 00:00:00', '1992-02-10 00:00:00', '2014-04-07 00:00:00', '2002-12-20 00:00:00', '2005-03-08 00:00:00', '1999-09-14 00:00:00', '2014-06-17 00:00:00', '1994-06-29 00:00:00', '2015-07-21 00:00:00', '2004-05-12 00:00:00', '1997-12-12 00:00:00', '2012-07-22 00:00:00', '1999-06-18 00:00:00', '2013-01-15 00:00:00', '1997-10-25 00:00:00', '2005-02-22 00:00:00', '2000-10-11 00:00:00', '2014-07-30 00:00:00', '2003-11-18 00:00:00', '1997-07-09 00:00:00', '2005-04-26 00:00:00', '2007-04-05 00:00:00', '2000-07-06 00:00:00', '2002-03-11 00:00:00', '2013-07-02 00:00:00', '2006-03-07 00:00:00', '1993-09-29 00:00:00', '2015-06-26 00:00:00', '2000-11-16 00:00:00', '2001-07-06 00:00:00', '2010-06-25 00:00:00', '2009-07-20 00:00:00', '2012-10-01 00:00:00', '1999-09-09 00:00:00', '2002-12-11 00:00:00', '2013-03-21 00:00:00', '1996-09-19 00:00:00', '2005-11-11 00:00:00', '2000-02-11 00:00:00', '2002-07-26 00:00:00', '2002-03-26 00:00:00', '1996-02-02 00:00:00', '2008-11-04 00:00:00', '1994-03-04 00:00:00', '1999-02-06 00:00:00', '2012-10-06 00:00:00', '1995-02-22 00:00:00', '1993-04-13 00:00:00', '2010-03-08 00:00:00', '2001-03-05 00:00:00', '2009-06-10 00:00:00', '1999-11-23 00:00:00', '2008-11-07 00:00:00', '2002-08-19 00:00:00', '2013-10-18 00:00:00', '2014-10-31 00:00:00', '1999-02-17 00:00:00', '2001-11-27 00:00:00', '2004-12-17 00:00:00', '2001-04-23 00:00:00', '2012-02-15 00:00:00', '2002-06-14 00:00:00', '2006-09-01 00:00:00', '1995-01-13 00:00:00', '2007-01-11 00:00:00', '2003-11-07 00:00:00', '2005-01-12 00:00:00', '2007-07-11 00:00:00', '2014-03-21 00:00:00', '2004-06-25 00:00:00', '1996-03-26 00:00:00', '2006-03-19 00:00:00', '1997-05-07 00:00:00', '2009-09-25 00:00:00', '2015-03-06 00:00:00', '2014-11-24 00:00:00', '1998-06-02 00:00:00', '2004-01-20 00:00:00', '2009-02-19 00:00:00', '2013-05-03 00:00:00', '2003-01-16 00:00:00', '2010-03-24 00:00:00', '2004-09-29 00:00:00', '2009-09-07 00:00:00', '2004-06-09 00:00:00', '2004-06-30 00:00:00', '2012-07-09 00:00:00', '2010-05-31 00:00:00', '2003-10-17 00:00:00', '2002-09-23 00:00:00', '2015-04-24 00:00:00', '2009-08-14 00:00:00', '2010-06-24 00:00:00', '1997-02-18 00:00:00', '2010-02-04 00:00:00', '2003-01-29 00:00:00', '2015-08-09 00:00:00', '2001-07-13 00:00:00', '2012-06-29 00:00:00', '2007-04-24 00:00:00', '1997-01-07 00:00:00', '1994-04-07 00:00:00', '1995-08-14 00:00:00', '2015-12-10 00:00:00', '2008-06-27 00:00:00', '2010-10-19 00:00:00', '2010-02-09 00:00:00', '2003-01-15 00:00:00', '1994-07-12 00:00:00', '2007-12-14 00:00:00', '1993-05-04 00:00:00', '2009-10-21 00:00:00', '2000-02-24 00:00:00', '1992-12-29 00:00:00', '2003-06-16 00:00:00', '2003-03-03 00:00:00', '1999-08-17 00:00:00', '1993-03-20 00:00:00', '2012-06-27 00:00:00', '2013-09-20 00:00:00', '1998-07-03 00:00:00', '1994-07-13 00:00:00', '2005-02-12 00:00:00', '2005-06-08 00:00:00', '1998-09-09 00:00:00', '2011-06-15 00:00:00', '1999-10-18 00:00:00', '2002-11-06 00:00:00', '2016-03-16 00:00:00', '2004-11-18 00:00:00', '1994-11-04 00:00:00', '1993-11-11 00:00:00', '2006-07-13 00:00:00', '2003-10-22 00:00:00', '1998-03-17 00:00:00', '2010-03-25 00:00:00', '2010-06-26 00:00:00', '2007-12-11 00:00:00', '2003-11-22 00:00:00', '2001-10-24 00:00:00', '2011-09-23 00:00:00', '2007-11-14 00:00:00', '2010-08-26 00:00:00', '1998-11-19 00:00:00', '2004-04-05 00:00:00', '2009-08-07 00:00:00', '2007-01-04 00:00:00', '1994-01-07 00:00:00', '2000-08-28 00:00:00', '2005-03-30 00:00:00', '2007-05-10 00:00:00', '2012-11-05 00:00:00', '2005-09-06 00:00:00', '2008-06-25 00:00:00', '2009-10-28 00:00:00', '2014-04-27 00:00:00', '1998-07-20 00:00:00', '2015-08-06 00:00:00', '1999-08-26 00:00:00', '1999-05-18 00:00:00', '2010-07-07 00:00:00', '2013-06-06 00:00:00', '2015-05-25 00:00:00', '2006-04-07 00:00:00', '1995-09-20 00:00:00', '2000-09-21 00:00:00', '1996-07-10 00:00:00', '2001-08-03 00:00:00', '2007-10-18 00:00:00', '1996-07-03 00:00:00', '2009-12-17 00:00:00', '1992-12-28 00:00:00', '2002-02-01 00:00:00', '1994-01-05 00:00:00', '1996-06-07 00:00:00', '2008-06-06 00:00:00', '1993-11-09 00:00:00', '2006-08-30 00:00:00', '1995-02-27 00:00:00', '2008-02-12 00:00:00', '2004-07-03 00:00:00', '2015-09-04 00:00:00', '1996-10-03 00:00:00', '2010-11-17 00:00:00', '2010-11-02 00:00:00', '1999-02-11 00:00:00', '2003-06-04 00:00:00', '2007-10-25 00:00:00', '2002-11-22 00:00:00', '1999-02-15 00:00:00', '2003-02-17 00:00:00', '2003-09-23 00:00:00', '2008-02-22 00:00:00', '2010-05-27 00:00:00', '2000-07-27 00:00:00', '2005-10-31 00:00:00', '1994-02-25 00:00:00', '2002-06-19 00:00:00', '2005-10-07 00:00:00', '2008-07-14 00:00:00', '2005-02-01 00:00:00', '2003-12-17 00:00:00', '1997-12-06 00:00:00', '2008-05-07 00:00:00', '2011-11-08 00:00:00', '2005-04-27 00:00:00', '1996-08-02 00:00:00', '2002-07-30 00:00:00', '1993-03-31 00:00:00', '2006-08-24 00:00:00', '2014-02-21 00:00:00', '2015-01-29 00:00:00', '1997-07-21 00:00:00', '1998-05-05 00:00:00', '2002-12-18 00:00:00', '2003-10-25 00:00:00', '2013-06-14 00:00:00', '2008-09-23 00:00:00', '2010-09-28 00:00:00', '2002-03-12 00:00:00', '2015-06-01 00:00:00', '2005-11-17 00:00:00', '2005-09-27 00:00:00', '2003-03-18 00:00:00', '2006-12-15 00:00:00', '2014-01-02 00:00:00', '2005-06-23 00:00:00', '2008-01-10 00:00:00', '2004-04-09 00:00:00', '2006-10-27 00:00:00', '2012-12-06 00:00:00', '2003-04-10 00:00:00', '2015-03-25 00:00:00', '1997-09-01 00:00:00', '2001-02-01 00:00:00', '2003-09-14 00:00:00', '2007-06-26 00:00:00', '2013-02-01 00:00:00', '2009-01-06 00:00:00', '2007-07-24 00:00:00', '2006-08-11 00:00:00', '1999-07-09 00:00:00', '2005-04-28 00:00:00', '2009-07-24 00:00:00', '2008-12-05 00:00:00', '1994-07-18 00:00:00', '1996-02-13 00:00:00', '2006-10-18 00:00:00', '1993-01-29 00:00:00', '2002-04-29 00:00:00', '1998-05-15 00:00:00', '2006-07-07 00:00:00', '2007-01-17 00:00:00', '2007-05-29 00:00:00', '1997-05-05 00:00:00', '2000-03-13 00:00:00', '1994-10-04 00:00:00', '2012-01-04 00:00:00', '1997-03-25 00:00:00', '1997-02-05 00:00:00', '2003-09-01 00:00:00', '2010-01-25 00:00:00', '1994-03-15 00:00:00', '2003-04-23 00:00:00', '2013-10-07 00:00:00', '2001-12-20 00:00:00', '2004-12-12 00:00:00', '2003-01-09 00:00:00', '2015-11-16 00:00:00', '2003-06-25 00:00:00', '1998-03-11 00:00:00', '2004-12-10 00:00:00', '2011-09-27 00:00:00', '2014-11-07 00:00:00', '2012-02-13 00:00:00', '2013-02-24 00:00:00', '2001-02-19 00:00:00', '2014-02-25 00:00:00', '1996-07-02 00:00:00', '1996-06-26 00:00:00', '1996-02-21 00:00:00', '1998-01-16 00:00:00', '2008-01-23 00:00:00', '1996-04-15 00:00:00', '2009-06-25 00:00:00', '1993-01-28 00:00:00', '2002-04-23 00:00:00', '2008-10-31 00:00:00', '2009-05-13 00:00:00', '2006-10-07 00:00:00', '2013-10-30 00:00:00', '2013-08-07 00:00:00', '2014-11-19 00:00:00', '2013-03-11 00:00:00', '2007-11-27 00:00:00', '2011-10-28 00:00:00', '2007-02-28 00:00:00', '2003-09-26 00:00:00', '2005-12-20 00:00:00', '2003-12-01 00:00:00', '2004-05-24 00:00:00', '2004-10-20 00:00:00', '2008-12-26 00:00:00', '1997-04-30 00:00:00', '1999-02-04 00:00:00', '2016-05-09 00:00:00', '2006-10-02 00:00:00', '1997-08-12 00:00:00', '2005-07-08 00:00:00', '1993-11-16 00:00:00', '1995-08-24 00:00:00', '2001-08-08 00:00:00', '2013-01-18 00:00:00', '2007-09-21 00:00:00', '2004-04-25 00:00:00', '1997-11-11 00:00:00', '2008-04-30 00:00:00', '2005-06-14 00:00:00', '1996-10-14 00:00:00', '2012-12-07 00:00:00', '2011-10-04 00:00:00', '2005-06-09 00:00:00', '1996-09-20 00:00:00', '2006-11-17 00:00:00', '2003-05-29 00:00:00', '2008-05-14 00:00:00', '2013-10-21 00:00:00', nan, '1996-11-26 00:00:00', '2013-08-23 00:00:00', '2003-03-13 00:00:00', '2006-05-31 00:00:00', '2007-08-01 00:00:00', '2004-08-23 00:00:00', '1998-05-19 00:00:00', '2003-11-06 00:00:00', '2004-07-18 00:00:00', '1997-05-22 00:00:00', '1993-07-08 00:00:00', '2015-06-24 00:00:00', '2004-12-20 00:00:00', '2002-04-05 00:00:00', '2010-01-19 00:00:00', '2016-03-30 00:00:00', '2006-07-06 00:00:00', '2002-03-21 00:00:00', '2015-09-22 00:00:00', '2003-04-02 00:00:00', '2006-05-30 00:00:00', '2002-09-13 00:00:00', '2001-08-01 00:00:00', '2001-10-23 00:00:00', '2012-02-09 00:00:00', '2005-08-02 00:00:00', '2006-09-24 00:00:00', '1996-10-07 00:00:00', '2011-06-25 00:00:00', '2007-11-12 00:00:00', '2004-07-12 00:00:00', '2015-04-10 00:00:00', '2012-03-20 00:00:00', '2001-05-31 00:00:00', '2013-06-25 00:00:00', '1997-11-03 00:00:00', '2009-04-09 00:00:00', '2003-06-18 00:00:00', '1994-09-22 00:00:00', '2005-05-17 00:00:00', '2009-05-28 00:00:00', '2014-04-08 00:00:00', '2011-12-13 00:00:00', '2013-02-13 00:00:00', '2007-03-19 00:00:00', '1997-02-26 00:00:00', '2003-12-07 00:00:00', '2009-02-16 00:00:00', '2004-01-26 00:00:00', '1994-11-07 00:00:00', '1994-10-17 00:00:00', '1998-10-21 00:00:00', '2004-03-02 00:00:00', '1993-10-05 00:00:00', '1996-07-30 00:00:00', '2006-12-14 00:00:00', '2006-01-25 00:00:00', '1999-11-03 00:00:00', '1998-01-27 00:00:00', '1997-09-24 00:00:00', '2011-09-30 00:00:00', '2009-05-20 00:00:00', '2011-07-13 00:00:00', '2006-05-12 00:00:00', '2009-03-26 00:00:00', '2008-04-28 00:00:00', '2000-06-07 00:00:00', '2015-01-26 00:00:00', '2013-04-22 00:00:00', '2009-07-28 00:00:00', '2001-12-13 00:00:00', '2003-03-25 00:00:00', '1998-03-30 00:00:00', '2011-02-24 00:00:00', '2008-02-14 00:00:00', '2012-08-24 00:00:00', '1994-07-11 00:00:00', '2006-03-10 00:00:00', '2003-02-14 00:00:00', '2001-10-01 00:00:00', '2016-02-01 00:00:00', '1995-03-23 00:00:00', '2000-04-14 00:00:00', '2012-10-23 00:00:00', '2002-11-28 00:00:00', '2004-06-15 00:00:00', '1999-10-04 00:00:00', '2011-11-11 00:00:00', '2003-08-24 00:00:00', '2012-09-21 00:00:00', '2008-10-19 00:00:00', '1998-07-28 00:00:00', '2003-05-20 00:00:00', '2011-07-08 00:00:00', '1997-03-24 00:00:00', '2001-12-18 00:00:00', '2010-07-16 00:00:00', '2002-01-02 00:00:00', '2006-03-27 00:00:00', '1995-02-28 00:00:00', '1994-07-27 00:00:00', '2005-09-16 00:00:00', '2016-02-23 00:00:00', '1998-08-04 00:00:00', '2012-04-12 00:00:00', '2015-07-24 00:00:00', '1993-04-15 00:00:00', '2013-06-07 00:00:00', '1994-07-21 00:00:00', '2005-05-04 00:00:00', '2011-07-14 00:00:00', '2002-10-10 00:00:00', '2005-07-12 00:00:00', '1993-07-05 00:00:00', '2008-05-02 00:00:00', '2002-05-06 00:00:00', '1998-09-18 00:00:00', '1995-03-08 00:00:00', '2001-06-26 00:00:00', '2002-06-05 00:00:00', '1994-12-27 00:00:00', '2016-02-05 00:00:00', '2007-10-29 00:00:00', '1999-01-25 00:00:00', '2003-08-08 00:00:00', '2000-03-28 00:00:00', '1996-11-29 00:00:00', '2008-07-10 00:00:00', '2016-01-13 00:00:00', '2003-03-14 00:00:00', '2013-06-20 00:00:00', '1997-09-19 00:00:00', '2002-08-26 00:00:00', '2006-06-21 00:00:00', '1997-06-05 00:00:00', '2001-10-30 00:00:00', '2010-11-03 00:00:00', '2009-07-06 00:00:00', '2007-11-05 00:00:00', '2002-11-29 00:00:00', '2008-03-11 00:00:00', '2007-03-07 00:00:00', '2005-07-31 00:00:00', '2016-03-31 00:00:00', '2007-02-26 00:00:00', '2001-04-20 00:00:00', '2005-10-18 00:00:00', '1995-04-05 00:00:00', '2003-09-17 00:00:00', '2009-11-10 00:00:00', '2005-04-04 00:00:00', '2004-03-05 00:00:00', '1997-12-02 00:00:00', '1992-12-14 00:00:00', '2014-04-15 00:00:00', '2001-11-22 00:00:00', '2014-08-27 00:00:00', '2011-06-08 00:00:00', '1997-09-03 00:00:00', '1996-03-14 00:00:00', '2008-09-05 00:00:00', '1996-12-05 00:00:00', '2005-08-23 00:00:00', '2001-02-15 00:00:00', '2014-12-11 00:00:00', '2006-07-15 00:00:00', '2006-03-16 00:00:00', '2013-04-15 00:00:00', '2015-09-09 00:00:00', '2010-03-31 00:00:00', '2015-07-01 00:00:00', '1994-04-18 00:00:00', '2013-08-16 00:00:00', '1997-11-07 00:00:00', '1995-04-06 00:00:00', '1994-09-13 00:00:00', '1999-03-31 00:00:00', '2008-02-28 00:00:00', '2007-07-10 00:00:00', '2013-02-05 00:00:00', '2015-11-18 00:00:00', '2003-10-09 00:00:00', '2015-06-02 00:00:00', '2003-04-28 00:00:00', '2014-11-04 00:00:00', '2001-05-23 00:00:00', '2011-05-04 00:00:00', '2007-02-02 00:00:00', '1994-11-23 00:00:00', '2004-09-10 00:00:00', '2000-03-14 00:00:00', '2003-04-07 00:00:00', '2002-02-05 00:00:00', '2004-03-27 00:00:00', '2002-05-03 00:00:00', '2013-10-25 00:00:00', '2016-03-09 00:00:00', '2008-12-15 00:00:00', '2001-11-20 00:00:00', '2003-12-22 00:00:00', '2004-12-11 00:00:00', '2014-01-24 00:00:00', '2001-02-21 00:00:00', '2015-05-27 00:00:00', '1997-08-05 00:00:00', '2010-07-08 00:00:00', '2004-05-17 00:00:00', '2008-09-15 00:00:00', '2012-08-13 00:00:00', '1998-10-05 00:00:00', '1999-04-01 00:00:00', '1995-10-12 00:00:00', '2010-01-09 00:00:00', '1999-02-01 00:00:00', '2015-05-13 00:00:00', '2013-09-19 00:00:00', '2004-01-12 00:00:00', '2014-07-11 00:00:00', '2002-06-07 00:00:00', '2009-03-24 00:00:00', '2010-11-19 00:00:00', '1994-02-15 00:00:00', '2009-06-03 00:00:00', '2008-12-20 00:00:00', '1995-09-18 00:00:00', '2000-06-21 00:00:00', '1994-10-06 00:00:00', '2011-09-06 00:00:00', '2013-03-01 00:00:00', '2001-08-24 00:00:00', '2002-11-15 00:00:00', '2011-09-02 00:00:00', '1994-11-25 00:00:00', '2000-04-04 00:00:00', '1996-07-04 00:00:00', '1998-09-29 00:00:00', '1994-10-28 00:00:00', '2014-03-10 00:00:00', '2004-11-02 00:00:00', '2003-02-06 00:00:00', '2010-01-12 00:00:00', '1994-12-08 00:00:00', '1996-12-17 00:00:00', '2002-05-21 00:00:00', '1994-09-21 00:00:00', '2012-01-09 00:00:00', '2004-02-23 00:00:00', '2006-04-26 00:00:00', '2006-08-04 00:00:00', '2005-02-04 00:00:00', '2007-10-04 00:00:00', '1993-06-08 00:00:00', '2015-11-20 00:00:00', '2014-01-25 00:00:00', '2012-01-20 00:00:00', '1994-01-28 00:00:00', '1996-09-25 00:00:00', '2004-04-23 00:00:00', '2008-01-04 00:00:00', '2004-05-15 00:00:00', '2011-02-02 00:00:00', '1999-09-10 00:00:00', '2000-08-01 00:00:00', '2002-01-22 00:00:00', '2011-02-07 00:00:00', '1993-02-16 00:00:00', '1994-04-26 00:00:00', '1997-12-08 00:00:00', '2005-03-05 00:00:00', '1994-02-01 00:00:00', '2011-12-30 00:00:00', '1994-05-26 00:00:00', '2008-05-26 00:00:00', '1997-12-05 00:00:00', '2005-11-28 00:00:00', '2000-06-08 00:00:00', '1992-12-30 00:00:00', '1995-01-23 00:00:00', '2002-02-25 00:00:00', '1995-10-11 00:00:00', '1995-04-20 00:00:00', '2007-02-13 00:00:00', '2000-06-14 00:00:00', '2002-11-07 00:00:00', '2001-09-20 00:00:00', '2012-05-15 00:00:00', '2004-03-23 00:00:00', '1996-02-22 00:00:00', '1997-02-27 00:00:00', '2003-02-12 00:00:00', '2011-03-17 00:00:00', '2002-12-30 00:00:00', '2013-01-04 00:00:00', '1994-04-29 00:00:00', '2003-11-20 00:00:00', '2010-12-15 00:00:00', '2013-05-07 00:00:00', '1998-08-18 00:00:00', '2005-11-16 00:00:00', '1999-04-20 00:00:00', '2009-07-21 00:00:00', '2004-07-08 00:00:00', '2005-03-10 00:00:00', '2011-12-21 00:00:00', '1996-12-10 00:00:00', '2011-10-10 00:00:00', '1994-08-25 00:00:00', '2006-06-23 00:00:00', '2007-04-10 00:00:00', '2015-04-09 00:00:00', '1997-10-17 00:00:00', '2008-01-08 00:00:00', '2003-08-06 00:00:00', '2015-06-10 00:00:00', '2009-09-02 00:00:00', '1996-04-25 00:00:00', '1996-11-13 00:00:00', '1996-03-11 00:00:00', '2013-09-23 00:00:00', '2009-06-08 00:00:00', '2000-12-13 00:00:00', '2003-02-04 00:00:00', '2011-05-16 00:00:00', '2008-07-16 00:00:00', '2011-10-13 00:00:00', '2007-02-09 00:00:00', '1994-03-03 00:00:00', '2002-05-16 00:00:00', '2000-10-13 00:00:00', '1995-02-13 00:00:00', '2013-12-10 00:00:00', '2002-08-16 00:00:00', '1995-03-16 00:00:00', '2010-11-29 00:00:00', '2008-04-23 00:00:00', '1996-01-10 00:00:00', '2012-12-19 00:00:00', '2014-05-19 00:00:00', '2000-05-19 00:00:00', '1996-11-22 00:00:00', '2002-10-25 00:00:00', '2016-01-04 00:00:00', '2007-07-28 00:00:00', '2016-03-17 00:00:00', '2008-11-24 00:00:00', '1996-01-03 00:00:00', '1996-10-31 00:00:00', '2005-02-25 00:00:00', '2003-02-27 00:00:00', '2002-07-09 00:00:00', '2009-03-31 00:00:00', '2005-02-14 00:00:00', '2001-12-05 00:00:00', '1995-05-17 00:00:00', '2001-08-02 00:00:00', '2001-03-12 00:00:00', '1996-04-29 00:00:00', '2005-03-17 00:00:00', '1998-12-10 00:00:00', '2001-05-22 00:00:00', '1997-06-07 00:00:00', '2000-08-21 00:00:00', '2005-08-04 00:00:00', '2006-07-10 00:00:00', '1999-02-19 00:00:00', '2015-05-11 00:00:00', '2006-08-25 00:00:00', '2000-08-29 00:00:00', '2005-10-12 00:00:00', '2002-12-02 00:00:00', '2007-09-17 00:00:00', '1996-03-25 00:00:00', '2002-11-12 00:00:00', '2002-11-14 00:00:00', '2001-02-28 00:00:00', '2001-08-27 00:00:00', '1994-01-06 00:00:00', '1999-01-16 00:00:00', '2015-09-16 00:00:00', '2009-10-19 00:00:00', '2001-12-06 00:00:00', '1996-01-02 00:00:00', '1996-04-04 00:00:00', '1995-07-19 00:00:00', '2009-08-10 00:00:00', '1994-09-01 00:00:00', '2008-10-20 00:00:00', '2006-06-26 00:00:00', '1993-03-16 00:00:00', '1996-05-02 00:00:00', '1999-02-18 00:00:00', '2001-06-15 00:00:00', '2008-06-12 00:00:00', '2008-11-20 00:00:00', '1995-01-09 00:00:00', '2007-01-15 00:00:00', '1995-04-04 00:00:00', '2014-09-18 00:00:00', '1995-12-04 00:00:00', '1999-02-16 00:00:00', '1997-07-01 00:00:00', '1996-12-20 00:00:00', '2010-12-16 00:00:00', '2009-12-21 00:00:00', '2007-03-23 00:00:00', '2008-11-29 00:00:00', '1998-03-04 00:00:00', '1997-09-26 00:00:00', '2016-01-14 00:00:00', '2004-02-17 00:00:00', '2003-05-27 00:00:00', '2014-07-23 00:00:00', '1998-02-16 00:00:00', '1995-05-11 00:00:00', '2009-09-11 00:00:00', '1993-02-03 00:00:00', '1996-10-18 00:00:00', '2009-12-10 00:00:00', '1997-09-10 00:00:00', '2009-10-05 00:00:00', '2004-04-16 00:00:00', '2007-08-17 00:00:00', '2004-05-28 00:00:00', '2015-12-07 00:00:00', '2005-04-09 00:00:00', '2015-01-13 00:00:00', '1999-10-25 00:00:00', '2000-09-01 00:00:00', '2006-08-23 00:00:00', '1993-01-11 00:00:00', '2012-07-06 00:00:00', '2004-08-24 00:00:00', '2007-12-30 00:00:00', '2008-04-10 00:00:00', '2003-09-15 00:00:00', '2006-04-20 00:00:00', '2003-05-16 00:00:00', '1994-03-30 00:00:00', '1998-02-19 00:00:00', '2000-08-08 00:00:00', '2008-07-08 00:00:00', '2006-01-13 00:00:00', '2014-06-10 00:00:00', '2011-03-16 00:00:00', '1997-10-15 00:00:00', '2009-01-07 00:00:00', '2000-11-29 00:00:00', '1997-03-06 00:00:00', '1993-02-22 00:00:00', '1995-11-28 00:00:00', '2006-07-20 00:00:00', '2004-02-18 00:00:00', '2006-06-02 00:00:00', '2007-09-20 00:00:00', '1997-03-21 00:00:00', '2006-10-20 00:00:00', '2008-02-04 00:00:00', '2013-02-12 00:00:00', '2013-09-24 00:00:00', '2014-03-13 00:00:00', '2010-02-18 00:00:00', '2007-06-13 00:00:00', '2006-06-14 00:00:00', '2015-09-30 00:00:00', '1997-02-21 00:00:00', '2011-05-17 00:00:00', '2007-11-15 00:00:00', '1996-11-18 00:00:00', '2002-08-20 00:00:00', '2013-10-17 00:00:00', '2014-05-30 00:00:00', '2014-04-24 00:00:00', '1998-11-16 00:00:00', '2004-02-24 00:00:00', '2000-11-08 00:00:00', '2004-06-04 00:00:00', '1997-04-09 00:00:00', '1997-03-10 00:00:00', '2005-03-09 00:00:00', '2002-11-08 00:00:00', '2008-01-11 00:00:00', '1994-07-19 00:00:00', '2014-12-03 00:00:00', '1998-11-11 00:00:00', '2000-05-12 00:00:00', '2010-04-06 00:00:00', '2013-02-28 00:00:00', '2003-01-06 00:00:00', '2015-10-20 00:00:00', '2010-07-05 00:00:00', '2002-02-11 00:00:00', '1994-03-07 00:00:00', '2008-06-10 00:00:00', '2007-02-07 00:00:00', '2004-01-28 00:00:00', '2005-09-01 00:00:00', '2000-08-10 00:00:00', '1993-04-03 00:00:00', '2009-03-13 00:00:00', '2003-03-16 00:00:00', '2006-05-03 00:00:00', '2008-09-12 00:00:00', '2004-11-04 00:00:00', '2013-05-22 00:00:00', '2001-05-21 00:00:00', '2002-12-23 00:00:00', '2016-04-14 00:00:00', '2007-10-14 00:00:00', '1997-06-09 00:00:00', '2010-09-26 00:00:00', '2014-03-31 00:00:00', '1994-09-16 00:00:00', '2012-08-03 00:00:00', '2012-10-15 00:00:00', '2004-03-06 00:00:00', '1996-10-15 00:00:00', '2011-01-30 00:00:00', '2004-08-09 00:00:00', '2001-10-05 00:00:00', '2011-11-21 00:00:00', '1998-04-21 00:00:00', '2004-04-14 00:00:00', '2006-08-14 00:00:00', '2014-09-11 00:00:00', '2010-05-10 00:00:00', '2011-12-16 00:00:00', '2000-07-21 00:00:00', '2015-09-18 00:00:00', '2016-04-04 00:00:00', '2009-02-02 00:00:00', '2007-11-23 00:00:00', '2003-06-13 00:00:00', '2004-10-01 00:00:00', '2000-08-03 00:00:00', '2003-08-05 00:00:00', '2009-08-24 00:00:00', '2003-11-04 00:00:00', '1996-11-16 00:00:00', '2013-11-22 00:00:00', '2010-07-30 00:00:00', '2005-12-02 00:00:00', '1995-10-17 00:00:00', '2001-08-28 00:00:00', '2007-11-30 00:00:00', '2001-08-10 00:00:00', '2008-07-07 00:00:00', '2003-07-02 00:00:00', '2005-07-14 00:00:00', '2006-07-25 00:00:00', '2002-04-30 00:00:00', '2010-03-03 00:00:00', '2002-02-20 00:00:00', '2003-02-24 00:00:00', '2002-12-12 00:00:00', '2013-01-02 00:00:00', '2004-11-25 00:00:00', '1993-10-26 00:00:00', '2009-04-22 00:00:00', '2004-10-17 00:00:00', '2004-04-11 00:00:00', '2010-09-14 00:00:00', '2007-03-25 00:00:00', '1996-06-11 00:00:00', '2009-08-11 00:00:00', '2003-04-30 00:00:00', '2011-12-27 00:00:00', '2014-03-20 00:00:00', '2003-02-26 00:00:00', '2010-10-12 00:00:00', '2004-11-17 00:00:00', '2002-11-13 00:00:00', '2003-12-05 00:00:00', '2004-12-14 00:00:00', '2014-10-14 00:00:00', '1993-06-04 00:00:00', '2000-07-19 00:00:00', '2012-04-27 00:00:00', '1995-12-05 00:00:00', '1998-07-31 00:00:00', '2000-07-25 00:00:00', '2007-10-03 00:00:00', '2008-11-22 00:00:00', '2003-05-25 00:00:00', '2004-05-11 00:00:00', '2004-06-10 00:00:00', '1994-05-06 00:00:00', '1993-10-18 00:00:00', '1995-04-03 00:00:00', '2004-02-26 00:00:00', '2008-01-03 00:00:00', '2015-12-23 00:00:00', '2005-06-19 00:00:00', '2008-08-25 00:00:00', '2008-03-01 00:00:00', '2014-12-04 00:00:00', '2003-04-14 00:00:00', '1998-02-27 00:00:00', '2009-03-30 00:00:00', '2008-09-18 00:00:00', '2015-04-13 00:00:00', '2002-04-04 00:00:00', '2014-02-03 00:00:00', '2009-06-26 00:00:00', '2003-04-04 00:00:00', '1995-07-18 00:00:00', '2006-06-28 00:00:00', '2004-06-20 00:00:00', '2012-07-16 00:00:00', '2002-09-20 00:00:00', '2011-01-23 00:00:00', '1999-07-06 00:00:00', '2012-01-23 00:00:00', '2004-07-30 00:00:00', '1993-09-10 00:00:00', '2004-02-19 00:00:00', '1997-03-03 00:00:00', '2015-06-30 00:00:00', '2012-03-23 00:00:00', '2007-08-15 00:00:00', '2004-07-17 00:00:00', '2016-01-07 00:00:00', '2004-08-15 00:00:00', '1998-04-16 00:00:00', '1994-12-07 00:00:00', '1996-11-07 00:00:00', '2005-04-20 00:00:00', '2002-08-28 00:00:00', '2009-10-27 00:00:00', '2011-03-08 00:00:00', '1995-08-21 00:00:00', '2007-06-28 00:00:00', '2008-05-13 00:00:00', '2005-12-16 00:00:00', '2008-01-24 00:00:00', '2003-08-10 00:00:00', '2014-08-04 00:00:00', '2004-03-12 00:00:00', '1993-09-23 00:00:00', '1998-02-11 00:00:00', '2007-06-25 00:00:00', '2000-05-30 00:00:00', '1998-11-12 00:00:00', '1996-07-25 00:00:00', '2000-03-03 00:00:00', '2010-05-17 00:00:00', '2010-02-12 00:00:00', '2000-09-14 00:00:00', '2009-02-05 00:00:00', '1998-02-18 00:00:00', '2004-09-17 00:00:00', '1998-04-22 00:00:00', '2004-08-16 00:00:00', '2004-04-13 00:00:00', '2015-01-02 00:00:00', '2012-10-19 00:00:00', '2015-12-04 00:00:00', '2014-03-14 00:00:00', '2004-02-03 00:00:00', '2003-12-13 00:00:00', '2000-12-14 00:00:00', '2002-03-18 00:00:00', '1999-05-11 00:00:00', '2008-05-27 00:00:00', '2014-01-23 00:00:00', '2014-03-12 00:00:00', '1996-12-27 00:00:00', '2009-09-18 00:00:00', '2004-05-16 00:00:00', '2012-08-23 00:00:00', '2000-11-15 00:00:00', '2007-11-26 00:00:00', '2004-09-08 00:00:00', '2004-01-23 00:00:00', '2004-04-30 00:00:00', '2010-06-16 00:00:00', '2006-09-29 00:00:00', '2002-07-23 00:00:00', '2009-09-10 00:00:00', '2012-03-22 00:00:00', '2001-09-06 00:00:00', '2009-05-15 00:00:00', '2005-07-22 00:00:00', '1994-08-03 00:00:00', '2005-10-25 00:00:00', '2003-05-04 00:00:00', '2010-12-21 00:00:00', '2008-05-15 00:00:00', '2013-03-26 00:00:00', '1993-09-16 00:00:00', '2014-07-22 00:00:00', '1998-10-15 00:00:00', '2014-04-01 00:00:00', '2002-05-14 00:00:00', '2014-11-21 00:00:00', '2011-09-29 00:00:00', '1996-03-08 00:00:00', '2014-05-26 00:00:00', '2003-12-06 00:00:00', '1993-11-25 00:00:00', '1995-04-21 00:00:00', '2004-12-08 00:00:00', '2004-03-15 00:00:00', '2000-05-31 00:00:00', '2006-10-26 00:00:00', '2004-07-28 00:00:00', '1994-03-16 00:00:00', '2013-08-26 00:00:00', '2015-04-01 00:00:00', '1994-03-17 00:00:00', '2000-09-27 00:00:00', '1999-09-30 00:00:00', '1994-03-09 00:00:00', '2000-07-31 00:00:00', '2010-01-26 00:00:00', '2009-06-18 00:00:00', '2007-09-06 00:00:00', '2004-08-07 00:00:00', '2001-11-23 00:00:00', '2002-03-19 00:00:00', '2010-12-22 00:00:00', '2009-04-23 00:00:00', '1996-02-23 00:00:00', '2001-06-20 00:00:00', '2009-08-18 00:00:00', '2006-11-30 00:00:00', '2010-11-26 00:00:00', '2012-07-27 00:00:00', '2011-08-16 00:00:00', '2008-01-31 00:00:00', '2012-04-19 00:00:00', '2011-05-25 00:00:00', '2002-11-21 00:00:00', '2006-12-04 00:00:00', '1996-05-29 00:00:00', '2003-10-21 00:00:00', '1998-07-17 00:00:00', '2001-10-19 00:00:00', '2005-04-06 00:00:00', '1998-01-22 00:00:00', '1995-02-24 00:00:00', '2014-07-31 00:00:00', '1999-05-03 00:00:00', '2008-03-17 00:00:00', '2001-03-19 00:00:00', '2015-07-30 00:00:00', '2008-03-20 00:00:00', '2003-07-07 00:00:00', '1997-04-14 00:00:00', '2001-03-27 00:00:00', '2007-11-02 00:00:00', '1997-01-06 00:00:00', '1997-03-27 00:00:00', '2012-06-13 00:00:00', '1997-05-03 00:00:00', '2002-06-12 00:00:00', '2011-04-13 00:00:00', '1996-05-31 00:00:00', '1996-06-14 00:00:00', '2005-02-08 00:00:00', '2013-04-08 00:00:00', '2007-06-06 00:00:00', '2013-04-12 00:00:00', '2013-12-02 00:00:00', '2014-04-11 00:00:00', '1997-04-21 00:00:00', '2008-06-01 00:00:00', '2000-03-29 00:00:00', '2011-05-31 00:00:00', '2003-12-29 00:00:00', '2015-07-03 00:00:00', '1994-08-30 00:00:00', '2010-05-20 00:00:00', '2012-04-26 00:00:00', '2005-07-05 00:00:00', '2013-01-30 00:00:00', '2014-10-01 00:00:00', '1999-02-09 00:00:00', '2013-09-30 00:00:00', '2005-06-30 00:00:00', '2002-04-18 00:00:00', '1996-05-24 00:00:00', '1999-07-02 00:00:00', '1995-06-02 00:00:00', '2011-11-17 00:00:00', '2014-11-18 00:00:00', '2004-08-08 00:00:00', '2001-11-14 00:00:00', '1999-09-07 00:00:00', '2004-01-13 00:00:00', '2008-09-02 00:00:00', '2002-12-16 00:00:00', '2006-05-18 00:00:00', '2010-02-03 00:00:00', '2006-12-17 00:00:00', '2014-06-02 00:00:00', '2006-08-15 00:00:00', '2004-01-14 00:00:00', '1993-05-28 00:00:00', '1996-01-31 00:00:00', '1994-12-05 00:00:00', '2003-02-20 00:00:00', '1995-03-29 00:00:00', '2002-05-28 00:00:00', '2002-01-03 00:00:00', '2001-02-07 00:00:00', '1996-01-17 00:00:00', '2004-05-25 00:00:00', '1994-11-11 00:00:00', '2010-09-08 00:00:00', '2004-06-23 00:00:00', '1999-05-07 00:00:00', '2000-10-17 00:00:00', '2010-03-09 00:00:00', '2004-05-19 00:00:00', '1998-01-30 00:00:00', '1997-10-22 00:00:00', '1998-09-03 00:00:00', '2006-08-16 00:00:00', '1997-11-29 00:00:00', '2008-01-16 00:00:00', '2006-02-22 00:00:00', '2015-01-23 00:00:00', '2015-06-03 00:00:00', '2007-06-05 00:00:00', '2013-10-08 00:00:00', '2004-10-06 00:00:00', '2003-09-07 00:00:00', '2003-05-15 00:00:00', '1998-06-04 00:00:00', '1998-07-15 00:00:00', '2004-07-26 00:00:00', '2011-01-04 00:00:00', '1997-04-19 00:00:00', '2007-03-02 00:00:00', '2000-05-11 00:00:00', '2002-01-23 00:00:00', '2006-05-26 00:00:00', '2008-05-05 00:00:00', '2000-12-11 00:00:00', '2005-04-21 00:00:00', '2009-06-13 00:00:00', '1997-05-02 00:00:00', '2015-10-08 00:00:00', '2011-04-01 00:00:00', '2004-11-16 00:00:00', '1994-03-18 00:00:00', '2000-02-29 00:00:00', '2007-03-08 00:00:00', '2004-05-07 00:00:00', '1998-02-20 00:00:00', '1997-09-17 00:00:00', '2001-04-02 00:00:00', '2011-12-19 00:00:00', '2010-10-21 00:00:00', '2014-03-28 00:00:00', '2011-03-14 00:00:00', '1998-09-02 00:00:00', '1996-10-23 00:00:00', '2008-12-11 00:00:00', '1999-09-13 00:00:00', '2004-01-05 00:00:00', '2013-09-25 00:00:00', '1998-05-02 00:00:00', '1997-01-13 00:00:00', '1997-10-08 00:00:00', '2005-10-27 00:00:00', '2001-01-03 00:00:00', '1997-07-08 00:00:00', '2007-04-27 00:00:00', '1995-03-27 00:00:00', '2013-03-13 00:00:00', '1995-06-06 00:00:00', '2004-12-06 00:00:00', '1995-12-29 00:00:00', '1996-10-26 00:00:00', '2004-10-27 00:00:00', '1999-06-22 00:00:00', '1993-09-09 00:00:00', '1999-03-16 00:00:00', '1996-07-11 00:00:00', '2007-08-31 00:00:00', '2009-09-14 00:00:00', '2000-05-18 00:00:00', '1995-03-09 00:00:00', '2000-10-27 00:00:00', '2011-08-25 00:00:00', '2003-10-01 00:00:00', '2014-12-15 00:00:00', '2006-05-20 00:00:00', '2012-05-31 00:00:00', '2005-12-06 00:00:00', '2004-10-07 00:00:00', '2011-07-21 00:00:00', '1997-12-01 00:00:00', '2004-04-17 00:00:00', '2013-05-10 00:00:00', '2001-09-18 00:00:00', '2003-09-24 00:00:00', '2009-01-14 00:00:00', '2013-06-28 00:00:00', '1997-12-16 00:00:00', '2009-02-18 00:00:00', '2002-02-12 00:00:00', '2005-11-07 00:00:00', '1994-11-22 00:00:00', '1994-09-28 00:00:00', '2004-07-13 00:00:00', '2014-01-11 00:00:00', '2013-05-08 00:00:00', '2010-07-12 00:00:00', '1995-09-13 00:00:00', '1995-05-18 00:00:00', '2005-09-09 00:00:00', '2006-05-16 00:00:00', '2008-05-09 00:00:00', '2015-05-08 00:00:00', '2012-02-03 00:00:00', '2008-08-06 00:00:00', '1995-03-30 00:00:00', '1997-02-19 00:00:00', '1998-11-06 00:00:00', '2009-01-22 00:00:00', '2006-01-23 00:00:00', '2008-06-16 00:00:00', '2002-07-19 00:00:00', '1997-07-23 00:00:00', '2013-01-22 00:00:00', '1997-04-15 00:00:00', '2013-11-13 00:00:00', '2000-08-02 00:00:00', '2015-06-22 00:00:00', '2014-05-09 00:00:00', '2011-03-24 00:00:00', '1998-07-22 00:00:00', '2012-05-22 00:00:00', '2000-06-29 00:00:00', '1998-09-11 00:00:00', '2014-07-07 00:00:00', '2000-09-18 00:00:00', '2006-06-13 00:00:00', '1996-11-05 00:00:00', '1999-06-16 00:00:00', '2015-08-27 00:00:00', '2003-04-17 00:00:00', '2002-05-27 00:00:00', '2001-12-12 00:00:00', '2003-05-06 00:00:00', '2002-02-06 00:00:00', '1994-09-29 00:00:00', '1995-10-24 00:00:00', '1997-12-13 00:00:00', '2008-06-24 00:00:00', '1995-02-07 00:00:00', '2006-09-30 00:00:00', '1997-08-15 00:00:00', '2007-03-09 00:00:00', '2007-07-06 00:00:00', '2005-11-24 00:00:00', '2004-06-28 00:00:00', '1996-11-27 00:00:00', '2013-07-08 00:00:00', '1995-05-05 00:00:00', '2013-07-03 00:00:00', '1994-08-17 00:00:00', '2006-03-13 00:00:00', '2013-11-28 00:00:00', '2010-08-30 00:00:00', '2013-03-15 00:00:00', '1997-06-20 00:00:00', '2014-02-12 00:00:00', '1994-04-11 00:00:00', '2010-04-01 00:00:00', '1993-10-15 00:00:00', '2006-09-18 00:00:00', '2008-01-14 00:00:00', '2002-10-30 00:00:00', '1993-11-29 00:00:00', '2004-11-28 00:00:00', '2012-11-07 00:00:00', '2009-09-29 00:00:00', '1995-09-29 00:00:00', '2006-11-08 00:00:00', '2003-06-29 00:00:00', '2003-07-03 00:00:00', '2007-04-04 00:00:00', '2006-03-28 00:00:00', '2002-06-28 00:00:00', '2000-11-10 00:00:00', '2013-11-20 00:00:00', '2004-08-28 00:00:00', '2014-05-23 00:00:00', '1999-06-09 00:00:00', '1999-07-13 00:00:00', '2004-05-21 00:00:00', '2005-12-07 00:00:00', '2007-09-05 00:00:00', '2014-02-19 00:00:00', '1996-08-01 00:00:00', '2012-05-03 00:00:00', '2001-11-30 00:00:00', '1993-01-04 00:00:00', '1998-03-09 00:00:00', '2012-08-06 00:00:00', '1993-02-23 00:00:00', '2001-05-02 00:00:00', '2010-02-15 00:00:00', '1999-01-04 00:00:00', '2000-11-02 00:00:00', '1996-12-13 00:00:00', '2006-10-06 00:00:00', '2010-10-22 00:00:00', '2003-02-10 00:00:00', '2003-07-23 00:00:00', '1998-03-24 00:00:00', '1998-08-10 00:00:00', '2012-11-08 00:00:00', '2008-02-11 00:00:00', '1996-11-12 00:00:00', '2004-01-29 00:00:00', '2004-08-31 00:00:00', '2009-01-16 00:00:00', '2011-04-21 00:00:00', '2005-10-04 00:00:00', '2016-01-15 00:00:00', '2003-03-31 00:00:00', '2002-09-26 00:00:00', '2009-07-30 00:00:00', '2005-09-26 00:00:00', '2009-04-15 00:00:00', '2006-09-19 00:00:00', '2008-10-27 00:00:00', '1995-10-23 00:00:00', '2015-09-23 00:00:00', '2003-11-27 00:00:00', '2007-10-22 00:00:00', '1992-02-12 00:00:00', '2003-12-08 00:00:00', '2007-05-30 00:00:00', '2014-03-27 00:00:00', '2007-08-16 00:00:00', '1994-06-30 00:00:00', '2008-01-09 00:00:00', '2006-02-16 00:00:00', '2003-03-19 00:00:00', '2009-06-22 00:00:00', '2005-10-24 00:00:00', '2008-10-06 00:00:00', '1994-06-14 00:00:00', '1995-08-04 00:00:00', '2006-02-24 00:00:00', '2015-07-16 00:00:00', '2003-11-12 00:00:00', '2011-07-31 00:00:00', '2000-07-20 00:00:00', '2011-01-03 00:00:00', '2003-01-31 00:00:00', '2011-02-23 00:00:00', '1999-04-12 00:00:00', '1998-01-20 00:00:00', '2003-07-26 00:00:00', '2005-11-08 00:00:00', '1998-06-30 00:00:00', '1997-05-21 00:00:00', '2010-06-17 00:00:00', '2001-09-26 00:00:00', '2006-08-01 00:00:00', '2007-01-19 00:00:00', '2012-01-18 00:00:00', '2012-08-28 00:00:00', '1998-02-03 00:00:00', '1993-08-20 00:00:00', '2004-10-09 00:00:00', '1996-11-21 00:00:00', '2016-07-05 00:00:00', '1996-08-16 00:00:00', '2009-01-20 00:00:00', '2003-12-19 00:00:00', '1995-10-18 00:00:00', '1996-08-09 00:00:00', '2016-03-14 00:00:00', '2006-01-26 00:00:00', '2013-03-20 00:00:00', '1999-06-15 00:00:00', '2012-06-28 00:00:00', '2006-04-19 00:00:00', '2014-03-17 00:00:00', '1995-04-19 00:00:00', '1995-02-21 00:00:00', '2006-06-30 00:00:00', '2011-06-16 00:00:00', '2006-02-13 00:00:00', '2013-05-15 00:00:00', '2005-11-14 00:00:00', '2003-07-14 00:00:00', '2014-10-20 00:00:00', '1997-06-19 00:00:00', '1997-04-11 00:00:00', '2003-07-10 00:00:00', '2003-08-21 00:00:00', '1997-10-29 00:00:00', '2000-08-14 00:00:00', '2006-10-23 00:00:00', '2015-02-10 00:00:00', '1995-05-04 00:00:00', '1997-04-17 00:00:00', '2015-02-05 00:00:00', '2000-10-24 00:00:00', '2006-03-21 00:00:00', '2002-08-15 00:00:00', '2014-11-20 00:00:00', '2006-11-07 00:00:00', '2006-10-05 00:00:00', '2003-03-28 00:00:00', '2000-03-09 00:00:00', '1995-10-09 00:00:00', '2003-05-12 00:00:00', '1999-04-06 00:00:00', '2014-04-04 00:00:00', '1998-12-29 00:00:00', '2012-10-11 00:00:00', '1995-03-28 00:00:00', '2005-05-16 00:00:00', '2003-03-09 00:00:00', '1997-02-08 00:00:00', '1994-04-27 00:00:00', '1998-04-07 00:00:00', '2011-11-30 00:00:00', '1993-10-21 00:00:00', '2011-07-24 00:00:00', '2011-12-02 00:00:00', '2009-03-22 00:00:00', '2000-06-13 00:00:00', '1998-07-24 00:00:00', '2008-12-01 00:00:00', '2013-07-17 00:00:00', '2002-01-10 00:00:00', '2001-08-21 00:00:00', '2015-05-07 00:00:00', '2011-08-23 00:00:00', '2011-10-03 00:00:00', '2002-04-12 00:00:00', '2002-06-03 00:00:00', '1993-02-08 00:00:00', '2003-04-08 00:00:00', '2005-02-18 00:00:00', '2000-11-22 00:00:00', '1995-12-11 00:00:00', '1997-05-13 00:00:00', '1999-01-15 00:00:00', '1994-01-18 00:00:00', '1995-07-20 00:00:00', '2011-01-25 00:00:00', '2007-09-19 00:00:00', '1997-09-18 00:00:00', '2006-01-30 00:00:00', '1994-05-09 00:00:00', '2004-05-02 00:00:00', '2006-04-04 00:00:00', '2015-11-10 00:00:00', '2006-12-05 00:00:00', '1999-03-29 00:00:00', '1994-07-07 00:00:00', '2007-08-27 00:00:00', '2015-08-04 00:00:00', '2001-09-07 00:00:00', '1993-06-18 00:00:00', '2006-07-28 00:00:00', '2006-01-16 00:00:00', '2007-01-23 00:00:00', '2014-10-17 00:00:00', '2006-01-04 00:00:00', '2005-01-24 00:00:00', '2015-03-31 00:00:00', '2012-07-25 00:00:00', '2005-12-09 00:00:00', '2012-10-17 00:00:00', '2010-10-05 00:00:00', '1995-04-18 00:00:00', '2009-12-04 00:00:00', '2010-09-05 00:00:00', '2004-03-08 00:00:00', '2001-07-11 00:00:00', '2007-08-09 00:00:00', '1995-03-13 00:00:00', '1998-02-09 00:00:00', '2007-12-13 00:00:00', '1998-03-18 00:00:00', '1995-11-02 00:00:00', '1997-06-21 00:00:00', '2013-08-29 00:00:00', '2001-02-26 00:00:00', '2003-05-21 00:00:00', '2000-11-23 00:00:00', '2005-08-01 00:00:00', '1999-08-10 00:00:00', '1998-08-11 00:00:00', '2014-08-26 00:00:00', '2005-03-07 00:00:00', '1999-06-07 00:00:00', '2005-11-22 00:00:00', '2012-07-04 00:00:00', '2004-07-21 00:00:00', '2005-03-25 00:00:00', '2002-05-13 00:00:00', '2010-08-04 00:00:00', '2005-07-15 00:00:00', '2009-04-07 00:00:00', '2008-06-29 00:00:00', '2007-01-05 00:00:00', '1996-02-08 00:00:00', '2008-02-21 00:00:00', '1998-07-27 00:00:00', '2006-01-03 00:00:00', '1999-05-27 00:00:00', '2005-11-04 00:00:00', '1993-04-02 00:00:00', '2001-03-15 00:00:00', '2011-03-11 00:00:00', '1999-02-25 00:00:00', '1998-10-28 00:00:00', '2012-03-12 00:00:00', '2013-10-11 00:00:00', '2008-07-15 00:00:00', '2011-10-06 00:00:00', '1993-09-06 00:00:00', '1997-02-03 00:00:00', '2007-06-08 00:00:00', '2004-04-02 00:00:00', '1994-08-11 00:00:00', '2005-09-14 00:00:00', '1997-12-10 00:00:00', '1999-05-04 00:00:00', '2014-01-29 00:00:00', '2009-01-05 00:00:00', '2002-06-27 00:00:00', '1998-10-27 00:00:00', '1997-10-30 00:00:00', '2012-11-29 00:00:00', '2012-08-27 00:00:00', '1995-09-22 00:00:00', '2012-04-13 00:00:00', '2014-01-13 00:00:00', '2006-07-12 00:00:00', '2014-09-04 00:00:00', '2003-07-18 00:00:00', '1993-02-24 00:00:00', '2005-09-02 00:00:00', '2005-11-09 00:00:00', '2008-02-18 00:00:00', '2005-07-11 00:00:00', '2004-01-07 00:00:00', '1994-06-15 00:00:00', '1998-01-29 00:00:00', '2003-11-10 00:00:00', '1999-02-08 00:00:00', '1998-08-13 00:00:00', '2005-08-29 00:00:00', '1994-06-09 00:00:00', '1996-12-06 00:00:00', '2007-03-05 00:00:00', '2005-09-12 00:00:00', '2007-09-25 00:00:00', '1997-09-09 00:00:00', '2001-09-12 00:00:00', '1996-10-22 00:00:00', '1998-12-22 00:00:00', '2000-09-13 00:00:00', '2012-04-16 00:00:00', '2012-03-29 00:00:00', '2004-03-28 00:00:00', '2009-06-02 00:00:00', '1995-02-14 00:00:00', '2014-08-12 00:00:00', '2008-10-23 00:00:00', '2008-08-27 00:00:00', '2001-09-24 00:00:00', '2010-12-06 00:00:00', '2004-03-17 00:00:00', '1994-04-13 00:00:00', '2015-08-07 00:00:00', '2006-10-24 00:00:00', '2011-11-18 00:00:00', '2013-06-12 00:00:00', '1999-08-06 00:00:00', '2004-11-22 00:00:00', '2013-12-09 00:00:00', '2010-12-23 00:00:00', '2007-02-04 00:00:00', '2000-07-28 00:00:00', '1998-08-05 00:00:00', '2013-10-28 00:00:00', '1994-02-16 00:00:00', '1997-09-08 00:00:00', '2004-03-16 00:00:00', '2015-03-10 00:00:00', '1996-09-30 00:00:00', '2015-06-29 00:00:00', '2005-06-02 00:00:00', '1998-11-13 00:00:00', '1996-05-09 00:00:00', '2008-01-07 00:00:00', '2002-08-12 00:00:00', '2007-08-02 00:00:00', '2014-10-28 00:00:00', '2006-08-29 00:00:00', '2004-06-29 00:00:00', '2006-12-27 00:00:00', '1994-03-08 00:00:00', '2010-12-07 00:00:00', '2012-11-26 00:00:00', '2009-05-29 00:00:00', '2011-07-06 00:00:00', '2006-04-03 00:00:00', '2003-04-09 00:00:00', '2016-01-29 00:00:00', '1998-09-17 00:00:00', '1996-08-06 00:00:00', '2002-08-06 00:00:00', '2006-09-17 00:00:00', '1996-12-23 00:00:00', '1996-03-12 00:00:00', '2012-02-14 00:00:00', '2003-01-30 00:00:00', '2013-10-02 00:00:00', '1999-03-17 00:00:00', '2013-02-07 00:00:00', '2012-04-18 00:00:00', '1994-12-15 00:00:00', '2004-03-11 00:00:00', '2010-02-16 00:00:00', '1998-04-20 00:00:00', '2001-11-21 00:00:00', '2011-08-03 00:00:00', '2009-05-26 00:00:00', '1998-05-07 00:00:00', '2006-08-03 00:00:00', '1996-02-16 00:00:00', '1998-07-06 00:00:00', '1995-03-01 00:00:00', '1996-04-11 00:00:00', '1995-01-20 00:00:00', '1999-08-04 00:00:00', '2005-08-09 00:00:00', '2013-01-07 00:00:00', '2012-09-24 00:00:00', '1996-03-27 00:00:00', '2006-05-17 00:00:00', '1998-06-22 00:00:00', '2013-02-06 00:00:00', '2015-04-02 00:00:00', '1994-06-20 00:00:00', '1993-08-06 00:00:00', '2008-03-27 00:00:00', '2010-07-31 00:00:00', '2011-11-22 00:00:00', '2007-04-18 00:00:00', '1996-03-04 00:00:00', '2001-08-14 00:00:00', '2007-12-17 00:00:00', '2002-09-04 00:00:00', '1996-11-25 00:00:00', '2006-09-05 00:00:00', '1993-08-05 00:00:00', '2006-07-11 00:00:00', '2003-01-07 00:00:00', '2013-03-04 00:00:00', '2009-02-24 00:00:00', '2003-07-25 00:00:00', '2006-07-05 00:00:00', '1994-01-26 00:00:00', '2008-10-02 00:00:00', '2011-09-08 00:00:00', '2005-11-15 00:00:00', '2011-01-06 00:00:00', '1996-04-01 00:00:00', '2007-07-18 00:00:00', '2003-06-23 00:00:00', '2011-11-24 00:00:00', '2011-06-22 00:00:00', '2001-07-05 00:00:00', '1996-03-15 00:00:00', '2002-06-06 00:00:00', '2003-06-27 00:00:00', '2007-07-31 00:00:00', '2010-12-03 00:00:00', '2000-03-20 00:00:00', '2006-10-16 00:00:00', '1999-04-15 00:00:00', '2016-01-26 00:00:00', '1996-04-09 00:00:00', '1993-03-22 00:00:00', '2001-03-30 00:00:00', '2001-09-17 00:00:00', '2015-09-07 00:00:00', '2012-07-03 00:00:00', '2011-05-18 00:00:00', '1998-03-03 00:00:00', '2013-03-06 00:00:00', '1996-07-19 00:00:00', '2005-01-18 00:00:00', '2006-04-29 00:00:00', '2005-06-20 00:00:00', '2007-09-04 00:00:00', '2009-06-05 00:00:00', '2007-04-02 00:00:00', '1996-09-23 00:00:00', '2010-02-17 00:00:00', '1998-10-12 00:00:00', '2002-03-15 00:00:00', '2002-10-16 00:00:00', '2004-06-21 00:00:00', '2002-01-24 00:00:00', '2010-06-01 00:00:00', '2009-01-25 00:00:00', '2013-05-23 00:00:00', '1994-08-10 00:00:00', '2012-02-17 00:00:00', '2011-11-04 00:00:00', '2003-11-03 00:00:00', '2009-01-15 00:00:00', '2010-04-28 00:00:00', '2003-06-12 00:00:00', '1997-03-11 00:00:00', '1996-12-14 00:00:00', '1999-08-18 00:00:00', '1999-09-06 00:00:00', '2004-10-25 00:00:00', '2004-06-24 00:00:00', '2002-02-22 00:00:00', '2005-07-25 00:00:00', '2006-03-24 00:00:00', '1994-04-20 00:00:00', '2009-01-08 00:00:00', '2009-01-19 00:00:00', '2011-11-02 00:00:00', '2011-06-17 00:00:00', '2005-05-10 00:00:00', '2001-04-27 00:00:00', '1998-04-08 00:00:00', '2012-03-18 00:00:00', '2001-03-14 00:00:00', '2007-09-14 00:00:00', '2008-12-10 00:00:00', '1998-12-08 00:00:00', '2010-05-11 00:00:00', '1999-01-29 00:00:00', '1993-08-19 00:00:00', '2010-01-08 00:00:00', '2006-03-22 00:00:00', '2009-03-11 00:00:00', '1993-04-16 00:00:00', '2000-12-20 00:00:00', '1994-02-22 00:00:00', '2001-04-10 00:00:00', '2012-11-22 00:00:00', '2004-04-24 00:00:00', '1998-04-02 00:00:00', '1994-09-08 00:00:00', '2002-10-08 00:00:00', '2011-09-11 00:00:00', '1999-05-21 00:00:00', '2010-01-07 00:00:00', '2007-01-18 00:00:00', '2005-12-28 00:00:00', '2008-11-08 00:00:00', '2005-02-09 00:00:00', '2005-06-10 00:00:00', '1996-05-15 00:00:00', '2010-03-18 00:00:00', '2006-12-21 00:00:00', '1995-07-13 00:00:00', '2000-05-09 00:00:00', '2006-04-27 00:00:00', '2012-08-10 00:00:00', '1995-04-13 00:00:00', '2003-02-07 00:00:00', '2001-09-10 00:00:00', '2014-01-27 00:00:00', '2012-07-23 00:00:00', '1993-01-25 00:00:00', '2007-08-21 00:00:00', '2005-04-22 00:00:00', '2000-11-28 00:00:00', '2015-06-17 00:00:00', '2001-01-18 00:00:00', '2015-02-19 00:00:00', '2010-01-06 00:00:00', '1996-02-14 00:00:00', '2001-08-30 00:00:00', '2002-11-27 00:00:00', '2004-10-18 00:00:00', '1999-05-31 00:00:00', '2010-01-20 00:00:00', '2003-10-15 00:00:00', '1994-08-15 00:00:00', '2014-05-22 00:00:00', '2006-11-23 00:00:00', '2008-06-20 00:00:00', '1996-07-23 00:00:00', '2004-04-15 00:00:00', '2004-12-02 00:00:00', '2006-10-12 00:00:00', '1993-09-20 00:00:00', '1998-07-02 00:00:00', '1996-06-10 00:00:00', '2003-08-13 00:00:00', '1999-03-02 00:00:00', '2009-05-14 00:00:00', '1994-12-29 00:00:00', '2014-01-15 00:00:00', '2010-04-20 00:00:00', '2014-02-14 00:00:00', '2006-10-04 00:00:00', '2007-07-20 00:00:00', '2008-01-25 00:00:00', '2007-02-06 00:00:00', '2014-08-21 00:00:00', '1996-11-19 00:00:00', '1993-09-07 00:00:00', '2008-10-29 00:00:00', '2015-10-02 00:00:00', '1997-01-29 00:00:00', '2014-03-25 00:00:00', '2008-08-15 00:00:00', '1999-03-10 00:00:00', '1995-05-15 00:00:00', '2013-02-18 00:00:00', '1994-02-17 00:00:00', '2015-12-09 00:00:00', '1994-08-09 00:00:00', '2008-07-30 00:00:00', '2013-08-19 00:00:00', '2004-04-04 00:00:00', '2011-05-26 00:00:00', '2007-02-21 00:00:00', '2012-10-05 00:00:00', '1999-10-07 00:00:00', '2012-01-19 00:00:00', '2007-09-18 00:00:00', '2012-09-05 00:00:00', '2005-06-17 00:00:00', '2009-08-26 00:00:00', '2004-06-07 00:00:00', '1997-07-18 00:00:00', '2010-10-28 00:00:00', '2012-05-25 00:00:00', '2002-04-03 00:00:00', '2008-11-28 00:00:00', '2011-07-11 00:00:00', '1995-10-20 00:00:00', '2009-11-19 00:00:00', '2000-07-13 00:00:00', '2015-06-16 00:00:00', '2001-08-13 00:00:00', '1996-04-30 00:00:00', '1994-10-26 00:00:00', '2014-07-01 00:00:00', '2001-03-06 00:00:00', '2001-06-18 00:00:00', '1997-01-14 00:00:00', '2011-08-09 00:00:00', '2008-04-16 00:00:00', '2013-01-31 00:00:00', '2000-05-25 00:00:00', '1992-02-21 00:00:00', '1996-10-09 00:00:00', '2015-08-14 00:00:00', '1995-09-19 00:00:00', '2013-10-15 00:00:00', '1996-06-12 00:00:00', '2012-09-25 00:00:00', '2007-01-26 00:00:00', '1999-07-28 00:00:00', '2006-01-10 00:00:00', '2010-05-25 00:00:00', '2008-07-24 00:00:00', '1999-07-01 00:00:00', '1998-08-28 00:00:00', '2015-09-28 00:00:00', '2008-01-22 00:00:00', '1996-02-15 00:00:00', '2007-06-18 00:00:00', '2000-07-18 00:00:00', '2003-07-21 00:00:00', '2011-03-01 00:00:00', '2000-08-17 00:00:00', '1994-01-04 00:00:00', '1996-08-15 00:00:00', '1997-12-27 00:00:00', '2000-10-31 00:00:00', '2010-09-10 00:00:00', '2005-01-20 00:00:00', '2002-04-25 00:00:00', '1998-02-10 00:00:00', '2006-05-22 00:00:00', '2002-05-07 00:00:00', '2015-04-15 00:00:00', '1997-09-02 00:00:00', '2000-12-21 00:00:00', '2013-08-05 00:00:00', '2007-01-09 00:00:00', '2006-07-31 00:00:00', '1996-02-26 00:00:00', '1993-01-22 00:00:00', '2013-08-14 00:00:00', '2013-09-10 00:00:00', '2006-10-13 00:00:00', '2002-09-19 00:00:00', '2008-09-25 00:00:00', '2015-01-08 00:00:00', '1995-12-14 00:00:00', '1996-01-23 00:00:00', '1998-09-23 00:00:00', '2013-01-21 00:00:00', '2002-05-23 00:00:00', '2006-08-28 00:00:00', '2007-03-26 00:00:00', '1996-05-30 00:00:00', '1994-04-05 00:00:00', '2000-12-15 00:00:00', '2000-12-08 00:00:00', '1998-02-07 00:00:00', '1999-05-14 00:00:00', '2005-06-16 00:00:00', '2011-07-22 00:00:00', '2004-11-19 00:00:00', '1994-12-02 00:00:00', '2002-10-09 00:00:00', '2014-06-12 00:00:00', '2011-01-05 00:00:00', '2014-08-13 00:00:00', '2012-07-02 00:00:00', '1993-12-23 00:00:00', '1994-05-11 00:00:00', '1993-06-02 00:00:00', '1998-03-20 00:00:00', '2004-06-27 00:00:00', '2000-11-06 00:00:00', '2006-07-03 00:00:00', '2005-02-27 00:00:00', '2002-02-21 00:00:00', '2013-10-10 00:00:00', '1994-10-11 00:00:00', '2016-03-15 00:00:00', '1999-01-19 00:00:00', '1997-05-27 00:00:00', '1998-06-29 00:00:00', '2014-04-28 00:00:00', '2010-05-04 00:00:00', '2003-11-25 00:00:00', '2000-02-25 00:00:00', '2012-01-16 00:00:00', '2004-03-25 00:00:00', '1993-06-11 00:00:00', '2007-11-19 00:00:00', '1997-04-25 00:00:00', '2000-06-20 00:00:00', '2004-01-22 00:00:00', '1993-11-03 00:00:00', '2007-10-10 00:00:00', '2002-01-09 00:00:00', '2009-12-03 00:00:00', '1997-11-08 00:00:00', '2014-04-09 00:00:00', '2010-03-02 00:00:00', '2014-11-27 00:00:00', '1995-10-05 00:00:00', '1995-05-26 00:00:00', '1999-06-02 00:00:00', '1995-08-09 00:00:00', '1997-04-28 00:00:00', '1997-08-14 00:00:00', '2001-03-20 00:00:00', '2000-08-30 00:00:00', '2011-12-06 00:00:00', '2010-07-19 00:00:00', '2004-01-19 00:00:00', '2002-01-28 00:00:00', '2004-06-26 00:00:00', '2007-07-04 00:00:00', '2009-09-23 00:00:00', '1993-09-28 00:00:00', '1993-04-14 00:00:00', '1993-11-18 00:00:00', '2001-10-26 00:00:00', '2009-01-13 00:00:00', '2011-03-29 00:00:00', '2000-07-24 00:00:00', '2000-05-08 00:00:00', '2000-05-17 00:00:00', '2007-07-09 00:00:00', '2012-05-14 00:00:00', '2004-09-20 00:00:00', '1997-11-18 00:00:00', '1996-09-24 00:00:00', '2000-05-23 00:00:00', '1998-10-30 00:00:00', '1999-02-02 00:00:00', '1993-10-29 00:00:00', '2005-01-13 00:00:00', '2000-12-19 00:00:00', '2006-01-20 00:00:00', '2005-10-23 00:00:00', '1996-08-08 00:00:00', '1997-01-17 00:00:00', '1997-07-11 00:00:00', '2009-06-15 00:00:00', '1999-06-25 00:00:00', '2013-08-09 00:00:00', '2009-10-02 00:00:00', '2004-06-12 00:00:00', '2012-07-31 00:00:00', '2004-04-10 00:00:00', '2011-07-18 00:00:00', '1997-11-13 00:00:00', '2014-09-25 00:00:00', '1999-07-26 00:00:00', '2002-12-05 00:00:00', '2004-08-13 00:00:00', '2003-08-15 00:00:00', '2008-12-04 00:00:00', '1995-04-07 00:00:00', '1998-11-27 00:00:00', '2001-10-22 00:00:00', '2008-10-10 00:00:00', '2004-08-20 00:00:00', '1994-04-15 00:00:00', '2002-04-09 00:00:00', '2007-01-28 00:00:00', '2001-08-16 00:00:00', '2012-10-29 00:00:00', '1998-10-08 00:00:00', '2014-09-26 00:00:00', '1996-12-11 00:00:00', '2003-03-17 00:00:00', '2014-10-23 00:00:00', '2015-09-03 00:00:00', '2002-02-14 00:00:00', '2015-05-20 00:00:00', '2008-06-17 00:00:00', '2006-02-07 00:00:00', '2002-04-11 00:00:00', '2000-11-21 00:00:00', '2000-03-22 00:00:00', '2001-12-11 00:00:00', '2014-06-24 00:00:00', '1994-02-28 00:00:00', '1994-01-17 00:00:00', '2003-10-08 00:00:00', '2004-08-11 00:00:00', '2005-08-15 00:00:00', '2010-04-13 00:00:00', '2004-12-01 00:00:00', '2013-12-12 00:00:00', '1997-03-14 00:00:00', '2004-05-14 00:00:00', '2012-06-04 00:00:00', '2013-11-06 00:00:00', '1996-05-13 00:00:00', '2010-02-11 00:00:00', '1997-10-24 00:00:00', '2012-03-01 00:00:00', '2012-09-12 00:00:00', '2011-10-18 00:00:00', '2014-08-05 00:00:00', '2001-03-01 00:00:00', '2002-08-05 00:00:00', '2004-12-30 00:00:00', '2009-02-04 00:00:00', '2009-01-12 00:00:00', '2011-03-21 00:00:00', '2007-10-19 00:00:00', '1995-11-15 00:00:00', '2008-08-11 00:00:00', '2004-09-24 00:00:00', '2012-06-18 00:00:00', '2007-05-21 00:00:00', '1998-03-19 00:00:00', '2014-10-29 00:00:00', '2009-10-26 00:00:00', '2008-04-22 00:00:00', '2015-06-12 00:00:00', '2003-12-21 00:00:00', '2008-04-17 00:00:00', '2005-09-28 00:00:00', '1993-02-11 00:00:00', '1995-08-10 00:00:00', '2013-07-16 00:00:00', '1999-07-15 00:00:00', '1999-08-16 00:00:00', '2011-01-12 00:00:00', '1998-06-06 00:00:00', '2000-05-05 00:00:00', '1994-07-15 00:00:00', '2004-10-14 00:00:00', '1997-08-21 00:00:00', '1997-03-13 00:00:00', '2001-09-25 00:00:00', '2004-09-15 00:00:00', '2000-12-07 00:00:00', '2000-04-11 00:00:00', '2002-01-21 00:00:00', '2009-04-29 00:00:00', '1998-07-14 00:00:00', '1993-09-03 00:00:00', '2010-10-08 00:00:00', '2002-04-15 00:00:00', '1999-02-03 00:00:00', '1994-12-13 00:00:00', '2006-04-24 00:00:00', '2005-11-30 00:00:00', '2010-10-06 00:00:00', '2006-09-06 00:00:00', '2008-06-18 00:00:00', '1997-01-30 00:00:00', '2000-05-15 00:00:00', '1996-01-30 00:00:00', '1993-08-11 00:00:00', '1993-02-01 00:00:00', '2001-04-24 00:00:00', '2015-01-06 00:00:00', '2005-10-28 00:00:00', '1993-12-13 00:00:00', '1996-05-07 00:00:00', '2011-04-09 00:00:00', '2001-03-08 00:00:00', '2005-05-20 00:00:00', '1998-06-09 00:00:00', '2012-11-14 00:00:00', '2007-05-22 00:00:00', '2005-08-03 00:00:00', '2007-01-03 00:00:00', '2010-07-02 00:00:00', '2000-08-23 00:00:00', '2009-12-15 00:00:00', '2000-11-24 00:00:00', '1994-03-22 00:00:00', '1995-04-25 00:00:00', '1999-07-16 00:00:00', '1993-10-25 00:00:00', '2007-05-11 00:00:00', '2006-06-19 00:00:00', '1999-01-23 00:00:00', '2005-12-21 00:00:00', '2010-08-27 00:00:00', '2000-04-17 00:00:00', '2003-01-10 00:00:00', '2010-05-21 00:00:00', '1993-07-06 00:00:00', '2006-11-09 00:00:00', '1993-12-09 00:00:00', '2003-09-18 00:00:00', '1997-09-05 00:00:00', '2009-05-05 00:00:00', '2002-08-14 00:00:00', '2015-05-12 00:00:00', '1994-08-31 00:00:00', '1996-07-16 00:00:00', '2002-09-30 00:00:00', '2008-04-01 00:00:00', '2010-06-15 00:00:00', '2001-11-29 00:00:00', '1994-07-08 00:00:00', '2004-04-29 00:00:00', '1998-10-22 00:00:00', '2009-07-27 00:00:00', '2012-11-27 00:00:00', '2012-12-12 00:00:00', '2012-07-17 00:00:00', '2008-09-11 00:00:00', '1997-09-30 00:00:00', '1993-06-07 00:00:00', '2005-07-18 00:00:00', '1995-11-06 00:00:00', '2005-06-04 00:00:00', '2014-03-03 00:00:00', '1994-05-02 00:00:00', '1997-02-11 00:00:00', '2004-04-22 00:00:00', '2003-05-26 00:00:00', '2009-03-02 00:00:00', '2008-06-02 00:00:00', '2005-09-05 00:00:00', '2000-02-28 00:00:00', '2015-05-04 00:00:00', '1994-09-19 00:00:00', '1993-01-08 00:00:00', '1996-03-18 00:00:00', '1994-12-19 00:00:00', '1999-07-27 00:00:00', '2008-02-07 00:00:00', '2002-01-16 00:00:00', '1994-08-19 00:00:00', '2010-03-22 00:00:00', '2013-10-09 00:00:00', '2003-01-21 00:00:00', '2013-05-02 00:00:00', '1999-04-23 00:00:00', '2003-05-13 00:00:00', '1998-11-02 00:00:00', '1997-10-16 00:00:00', '2001-04-06 00:00:00', '2002-02-19 00:00:00', '2014-05-27 00:00:00', '2009-08-12 00:00:00', '1997-06-02 00:00:00', '2006-02-08 00:00:00', '2000-10-19 00:00:00', '2014-01-30 00:00:00', '1995-07-27 00:00:00', '2009-05-27 00:00:00', '2010-08-17 00:00:00', '1999-02-23 00:00:00', '1994-09-12 00:00:00', '2012-08-07 00:00:00', '1999-01-08 00:00:00', '2013-07-15 00:00:00', '2010-12-02 00:00:00', '2000-12-06 00:00:00', '2002-07-17 00:00:00', '2015-05-09 00:00:00', '2001-03-29 00:00:00', '2002-11-18 00:00:00', '2011-09-22 00:00:00', '1995-06-22 00:00:00', '1998-10-01 00:00:00', '2005-10-13 00:00:00', '2008-09-28 00:00:00', '1994-03-28 00:00:00', '1996-02-06 00:00:00', '2011-08-10 00:00:00', '2010-03-19 00:00:00', '2006-07-21 00:00:00', '1994-09-27 00:00:00', '2015-03-16 00:00:00', '1999-05-10 00:00:00', '2016-02-09 00:00:00', '2004-10-19 00:00:00', '2009-12-22 00:00:00', '1997-10-14 00:00:00', '2002-09-12 00:00:00', '1997-07-03 00:00:00', '2006-01-17 00:00:00', '1998-01-23 00:00:00', '2000-03-06 00:00:00', '2010-01-15 00:00:00', '2000-08-07 00:00:00', '2002-08-01 00:00:00', '1999-01-11 00:00:00', '2012-10-24 00:00:00', '2013-08-22 00:00:00', '2001-03-23 00:00:00', '2000-04-07 00:00:00', '2015-04-21 00:00:00', '2012-11-30 00:00:00', '2001-10-08 00:00:00', '2003-01-22 00:00:00', '1994-09-02 00:00:00', '1997-11-06 00:00:00', '2005-01-16 00:00:00', '2008-05-30 00:00:00', '2002-10-17 00:00:00', '2011-10-05 00:00:00', '2003-09-30 00:00:00', '1997-10-09 00:00:00', '1998-08-12 00:00:00', '1997-04-02 00:00:00', '1995-02-17 00:00:00', '2016-01-27 00:00:00', '2002-11-11 00:00:00', '1998-09-28 00:00:00', '2006-06-12 00:00:00', '2003-05-07 00:00:00', '1996-10-08 00:00:00', '1995-12-18 00:00:00', '2010-03-17 00:00:00', '2008-10-08 00:00:00', '2005-06-22 00:00:00', '2000-09-04 00:00:00', '2005-04-07 00:00:00', '2007-12-05 00:00:00', '2002-04-24 00:00:00', '2014-09-05 00:00:00', '2004-10-26 00:00:00', '2005-07-20 00:00:00', '2009-01-28 00:00:00', '1995-06-07 00:00:00', '2005-05-11 00:00:00', '1995-04-24 00:00:00', '2005-04-19 00:00:00', '2007-04-13 00:00:00', '1999-01-27 00:00:00', '2013-08-02 00:00:00', '2001-02-02 00:00:00', '2007-04-16 00:00:00', '2011-01-07 00:00:00', '2010-08-16 00:00:00', '2016-03-21 00:00:00', '1996-06-24 00:00:00', '2001-07-20 00:00:00', '1995-03-15 00:00:00', '2002-10-22 00:00:00', '2003-09-09 00:00:00', '2002-12-09 00:00:00', '2000-09-11 00:00:00', '2003-08-04 00:00:00', '2012-02-27 00:00:00', '2009-10-23 00:00:00', '1994-08-08 00:00:00', '2011-02-01 00:00:00', '2009-12-18 00:00:00', '1995-01-19 00:00:00', '2009-04-13 00:00:00', '2011-03-10 00:00:00', '1994-11-24 00:00:00', '2014-06-03 00:00:00', '2012-09-18 00:00:00', '2004-11-23 00:00:00', '1998-04-17 00:00:00', '1994-12-21 00:00:00', '2007-05-12 00:00:00', '2005-02-06 00:00:00', '2013-01-17 00:00:00', '2004-11-24 00:00:00', '2003-10-16 00:00:00', '2013-01-25 00:00:00', '1993-12-16 00:00:00', '2010-02-24 00:00:00', '2001-02-20 00:00:00', '2009-11-26 00:00:00', '2009-11-22 00:00:00', '2014-09-03 00:00:00', '2009-01-09 00:00:00', '1995-09-28 00:00:00', '1994-07-26 00:00:00', '2011-09-26 00:00:00', '2015-11-02 00:00:00', '1994-04-22 00:00:00', '2001-07-24 00:00:00', '1997-08-11 00:00:00', '2011-09-21 00:00:00', '2009-08-06 00:00:00', '2015-03-12 00:00:00', '2015-09-29 00:00:00', '2016-02-11 00:00:00', '2015-12-08 00:00:00', '1997-04-16 00:00:00', '2000-08-25 00:00:00', '1999-10-27 00:00:00', '2010-02-10 00:00:00', '2002-10-01 00:00:00', '2015-11-13 00:00:00', '2002-05-15 00:00:00', '2002-07-10 00:00:00', '1998-03-02 00:00:00', '1997-11-04 00:00:00', '2007-03-06 00:00:00', '1993-08-30 00:00:00', '2005-04-05 00:00:00', '2003-11-14 00:00:00', '2008-04-24 00:00:00', '2007-12-28 00:00:00', '2012-06-14 00:00:00', '2000-03-21 00:00:00', '2002-06-18 00:00:00', '2002-03-20 00:00:00', '1997-08-28 00:00:00', '1994-12-23 00:00:00', '2001-02-14 00:00:00', '2006-04-05 00:00:00', '2011-03-15 00:00:00', '2002-09-05 00:00:00', '1994-09-15 00:00:00', '1993-06-29 00:00:00', '2004-07-09 00:00:00', '2014-12-29 00:00:00', '1995-08-07 00:00:00', '2015-05-26 00:00:00', '2001-11-13 00:00:00', '1995-07-26 00:00:00', '2012-11-15 00:00:00', '1994-06-21 00:00:00', '1999-08-02 00:00:00', '1994-10-27 00:00:00', '2015-03-03 00:00:00', '2015-03-24 00:00:00', '2006-05-06 00:00:00', '1994-11-08 00:00:00', '2003-10-20 00:00:00', '1993-04-29 00:00:00', '2012-12-04 00:00:00', '2006-09-08 00:00:00', '2010-09-22 00:00:00', '2011-05-19 00:00:00', '2009-11-23 00:00:00', '2002-09-11 00:00:00', '2002-06-13 00:00:00', '2013-03-12 00:00:00', '2000-09-08 00:00:00', '2006-10-25 00:00:00', '2010-02-19 00:00:00', '2004-07-20 00:00:00', '1993-11-27 00:00:00', '2001-08-20 00:00:00', '1998-10-14 00:00:00', '2004-08-14 00:00:00', '2000-10-26 00:00:00', '2010-10-26 00:00:00', '2001-06-19 00:00:00', '2015-05-22 00:00:00', '2010-11-15 00:00:00', '2005-05-26 00:00:00', '2001-09-28 00:00:00', '2007-03-29 00:00:00', '1998-02-24 00:00:00', '2007-10-31 00:00:00', '2015-08-05 00:00:00', '2002-01-15 00:00:00', '2007-08-08 00:00:00', '1996-12-04 00:00:00', '1994-08-05 00:00:00', '2013-01-08 00:00:00', '2011-11-10 00:00:00', '1998-04-03 00:00:00', '2011-09-19 00:00:00', '1994-01-13 00:00:00', '1995-12-13 00:00:00', '1998-10-19 00:00:00', '2010-11-22 00:00:00', '1998-01-21 00:00:00', '2013-05-29 00:00:00', '2015-03-27 00:00:00', '1991-06-17 00:00:00', '1996-09-26 00:00:00', '2009-10-16 00:00:00', '2007-02-14 00:00:00', '2007-07-03 00:00:00', '2013-02-22 00:00:00', '2001-10-02 00:00:00', '2007-05-02 00:00:00', '1997-01-10 00:00:00', '2000-09-07 00:00:00', '1997-02-07 00:00:00', '1994-11-10 00:00:00', '2006-01-27 00:00:00', '1993-10-04 00:00:00', '2015-11-25 00:00:00', '2010-02-05 00:00:00', '2015-03-04 00:00:00', '1992-12-22 00:00:00', '2001-08-15 00:00:00', '2008-02-26 00:00:00', '2013-06-21 00:00:00', '2011-04-28 00:00:00', '2006-11-20 00:00:00', '1994-10-07 00:00:00', '2005-08-25 00:00:00', '1994-08-12 00:00:00', '2013-01-12 00:00:00', '2002-09-27 00:00:00', '2014-03-11 00:00:00', '2010-06-30 00:00:00', '2014-05-29 00:00:00', '2015-07-17 00:00:00', '2007-05-09 00:00:00', '2009-02-10 00:00:00', '2003-02-19 00:00:00', '1993-07-01 00:00:00', '2008-03-12 00:00:00', '1993-06-09 00:00:00', '2003-06-06 00:00:00', '2004-11-05 00:00:00', '2008-05-23 00:00:00', '2009-05-19 00:00:00', '2014-05-02 00:00:00', '1999-06-17 00:00:00', '1999-04-26 00:00:00', '2012-03-05 00:00:00', '2009-08-29 00:00:00', '1997-12-29 00:00:00', '2006-03-23 00:00:00', '1996-06-17 00:00:00', '1996-09-27 00:00:00', '1997-08-19 00:00:00', '1997-01-18 00:00:00', '2012-06-10 00:00:00', '2008-06-11 00:00:00', '2004-10-10 00:00:00', '1994-05-03 00:00:00', '2003-09-02 00:00:00', '1991-08-30 00:00:00', '2012-06-15 00:00:00', '1994-06-16 00:00:00', '1995-07-31 00:00:00', '1999-04-27 00:00:00', '2013-05-17 00:00:00', '2004-07-23 00:00:00', '2005-01-27 00:00:00', '2015-12-11 00:00:00', '2004-10-11 00:00:00', '2001-07-16 00:00:00', '2016-04-03 00:00:00', '2001-07-25 00:00:00', '2007-04-29 00:00:00', '2010-08-03 00:00:00', '2003-08-07 00:00:00', '2011-01-27 00:00:00', '2006-07-04 00:00:00', '2006-11-06 00:00:00', '2000-08-31 00:00:00', '2015-02-18 00:00:00', '2009-01-26 00:00:00', '2013-09-02 00:00:00', '1998-11-07 00:00:00', '2012-10-12 00:00:00', '2012-10-26 00:00:00', '2002-09-10 00:00:00', '2015-09-24 00:00:00', '2006-03-31 00:00:00', '2006-11-14 00:00:00', '2008-01-02 00:00:00', '1995-10-25 00:00:00', '2006-12-28 00:00:00', '2001-03-02 00:00:00', '2009-09-21 00:00:00', '2005-12-01 00:00:00', '1997-08-25 00:00:00', '2010-06-11 00:00:00', '2011-06-27 00:00:00', '2015-10-05 00:00:00', '2013-09-26 00:00:00', '2010-03-05 00:00:00', '2007-05-14 00:00:00', '2003-11-21 00:00:00', '1995-09-07 00:00:00', '2014-03-07 00:00:00', '1999-08-27 00:00:00', '2007-10-26 00:00:00', '2008-03-25 00:00:00', '2015-02-06 00:00:00', '1997-01-22 00:00:00', '1996-08-07 00:00:00', '2003-08-01 00:00:00', '2004-02-09 00:00:00', '2006-04-06 00:00:00', '1994-01-24 00:00:00', '2005-02-21 00:00:00', '2008-02-08 00:00:00', '2013-07-04 00:00:00', '2004-03-19 00:00:00', '2000-07-07 00:00:00', '1996-05-28 00:00:00', '2005-07-28 00:00:00', '1994-11-02 00:00:00', '2010-02-02 00:00:00', '2003-04-01 00:00:00', '2001-05-15 00:00:00', '2003-11-29 00:00:00', '2008-07-21 00:00:00', '2008-09-26 00:00:00', '2006-09-27 00:00:00', '2011-09-09 00:00:00', '1994-02-09 00:00:00', '2015-10-22 00:00:00', '1995-03-02 00:00:00', '1993-05-26 00:00:00', '2002-04-08 00:00:00', '2002-08-27 00:00:00', '2001-10-18 00:00:00', '2014-01-31 00:00:00', '2009-04-28 00:00:00', '2006-08-18 00:00:00', '2006-02-09 00:00:00', '2004-06-18 00:00:00', '2001-09-14 00:00:00', '2001-07-23 00:00:00', '2003-09-22 00:00:00', '2011-06-01 00:00:00', '2002-01-18 00:00:00', '2012-12-03 00:00:00', '2013-04-25 00:00:00', '1995-07-12 00:00:00', '1993-11-02 00:00:00', '2009-01-23 00:00:00', '2015-08-13 00:00:00', '2007-07-30 00:00:00', '1996-03-22 00:00:00', '2007-01-31 00:00:00', '2007-05-07 00:00:00', '2012-03-13 00:00:00', '1994-06-13 00:00:00', '1994-02-18 00:00:00', '2006-09-26 00:00:00', '2015-12-18 00:00:00', '2005-07-19 00:00:00', '1995-07-24 00:00:00', '2003-09-29 00:00:00', '1996-10-28 00:00:00', '2009-02-06 00:00:00', '2003-11-05 00:00:00', '2004-04-19 00:00:00', '2008-07-28 00:00:00', '2012-02-21 00:00:00', '2006-12-13 00:00:00', '2005-10-20 00:00:00', '2012-07-20 00:00:00', '2007-09-24 00:00:00', '2009-07-13 00:00:00', '2012-07-10 00:00:00', '2009-03-27 00:00:00', '2009-07-31 00:00:00', '2009-03-09 00:00:00', '1995-05-22 00:00:00', '2015-05-18 00:00:00', '2014-09-22 00:00:00', '2012-02-01 00:00:00', '2004-11-01 00:00:00', '2000-07-17 00:00:00', '2001-11-15 00:00:00', '1995-11-16 00:00:00', '1994-12-14 00:00:00', '2014-04-23 00:00:00', '2000-09-19 00:00:00', '2009-09-01 00:00:00', '2006-03-02 00:00:00', '1995-11-09 00:00:00', '1998-11-05 00:00:00', '2005-01-03 00:00:00', '2002-09-16 00:00:00', '2015-01-16 00:00:00', '1995-12-21 00:00:00', '1995-10-06 00:00:00', '1994-03-23 00:00:00', '2011-02-17 00:00:00', '2008-03-18 00:00:00', '2014-11-26 00:00:00', '2007-05-15 00:00:00', '2009-07-16 00:00:00', '2001-07-31 00:00:00', '1998-09-14 00:00:00', '2002-03-05 00:00:00', '2000-12-27 00:00:00', '1996-04-10 00:00:00', '2013-10-01 00:00:00', '1996-04-03 00:00:00', '2013-11-27 00:00:00', '2012-05-24 00:00:00', '2014-09-30 00:00:00', '2002-09-18 00:00:00', '2001-07-27 00:00:00', '2010-01-28 00:00:00', '2008-04-04 00:00:00', '1998-12-09 00:00:00', '1994-12-12 00:00:00', '2013-12-11 00:00:00', '2007-04-11 00:00:00', '2013-07-31 00:00:00', '2002-07-15 00:00:00', '2001-10-15 00:00:00', '2004-10-02 00:00:00', '1995-06-30 00:00:00', '2005-06-27 00:00:00', '2015-11-26 00:00:00', '2012-08-29 00:00:00', '2014-02-04 00:00:00', '2011-08-12 00:00:00', '2003-12-18 00:00:00', '2009-11-18 00:00:00', '1993-09-02 00:00:00', '2010-03-04 00:00:00', '2014-12-01 00:00:00', '2015-04-29 00:00:00', '2005-03-14 00:00:00', '2012-05-02 00:00:00', '2001-09-04 00:00:00', '1995-11-27 00:00:00', '1998-05-11 00:00:00', '2005-05-15 00:00:00', '2009-08-04 00:00:00', '1993-07-14 00:00:00', '2003-08-31 00:00:00', '2006-08-02 00:00:00', '2003-03-20 00:00:00', '2003-05-08 00:00:00', '1998-02-25 00:00:00', '2005-11-21 00:00:00', '2013-02-20 00:00:00', '2003-03-30 00:00:00', '1996-08-05 00:00:00', '2001-08-06 00:00:00', '1998-03-31 00:00:00', '1994-09-26 00:00:00', '2008-04-08 00:00:00', '2005-11-29 00:00:00', '2011-03-02 00:00:00', '2003-12-28 00:00:00', '1995-12-19 00:00:00', '2013-11-23 00:00:00', '2006-09-07 00:00:00', '1997-03-26 00:00:00', '2001-11-12 00:00:00', '2004-09-22 00:00:00', '2014-01-22 00:00:00', '1994-01-19 00:00:00', '2008-02-27 00:00:00', '2015-10-16 00:00:00', '2011-07-07 00:00:00', '2014-06-30 00:00:00', '2009-10-14 00:00:00', '2003-07-15 00:00:00', '2009-02-17 00:00:00', '2014-07-24 00:00:00', '1998-05-06 00:00:00', '2006-12-12 00:00:00', '2012-04-11 00:00:00', '2014-04-10 00:00:00', '2003-03-07 00:00:00', '2001-02-08 00:00:00', '2014-11-06 00:00:00', '1998-10-29 00:00:00', '2014-12-12 00:00:00', '1994-04-28 00:00:00', '2001-06-22 00:00:00', '1994-09-23 00:00:00', '2013-02-15 00:00:00', '2007-03-12 00:00:00', '1994-02-14 00:00:00', '1997-07-24 00:00:00', '2007-03-20 00:00:00', '2002-11-25 00:00:00', '2005-05-13 00:00:00', '1997-02-25 00:00:00', '2009-07-02 00:00:00', '2014-08-18 00:00:00', '2006-09-20 00:00:00', '2006-02-10 00:00:00', '2002-06-17 00:00:00', '2003-12-30 00:00:00', '2002-11-20 00:00:00', '2004-11-15 00:00:00', '2000-05-24 00:00:00', '2015-08-11 00:00:00', '2013-04-17 00:00:00', '1995-02-16 00:00:00', '1994-11-21 00:00:00', '2004-09-02 00:00:00', '2009-04-21 00:00:00', '2005-11-10 00:00:00', '2016-01-28 00:00:00', '2003-12-09 00:00:00', '2002-06-10 00:00:00', '1993-06-14 00:00:00', '2015-10-30 00:00:00', '2007-06-15 00:00:00', '2006-06-09 00:00:00', '2001-07-09 00:00:00', '1995-01-26 00:00:00', '2003-08-28 00:00:00', '2001-05-17 00:00:00', '2001-05-28 00:00:00', '1996-03-28 00:00:00', '1997-08-26 00:00:00', '2010-12-29 00:00:00', '1999-10-05 00:00:00', '2008-12-16 00:00:00', '2006-08-22 00:00:00', '2004-03-20 00:00:00', '2014-07-09 00:00:00', '2006-09-15 00:00:00', '1995-12-01 00:00:00', '2001-02-23 00:00:00', '2013-07-24 00:00:00', '2004-02-29 00:00:00', '2003-10-23 00:00:00', '2015-10-01 00:00:00', '2009-01-30 00:00:00', '2011-10-19 00:00:00', '2009-03-10 00:00:00', '2003-07-04 00:00:00', '2003-03-21 00:00:00', '2013-10-16 00:00:00', '2006-06-24 00:00:00', '2005-09-08 00:00:00', '2005-04-24 00:00:00', '2005-04-08 00:00:00', '2005-02-02 00:00:00', '1996-05-20 00:00:00', '2006-12-06 00:00:00', '2008-08-26 00:00:00', '2012-02-24 00:00:00', '1998-04-01 00:00:00', '2008-11-19 00:00:00', '1998-12-01 00:00:00', '2003-06-19 00:00:00', '2002-11-19 00:00:00', '2006-03-30 00:00:00', '2005-03-01 00:00:00', '2006-03-20 00:00:00', '2012-08-26 00:00:00', '2003-07-29 00:00:00', '2001-11-28 00:00:00', '2011-04-07 00:00:00', '2006-01-12 00:00:00', '2007-08-29 00:00:00', '1996-11-11 00:00:00', '2004-08-19 00:00:00', '1999-07-21 00:00:00', '2002-08-23 00:00:00', '2002-03-27 00:00:00', '2005-07-26 00:00:00', '1999-06-01 00:00:00', '2014-11-05 00:00:00', '2004-03-29 00:00:00', '2004-01-16 00:00:00', '2007-01-16 00:00:00', '1997-10-20 00:00:00', '1999-03-25 00:00:00', '2008-09-29 00:00:00', '2004-04-01 00:00:00', '1996-12-12 00:00:00', '1994-05-24 00:00:00', '2001-04-19 00:00:00', '2007-09-03 00:00:00', '2015-02-13 00:00:00', '2015-10-06 00:00:00', '1996-07-08 00:00:00', '2011-01-18 00:00:00', '1997-06-04 00:00:00', '2006-11-15 00:00:00', '2004-02-13 00:00:00', '2009-02-13 00:00:00', '2012-10-21 00:00:00', '1997-06-25 00:00:00', '1997-12-09 00:00:00', '2000-08-22 00:00:00', '1997-05-12 00:00:00', '2005-12-22 00:00:00', '2006-08-10 00:00:00', '2001-07-02 00:00:00', '1999-01-12 00:00:00', '1997-05-17 00:00:00', '2003-06-17 00:00:00', '1998-12-30 00:00:00', '2008-04-15 00:00:00', '2012-09-14 00:00:00', '2004-08-17 00:00:00', '2012-06-19 00:00:00', '1996-03-01 00:00:00', '2004-12-18 00:00:00', '2013-12-17 00:00:00', '1993-11-15 00:00:00', '2001-08-22 00:00:00', '2000-11-17 00:00:00', '2005-02-24 00:00:00', '2007-02-23 00:00:00', '2009-06-04 00:00:00', '2013-02-19 00:00:00', '1996-08-10 00:00:00', '2004-10-28 00:00:00', '1998-03-26 00:00:00', '1997-05-15 00:00:00', '2000-06-27 00:00:00', '2012-10-08 00:00:00', '1994-03-01 00:00:00', '1996-03-16 00:00:00', '1999-05-28 00:00:00', '2004-08-26 00:00:00', '1994-11-09 00:00:00', '2012-05-20 00:00:00', '2009-05-21 00:00:00', '2014-11-14 00:00:00', '2000-11-07 00:00:00', '2014-02-10 00:00:00', '1996-02-05 00:00:00', '1993-01-20 00:00:00', '1993-08-12 00:00:00', '2016-02-22 00:00:00', '2008-06-23 00:00:00', '2001-05-11 00:00:00', '2014-02-20 00:00:00', '2014-08-08 00:00:00', '2010-05-28 00:00:00', '1995-04-27 00:00:00', '2010-12-14 00:00:00', '2004-04-28 00:00:00', '2002-07-05 00:00:00', '2011-04-12 00:00:00', '2007-06-20 00:00:00', '2005-02-03 00:00:00', '2005-12-08 00:00:00', '2012-04-03 00:00:00', '1998-11-09 00:00:00', '1994-02-03 00:00:00', '1997-07-31 00:00:00', '2009-08-25 00:00:00', '2007-11-20 00:00:00', '1999-03-04 00:00:00', '2012-12-11 00:00:00', '2006-03-14 00:00:00', '1994-10-10 00:00:00', '2000-04-18 00:00:00', '2013-08-20 00:00:00', '1999-06-10 00:00:00', '2011-08-26 00:00:00', '1996-07-12 00:00:00', '2011-12-22 00:00:00', '1998-12-07 00:00:00', '2009-09-09 00:00:00', '1996-04-22 00:00:00', '2013-11-05 00:00:00', '1994-02-11 00:00:00', '1998-06-05 00:00:00', '2008-08-05 00:00:00', '1999-05-19 00:00:00', '2001-05-10 00:00:00', '2007-01-24 00:00:00', '2002-12-06 00:00:00', '2014-11-17 00:00:00', '2004-02-16 00:00:00', '2000-05-22 00:00:00', '2004-09-13 00:00:00', '2004-04-07 00:00:00', '2011-07-20 00:00:00', '2000-10-18 00:00:00', '2004-08-27 00:00:00', '2007-12-12 00:00:00', '2011-08-22 00:00:00', '2013-03-07 00:00:00', '1997-05-20 00:00:00', '2001-05-18 00:00:00', '2010-05-19 00:00:00', '1996-02-07 00:00:00', '2013-06-13 00:00:00', '2002-03-06 00:00:00', '2007-02-12 00:00:00', '1994-02-07 00:00:00', '2004-02-06 00:00:00', '2014-01-16 00:00:00', '2002-10-31 00:00:00', '2009-03-03 00:00:00', '1996-01-04 00:00:00', '2011-11-15 00:00:00', '2003-06-30 00:00:00', '1995-02-15 00:00:00', '2011-08-02 00:00:00', '1996-02-29 00:00:00', '1994-01-12 00:00:00', '2003-11-19 00:00:00', '2004-11-11 00:00:00', '1993-01-06 00:00:00', '2003-04-24 00:00:00', '2001-11-26 00:00:00', '2010-04-26 00:00:00', '2015-02-02 00:00:00', '2009-02-25 00:00:00', '2001-11-02 00:00:00', '1993-12-22 00:00:00', '2004-12-28 00:00:00', '1998-01-08 00:00:00', '2004-05-13 00:00:00', '2010-09-04 00:00:00', '2003-03-01 00:00:00', '1994-03-31 00:00:00', '1998-02-23 00:00:00', '1998-07-01 00:00:00', '2005-12-29 00:00:00', '1997-02-20 00:00:00', '2004-02-20 00:00:00', '1997-09-12 00:00:00', '2004-09-03 00:00:00', '2014-11-28 00:00:00', '2008-05-11 00:00:00', '1997-03-04 00:00:00', '2005-06-15 00:00:00', '2004-03-03 00:00:00', '2009-04-20 00:00:00', '1998-06-08 00:00:00', '1995-08-08 00:00:00', '2004-06-01 00:00:00', '1995-01-27 00:00:00', '2002-07-02 00:00:00', '2014-06-04 00:00:00', '1997-11-10 00:00:00', '2008-05-28 00:00:00', '1993-12-07 00:00:00', '2011-05-13 00:00:00', '2010-08-02 00:00:00', '2014-10-13 00:00:00', '1997-04-23 00:00:00', '2009-03-06 00:00:00', '2010-11-10 00:00:00', '2013-12-04 00:00:00', '1998-02-05 00:00:00', '2013-07-19 00:00:00', '2004-01-06 00:00:00', '1997-06-30 00:00:00', '2005-09-24 00:00:00', '2003-09-21 00:00:00', '1994-04-14 00:00:00', '2005-01-07 00:00:00', '1996-03-06 00:00:00', '2007-12-19 00:00:00', '2011-02-21 00:00:00', '2000-11-20 00:00:00', '2006-09-21 00:00:00', '2007-07-17 00:00:00', '2013-03-18 00:00:00', '2009-08-17 00:00:00', '2001-06-06 00:00:00', '2005-05-28 00:00:00', '2003-09-13 00:00:00', '2008-04-18 00:00:00', '2004-07-22 00:00:00', '2014-04-30 00:00:00', '2000-06-06 00:00:00', '2003-11-23 00:00:00', '2005-10-14 00:00:00', '1995-04-28 00:00:00', '2008-11-25 00:00:00', '1996-06-03 00:00:00', '2006-04-25 00:00:00', '2000-04-26 00:00:00', '2013-01-14 00:00:00', '2007-03-28 00:00:00', '2001-06-27 00:00:00', '2007-06-23 00:00:00', '1998-08-21 00:00:00', '2012-06-08 00:00:00', '2009-06-17 00:00:00', '1999-04-09 00:00:00', '2003-10-06 00:00:00', '2012-09-06 00:00:00', '2006-10-19 00:00:00', '1993-08-09 00:00:00', '2006-11-13 00:00:00', '2005-01-25 00:00:00', '2003-01-24 00:00:00', '2009-04-16 00:00:00', '1993-12-21 00:00:00', '2003-04-29 00:00:00', '1999-08-11 00:00:00', '2005-10-19 00:00:00', '2015-08-12 00:00:00', '2000-10-10 00:00:00', '2004-05-18 00:00:00', '2003-06-24 00:00:00', '2004-08-10 00:00:00', '2009-04-03 00:00:00', '2001-11-19 00:00:00', '2012-03-14 00:00:00', '2005-06-28 00:00:00', '1998-04-23 00:00:00', '2005-11-26 00:00:00', '2014-01-14 00:00:00', '2002-07-01 00:00:00', '2014-03-05 00:00:00', '1999-07-20 00:00:00', '1994-06-10 00:00:00', '2012-09-01 00:00:00', '2007-04-30 00:00:00', '2000-02-22 00:00:00', '2001-12-14 00:00:00', '2002-08-29 00:00:00', '2010-02-08 00:00:00', '2016-01-08 00:00:00', '2000-04-20 00:00:00', '2006-03-17 00:00:00', '2002-02-26 00:00:00', '2015-02-16 00:00:00', '2003-08-20 00:00:00', '1994-07-25 00:00:00', '2012-09-19 00:00:00', '1995-12-22 00:00:00', '1993-12-29 00:00:00', '2010-08-09 00:00:00', '1996-11-09 00:00:00', '2010-10-11 00:00:00', '2015-01-28 00:00:00', '2007-12-07 00:00:00', '2004-09-23 00:00:00', '1996-01-25 00:00:00', '1993-10-11 00:00:00', '2003-10-07 00:00:00', '2016-01-18 00:00:00', '2011-02-28 00:00:00', '2011-08-18 00:00:00', '1999-09-17 00:00:00', '2010-09-23 00:00:00', '2014-03-18 00:00:00', '2009-10-09 00:00:00', '2007-09-01 00:00:00', '1995-02-23 00:00:00', '2003-07-09 00:00:00', '2006-09-11 00:00:00', '2003-11-24 00:00:00', '1993-02-12 00:00:00', '2001-02-05 00:00:00', '2009-10-07 00:00:00', '2004-06-13 00:00:00', '1996-04-16 00:00:00', '2004-07-01 00:00:00', '2003-02-25 00:00:00', '2014-01-28 00:00:00', '2003-11-28 00:00:00', '2003-03-05 00:00:00', '1997-06-26 00:00:00', '1993-12-02 00:00:00', '2006-04-28 00:00:00', '2002-08-21 00:00:00', '2008-03-13 00:00:00', '1994-06-23 00:00:00', '2000-11-30 00:00:00', '2015-04-07 00:00:00', '2002-10-18 00:00:00', '2011-04-08 00:00:00', '2010-02-22 00:00:00', '1995-04-10 00:00:00', '1998-11-03 00:00:00', '1993-12-01 00:00:00', '2010-07-29 00:00:00', '2010-06-21 00:00:00', '2007-05-03 00:00:00', '1997-08-29 00:00:00', '2013-08-28 00:00:00', '2003-06-05 00:00:00', '2008-09-16 00:00:00', '2002-06-20 00:00:00', '1997-06-11 00:00:00', '1999-04-19 00:00:00', '2003-10-30 00:00:00', '2001-07-10 00:00:00', '2012-04-10 00:00:00', '1997-11-19 00:00:00', '2012-04-24 00:00:00', '2013-02-04 00:00:00', '1998-09-22 00:00:00', '2004-04-27 00:00:00', '2014-12-30 00:00:00', '2008-03-15 00:00:00', '2006-02-26 00:00:00', '2000-03-30 00:00:00', '2011-04-19 00:00:00', '2003-11-26 00:00:00', '2003-09-25 00:00:00', '2007-01-10 00:00:00', '2007-10-11 00:00:00', '2005-07-30 00:00:00', '2004-02-27 00:00:00', '2003-03-24 00:00:00', '2002-04-16 00:00:00', '1997-12-15 00:00:00', '2003-04-03 00:00:00', '2002-05-29 00:00:00', '2012-05-29 00:00:00', '2001-05-16 00:00:00', '1997-07-02 00:00:00', '1996-11-08 00:00:00', '2004-11-13 00:00:00', '2004-09-30 00:00:00', '2013-05-16 00:00:00', '2000-10-20 00:00:00', '1994-08-01 00:00:00', '2005-03-29 00:00:00', '2001-01-15 00:00:00', '2006-07-01 00:00:00', '2005-04-01 00:00:00', '1995-09-05 00:00:00', '2012-01-31 00:00:00', '1997-03-07 00:00:00', '1995-11-03 00:00:00', '1997-01-16 00:00:00', '2007-08-24 00:00:00', '2008-07-09 00:00:00', '2008-09-10 00:00:00', '2010-06-08 00:00:00', '2001-06-13 00:00:00', '2007-04-23 00:00:00', '2013-06-11 00:00:00', '2006-02-21 00:00:00', '2007-06-01 00:00:00', '2005-09-07 00:00:00', '2011-12-08 00:00:00', '2011-01-14 00:00:00', '2008-08-13 00:00:00', '2004-12-16 00:00:00', '2001-10-10 00:00:00', '2010-07-20 00:00:00', '2011-12-29 00:00:00', '2005-02-11 00:00:00', '1995-09-27 00:00:00', '1997-02-14 00:00:00', '1998-01-13 00:00:00', '2002-10-29 00:00:00', '1998-11-10 00:00:00', '2009-03-07 00:00:00', '2009-07-29 00:00:00', '2000-06-26 00:00:00', '2012-06-25 00:00:00', '1997-07-17 00:00:00', '2013-12-03 00:00:00', '1999-09-29 00:00:00', '2005-02-23 00:00:00', '1998-01-10 00:00:00', '2016-01-06 00:00:00', '2014-12-08 00:00:00', '2001-02-22 00:00:00', '1993-08-17 00:00:00', '2007-06-11 00:00:00', '2009-09-15 00:00:00', '2008-06-09 00:00:00', '2005-01-19 00:00:00', '2015-04-28 00:00:00', '1998-05-25 00:00:00', '2004-11-27 00:00:00', '2014-07-29 00:00:00', '2000-03-07 00:00:00', '2012-09-11 00:00:00', '1999-08-25 00:00:00', '1996-10-01 00:00:00', '2004-09-06 00:00:00', '1997-01-02 00:00:00', '2006-06-22 00:00:00', '1997-01-25 00:00:00', '2014-02-07 00:00:00', '1997-07-16 00:00:00', '2007-07-19 00:00:00', '2004-03-10 00:00:00', '2006-05-19 00:00:00', '2004-05-26 00:00:00', '2007-09-07 00:00:00', '2010-10-20 00:00:00', '1999-01-07 00:00:00', '2013-11-26 00:00:00', '2003-10-11 00:00:00', '2005-06-06 00:00:00', '2006-06-08 00:00:00', '2006-03-05 00:00:00', '2004-07-16 00:00:00', '2004-03-09 00:00:00', '2012-06-21 00:00:00', '1998-04-14 00:00:00', '2009-02-12 00:00:00', '2000-12-05 00:00:00', '2015-04-14 00:00:00', '2015-01-09 00:00:00', '2003-03-26 00:00:00', '2007-03-15 00:00:00', '2001-09-05 00:00:00', '2013-12-05 00:00:00', '2008-04-11 00:00:00', '2006-01-19 00:00:00', '2015-03-20 00:00:00', '2015-10-21 00:00:00', '1999-07-05 00:00:00', '2007-11-07 00:00:00', '2002-07-08 00:00:00', '1998-11-26 00:00:00', '2011-04-14 00:00:00', '2005-10-17 00:00:00', '2001-08-23 00:00:00', '1995-08-11 00:00:00', '1995-05-19 00:00:00', '1999-01-28 00:00:00', '1999-08-05 00:00:00', '2013-01-23 00:00:00', '2005-01-11 00:00:00', '2001-03-28 00:00:00', '1997-11-22 00:00:00', '2012-07-18 00:00:00', '2010-03-10 00:00:00', '2012-12-20 00:00:00', '2016-02-15 00:00:00', '1997-10-01 00:00:00', '2006-09-25 00:00:00', '2003-09-20 00:00:00', '1997-01-03 00:00:00', '1995-10-27 00:00:00', '2015-03-05 00:00:00', '2004-08-18 00:00:00', '2013-03-27 00:00:00', '1998-12-15 00:00:00', '2003-08-19 00:00:00', '2013-04-16 00:00:00', '1993-08-23 00:00:00', '2004-10-31 00:00:00', '2002-02-08 00:00:00', '2002-02-04 00:00:00', '2013-01-10 00:00:00', '1994-09-06 00:00:00', '1994-09-07 00:00:00', '1997-08-13 00:00:00', '1998-07-13 00:00:00', '2003-02-11 00:00:00', '1999-06-23 00:00:00', '1995-09-14 00:00:00', '2014-10-02 00:00:00', '2008-12-02 00:00:00', '2011-04-15 00:00:00', '1993-07-27 00:00:00', '2014-12-18 00:00:00', '2002-11-05 00:00:00', '2007-09-27 00:00:00', '2005-03-23 00:00:00', '1995-10-10 00:00:00', '2004-03-21 00:00:00', '2004-10-15 00:00:00', '2008-12-17 00:00:00', '1993-07-16 00:00:00', '2005-03-19 00:00:00', '2011-06-09 00:00:00', '2013-11-18 00:00:00', '2016-01-20 00:00:00', '2016-04-20 00:00:00', '2015-01-07 00:00:00', '2004-07-07 00:00:00', '2012-08-02 00:00:00', '2002-03-01 00:00:00', '2004-09-14 00:00:00', '2007-02-19 00:00:00', '2011-02-22 00:00:00', '2015-11-17 00:00:00', '2001-01-10 00:00:00', '2012-09-03 00:00:00', '2011-05-10 00:00:00', '2012-01-03 00:00:00', '2008-01-18 00:00:00', '2002-05-24 00:00:00', '1994-05-17 00:00:00', '2015-10-19 00:00:00', '2001-01-08 00:00:00', '2006-08-08 00:00:00', '2004-03-30 00:00:00', '2003-10-18 00:00:00', '2005-06-13 00:00:00', '1996-09-18 00:00:00', '2001-04-17 00:00:00', '1993-06-03 00:00:00', '2004-01-25 00:00:00', '2001-10-31 00:00:00', '2013-06-19 00:00:00', '2003-09-04 00:00:00', '2001-04-04 00:00:00', '2004-10-12 00:00:00', '2003-04-13 00:00:00', '1994-12-22 00:00:00', '1999-06-21 00:00:00', '2010-03-12 00:00:00', '2007-08-22 00:00:00', '2012-11-20 00:00:00', '2007-11-09 00:00:00', '1998-07-07 00:00:00', '1996-01-24 00:00:00', '2009-05-25 00:00:00', '1993-09-21 00:00:00', '1997-02-13 00:00:00', '1997-10-21 00:00:00', '2006-05-24 00:00:00', '2008-04-03 00:00:00', '1993-01-07 00:00:00', '2007-11-13 00:00:00', '2000-09-28 00:00:00', '2011-10-14 00:00:00', '1994-02-23 00:00:00', '2013-12-19 00:00:00', '2001-07-12 00:00:00', '2005-07-01 00:00:00', '2000-05-10 00:00:00', '2015-07-09 00:00:00', '2002-01-29 00:00:00', '2004-06-02 00:00:00', '1997-07-15 00:00:00', '2003-01-14 00:00:00', '2014-02-26 00:00:00', '1994-08-29 00:00:00', '2009-07-17 00:00:00', '2004-08-06 00:00:00', '2007-02-05 00:00:00', '1998-05-12 00:00:00', '2004-06-03 00:00:00', '2014-01-03 00:00:00', '1997-08-27 00:00:00', '2013-09-09 00:00:00', '2009-05-07 00:00:00', '2012-06-06 00:00:00', '1993-07-02 00:00:00', '2006-02-25 00:00:00', '1998-02-26 00:00:00', '2009-04-01 00:00:00', '2005-01-17 00:00:00', '2012-10-03 00:00:00', '1994-06-22 00:00:00', '1993-05-27 00:00:00', '2002-10-14 00:00:00', '2001-08-07 00:00:00', '2010-12-08 00:00:00', '1995-10-30 00:00:00', '2004-09-27 00:00:00', '1999-09-15 00:00:00', '2009-05-08 00:00:00', '1995-03-14 00:00:00', '2004-11-09 00:00:00', '2003-10-27 00:00:00', '2009-03-23 00:00:00', '2002-09-24 00:00:00', '1998-04-09 00:00:00', '2005-09-29 00:00:00', '1995-09-01 00:00:00', '2014-01-09 00:00:00', '2014-12-05 00:00:00', '2009-01-29 00:00:00', '1995-12-08 00:00:00', '2010-01-18 00:00:00', '2013-04-29 00:00:00', '1996-06-27 00:00:00', '2012-12-18 00:00:00', '2009-12-01 00:00:00', '1995-08-16 00:00:00', '2014-06-18 00:00:00', '2013-11-12 00:00:00', '1998-05-13 00:00:00', '2013-09-11 00:00:00', '1995-07-04 00:00:00', '2007-01-20 00:00:00', '2014-10-12 00:00:00', '2004-06-14 00:00:00', '2013-06-17 00:00:00', '1995-06-23 00:00:00', '1996-12-19 00:00:00', '1995-05-24 00:00:00', '1993-05-24 00:00:00', '2003-10-13 00:00:00', '2003-05-14 00:00:00', '2008-03-02 00:00:00', '1998-03-06 00:00:00', '2008-02-06 00:00:00', '2015-03-02 00:00:00', '2012-08-14 00:00:00', '2005-03-11 00:00:00', '2003-03-12 00:00:00', '2008-05-08 00:00:00', '1993-07-07 00:00:00', '1998-10-06 00:00:00', '2010-07-27 00:00:00', '2003-01-13 00:00:00', '1996-06-19 00:00:00', '1998-11-25 00:00:00', '2005-11-25 00:00:00', '2006-12-11 00:00:00', '1999-07-19 00:00:00', '2010-11-30 00:00:00', '2012-12-28 00:00:00', '2013-05-28 00:00:00', '2015-06-11 00:00:00', '2004-12-07 00:00:00', '1998-05-18 00:00:00', '1997-02-12 00:00:00', '2013-09-12 00:00:00', '2008-06-04 00:00:00', '1997-12-17 00:00:00', '2007-12-03 00:00:00', '2003-06-28 00:00:00', '2003-12-11 00:00:00', '2013-04-11 00:00:00', '2013-02-14 00:00:00', '2007-08-14 00:00:00', '2005-07-29 00:00:00', '1999-03-30 00:00:00', '1995-11-14 00:00:00', '1994-09-14 00:00:00', '2006-11-27 00:00:00', '1995-08-02 00:00:00', '2000-06-28 00:00:00', '1998-12-21 00:00:00', '2008-04-09 00:00:00', '1994-02-02 00:00:00', '2009-09-16 00:00:00', '1995-03-21 00:00:00', '2007-01-22 00:00:00', '2010-09-07 00:00:00', '2006-05-15 00:00:00', '2004-03-22 00:00:00', '2004-10-04 00:00:00', '2006-09-22 00:00:00', '2006-08-31 00:00:00', '2015-09-02 00:00:00', '2005-01-26 00:00:00', '1998-07-29 00:00:00', '1996-05-06 00:00:00', '1993-12-08 00:00:00', '2007-01-12 00:00:00', '2001-07-17 00:00:00', '2001-11-08 00:00:00', '1997-11-14 00:00:00', '2010-10-25 00:00:00', '2010-06-14 00:00:00', '1996-12-18 00:00:00', '2006-11-10 00:00:00', '2014-06-23 00:00:00', '2006-05-29 00:00:00', '1995-03-03 00:00:00', '2010-04-15 00:00:00', '2001-05-29 00:00:00', '1998-04-25 00:00:00', '2011-03-04 00:00:00', '2009-01-02 00:00:00', '2005-08-30 00:00:00', '2015-12-14 00:00:00', '2013-07-25 00:00:00', '2001-06-08 00:00:00', '2010-04-09 00:00:00', '2015-09-21 00:00:00', '2010-06-28 00:00:00', '2001-07-04 00:00:00', '2005-08-12 00:00:00', '2005-10-10 00:00:00', '2004-07-29 00:00:00', '1999-10-01 00:00:00', '2011-04-18 00:00:00', '2015-01-14 00:00:00', '2012-10-09 00:00:00', '2006-02-27 00:00:00', '2004-03-14 00:00:00', '2013-04-19 00:00:00', '2008-01-30 00:00:00', '2004-09-21 00:00:00', '1994-10-24 00:00:00', '2015-12-15 00:00:00', '2013-09-27 00:00:00', '1996-11-28 00:00:00', '2003-12-03 00:00:00', '2000-10-30 00:00:00', '2005-10-21 00:00:00', '1994-04-08 00:00:00', '1993-05-25 00:00:00', '2000-03-02 00:00:00', '2001-01-11 00:00:00', '2010-04-14 00:00:00', '2001-05-30 00:00:00', '2013-02-25 00:00:00', '2013-05-21 00:00:00', '1993-10-08 00:00:00', '2000-06-30 00:00:00', '2013-11-04 00:00:00', '1993-02-19 00:00:00', '1995-11-07 00:00:00', '1997-07-29 00:00:00', '2014-02-18 00:00:00', '2010-12-17 00:00:00', '2012-11-13 00:00:00', '2014-09-02 00:00:00', '1994-03-14 00:00:00', '2010-06-09 00:00:00', '2003-10-10 00:00:00', '2001-12-10 00:00:00', '1997-10-13 00:00:00', '2001-01-17 00:00:00', '2010-09-29 00:00:00', '2000-08-24 00:00:00', '1994-07-22 00:00:00', '1994-04-19 00:00:00', '2001-04-26 00:00:00', '1994-01-27 00:00:00', '2014-02-06 00:00:00', '2001-05-07 00:00:00', '1997-10-07 00:00:00', '2001-03-13 00:00:00', '2001-12-04 00:00:00', '1998-01-14 00:00:00', '2010-04-19 00:00:00', '2010-04-29 00:00:00', '1996-01-09 00:00:00', '2003-10-05 00:00:00', '1993-12-10 00:00:00', '2007-10-17 00:00:00', '1994-08-18 00:00:00', '2005-01-10 00:00:00', '2008-11-01 00:00:00', '2013-12-30 00:00:00', '2004-10-22 00:00:00', '2002-04-26 00:00:00', '2000-12-28 00:00:00', '2003-07-27 00:00:00', '1996-12-02 00:00:00', '1993-12-03 00:00:00', '2012-05-07 00:00:00', '2013-01-11 00:00:00', '1996-01-15 00:00:00', '1993-08-24 00:00:00', '1997-06-14 00:00:00', '2013-04-03 00:00:00', '2002-09-25 00:00:00', '2005-08-05 00:00:00', '2007-01-08 00:00:00', '2010-09-02 00:00:00', '2010-03-16 00:00:00', '1998-11-18 00:00:00', '2009-02-27 00:00:00', '2008-06-13 00:00:00', '1994-11-29 00:00:00', '2015-07-14 00:00:00', '1998-04-24 00:00:00', '1995-12-12 00:00:00', '2005-08-18 00:00:00', '1998-12-17 00:00:00', '2012-07-26 00:00:00', '2009-10-08 00:00:00', '2003-05-05 00:00:00', '2009-07-01 00:00:00', '2007-05-23 00:00:00', '2011-05-05 00:00:00', '2010-08-23 00:00:00', '2000-10-09 00:00:00', '2003-02-18 00:00:00', '1995-07-14 00:00:00', '1999-04-21 00:00:00', '2000-06-02 00:00:00', '1994-10-18 00:00:00', '2001-06-25 00:00:00', '1993-02-14 00:00:00', '1996-01-26 00:00:00', '2012-08-08 00:00:00', '1996-10-24 00:00:00', '2004-04-21 00:00:00', '2001-01-30 00:00:00', '2007-08-30 00:00:00', '2005-05-27 00:00:00', '2010-03-30 00:00:00', '1996-05-17 00:00:00', '2001-01-05 00:00:00', '2002-12-17 00:00:00', '1995-08-03 00:00:00', '2002-10-07 00:00:00', '2003-09-05 00:00:00', '2009-06-07 00:00:00', '2004-05-30 00:00:00', '2004-11-30 00:00:00', '1998-11-24 00:00:00', '2008-07-18 00:00:00', '1997-02-24 00:00:00', '1994-05-16 00:00:00', '1993-12-15 00:00:00', '2008-07-22 00:00:00', '2004-06-16 00:00:00', '2008-04-21 00:00:00', '2009-07-03 00:00:00', '2008-10-30 00:00:00', '2008-12-08 00:00:00', '2005-03-24 00:00:00', '2012-04-30 00:00:00', '2004-03-04 00:00:00', '2004-11-08 00:00:00', '2005-10-02 00:00:00', '1999-03-01 00:00:00', '2003-01-02 00:00:00', '2003-06-15 00:00:00', '2010-01-22 00:00:00', '2009-06-19 00:00:00', '2007-03-13 00:00:00', '1996-10-10 00:00:00', '2012-06-05 00:00:00', '2002-08-22 00:00:00', '2012-05-21 00:00:00', '2007-04-01 00:00:00', '2008-12-19 00:00:00', '2003-07-17 00:00:00', '1996-04-26 00:00:00', '1995-08-23 00:00:00', '2008-12-09 00:00:00', '2014-12-16 00:00:00', '1997-03-18 00:00:00', '2003-09-16 00:00:00', '1999-01-05 00:00:00', '2002-07-04 00:00:00', '2001-12-19 00:00:00', '1994-01-11 00:00:00', '2003-03-11 00:00:00', '2010-09-16 00:00:00', '2015-07-10 00:00:00', '2010-08-25 00:00:00', '1996-04-02 00:00:00', '2001-01-16 00:00:00', '2006-10-31 00:00:00', '2013-08-12 00:00:00', '2010-01-11 00:00:00', '2002-01-17 00:00:00', '2006-11-24 00:00:00', '2014-10-30 00:00:00', '1995-10-16 00:00:00', '2003-08-27 00:00:00', '2013-01-19 00:00:00', '2004-12-03 00:00:00', '2007-02-15 00:00:00', '1997-05-26 00:00:00', '1998-12-16 00:00:00', '2007-01-30 00:00:00', '2004-08-04 00:00:00', '2003-07-01 00:00:00', '2011-08-01 00:00:00', '1994-09-09 00:00:00', '1997-05-06 00:00:00', '2003-01-23 00:00:00', '1999-06-24 00:00:00', '2011-04-06 00:00:00', '2012-10-31 00:00:00', '1997-01-31 00:00:00', '2011-07-25 00:00:00', '1997-12-22 00:00:00', '2013-07-30 00:00:00', '2007-09-13 00:00:00', '1995-10-19 00:00:00', '2000-10-12 00:00:00', '1998-08-07 00:00:00', '1997-09-25 00:00:00', '1998-10-09 00:00:00', '1995-12-07 00:00:00', '2009-12-14 00:00:00', '1997-08-08 00:00:00', '2001-10-11 00:00:00', '1993-05-21 00:00:00', '2008-04-02 00:00:00', '2004-03-18 00:00:00', '1997-01-23 00:00:00', '2000-08-09 00:00:00', '2003-03-06 00:00:00', '1993-11-05 00:00:00', '1996-11-04 00:00:00', '2003-04-16 00:00:00', '1999-09-08 00:00:00', '2007-08-20 00:00:00', '2015-05-21 00:00:00', '2004-09-05 00:00:00', '2000-08-11 00:00:00', '2011-11-28 00:00:00', '1997-06-12 00:00:00', '2001-09-19 00:00:00', '2015-11-05 00:00:00', '1993-02-15 00:00:00', '1996-05-08 00:00:00', '2009-11-20 00:00:00', '2001-11-06 00:00:00', '2009-04-06 00:00:00', '2002-03-14 00:00:00', '2004-01-04 00:00:00', '1993-04-26 00:00:00', '1999-08-09 00:00:00', '2003-02-03 00:00:00', '2005-03-28 00:00:00', '1999-01-26 00:00:00', '2006-09-13 00:00:00', '1998-01-15 00:00:00', '1997-05-24 00:00:00', '2007-08-06 00:00:00', '2000-12-01 00:00:00', '2010-12-01 00:00:00', '2007-02-16 00:00:00', '2015-11-12 00:00:00', '1997-01-21 00:00:00', '2003-09-03 00:00:00', '2014-04-02 00:00:00', '2002-02-28 00:00:00', '2003-07-22 00:00:00', '2005-01-29 00:00:00', '2001-01-31 00:00:00', '1993-02-26 00:00:00', '1993-01-19 00:00:00', '2004-05-05 00:00:00', '2005-09-20 00:00:00', '2005-07-27 00:00:00', '2015-12-16 00:00:00', '2008-10-14 00:00:00', '2009-01-27 00:00:00', '2002-04-17 00:00:00', '2009-11-04 00:00:00', '1994-12-16 00:00:00', '2000-04-12 00:00:00', '2004-12-09 00:00:00', '2010-05-05 00:00:00', '2003-06-03 00:00:00', '1997-01-28 00:00:00', '1995-08-01 00:00:00', '1993-09-01 00:00:00', '2014-06-05 00:00:00', '2012-01-05 00:00:00', '1999-05-06 00:00:00', '2002-06-26 00:00:00', '2008-11-18 00:00:00', '2013-02-27 00:00:00', '2010-07-28 00:00:00', '2011-11-07 00:00:00', '2001-05-03 00:00:00', '2006-06-27 00:00:00', '2013-11-11 00:00:00', '1992-12-17 00:00:00', '1998-11-04 00:00:00', '1998-02-12 00:00:00', '2012-05-09 00:00:00', '1995-07-05 00:00:00', '2004-05-27 00:00:00', '1998-07-09 00:00:00', '2001-07-19 00:00:00', '2000-11-13 00:00:00', '1996-10-16 00:00:00', '2015-06-09 00:00:00', '2013-01-16 00:00:00', '1998-10-13 00:00:00', '2012-06-26 00:00:00', '1995-04-11 00:00:00', '2007-09-26 00:00:00', '2004-12-21 00:00:00', '2015-05-06 00:00:00', '2001-07-03 00:00:00', '1997-04-24 00:00:00', '1997-07-30 00:00:00', '2005-09-15 00:00:00', '2002-11-26 00:00:00', '1997-03-17 00:00:00', '2002-10-28 00:00:00', '2013-02-21 00:00:00', '2003-10-31 00:00:00', '2001-10-25 00:00:00', '2010-08-05 00:00:00', '2002-05-17 00:00:00', '2008-12-29 00:00:00', '2005-06-01 00:00:00', '1994-03-24 00:00:00', '2015-03-30 00:00:00', '2005-09-23 00:00:00', '1999-06-08 00:00:00', '1996-03-20 00:00:00', '2003-10-02 00:00:00', '1993-08-25 00:00:00', '1996-04-18 00:00:00', '2006-03-29 00:00:00', '1996-07-09 00:00:00', '1994-05-19 00:00:00', '2008-04-14 00:00:00', '1994-01-20 00:00:00', '2005-03-26 00:00:00', '2003-05-18 00:00:00', '2014-01-21 00:00:00', '2015-02-24 00:00:00', '2006-12-23 00:00:00', '2007-07-27 00:00:00', '1992-12-18 00:00:00', '2015-10-26 00:00:00', '2002-01-04 00:00:00', '2012-12-13 00:00:00', '2002-06-24 00:00:00', '1995-12-06 00:00:00', '1993-03-02 00:00:00', '2008-08-31 00:00:00', '1995-11-22 00:00:00', '2002-02-18 00:00:00', '2007-12-06 00:00:00', '1995-12-27 00:00:00', '1995-01-11 00:00:00', '2012-04-02 00:00:00', '2013-06-26 00:00:00', '2000-09-15 00:00:00', '2011-11-03 00:00:00', '2002-06-11 00:00:00', '2001-08-09 00:00:00', '2014-06-11 00:00:00', '2008-12-28 00:00:00', '2001-03-22 00:00:00', '2003-12-02 00:00:00', '1997-05-10 00:00:00', '1993-04-06 00:00:00', '2014-10-24 00:00:00', '2001-03-07 00:00:00', '2004-10-23 00:00:00', '2002-12-03 00:00:00', '1996-05-22 00:00:00', '2002-05-08 00:00:00', '2000-05-04 00:00:00', '2015-11-04 00:00:00', '1993-08-04 00:00:00', '1999-02-26 00:00:00', '1995-10-31 00:00:00', '2008-12-12 00:00:00', '2008-04-29 00:00:00', '2002-07-22 00:00:00', '2005-05-12 00:00:00', '2006-03-06 00:00:00', '1998-12-11 00:00:00', '1996-03-19 00:00:00', '2007-08-23 00:00:00', '1998-06-03 00:00:00', '2015-09-17 00:00:00', '1993-10-07 00:00:00', '2003-05-22 00:00:00', '1999-04-22 00:00:00', '1996-01-05 00:00:00', '1994-03-25 00:00:00', '2009-10-15 00:00:00', '2008-03-04 00:00:00', '2009-12-19 00:00:00', '2004-04-20 00:00:00', '2000-05-16 00:00:00', '2014-05-20 00:00:00', '2010-10-01 00:00:00', '1995-02-02 00:00:00', '1997-11-25 00:00:00', '1994-05-05 00:00:00', '2011-05-11 00:00:00', '1999-09-28 00:00:00', '1996-01-29 00:00:00', '1994-04-21 00:00:00', '2005-06-21 00:00:00', '1998-10-20 00:00:00', '2001-05-08 00:00:00', '2007-05-31 00:00:00', '2004-08-12 00:00:00', '2005-09-25 00:00:00', '1996-02-19 00:00:00', '2011-01-19 00:00:00', '2001-12-03 00:00:00', '2001-01-09 00:00:00', '2005-01-14 00:00:00', '2010-06-02 00:00:00', '2013-09-18 00:00:00', '2008-03-05 00:00:00', '2011-03-31 00:00:00', '2001-10-16 00:00:00', '2000-02-23 00:00:00', '1996-01-16 00:00:00', '2011-11-29 00:00:00', '1995-07-25 00:00:00', '2003-07-28 00:00:00', '2007-04-25 00:00:00', '1993-11-26 00:00:00', '2008-03-03 00:00:00', '2011-06-06 00:00:00', '2015-04-30 00:00:00', '2003-11-02 00:00:00', '2001-06-11 00:00:00', '2001-09-13 00:00:00', '2007-07-12 00:00:00', '2004-01-27 00:00:00', '2006-08-20 00:00:00', '2012-08-05 00:00:00', '2002-09-02 00:00:00', '2007-07-23 00:00:00', '1994-04-06 00:00:00', '2014-11-13 00:00:00', '2002-07-29 00:00:00', '2011-05-23 00:00:00', '2014-07-25 00:00:00', '1996-01-18 00:00:00', '2004-10-05 00:00:00', '2008-05-20 00:00:00', '2000-08-16 00:00:00', '2008-09-24 00:00:00', '1993-09-15 00:00:00', '1999-11-11 00:00:00', '1996-07-17 00:00:00', '2012-06-01 00:00:00', '2005-07-07 00:00:00', '1997-12-11 00:00:00', '2001-05-14 00:00:00', '1996-06-28 00:00:00', '2012-08-16 00:00:00', '2014-02-28 00:00:00', '1998-01-17 00:00:00', '1995-06-21 00:00:00', '2015-09-25 00:00:00', '1998-08-31 00:00:00', '2011-06-24 00:00:00', '1999-05-25 00:00:00', '2008-05-21 00:00:00', '2007-03-16 00:00:00', '1996-06-25 00:00:00', '2000-11-27 00:00:00', '1993-05-19 00:00:00', '2008-08-02 00:00:00', '1996-07-05 00:00:00', '2000-04-05 00:00:00', '2012-05-08 00:00:00', '2003-08-11 00:00:00', '1998-02-13 00:00:00', '1994-03-21 00:00:00', '2010-08-20 00:00:00', '1998-08-19 00:00:00', '2014-09-12 00:00:00', '1997-09-29 00:00:00', '2005-08-17 00:00:00', '2006-04-10 00:00:00', '1996-11-15 00:00:00', '2015-01-27 00:00:00', '1997-01-09 00:00:00', '2009-04-02 00:00:00', '2009-06-09 00:00:00', '2005-03-31 00:00:00', '1997-09-15 00:00:00', '2007-01-29 00:00:00', '2008-07-11 00:00:00', '2002-05-31 00:00:00', '1995-03-20 00:00:00', '2001-04-03 00:00:00', '2000-05-26 00:00:00', '1996-10-02 00:00:00', '1994-05-18 00:00:00', '2008-02-01 00:00:00', '2005-04-25 00:00:00', '2003-02-05 00:00:00', '2007-02-20 00:00:00', '2010-07-15 00:00:00', '2000-10-06 00:00:00', '2000-07-05 00:00:00', '2003-09-10 00:00:00', '2014-02-17 00:00:00', '2014-08-22 00:00:00', '1997-10-23 00:00:00', '1997-08-01 00:00:00', '2005-08-08 00:00:00', '1999-03-15 00:00:00', '2014-09-23 00:00:00', '1994-03-02 00:00:00', '2009-10-01 00:00:00', '1997-04-18 00:00:00', '2015-06-25 00:00:00', '2007-04-17 00:00:00', '2013-01-13 00:00:00', '2005-01-28 00:00:00', '2007-07-29 00:00:00', '1998-09-30 00:00:00', '2003-04-27 00:00:00', '2002-01-14 00:00:00', '2006-11-03 00:00:00', '1995-03-24 00:00:00', '2011-02-25 00:00:00', '2012-04-25 00:00:00', '2006-05-23 00:00:00', '2012-07-01 00:00:00', '2014-09-29 00:00:00', '2012-08-31 00:00:00', '2006-05-08 00:00:00', '2008-06-30 00:00:00', '2013-06-05 00:00:00', '2005-12-19 00:00:00', '2016-03-10 00:00:00', '1997-02-28 00:00:00', '2005-11-01 00:00:00', '1997-09-22 00:00:00', '2012-05-18 00:00:00', '2009-09-13 00:00:00', '2008-06-19 00:00:00', '2015-07-15 00:00:00', '2014-10-06 00:00:00', '2014-03-24 00:00:00', '2010-10-29 00:00:00', '2008-12-30 00:00:00', '2000-02-18 00:00:00', '1999-09-22 00:00:00', '1997-10-06 00:00:00', '1998-05-20 00:00:00', '2000-10-23 00:00:00', '2002-03-28 00:00:00', '2004-02-02 00:00:00', '1997-12-23 00:00:00', '1995-09-25 00:00:00', '1996-04-23 00:00:00', '2012-03-30 00:00:00', '2003-06-26 00:00:00', '2012-05-10 00:00:00', '1993-01-27 00:00:00', '2015-11-19 00:00:00', '2009-08-19 00:00:00', '1998-01-03 00:00:00', '1995-03-31 00:00:00', '2010-05-06 00:00:00', '2006-06-07 00:00:00', '2009-04-05 00:00:00', '2013-04-09 00:00:00', '1998-02-04 00:00:00', '2004-05-06 00:00:00', '2009-12-08 00:00:00', '1995-11-30 00:00:00', '2008-02-25 00:00:00', '2008-08-14 00:00:00', '2014-09-17 00:00:00', '2016-01-11 00:00:00', '2013-07-11 00:00:00', '1993-01-26 00:00:00', '2004-07-27 00:00:00', '2003-07-31 00:00:00', '2006-01-05 00:00:00', '2003-08-16 00:00:00', '2005-02-07 00:00:00', '2012-10-25 00:00:00', '2009-09-22 00:00:00', '1996-06-05 00:00:00', '1993-07-15 00:00:00', '2001-12-28 00:00:00', '2003-05-28 00:00:00', '2003-01-08 00:00:00', '1996-04-19 00:00:00', '1993-05-10 00:00:00', '1996-02-12 00:00:00', '2013-10-14 00:00:00', '2008-03-28 00:00:00', '1998-08-24 00:00:00', '1998-03-12 00:00:00', '2001-06-28 00:00:00', '1997-11-27 00:00:00', '2015-08-28 00:00:00', '2003-08-29 00:00:00', '1995-09-26 00:00:00', '2000-12-29 00:00:00', '2011-04-29 00:00:00', '1999-07-07 00:00:00', '1999-03-03 00:00:00', '1998-04-06 00:00:00', '2002-08-07 00:00:00', '2015-08-21 00:00:00', '1996-01-08 00:00:00', '2010-04-30 00:00:00', '2001-09-03 00:00:00', '2003-08-14 00:00:00', '2005-12-14 00:00:00', '2008-09-04 00:00:00', '2002-02-15 00:00:00', '2004-11-10 00:00:00', '1995-06-19 00:00:00', '2008-06-15 00:00:00', '2010-07-06 00:00:00', '1998-09-10 00:00:00', '2007-12-10 00:00:00', '2015-05-31 00:00:00', '1998-12-03 00:00:00', '2011-01-20 00:00:00', '1994-02-08 00:00:00', '1995-08-22 00:00:00', '1998-07-08 00:00:00', '2015-05-19 00:00:00', '2013-12-06 00:00:00', '2008-03-06 00:00:00', '1999-08-12 00:00:00', '1996-11-06 00:00:00', '2012-09-20 00:00:00', '2000-03-23 00:00:00', '1994-06-24 00:00:00', '2016-01-22 00:00:00', '2015-09-14 00:00:00', '2009-09-17 00:00:00', '2003-07-06 00:00:00', '1995-10-02 00:00:00', '2006-12-19 00:00:00', '2016-05-02 00:00:00', '2002-09-09 00:00:00', '2015-11-30 00:00:00', '1998-03-05 00:00:00', '2009-04-27 00:00:00', '1994-08-02 00:00:00', '2000-10-05 00:00:00', '2008-03-31 00:00:00', '1993-11-19 00:00:00', '1999-06-29 00:00:00', '2001-03-16 00:00:00', '2008-04-25 00:00:00', '2005-04-18 00:00:00', '1993-11-08 00:00:00', '2005-12-27 00:00:00', '1996-07-26 00:00:00', '1998-12-23 00:00:00', '2014-03-06 00:00:00', '2002-01-31 00:00:00', '2005-01-31 00:00:00', '2000-11-09 00:00:00', '2001-03-26 00:00:00', '1999-06-04 00:00:00', '2005-08-11 00:00:00', '1994-10-05 00:00:00', '1997-03-12 00:00:00', '2007-06-07 00:00:00', '1998-12-28 00:00:00', '1994-08-26 00:00:00', '1997-06-10 00:00:00', '2003-04-11 00:00:00', '2004-02-10 00:00:00', '1994-06-08 00:00:00', '2000-10-04 00:00:00', '2005-02-28 00:00:00', '2003-07-08 00:00:00', '2013-01-09 00:00:00', '1996-02-09 00:00:00', '1998-05-23 00:00:00', '2006-08-26 00:00:00', '2006-08-09 00:00:00', '1995-08-17 00:00:00', '2012-11-06 00:00:00', '2005-09-22 00:00:00', '2007-08-13 00:00:00', '2010-11-18 00:00:00', '2001-03-21 00:00:00', '1999-04-08 00:00:00', '1998-01-06 00:00:00', '2006-12-07 00:00:00', '2015-11-27 00:00:00', '2004-01-17 00:00:00', '1999-07-22 00:00:00', '2009-07-14 00:00:00', '2002-10-04 00:00:00', '2003-11-17 00:00:00', '2001-03-09 00:00:00', '1999-06-14 00:00:00', '2005-05-19 00:00:00', '2007-06-19 00:00:00', '1997-06-28 00:00:00', '2002-06-04 00:00:00', '2002-09-03 00:00:00', '1993-03-03 00:00:00', '2004-07-15 00:00:00', '1998-09-04 00:00:00', '2014-09-01 00:00:00', '2000-07-26 00:00:00', '1998-09-07 00:00:00', '1994-05-27 00:00:00', '2012-11-21 00:00:00', '1999-01-14 00:00:00', '1997-08-18 00:00:00', '2009-12-09 00:00:00', '2005-05-25 00:00:00', '1993-09-27 00:00:00', '2011-10-11 00:00:00', '2015-12-03 00:00:00', '2010-04-22 00:00:00', '2012-06-11 00:00:00', '2014-01-20 00:00:00', '2005-08-22 00:00:00', '2007-05-20 00:00:00', '2014-11-03 00:00:00', '2012-11-19 00:00:00', '2011-02-11 00:00:00', '2008-01-28 00:00:00', '2000-07-12 00:00:00', '2006-12-18 00:00:00', '2009-07-08 00:00:00', '1996-03-29 00:00:00', '1997-05-23 00:00:00', '1995-11-24 00:00:00', '2004-02-05 00:00:00', '2008-06-26 00:00:00', '2004-11-03 00:00:00', '2012-07-19 00:00:00', '1998-11-28 00:00:00', '2015-08-20 00:00:00', '1996-10-21 00:00:00', '2014-04-17 00:00:00', '2011-10-26 00:00:00', '2013-08-21 00:00:00', '1995-10-04 00:00:00', '2002-07-11 00:00:00', '2007-05-17 00:00:00', '2015-07-20 00:00:00', '2004-07-06 00:00:00', '1996-12-03 00:00:00', '1995-09-21 00:00:00', '2013-03-08 00:00:00', '2014-05-06 00:00:00', '2000-08-18 00:00:00', '2002-07-03 00:00:00', '2013-12-23 00:00:00', '2015-05-05 00:00:00', '1997-02-06 00:00:00', '2004-07-14 00:00:00', '2000-04-13 00:00:00', '1999-01-21 00:00:00', '2000-12-04 00:00:00', '2004-08-25 00:00:00', '2012-07-29 00:00:00', '1997-01-27 00:00:00', '1998-09-21 00:00:00', '2011-05-12 00:00:00', '1998-01-12 00:00:00', '1994-09-05 00:00:00', '2000-02-17 00:00:00', '1996-07-22 00:00:00', '1994-11-28 00:00:00', '2005-04-12 00:00:00', '2010-02-01 00:00:00', '1998-10-31 00:00:00', '2014-10-21 00:00:00', '1993-06-30 00:00:00', '2014-11-25 00:00:00', '2003-09-08 00:00:00', '2003-01-17 00:00:00', '2006-10-09 00:00:00', '1995-05-12 00:00:00', '2007-04-19 00:00:00', '2009-08-20 00:00:00', '2001-09-11 00:00:00', '2000-05-29 00:00:00', '2014-05-14 00:00:00', '2005-04-13 00:00:00', '2011-09-28 00:00:00', '1997-11-12 00:00:00', '2000-03-10 00:00:00', '2009-07-15 00:00:00', '2006-02-23 00:00:00', '1994-03-29 00:00:00', '1997-12-18 00:00:00', '2005-10-06 00:00:00', '2008-12-18 00:00:00', '1995-06-08 00:00:00', '2009-12-02 00:00:00', '2009-03-25 00:00:00', '2009-03-04 00:00:00', '2008-08-19 00:00:00', '1999-05-17 00:00:00', '2005-09-03 00:00:00', '2004-10-21 00:00:00', '2008-10-01 00:00:00', '2006-07-18 00:00:00', '2001-02-12 00:00:00', '1996-07-29 00:00:00', '2012-05-11 00:00:00', '2000-04-19 00:00:00', '2007-11-01 00:00:00', '2009-06-30 00:00:00', '2008-07-17 00:00:00', '2003-06-22 00:00:00', '2008-10-13 00:00:00', '2014-02-13 00:00:00', '1999-01-20 00:00:00', '2007-03-14 00:00:00', '2001-05-25 00:00:00', '2001-04-18 00:00:00', '2005-01-30 00:00:00', '2008-05-29 00:00:00', '1998-12-04 00:00:00', '1995-08-29 00:00:00', '1998-11-30 00:00:00', '2009-05-04 00:00:00', '2009-04-24 00:00:00', '2013-07-10 00:00:00', '2004-08-29 00:00:00', '2002-03-22 00:00:00', '2009-02-20 00:00:00', '1994-07-14 00:00:00', '2013-07-23 00:00:00', '1998-10-26 00:00:00', '1998-07-23 00:00:00', '2009-02-11 00:00:00', '2001-04-25 00:00:00', '2012-09-27 00:00:00', '2014-07-17 00:00:00', '1996-05-21 00:00:00', '1994-10-25 00:00:00', '2011-12-01 00:00:00', '1998-07-21 00:00:00', '2010-07-01 00:00:00', '2012-11-16 00:00:00', '2005-06-24 00:00:00', '2013-10-23 00:00:00', '2006-06-10 00:00:00', '1993-04-05 00:00:00', '2007-06-04 00:00:00', '2002-03-07 00:00:00', '2004-07-05 00:00:00', '2016-02-10 00:00:00', '1995-01-24 00:00:00', '2012-02-29 00:00:00', '2011-01-10 00:00:00', '2010-09-30 00:00:00', '2008-02-15 00:00:00', '2010-03-11 00:00:00', '1993-12-28 00:00:00', '2006-04-11 00:00:00', '1998-01-28 00:00:00', '1998-04-15 00:00:00', '2014-08-29 00:00:00', '1993-11-04 00:00:00', '2013-06-04 00:00:00', '1999-02-24 00:00:00', '2010-04-27 00:00:00', '1998-03-16 00:00:00', '2007-02-08 00:00:00', '2005-12-23 00:00:00', '2003-08-26 00:00:00', '2000-12-22 00:00:00', '1998-08-06 00:00:00', '2015-01-12 00:00:00', '2013-04-10 00:00:00', '2000-07-03 00:00:00', '2012-08-09 00:00:00', '2007-08-19 00:00:00', '1997-01-11 00:00:00', '2013-05-06 00:00:00', '2008-01-17 00:00:00', '1994-03-10 00:00:00', '2005-09-21 00:00:00', '2015-09-10 00:00:00', '2004-01-08 00:00:00', '2001-01-02 00:00:00', '2012-08-21 00:00:00', '2006-03-03 00:00:00', '1999-07-23 00:00:00', '2006-08-21 00:00:00', '1995-02-10 00:00:00', '2011-08-21 00:00:00', '2015-09-15 00:00:00', '2003-09-27 00:00:00', '2010-07-21 00:00:00', '2012-09-10 00:00:00', '2002-01-11 00:00:00', '2015-11-06 00:00:00', '2007-12-04 00:00:00', '2009-11-27 00:00:00', '2001-11-05 00:00:00', '1995-06-29 00:00:00', '2013-07-26 00:00:00', '2001-11-16 00:00:00', '2000-09-22 00:00:00', '1993-08-31 00:00:00', '1996-05-23 00:00:00', '2012-09-28 00:00:00', '1996-03-07 00:00:00', '2006-06-01 00:00:00', '2007-06-27 00:00:00', '1998-07-16 00:00:00', '2016-03-22 00:00:00', '1995-10-26 00:00:00', '2016-03-02 00:00:00', '2005-07-04 00:00:00', '2005-06-29 00:00:00', '2011-03-25 00:00:00', '2004-01-15 00:00:00', '1993-02-18 00:00:00', '2000-07-11 00:00:00', '2013-03-14 00:00:00', '2013-06-03 00:00:00', '2016-02-12 00:00:00', '2003-02-13 00:00:00', '2011-03-09 00:00:00', '2001-07-26 00:00:00', '2003-07-11 00:00:00', '1994-05-20 00:00:00', '2004-01-21 00:00:00', '2005-07-06 00:00:00', '2006-04-18 00:00:00', '2011-07-04 00:00:00', '2010-09-17 00:00:00', '2009-09-03 00:00:00', '2006-05-10 00:00:00', '2008-08-01 00:00:00', '1999-05-26 00:00:00', '2004-04-08 00:00:00', '2005-08-26 00:00:00', '2004-02-04 00:00:00', '2005-10-26 00:00:00', '2013-09-17 00:00:00', '2010-07-14 00:00:00', '2000-10-25 00:00:00', '2011-11-05 00:00:00', '1995-03-10 00:00:00', '2004-03-07 00:00:00', '2005-08-24 00:00:00', '2016-02-08 00:00:00', '2004-06-11 00:00:00', '2002-03-08 00:00:00', '2003-12-31 00:00:00', '1994-01-14 00:00:00', '2006-09-28 00:00:00', '1997-07-22 00:00:00', '2006-12-08 00:00:00', '2012-03-28 00:00:00', '2005-12-05 00:00:00', '2015-02-12 00:00:00', '1996-12-30 00:00:00', '2005-07-03 00:00:00', '2015-11-09 00:00:00', '1994-04-25 00:00:00', '1994-01-21 00:00:00', '2013-01-28 00:00:00', '2001-06-05 00:00:00', '2006-01-18 00:00:00', '2001-04-11 00:00:00', '2013-04-02 00:00:00', '2008-06-08 00:00:00', '2007-04-20 00:00:00', '2000-11-14 00:00:00', '2006-08-07 00:00:00', '1996-07-24 00:00:00', '2003-05-02 00:00:00', '2010-07-26 00:00:00', '2003-08-02 00:00:00', '1993-03-01 00:00:00', '2000-10-16 00:00:00', '2013-06-10 00:00:00', '2006-03-18 00:00:00', '2013-11-29 00:00:00', '2004-05-04 00:00:00', '2014-08-28 00:00:00', '1994-07-20 00:00:00', '2016-02-04 00:00:00', '2016-02-02 00:00:00', '2010-08-01 00:00:00', '2014-08-11 00:00:00', '2004-01-02 00:00:00', '1996-11-14 00:00:00', '2010-04-21 00:00:00', '1996-04-17 00:00:00', '1997-07-14 00:00:00', '2008-08-08 00:00:00', '2003-12-15 00:00:00', '2013-03-05 00:00:00', '1994-07-29 00:00:00', '1995-06-28 00:00:00', '2004-11-12 00:00:00', '2008-05-19 00:00:00', '2001-05-09 00:00:00', '2000-09-25 00:00:00', '1994-05-04 00:00:00', '1994-01-03 00:00:00', '2001-08-17 00:00:00', '2005-05-23 00:00:00', '2009-05-06 00:00:00', '1993-03-19 00:00:00', '2003-02-21 00:00:00', '1994-08-04 00:00:00', '1995-11-23 00:00:00', '2003-10-28 00:00:00', '1999-01-06 00:00:00', '2015-07-22 00:00:00', '2003-10-26 00:00:00', '1997-10-02 00:00:00', '2007-03-22 00:00:00', '1999-07-08 00:00:00', '1998-03-25 00:00:00', '2015-02-26 00:00:00', '1998-03-23 00:00:00', '2015-10-12 00:00:00', '2009-11-24 00:00:00', '2015-10-09 00:00:00', '1993-07-09 00:00:00', '1996-03-13 00:00:00', '2006-05-14 00:00:00', '2007-11-28 00:00:00', '2015-08-18 00:00:00', '2006-12-31 00:00:00', '1992-12-23 00:00:00', '1994-05-10 00:00:00', '2003-03-04 00:00:00', '1994-05-30 00:00:00', '2007-02-22 00:00:00', '2015-01-15 00:00:00', '2000-09-06 00:00:00', '1998-08-03 00:00:00', '1999-11-19 00:00:00', '1996-07-31 00:00:00', '2014-07-02 00:00:00', '2001-04-05 00:00:00', '2004-04-06 00:00:00', '1997-03-19 00:00:00', '2003-11-09 00:00:00', '2003-07-30 00:00:00', '1999-12-15 00:00:00', '2006-10-11 00:00:00', '1996-10-29 00:00:00', '2001-10-12 00:00:00', '2007-07-26 00:00:00', '2001-02-27 00:00:00', '2011-05-03 00:00:00', '1996-12-07 00:00:00', '2011-07-01 00:00:00', '2002-10-02 00:00:00', '1997-12-03 00:00:00', '1998-10-02 00:00:00', '2005-04-14 00:00:00', '2005-03-22 00:00:00', '2007-05-16 00:00:00', '2000-03-24 00:00:00', '2005-11-18 00:00:00', '2008-09-01 00:00:00', '1999-05-20 00:00:00', '1997-08-07 00:00:00', '2003-08-25 00:00:00', '2001-07-30 00:00:00', '2015-12-01 00:00:00', '2005-12-30 00:00:00', '1995-09-12 00:00:00', '2003-11-30 00:00:00', '2008-11-26 00:00:00', '2013-04-24 00:00:00', '2008-09-19 00:00:00', '2012-01-27 00:00:00', '2006-01-09 00:00:00', '2006-05-02 00:00:00', '1996-06-13 00:00:00', '2003-04-25 00:00:00', '2011-02-18 00:00:00', '2015-04-20 00:00:00', '2006-05-05 00:00:00', '2002-05-10 00:00:00', '2001-12-21 00:00:00', '2005-05-02 00:00:00', '2002-08-13 00:00:00', '1999-07-12 00:00:00', '2002-06-25 00:00:00', '2001-09-21 00:00:00', '2014-04-03 00:00:00', '1997-07-10 00:00:00', '1998-01-05 00:00:00', '2004-08-22 00:00:00', '2010-02-23 00:00:00', '2013-10-24 00:00:00', '2005-11-03 00:00:00', '2003-06-20 00:00:00', '2008-09-09 00:00:00', '1994-05-25 00:00:00', '2014-12-10 00:00:00', '2001-09-27 00:00:00', '2011-08-17 00:00:00', '2002-02-07 00:00:00', '1995-08-28 00:00:00', '2000-09-26 00:00:00', '2011-11-16 00:00:00', '1997-03-05 00:00:00', '2002-10-15 00:00:00', '2000-06-23 00:00:00', '1997-04-03 00:00:00', '2012-01-25 00:00:00', '2002-10-11 00:00:00', '2011-07-05 00:00:00', '2004-03-26 00:00:00', '2012-04-23 00:00:00', '2000-09-12 00:00:00', '2003-05-23 00:00:00', '1999-06-28 00:00:00', '2004-06-19 00:00:00', '1998-01-19 00:00:00', '1996-05-14 00:00:00', '2006-06-29 00:00:00', '1997-06-27 00:00:00', '2007-05-08 00:00:00', '2006-06-18 00:00:00', '2009-10-06 00:00:00', '2005-02-17 00:00:00', '2009-05-22 00:00:00', '2003-08-17 00:00:00', '2013-09-04 00:00:00', '2003-03-10 00:00:00', '2015-08-10 00:00:00', '1996-07-18 00:00:00', '1998-03-13 00:00:00', '2007-03-21 00:00:00', '2005-11-23 00:00:00', '2009-04-11 00:00:00', '2014-04-29 00:00:00', '2004-05-29 00:00:00', '2001-02-13 00:00:00', '1993-12-27 00:00:00', '1999-03-18 00:00:00', '1996-08-13 00:00:00', '2011-01-26 00:00:00', '2005-12-13 00:00:00', '2015-02-17 00:00:00', '2001-10-29 00:00:00', '1993-05-18 00:00:00', '2010-06-22 00:00:00', '2000-11-03 00:00:00', '2001-07-18 00:00:00', '2007-11-08 00:00:00', '1999-06-30 00:00:00', '2013-11-25 00:00:00', '1996-08-12 00:00:00', '2001-04-09 00:00:00', '1994-06-01 00:00:00', '1997-08-22 00:00:00', '2010-01-14 00:00:00', '1995-02-03 00:00:00', '2006-04-13 00:00:00', '2007-06-12 00:00:00', '2010-05-12 00:00:00', '1997-01-24 00:00:00', '2008-03-07 00:00:00', '2014-06-13 00:00:00', '2008-08-12 00:00:00', '1993-08-10 00:00:00', '2006-02-20 00:00:00', '2014-06-06 00:00:00', '1996-01-12 00:00:00', '1998-08-20 00:00:00', '2003-01-20 00:00:00', '2006-01-06 00:00:00', '2011-08-24 00:00:00', '2012-12-05 00:00:00', '2007-01-25 00:00:00', '1993-02-02 00:00:00', '1996-07-06 00:00:00', '2003-06-02 00:00:00', '2006-09-09 00:00:00', '2012-12-17 00:00:00', '2006-02-02 00:00:00', '2013-12-20 00:00:00', '1999-02-22 00:00:00', '1997-04-08 00:00:00', '2013-09-05 00:00:00', '2006-10-30 00:00:00', '2006-05-04 00:00:00', '2005-02-16 00:00:00', '2012-07-30 00:00:00', '2010-11-16 00:00:00', '2004-08-02 00:00:00', '2007-08-07 00:00:00', '1997-04-10 00:00:00', '2007-06-22 00:00:00', '1996-02-20 00:00:00', '2001-02-09 00:00:00', '2004-06-08 00:00:00', '2003-12-10 00:00:00', '2014-04-22 00:00:00', '2002-03-13 00:00:00', '2009-07-10 00:00:00', '2001-04-12 00:00:00', '2002-09-17 00:00:00', '2006-08-17 00:00:00', '2016-02-18 00:00:00', '2006-11-22 00:00:00', '2006-01-31 00:00:00', '2004-08-03 00:00:00', '2007-06-14 00:00:00', '2006-03-15 00:00:00', '2013-07-29 00:00:00', '2003-10-14 00:00:00', '2014-06-16 00:00:00', '2003-04-15 00:00:00', '2014-06-26 00:00:00', '2009-09-20 00:00:00', '2006-03-01 00:00:00', '1997-07-25 00:00:00', '1995-07-17 00:00:00', '2014-02-24 00:00:00', '1998-10-07 00:00:00', '2012-09-17 00:00:00', '2007-02-27 00:00:00', '1999-07-29 00:00:00', '1996-10-30 00:00:00', '1995-09-11 00:00:00', '2007-12-21 00:00:00', '1998-01-26 00:00:00', '1995-09-08 00:00:00', '2013-10-22 00:00:00', '2006-02-06 00:00:00', '2013-03-22 00:00:00', '1993-06-28 00:00:00', '2004-02-11 00:00:00', '2014-06-20 00:00:00', '2009-02-03 00:00:00', '1999-02-10 00:00:00', '2009-03-12 00:00:00', '2000-12-12 00:00:00', '2002-07-31 00:00:00', '1996-08-14 00:00:00', '2000-08-15 00:00:00', '2003-11-13 00:00:00', '1995-07-28 00:00:00', '1998-01-02 00:00:00', '2012-01-11 00:00:00', '2004-11-29 00:00:00', '2008-09-30 00:00:00', '1998-08-25 00:00:00', '2004-06-17 00:00:00', '2001-01-12 00:00:00', '2003-09-12 00:00:00', '2012-02-07 00:00:00', '2006-04-21 00:00:00', '2005-05-31 00:00:00', '2013-07-22 00:00:00', '1999-02-05 00:00:00', '1997-09-23 00:00:00', '2004-10-24 00:00:00', '2015-10-27 00:00:00', '2001-10-04 00:00:00', '2002-01-30 00:00:00', '1995-01-10 00:00:00', '2004-09-11 00:00:00', '2014-05-05 00:00:00', '2005-05-24 00:00:00', '1999-10-22 00:00:00', '1996-02-28 00:00:00', '2003-08-12 00:00:00', '2002-08-09 00:00:00', '1997-04-01 00:00:00', '1995-11-17 00:00:00', '2012-08-22 00:00:00', '1993-04-01 00:00:00', '2006-09-04 00:00:00', '2015-10-07 00:00:00', '2013-10-31 00:00:00', '2015-07-02 00:00:00', '2003-05-19 00:00:00', '2003-01-27 00:00:00', '2002-03-25 00:00:00', '2002-12-04 00:00:00', '2005-03-16 00:00:00', '2012-01-10 00:00:00', '1996-10-11 00:00:00', '1996-03-21 00:00:00', '1999-04-07 00:00:00', '2011-05-20 00:00:00', '2015-08-19 00:00:00', '2014-09-10 00:00:00', '1998-01-07 00:00:00', '2014-10-16 00:00:00', '1998-12-14 00:00:00', '2001-06-01 00:00:00', '2015-06-08 00:00:00', '2009-03-05 00:00:00', '2000-04-06 00:00:00', '2003-03-27 00:00:00', '2006-03-08 00:00:00', '2008-01-21 00:00:00', '2016-04-01 00:00:00', '2013-03-19 00:00:00', '1998-09-16 00:00:00', '2000-09-05 00:00:00', '2008-11-27 00:00:00', '2013-08-15 00:00:00', '2009-03-18 00:00:00', '2003-06-10 00:00:00', '2005-02-15 00:00:00', '1998-04-27 00:00:00', '2006-05-11 00:00:00', '2009-12-11 00:00:00', '1997-02-17 00:00:00', '2014-04-14 00:00:00', '1993-03-23 00:00:00', '2004-12-19 00:00:00', '1997-10-10 00:00:00', '1995-11-13 00:00:00', '1995-01-25 00:00:00', '2014-09-08 00:00:00', '2012-10-04 00:00:00', '2006-11-29 00:00:00', '2004-06-05 00:00:00', '2015-03-13 00:00:00', '2006-06-20 00:00:00', '2013-07-01 00:00:00', '1993-08-02 00:00:00', '1999-01-13 00:00:00', '1997-06-06 00:00:00', '1994-02-21 00:00:00', '2014-01-07 00:00:00', '2004-04-26 00:00:00', '2007-11-29 00:00:00', '2013-05-31 00:00:00', '2004-07-02 00:00:00', '2014-09-24 00:00:00', '2010-12-09 00:00:00', '1997-08-06 00:00:00', '2008-01-29 00:00:00', '1994-02-24 00:00:00', '2014-02-27 00:00:00', '2010-06-07 00:00:00', '2002-12-10 00:00:00', '2011-02-16 00:00:00', '2013-01-03 00:00:00', '2007-11-22 00:00:00', '2004-02-22 00:00:00', '2008-07-02 00:00:00', '2005-10-05 00:00:00', '1996-06-20 00:00:00', '2008-02-29 00:00:00', '1998-12-02 00:00:00', '2004-09-28 00:00:00', '2005-12-11 00:00:00', '2015-12-24 00:00:00', '2007-05-18 00:00:00', '2009-04-04 00:00:00', '2003-12-14 00:00:00', '2005-03-03 00:00:00', '2012-08-01 00:00:00', '2001-12-17 00:00:00', '2013-01-29 00:00:00', '2002-02-27 00:00:00', '2005-12-12 00:00:00', '2003-12-04 00:00:00', '1997-01-15 00:00:00', '2012-10-18 00:00:00', '2009-01-21 00:00:00', '2009-07-22 00:00:00', '2014-06-25 00:00:00', '2015-03-19 00:00:00', '2012-01-06 00:00:00', '1996-04-24 00:00:00', '2012-05-16 00:00:00', '1994-06-03 00:00:00', '2007-06-24 00:00:00', '1998-11-17 00:00:00', '2003-08-09 00:00:00', '2005-10-11 00:00:00', '2000-05-02 00:00:00', '2000-07-04 00:00:00', '2013-03-28 00:00:00', '2010-10-18 00:00:00', '2007-10-09 00:00:00', '2001-06-29 00:00:00', '2002-02-13 00:00:00', '2015-07-08 00:00:00', '1994-07-28 00:00:00', '2009-02-26 00:00:00', '2002-04-02 00:00:00', '2005-03-18 00:00:00', '2004-02-07 00:00:00', '2002-01-07 00:00:00', '1997-06-13 00:00:00', '2012-11-23 00:00:00', '2000-03-08 00:00:00', '2006-07-14 00:00:00', '2008-08-07 00:00:00', '1996-10-25 00:00:00', '2006-12-01 00:00:00', '1999-09-20 00:00:00', '2009-09-28 00:00:00', '2008-11-13 00:00:00', '2014-05-16 00:00:00', '1997-12-19 00:00:00', '2013-07-12 00:00:00', '2006-11-21 00:00:00', '2012-01-13 00:00:00', '2009-05-12 00:00:00', '2004-09-07 00:00:00', '2001-01-22 00:00:00', '1995-08-18 00:00:00', '2016-01-05 00:00:00', '2013-11-08 00:00:00', '2004-05-10 00:00:00', '2009-06-24 00:00:00', '2000-04-10 00:00:00', '2012-04-20 00:00:00', '2014-05-08 00:00:00', '1998-09-08 00:00:00', '2006-12-20 00:00:00', '2012-02-20 00:00:00', '2006-04-12 00:00:00', '1995-08-15 00:00:00', '2004-01-18 00:00:00', '2003-08-22 00:00:00', '2009-03-20 00:00:00', '2002-12-19 00:00:00', '2010-11-08 00:00:00', '2001-05-04 00:00:00', '1996-01-19 00:00:00', '1995-03-18 00:00:00', '1993-12-20 00:00:00', '2004-11-20 00:00:00', '2002-04-10 00:00:00', '2011-10-12 00:00:00', '1997-02-01 00:00:00', '1994-08-16 00:00:00', '2014-11-11 00:00:00', '1997-10-27 00:00:00', '2006-09-14 00:00:00', '2013-08-01 00:00:00', '2009-08-03 00:00:00', '2005-07-13 00:00:00', '1993-11-30 00:00:00', '2014-12-09 00:00:00', '2010-09-03 00:00:00', '2002-07-12 00:00:00', '2010-06-23 00:00:00', '2012-07-28 00:00:00', '2001-06-21 00:00:00', '1997-11-26 00:00:00', '1994-12-20 00:00:00', '2002-12-13 00:00:00', '2004-12-13 00:00:00', '2004-03-24 00:00:00', '2011-09-16 00:00:00', '2005-05-30 00:00:00', '2006-05-09 00:00:00', '2010-10-07 00:00:00', '2014-12-19 00:00:00', '2004-08-30 00:00:00', '1993-06-25 00:00:00', '2006-02-15 00:00:00', '2008-11-10 00:00:00', '2003-07-16 00:00:00', '1997-01-08 00:00:00', '2003-11-15 00:00:00', '2013-04-30 00:00:00', '2005-09-13 00:00:00', '2008-05-06 00:00:00', '2009-06-23 00:00:00', '2015-04-17 00:00:00', '2014-02-11 00:00:00', '2008-03-10 00:00:00', '2010-01-27 00:00:00', '2004-02-12 00:00:00', '2000-07-14 00:00:00', '2006-02-03 00:00:00', '2010-05-03 00:00:00', '2009-11-02 00:00:00', '1996-07-15 00:00:00', '2004-06-22 00:00:00', '2008-11-11 00:00:00'} \n",
      "\n"
     ]
    }
   ],
   "source": [
    "'''\n",
    "check if abnormal Scores exist in actual datasets.\n",
    "'''\n",
    "# exclude high null_portion rows\n",
    "excl_obj_score = excl_obj_score.query('null_portion < 0.5')\n",
    "\n",
    "# excl_obj_val = dict()\n",
    "for i in excl_obj_score.Attribute.unique():\n",
    "    \n",
    "    print (i)\n",
    "    print (f'scores in datasets: {set(concat_excl[i].unique())}', '\\n')"
   ]
  },
  {
   "cell_type": "code",
   "execution_count": 125,
   "metadata": {},
   "outputs": [],
   "source": [
    "'''\n",
    "NOTE\n",
    "'''\n",
    "\n",
    "p_process['3.2.2-CAMEO_INTL_2015'] = 'replace X to null and change dtypes of numbers in string form'\n",
    "p_process['3.1.2-EINGEFUEGT_AM'] = 'change dtype to datetime only with year values as there are too many unique values'"
   ]
  },
  {
   "attachments": {},
   "cell_type": "markdown",
   "metadata": {},
   "source": [
    "### 4. Pre-processing"
   ]
  },
  {
   "cell_type": "code",
   "execution_count": 126,
   "metadata": {},
   "outputs": [
    {
     "data": {
      "text/html": [
       "<div>\n",
       "<style scoped>\n",
       "    .dataframe tbody tr th:only-of-type {\n",
       "        vertical-align: middle;\n",
       "    }\n",
       "\n",
       "    .dataframe tbody tr th {\n",
       "        vertical-align: top;\n",
       "    }\n",
       "\n",
       "    .dataframe thead th {\n",
       "        text-align: right;\n",
       "    }\n",
       "</style>\n",
       "<table border=\"1\" class=\"dataframe\">\n",
       "  <thead>\n",
       "    <tr style=\"text-align: right;\">\n",
       "      <th></th>\n",
       "      <th>index</th>\n",
       "      <th>pre_processing_itmes</th>\n",
       "    </tr>\n",
       "  </thead>\n",
       "  <tbody>\n",
       "    <tr>\n",
       "      <th>0</th>\n",
       "      <td>2.3</td>\n",
       "      <td>drop features LP_FAMILIE_GROB / LP_STATUS_GROB</td>\n",
       "    </tr>\n",
       "    <tr>\n",
       "      <th>1</th>\n",
       "      <td>2.3.1-to_null</td>\n",
       "      <td>replace Scores, of which corresponding Meaning...</td>\n",
       "    </tr>\n",
       "    <tr>\n",
       "      <th>2</th>\n",
       "      <td>2.3.1-value_-1</td>\n",
       "      <td>replace all -1 Score to null</td>\n",
       "    </tr>\n",
       "    <tr>\n",
       "      <th>3</th>\n",
       "      <td>3.1.1</td>\n",
       "      <td>replace Score 0 of LP_LEBENSPHASE_FEIN, LP_LEB...</td>\n",
       "    </tr>\n",
       "    <tr>\n",
       "      <th>4</th>\n",
       "      <td>3.1.1-ANZ_HAUSHALTE_AKTIV</td>\n",
       "      <td>[Log scaling]</td>\n",
       "    </tr>\n",
       "    <tr>\n",
       "      <th>5</th>\n",
       "      <td>3.1.1-ANZ_TITEL</td>\n",
       "      <td>replace Score to null if ANZ_PERSONEN is null</td>\n",
       "    </tr>\n",
       "    <tr>\n",
       "      <th>6</th>\n",
       "      <td>3.1.1-GEBURTSJAHR</td>\n",
       "      <td>replace Score &lt; 1900 to NaN</td>\n",
       "    </tr>\n",
       "    <tr>\n",
       "      <th>7</th>\n",
       "      <td>3.1.1-KBA13_ANZAHL_PKW</td>\n",
       "      <td>[Log scaling]</td>\n",
       "    </tr>\n",
       "    <tr>\n",
       "      <th>8</th>\n",
       "      <td>3.1.1_ANZ_PERSONEN</td>\n",
       "      <td>replace Score &gt; 10 to NaN</td>\n",
       "    </tr>\n",
       "    <tr>\n",
       "      <th>9</th>\n",
       "      <td>3.1.2-CAMEO_DEUG_2015</td>\n",
       "      <td>replace X to null and change dtypes of numbers...</td>\n",
       "    </tr>\n",
       "    <tr>\n",
       "      <th>10</th>\n",
       "      <td>3.1.2-CAMEO_DEU_2015</td>\n",
       "      <td>replace XX to null</td>\n",
       "    </tr>\n",
       "    <tr>\n",
       "      <th>11</th>\n",
       "      <td>3.1.2-EINGEFUEGT_AM</td>\n",
       "      <td>change dtype to datetime only with year values...</td>\n",
       "    </tr>\n",
       "    <tr>\n",
       "      <th>12</th>\n",
       "      <td>3.2.1-ALTERSKATEGORIE_FEIN</td>\n",
       "      <td>replace 0 to null</td>\n",
       "    </tr>\n",
       "    <tr>\n",
       "      <th>13</th>\n",
       "      <td>3.2.1-ANZ_HAUSHALTE_AKTIV</td>\n",
       "      <td>[Log scaling]</td>\n",
       "    </tr>\n",
       "    <tr>\n",
       "      <th>14</th>\n",
       "      <td>3.2.1-ANZ_KINDER</td>\n",
       "      <td>drop feature</td>\n",
       "    </tr>\n",
       "    <tr>\n",
       "      <th>15</th>\n",
       "      <td>3.2.1-EINGEZOGENAM_HH_JAHR</td>\n",
       "      <td>replace Value &lt; 1980 to null</td>\n",
       "    </tr>\n",
       "    <tr>\n",
       "      <th>16</th>\n",
       "      <td>3.2.2-CAMEO_INTL_2015</td>\n",
       "      <td>replace X to null and change dtypes of numbers...</td>\n",
       "    </tr>\n",
       "  </tbody>\n",
       "</table>\n",
       "</div>"
      ],
      "text/plain": [
       "                         index  \\\n",
       "0                          2.3   \n",
       "1                2.3.1-to_null   \n",
       "2               2.3.1-value_-1   \n",
       "3                        3.1.1   \n",
       "4    3.1.1-ANZ_HAUSHALTE_AKTIV   \n",
       "5              3.1.1-ANZ_TITEL   \n",
       "6            3.1.1-GEBURTSJAHR   \n",
       "7       3.1.1-KBA13_ANZAHL_PKW   \n",
       "8           3.1.1_ANZ_PERSONEN   \n",
       "9        3.1.2-CAMEO_DEUG_2015   \n",
       "10        3.1.2-CAMEO_DEU_2015   \n",
       "11         3.1.2-EINGEFUEGT_AM   \n",
       "12  3.2.1-ALTERSKATEGORIE_FEIN   \n",
       "13   3.2.1-ANZ_HAUSHALTE_AKTIV   \n",
       "14            3.2.1-ANZ_KINDER   \n",
       "15  3.2.1-EINGEZOGENAM_HH_JAHR   \n",
       "16       3.2.2-CAMEO_INTL_2015   \n",
       "\n",
       "                                 pre_processing_itmes  \n",
       "0      drop features LP_FAMILIE_GROB / LP_STATUS_GROB  \n",
       "1   replace Scores, of which corresponding Meaning...  \n",
       "2                        replace all -1 Score to null  \n",
       "3   replace Score 0 of LP_LEBENSPHASE_FEIN, LP_LEB...  \n",
       "4                                       [Log scaling]  \n",
       "5       replace Score to null if ANZ_PERSONEN is null  \n",
       "6                         replace Score < 1900 to NaN  \n",
       "7                                       [Log scaling]  \n",
       "8                           replace Score > 10 to NaN  \n",
       "9   replace X to null and change dtypes of numbers...  \n",
       "10                                 replace XX to null  \n",
       "11  change dtype to datetime only with year values...  \n",
       "12                                  replace 0 to null  \n",
       "13                                      [Log scaling]  \n",
       "14                                       drop feature  \n",
       "15                       replace Value < 1980 to null  \n",
       "16  replace X to null and change dtypes of numbers...  "
      ]
     },
     "execution_count": 126,
     "metadata": {},
     "output_type": "execute_result"
    }
   ],
   "source": [
    "p_process = {'pre_processing_itmes' : p_process}\n",
    "p_process_items = pd.DataFrame(p_process).reset_index()\n",
    "p_process_items"
   ]
  },
  {
   "attachments": {},
   "cell_type": "markdown",
   "metadata": {},
   "source": [
    "[function] miss_val_summary"
   ]
  },
  {
   "cell_type": "code",
   "execution_count": 127,
   "metadata": {},
   "outputs": [],
   "source": [
    "def miss_val_summary(df, axis_val, x_bin = 2, bar_chart = True):\n",
    "    '''\n",
    "    function to display summary, bar-chart (optional) and histogram\n",
    "    of missing value by column or raw\n",
    "    df: dataframe\n",
    "    axis_val: str, one of 'column' or 'row'\n",
    "    x_bin: size of x bin, 10 as default\n",
    "    bar_chart: option of bar chart display \n",
    "    '''\n",
    "    # index of axis\n",
    "    axis_idx = 0 if axis_val == 'column' else 1\n",
    "    \n",
    "    # % of missing values\n",
    "    missing_pct = df.isnull().mean(axis = axis_idx) * 100\n",
    "    df_desc = missing_pct.describe()\n",
    "\n",
    "    # summary of missing value\n",
    "    print (\n",
    "        '% of missing value in ' + str(int(df_desc[0])) + ' ' + axis_val + 's of ' + df.name)\n",
    "    print (df_desc[1:].to_string())\n",
    "    \n",
    "    # bar-chart of missing value\n",
    "    if bar_chart:\n",
    "        missing_pct.plot(\n",
    "            kind = 'bar', figsize=(10, 3), color='gray',\n",
    "            \n",
    "            title = ('bar chart - ' + df.name + ': missing value by ' + axis_val),\n",
    "            ylabel = '% of missing value',\n",
    "            xlabel = (str(int(df_desc[0])) + ' columns'),\n",
    "            xticks = [],\n",
    "            );\n",
    "        plt.show()\n",
    "    \n",
    "    # hist of missing value\n",
    "    x_range = ((df_desc[-1] + 10) // 10) * 10 + x_bin\n",
    "    ax = missing_pct.plot(\n",
    "        kind = 'hist', figsize=(10, 3), color='gray',\n",
    "        \n",
    "        bins = np.arange(0, x_range, x_bin),\n",
    "        title = ('histogram - ' + df.name + ': missing value by ' + axis_val)\n",
    "        )\n",
    "    ax.set_xlabel('% of missing value');\n",
    "    plt.show()"
   ]
  },
  {
   "cell_type": "code",
   "execution_count": 129,
   "metadata": {},
   "outputs": [
    {
     "name": "stdout",
     "output_type": "stream",
     "text": [
      "% of missing value in 366 columns of asdias\n",
      "mean    10.268016\n",
      "std     12.164049\n",
      "min      0.000000\n",
      "25%      0.000000\n",
      "50%     11.871354\n",
      "75%     12.023000\n",
      "max     99.864792\n"
     ]
    },
    {
     "data": {
      "image/png": "[encoded data removed]",
      "text/plain": [
       "<Figure size 1000x300 with 1 Axes>"
      ]
     },
     "metadata": {},
     "output_type": "display_data"
    },
    {
     "data": {
      "image/png": "[encoded data removed]",
      "text/plain": [
       "<Figure size 1000x300 with 1 Axes>"
      ]
     },
     "metadata": {},
     "output_type": "display_data"
    }
   ],
   "source": [
    "'''\n",
    "missing value by columns of azdias\n",
    "'''\n",
    "azdias.name = 'asdias'\n",
    "miss_val_summary(azdias, 'column')"
   ]
  },
  {
   "cell_type": "code",
   "execution_count": 130,
   "metadata": {},
   "outputs": [
    {
     "name": "stdout",
     "output_type": "stream",
     "text": [
      "% of missing value in 369 columns of cistomers\n",
      "mean    19.604925\n",
      "std     15.143659\n",
      "min      0.000000\n",
      "25%      0.000000\n",
      "50%     26.757352\n",
      "75%     26.757352\n",
      "max     99.876860\n"
     ]
    },
    {
     "data": {
      "image/png": "[encoded data removed]",
      "text/plain": [
       "<Figure size 1000x300 with 1 Axes>"
      ]
     },
     "metadata": {},
     "output_type": "display_data"
    },
    {
     "data": {
      "image/png": "[encoded data removed]",
      "text/plain": [
       "<Figure size 1000x300 with 1 Axes>"
      ]
     },
     "metadata": {},
     "output_type": "display_data"
    }
   ],
   "source": [
    "'''\n",
    "missing value by column\n",
    "'''\n",
    "customers.name = 'cistomers'\n",
    "miss_val_summary(customers, 'column')"
   ]
  },
  {
   "attachments": {},
   "cell_type": "markdown",
   "metadata": {},
   "source": [
    "## Part 1: Customer Segmentation Report\n",
    "\n",
    "The main bulk of your analysis will come in this part of the project. Here, you should use unsupervised learning techniques to describe the relationship between the demographics of the company's existing customers and the general population of Germany. By the end of this part, you should be able to describe parts of the general population that are more likely to be part of the mail-order company's main customer base, and which parts of the general population are less so."
   ]
  },
  {
   "cell_type": "code",
   "execution_count": null,
   "metadata": {},
   "outputs": [],
   "source": []
  },
  {
   "attachments": {},
   "cell_type": "markdown",
   "metadata": {},
   "source": [
    "## Part 2: Supervised Learning Model\n",
    "\n",
    "Now that you've found which parts of the population are more likely to be customers of the mail-order company, it's time to build a prediction model. Each of the rows in the \"MAILOUT\" data files represents an individual that was targeted for a mailout campaign. Ideally, we should be able to use the demographic information from each individual to decide whether or not it will be worth it to include that person in the campaign.\n",
    "\n",
    "The \"MAILOUT\" data has been split into two approximately equal parts, each with almost 43 000 data rows. In this part, you can verify your model with the \"TRAIN\" partition, which includes a column, \"RESPONSE\", that states whether or not a person became a customer of the company following the campaign. In the next part, you'll need to create predictions on the \"TEST\" partition, where the \"RESPONSE\" column has been withheld."
   ]
  },
  {
   "cell_type": "code",
   "execution_count": null,
   "metadata": {},
   "outputs": [],
   "source": [
    "mailout_train = pd.read_csv('../../data/Term2/capstone/arvato_data/Udacity_MAILOUT_052018_TRAIN.csv', sep=';')"
   ]
  },
  {
   "cell_type": "code",
   "execution_count": null,
   "metadata": {},
   "outputs": [],
   "source": []
  },
  {
   "cell_type": "code",
   "execution_count": null,
   "metadata": {},
   "outputs": [],
   "source": []
  },
  {
   "attachments": {},
   "cell_type": "markdown",
   "metadata": {},
   "source": [
    "Work / Ref"
   ]
  },
  {
   "cell_type": "code",
   "execution_count": null,
   "metadata": {},
   "outputs": [],
   "source": [
    "# def col_val (df):\n",
    "#     '''\n",
    "#     function to check values of dataframe columns\n",
    "#     df : dataframe\n",
    "#     '''\n",
    "#     # for i in df.columns:\n",
    "#     #     print (i, '-', df[i].nunique(), 'values', '\\n',\n",
    "#     #         df[i].value_counts(), '\\n', '*     *     *')\n",
    "#     for i in df.columns:\n",
    "#         print (i, '-', df[i].nunique(), 'values', '\\n',\n",
    "#         list(df[i].unique()), '\\n', '*     *     *')"
   ]
  },
  {
   "cell_type": "code",
   "execution_count": null,
   "metadata": {},
   "outputs": [],
   "source": [
    "# # from googletrans import Translator\n",
    "\n",
    "# # Create an instance of the Translator\n",
    "# translator = Translator(service_urls=['translate.google.com'])\n",
    "\n",
    "# # Text to be translated\n",
    "# text = \"AGER_TYP\"\n",
    "\n",
    "# # Translate the text from German to English\n",
    "# translation = translator.translate(text, src='de', dest='en')\n",
    "\n",
    "# # Print the translated text\n",
    "# print(\"Original text (German):\", text)\n",
    "# print(\"Translated text (English):\", translation.text)"
   ]
  },
  {
   "cell_type": "code",
   "execution_count": null,
   "metadata": {},
   "outputs": [],
   "source": [
    "# def miss_val_hist(df, axis_val, x_bin = 10):\n",
    "#     '''\n",
    "#     function to display missing value histogram by column or raw\n",
    "#     df: dataframe\n",
    "#     axis_val: str, one of 'column' or 'row'\n",
    "#     x_bin: size of xtick bin, 10 as default \n",
    "#     '''\n",
    "#     # axis value\n",
    "#     axis_num = 0 if axis_val == 'column' else 1\n",
    "    \n",
    "#     # % of missing values\n",
    "#     missing_pct = df.isnull().mean(axis = axis_num) * 100\n",
    "\n",
    "#     # max % of missing values by column\n",
    "#     missing_pct_max = missing_pct.max()\n",
    "#     print ('max % of missing values by ' + axis_val + ': ', missing_pct_max)\n",
    "\n",
    "#     # plot missing values by column\n",
    "    \n",
    "#     print (missing_pct.describe())\n",
    "    \n",
    "#     x_range = ((missing_pct_max + x_bin * 2) // x_bin) * x_bin\n",
    "\n",
    "#     ax = missing_pct.plot(\n",
    "#         kind = 'hist', figsize=(10, 3), color='gray',\n",
    "#         bins = np.arange(0, x_range, 10),\n",
    "#         title = (df.name + ': missing value by ' + axis_val)\n",
    "#         )\n",
    "#     ax.set_xlabel('% of missing value');"
   ]
  },
  {
   "cell_type": "code",
   "execution_count": null,
   "metadata": {},
   "outputs": [],
   "source": [
    "# 파이써닉 하지 못한 코드\n",
    "# # missing value overview\n",
    "# for i in range(0, ((azdias.shape[1] + 100) // 100) * 100, 100):\n",
    "#     msno.matrix(azdias.iloc[:, i : i + 99],\n",
    "#                 figsize=(10, 3), fontsize = 12, labels = False, sparkline = False)\n",
    "#     plt.title('missing value overview: col ' + str (i) + ' to ' + str (min(i + 99, azdias.shape[1] - 1)),\n",
    "#               fontsize = 12);"
   ]
  },
  {
   "cell_type": "code",
   "execution_count": null,
   "metadata": {},
   "outputs": [],
   "source": [
    "# # % of columns with missing values of over 30%\n",
    "# (azdias.isnull().mean() * 100 > 30).mean()"
   ]
  },
  {
   "cell_type": "code",
   "execution_count": null,
   "metadata": {},
   "outputs": [],
   "source": [
    "# # % of columns with missing values of 25% to 30%\n",
    "# ((azdias.isnull().mean() * 100 > 25) & (30 >= azdias.isnull().mean() * 100)).mean()"
   ]
  },
  {
   "cell_type": "code",
   "execution_count": null,
   "metadata": {},
   "outputs": [],
   "source": [
    "# 아마도 쓰지 않을 plot\n",
    "# plot = azdias_col_missing_pct.plot(\n",
    "#     kind = 'bar', figsize=(10, 3), color='dimgray', xticks = [],\n",
    "#     title = 'azdias_col_missing_pct',\n",
    "#     xlabel = '366 columns',\n",
    "#     ylabel = '% of missing values')"
   ]
  },
  {
   "cell_type": "code",
   "execution_count": null,
   "metadata": {},
   "outputs": [],
   "source": [
    "# num_df = customers.select_dtypes(include=['float', 'int64']).iloc[:, 1:]\n",
    "# num_df.head()"
   ]
  },
  {
   "cell_type": "code",
   "execution_count": null,
   "metadata": {},
   "outputs": [],
   "source": [
    "# len(pd.unique(customers.select_dtypes(include='float').values.flatten()).tolist())"
   ]
  },
  {
   "cell_type": "code",
   "execution_count": null,
   "metadata": {},
   "outputs": [],
   "source": [
    "# with pd.option_context(\n",
    "#     'display.max_rows', None, 'display.max_colwidth', None):\n",
    "#     display(pd.DataFrame(attr.apply(lambda x: x.unique())))"
   ]
  },
  {
   "cell_type": "code",
   "execution_count": null,
   "metadata": {},
   "outputs": [],
   "source": [
    "# attr_not_null = ~(attr.Attribute.isna())\n",
    "# attr.loc[attr_not_null, 'Description'] = attr.loc[\n",
    "#     attr_not_null, 'Description'] + ' ' + attr.loc[attr_not_null, 'desc_shift']\n",
    "\n",
    "# desc_to_null = (attr.Attribute.isna()) & ~(attr.Description.isna())\n",
    "# attr.loc[desc_to_null, 'Description'] = np.nan\n",
    "# attr = attr.drop(columns = 'desc_shift')\n",
    "# attr.loc[attr_with_value.shift(-1, fill_value = True), 'Description']\n",
    "# attr_shift = attr_null.shift\n",
    "# attr[attr_null.shift, 'Description'] = attr.loc[\n",
    "#     attr_null.shift(fill_value = False), 'Description'] + ' ' + attr[attr_null, 'Description']"
   ]
  },
  {
   "cell_type": "code",
   "execution_count": null,
   "metadata": {},
   "outputs": [],
   "source": [
    "# '''\n",
    "# to 313 rows of Attribute in info, add 15 values exclusively in attr,\n",
    "# and remove 52 values exclusively in information files\n",
    "# '''\n",
    "\n",
    "# info_mg = info.iloc[:, 1:].copy()\n",
    "# info_mg = info_mg.applymap(lambda x: x.strip().lower() if isinstance(x, str) else x)\n",
    "# # attr_excl = attr[attr.Attribute.isin(attr_excl)].copy()\n",
    "# attr_not_null = attr.dropna(subset = 'Attribute').copy()\n",
    "# attr_not_null = attr_not_null.applymap(lambda x: x.strip().lower() if isinstance(x, str) else x)\n",
    "\n",
    "# info_mg = pd.concat(\n",
    "#     [info_mg, attr_not_null[['Attribute', 'Description']]],\n",
    "#     ignore_index  = True,\n",
    "#     axis = 0\n",
    "#     )\n",
    "# info_mg = info_mg.drop_duplicates(subset = ['Attribute', 'Description'])\n",
    "# info_mg = info_mg.sort_values(by = list(info_mg.columns), ascending=False)\n",
    "# # info_mg = info_mg.drop_duplicates(subset='Attribute')\n",
    "\n",
    "# info_mg = info_mg[~(info_mg.Attribute.isin(infofile_excl))]\n",
    "\n",
    "# print(info_mg.info())\n",
    "# info_mg.head()"
   ]
  },
  {
   "cell_type": "code",
   "execution_count": null,
   "metadata": {},
   "outputs": [],
   "source": [
    "# '''\n",
    "# to 313 rows of Attribute in info, add 15 values exclusively in attr,\n",
    "# and remove 52 values exclusively in information files\n",
    "# '''\n",
    "\n",
    "# info_mg = info.iloc[:, 1:].copy()\n",
    "# attr_excl = attr[attr.Attribute.isin(attr_excl)][['Attribute', 'Description']].copy()\n",
    "\n",
    "# info_mg = pd.concat(\n",
    "#     [info_mg, attr_excl],\n",
    "#     ignore_index  = True,\n",
    "#     axis = 0\n",
    "#     )\n",
    "# info_mg = info_mg.drop_duplicates(subset = ['Attribute', 'Description'])\n",
    "# # info_mg = info_mg.sort_values(by = list(info_mg.columns), ascending=False)\n",
    "# # # info_mg = info_mg.drop_duplicates(subset='Attribute')\n",
    "\n",
    "# info_mg = info_mg[~(info_mg.Attribute.isin(infofile_excl))]\n",
    "\n",
    "# print(info_mg.info())\n",
    "# info_mg.head()"
   ]
  },
  {
   "cell_type": "code",
   "execution_count": null,
   "metadata": {},
   "outputs": [],
   "source": [
    "# view_all(info_mg)"
   ]
  },
  {
   "cell_type": "code",
   "execution_count": null,
   "metadata": {},
   "outputs": [],
   "source": [
    "# '''\n",
    "# to 2258 rows of Attribute in attr, add 13 values exclusively in info,\n",
    "# and remove 52 values exclusively in information files\n",
    "# '''\n",
    "\n",
    "# attr_mg = attr.copy()\n",
    "# info_excl = info[info.Attribute.isin(info_excl)][['Attribute', 'Description']].copy()\n",
    "# info_excl['Value'] = 'form info'\n",
    "# info_excl['Meaning'] = 'form info'\n",
    "\n",
    "# attr_mg = pd.concat(\n",
    "#     [attr_mg, info_excl],\n",
    "#     ignore_index  = True,\n",
    "#     axis = 0\n",
    "#     )\n",
    "# # info_mg = info_mg.drop_duplicates()\n",
    "\n",
    "# # info_mg = info_mg[~(info_mg.Attribute.isin(infofile_excl))]\n",
    "\n",
    "# print(attr_mg.info())\n",
    "# attr_mg.head()"
   ]
  },
  {
   "cell_type": "code",
   "execution_count": null,
   "metadata": {},
   "outputs": [],
   "source": [
    "# attr_mg.tail(30)"
   ]
  },
  {
   "cell_type": "code",
   "execution_count": null,
   "metadata": {},
   "outputs": [],
   "source": [
    "# '''\n",
    "# there are 93 and 51 exclusive values in data and information files\n",
    "# '''\n",
    "\n",
    "# datafile_Attr = azdias_Attr.union(customers_Attr)\n",
    "# infofile_Attr = info_Attr.union(attr_Attr)\n",
    "\n",
    "# datafile_excl = datafile_Attr - infofile_Attr\n",
    "# infofile_excl = infofile_Attr - datafile_Attr\n",
    "\n",
    "# print (len(datafile_excl), 'Attribute value(s) exclusively in data files:',\n",
    "#        '\\n', datafile_excl)\n",
    "# print (len(infofile_excl), 'Attribute value(s) exclusively in information files:',\n",
    "#        '\\n', infofile_excl)"
   ]
  },
  {
   "cell_type": "code",
   "execution_count": null,
   "metadata": {},
   "outputs": [],
   "source": [
    "# 불필요 한 것으로 보임\n",
    "# '''\n",
    "# fill null cells as only 1st lines of information have values\n",
    "# '''\n",
    "\n",
    "# info['Information level'] = info['Information level'].fillna(method = 'ffill')\n",
    "\n",
    "# info.head()"
   ]
  },
  {
   "cell_type": "code",
   "execution_count": null,
   "metadata": {},
   "outputs": [],
   "source": [
    "# 불필요 한 것으로 보임\n",
    "# '''\n",
    "# fill null cells as only 1st lines of information have values\n",
    "# '''\n",
    "\n",
    "# attr[['Attribute', 'Description']] = attr[\n",
    "#     ['Attribute', 'Description']].fillna(method = 'ffill')\n",
    "\n",
    "# attr.head(10)"
   ]
  },
  {
   "cell_type": "code",
   "execution_count": null,
   "metadata": {},
   "outputs": [],
   "source": [
    "# '''\n",
    "# To enhance readability of data set - over 100 features are without description -   \n",
    "# I added 14 Description values from attr, and made a column of translation   \n",
    "# (ger_to_eng) to df_feature using code below.\n",
    "# However as this code-running takes somewhat long time, I saved the dataframe processed\n",
    "# as df_feature.xlsx in root folder\n",
    "# '''\n",
    "\n",
    "# # For values of Attribute without Description, add 14 Description values from attr\n",
    "# df_feature.set_index('Attribute', inplace = True)\n",
    "\n",
    "# attr_excl = attr[attr.Attribute.isin(attr_Attr - info_Attr)][['Attribute', 'Description']].copy()\n",
    "# attr_excl.set_index('Attribute', inplace = True)\n",
    "# df_feature.update(attr_excl)\n",
    "\n",
    "# df_feature.reset_index(inplace = True)\n",
    "\n",
    "# # For values of Attribute without Description, make colum of translation (ger_to_eng)\n",
    "# def ger_to_eng (ger_text):\n",
    "#     '''\n",
    "#     function to translate German text\n",
    "#     '''    \n",
    "#     translator = Translator(service_urls=['translate.google.com'])    \n",
    "#     try:\n",
    "#         translation = translator.translate(ger_text, src='de', dest='en')\n",
    "#         return translation.text        \n",
    "#     except:\n",
    "#         return np.nan\n",
    "\n",
    "# df_feature['ger_to_eng'] = np.where(\n",
    "#     df_feature.Description.isnull(),\n",
    "#     df_feature.Attribute.str.replace('_', ' ').apply(ger_to_eng),\n",
    "#     np.nan)\n",
    "# df_feature['Desc'] = df_feature.Description.fillna('') + df_feature.ger_to_eng.fillna('')\n",
    "\n",
    "# # # sort by Attribute and Information level\n",
    "# # df_feature.sort_values(by = ['Attribute', 'Information level'], inplace= True)\n",
    "\n",
    "# # df_feature = pd.read_excel('df_feature.xlsx', index_col = [0])\n",
    "# # df_feature.head(10)"
   ]
  },
  {
   "cell_type": "code",
   "execution_count": null,
   "metadata": {},
   "outputs": [],
   "source": [
    "# attr_excl = attr[attr.Attribute.isin(attr_Attr - info_Attr)][['Attribute', 'Description']].copy()\n",
    "# df_feature.Description = df_feature.Description.mask(\n",
    "#     df_feature.Attribute == attr_excl.Attribute,\n",
    "#     attr_excl.Description\n",
    "#     )\n",
    "# print ('Attributes missing Description:', df_feature[df_feature.Description.isna()].shape[0])\n",
    "# print (df_feature.shape)\n",
    "# df_feature.head()\n",
    "\n",
    "# ValueError: Can only compare identically-labeled Series objects"
   ]
  },
  {
   "cell_type": "code",
   "execution_count": null,
   "metadata": {},
   "outputs": [],
   "source": [
    "# feature_desc.set_index('Attribute', inplace = True)\n",
    "\n",
    "# attr_Attr = set(attr.Attribute.dropna().unique())\n",
    "# info_Attr = set(info.Attribute.dropna().unique())\n",
    "# attr_excl = attr[\n",
    "#     attr.Attribute.isin(attr_Attr - info_Attr)][['Attribute', 'Description']].copy()\n",
    "# attr_excl.set_index('Attribute', inplace = True)\n",
    "# feature_desc.update(attr_excl)\n",
    "\n",
    "# feature_desc.reset_index(inplace = True)"
   ]
  },
  {
   "cell_type": "code",
   "execution_count": null,
   "metadata": {},
   "outputs": [],
   "source": [
    "# '''\n",
    "# alignment of features between data files: \n",
    "# df customers has 3 more exclusive columns\n",
    "# '''\n",
    "\n",
    "# azdias_Attr = set(azdias.columns)\n",
    "# customers_Attr = set(customers.columns)\n",
    "\n",
    "# print(azdias_Attr - customers_Attr)\n",
    "# print(customers_Attr - azdias_Attr)"
   ]
  },
  {
   "cell_type": "code",
   "execution_count": null,
   "metadata": {},
   "outputs": [],
   "source": [
    "# '''\n",
    "# alignment of features between information files\n",
    "# '''\n",
    "# info_Attr = set(info.Attribute.dropna().unique())\n",
    "# attr_Attr = set(attr.Attribute.dropna().unique())\n",
    "\n",
    "# # info_excl = info_Attr - attr_Attr\n",
    "# # attr_excl = attr_Attr - info_Attr\n",
    "\n",
    "# print (len(info_Attr - attr_Attr), 'Attribute value(s) exclusively in info:',\n",
    "#        '\\n', info_Attr - attr_Attr)\n",
    "# print (len(attr_Attr - info_Attr), 'Attribute value(s) exclusively in attr:',\n",
    "#        '\\n', attr_Attr - info_Attr)\n",
    "# '''\n",
    "# alignment of features between customers and information files\n",
    "# '''\n",
    "# print ('Attribute between customers and info')\n",
    "# print (len(customers_Attr - info_Attr), 'feature(s) exclusively in customers:',\n",
    "#        '\\n', customers_Attr - info_Attr)\n",
    "# print (len(info_Attr - customers_Attr), 'Attribute value(s) exclusively in info:',\n",
    "#        '\\n', info_Attr - customers_Attr)\n",
    "# print ('In', len(info_Attr), 'features of info,', \n",
    "#        len(info_Attr) - len(info_Attr - customers_Attr), 'features are in Attribute of customers', '\\n')\n",
    "\n",
    "# print ('Attribute between customers and attr')\n",
    "# print (len(customers_Attr - attr_Attr), 'feature(s) exclusively in customers:',\n",
    "#        '\\n', customers_Attr - attr_Attr)\n",
    "# print (len(attr_Attr - customers_Attr), 'Attribute value(s) exclusively in attr:',\n",
    "#        '\\n', attr_Attr - customers_Attr)\n",
    "# print ('In', len(attr_Attr), 'features of attr,',\n",
    "#        len(attr_Attr) - len(attr_Attr - customers_Attr), 'features are in Attribute of customers')"
   ]
  },
  {
   "cell_type": "code",
   "execution_count": null,
   "metadata": {},
   "outputs": [],
   "source": [
    "# list(feature_dict.keys())[0]\n",
    "# feature_dict.values()"
   ]
  },
  {
   "cell_type": "code",
   "execution_count": null,
   "metadata": {},
   "outputs": [],
   "source": [
    "# values = np.array([1, 2, 3, 4])\n",
    "\n",
    "# subtractions = np.subtract.outer(values, values)[np.triu_indices(len(values), k=1)]\n",
    "\n",
    "# for result in subtractions:\n",
    "#     print(result)"
   ]
  },
  {
   "cell_type": "code",
   "execution_count": null,
   "metadata": {},
   "outputs": [],
   "source": [
    "# for i, (k, v) in enumerate(feature_dict.items()):\n",
    "#     for j in range(i + 1, 4):\n",
    "#             result = values[i] - values[j]\n",
    "#             print(f\"{values[i]} - {values[j]} = {result}\")\n",
    "#     print (i, k, v)\n",
    "    \n",
    "# for i, (k, v) in enumerate(zip(list(feature_dict.keys()), list(feature_dict.values()))):\n",
    "#     print (i, (k, v))"
   ]
  },
  {
   "cell_type": "code",
   "execution_count": null,
   "metadata": {},
   "outputs": [],
   "source": [
    "# '''\n",
    "# customers에는 없고 attr에만 있는 42개 Attribute는 Desc가 없으으로\n",
    "# (1.5 alignment) desc가 null이 아닌 행만 keep\n",
    "# '''\n",
    "\n",
    "# print ('customers에는 없고 attr에만 있는 42개 Attribute 수:', \n",
    "#        attr_num[attr_num.Desc.isna() == True].Attribute.nunique(),\n",
    "#        '\\n')\n",
    "\n",
    "# attr_num = attr_num[attr_num.Desc.isna() == False]\n",
    "# print (attr_num.info())"
   ]
  },
  {
   "cell_type": "code",
   "execution_count": null,
   "metadata": {},
   "outputs": [],
   "source": [
    "# '''\n",
    "# str data of column Value\n",
    "# '''\n",
    "# # attr_num with only numeric values in Value\n",
    "# attr_str = attr[attr['Value_dtype'] == str].copy()\n",
    "# print (attr_str.shape) \n",
    "\n",
    "# # add Desc and Information level\n",
    "# attr_str = vlookup(attr_str, feature_desc, 'Attribute', ['Desc', 'Additional notes'])\n",
    "# print (attr_str.info())\n",
    "# attr_str.head()"
   ]
  },
  {
   "cell_type": "code",
   "execution_count": null,
   "metadata": {},
   "outputs": [],
   "source": [
    "# '''\n",
    "# 3개 null attribute는 정수와 문자를 모두 값을로 갖는 것들로 42개는 유효하고\n",
    "# 이 42개는 다음 section에서 볼 예정이므로 (1.5 alignment) desc가 null이 아닌 행만 keep\n",
    "# '''\n",
    "\n",
    "# # attr_str[attr_str.Desc.isna() == True] # int와 str을 모두 갖는 셀. 따라서 42는 맞음.... 이 별로 중요하지도 않은 것을 남겨야 하나...\n",
    "\n",
    "# attr_str = attr_str[attr_str.Desc.isna() == False]\n",
    "# print (attr_str.info())"
   ]
  },
  {
   "cell_type": "code",
   "execution_count": null,
   "metadata": {},
   "outputs": [],
   "source": [
    "# # attr_str_to_check = pv_attr_str[pv_attr_str.Meaning.str.contains('numeric value')].Attribute\n",
    "# attr_str_to_check = pv_attr_str[\n",
    "#     pv_attr_str.index.get_level_values(2).str.contains('numeric value')].index.get_level_values(0)\n",
    "# # 먼저 추후 체크할 것들을 뽑아 놓고\n",
    "# attr_str_to_check"
   ]
  },
  {
   "cell_type": "code",
   "execution_count": null,
   "metadata": {},
   "outputs": [],
   "source": [
    "# pv_attr_str = pd.DataFrame(pv_attr_str[\n",
    "#     ~(pv_attr_str.index.get_level_values(0).isin(attr_str_to_check))\n",
    "#     &~(pv_attr_str.index.get_level_values(2) == 'unknown')\n",
    "#     ].to_records())\n",
    "\n",
    "# pv_attr_str = pd.pivot_table(\n",
    "#     pv_attr_str,\n",
    "#     index = ['Attribute', 'Desc'],\n",
    "#     values = 'Value',\n",
    "#     aggfunc = lambda x: list(x)\n",
    "#     )\n",
    "\n",
    "# view_all(pv_attr_str)"
   ]
  },
  {
   "cell_type": "code",
   "execution_count": null,
   "metadata": {},
   "outputs": [],
   "source": [
    "# print(not_in_attr_str.values.T.shape)\n",
    "# not_in_attr_str.values.T.tolist()"
   ]
  },
  {
   "cell_type": "code",
   "execution_count": null,
   "metadata": {},
   "outputs": [],
   "source": [
    "# for i in concat_cont_ft[1:]:\n",
    "\n",
    "#     min_val = cc_num[i].min()\n",
    "#     max_val = cc_num[i].max()\n",
    "#     bin_interval = 1\n",
    "#     bin_edges = np.arange(min_val, max_val + bin_interval, bin_interval)\n",
    "\n",
    "#     desc_val = concat_num[concat_num['Attribute'] == i]['Desc'].values[0]\n",
    "#     count_val = int(concat_num[concat_num['Attribute'] == i].fillna(0)['count'].values[0])\n",
    "\n",
    "#     ax = cc_num[i].plot(\n",
    "#         kind = 'hist',\n",
    "#         figsize=(10, 1.5),\n",
    "#         color='gray',\n",
    "#         bins = bin_edges,\n",
    "#         align = 'mid',\n",
    "#         title = ('histogram - ' + desc_val + ' ' + i)\n",
    "#         );\n",
    "#     ax.set_xlabel('Values: Min: ' + str(int(min_val)) + ', Max: ' + str(int(max_val)));\n",
    "#     plt.show()\n",
    "    \n",
    "#     ax = cc_num[i].plot(\n",
    "#         kind = 'hist',\n",
    "#         figsize=(10, 1.5),\n",
    "#         color='gray',\n",
    "#         bins = np.arange(-0.5, 11.5, 1),\n",
    "#         align = 'mid',\n",
    "#         title = ('histogram - ' + desc_val + ' - Value 0 to 10')\n",
    "#         );\n",
    "#     ax.set_xlabel('Values');\n",
    "#     plt.show()\n",
    "    \n",
    "#     # Define the outlier thresholds by applying multiplier 5.0\n",
    "#     q1 = concat_num[concat_num['Attribute'] == i]['25%'].values[0]\n",
    "#     q3 = concat_num[concat_num['Attribute'] == i]['75%'].values[0]\n",
    "#     iqr = q3 - q1\n",
    "#     lower_threshold = q1 - 5.0 * iqr\n",
    "#     upper_threshold = q3 + 5.0 * iqr\n",
    "\n",
    "#     # Identify outliers\n",
    "#     col_val = cc_num[i].values\n",
    "#     outliers = sorted(set([i for i in col_val if i < lower_threshold or i > upper_threshold]), reverse = True)\n",
    "#     for j in outliers:\n",
    "#         print (int(j), '{:.1%}'.format(((cc_num[i] == j).sum())/count_val*100), end = ' ')\n",
    "#     print ('\\n', '==========' * 10)"
   ]
  },
  {
   "cell_type": "code",
   "execution_count": null,
   "metadata": {},
   "outputs": [],
   "source": [
    "# for i in concat_cont_ft[1:]:\n",
    "\n",
    "#     min_val = cc_num[i].min()\n",
    "#     max_val = cc_num[i].max()\n",
    "#     # bin_interval = 1\n",
    "#     bin_edges = np.arange(min_val, max_val + 10, 10)\n",
    "\n",
    "#     desc_val = concat_num[concat_num['Attribute'] == i]['Desc'].values[0]\n",
    "#     count_val = int(concat_num[concat_num['Attribute'] == i].fillna(0)['count'].values[0])\n",
    "\n",
    "#     ax = cc_num[i].plot(\n",
    "#         kind = 'hist',\n",
    "#         figsize=(10, 1.5),\n",
    "#         color='gray',\n",
    "#         bins = bin_edges,\n",
    "#         align = 'mid',\n",
    "#         title = ('histogram - ' + desc_val + ' ' + i)\n",
    "#         );\n",
    "#     ax.set_xlabel('Values: Min: ' + str(int(min_val)) + ', Max: ' + str(int(max_val)));\n",
    "#     plt.show()\n",
    "    \n",
    "#     ax = cc_num[i].plot(\n",
    "#         kind = 'hist',\n",
    "#         figsize=(10, 1.5),\n",
    "#         color='gray',\n",
    "#         bins = np.arange(-0.5, 11.5, 1),\n",
    "#         align = 'mid',\n",
    "#         title = ('histogram - ' + desc_val + ' - Value 0 to 10')\n",
    "#         );\n",
    "#     ax.set_xlabel('Values');\n",
    "#     plt.show()\n",
    "    \n",
    "#     # Define the outlier thresholds by applying multiplier 1.5\n",
    "#     q1 = concat_num[concat_num['Attribute'] == i]['25%'].values[0]\n",
    "#     q3 = concat_num[concat_num['Attribute'] == i]['75%'].values[0]\n",
    "#     iqr = q3 - q1\n",
    "#     lower_threshold = q1 - 1.5 * iqr\n",
    "#     upper_threshold = q3 + 1.5 * iqr\n",
    "\n",
    "#     # Identify outliers\n",
    "#     col_val = cc_num[i].values\n",
    "#     outliers = sorted(\n",
    "#         set([i for i in col_val if i < lower_threshold or i > upper_threshold]),\n",
    "#         reverse = True)\n",
    "#     # for j in outliers:\n",
    "#     #     print (int(j), '{:.1%}'.format(((cc_num[i] == j).sum())/count_val*100), end = ' ')\n",
    "        \n",
    "#     outlier_list = [str(int(j)) + ': ' + '{:.1%}'.format((cc_num[i] == j).sum() / count_val)\n",
    "#                     for j in outliers]\n",
    "    \n",
    "#     print('Outliers (Value: %)')\n",
    "#     for j in range(0, len(outlier_list), 10):\n",
    "#         print (', '.join(outlier_list[j: j+10]))\n",
    "#     print ('\\n')"
   ]
  },
  {
   "attachments": {},
   "cell_type": "markdown",
   "metadata": {},
   "source": [
    "**[function]** score_meaning_val"
   ]
  },
  {
   "cell_type": "code",
   "execution_count": null,
   "metadata": {},
   "outputs": [],
   "source": [
    "# def score_meaning_val(data, pv_idx = ['Attribute', 'Description', 'Desc', 'Additional notes']):\n",
    "#     '''\n",
    "#     function to check unique values of Score and Meaning by Attribute\n",
    "#     data : dataframe to examine\n",
    "#     pv_idx: list of pivot_table index\n",
    "#     '''\n",
    "#     data = vlookup(data, feature_desc, 'Attribute', ['Desc', 'Additional notes'], nan_val = 'no_info')\n",
    "#     pv = pd.pivot_table(\n",
    "#         data,\n",
    "#         index = pv_idx,\n",
    "#         values = ['Meaning', 'Score'],\n",
    "#         aggfunc = lambda x: list(x))\n",
    "    \n",
    "#     return pv"
   ]
  },
  {
   "cell_type": "code",
   "execution_count": null,
   "metadata": {},
   "outputs": [],
   "source": [
    "# def verify_null(data, null_list, pv_idx = ['Attribute', 'Description', 'Desc', 'Additional notes']):\n",
    "#     '''\n",
    "#     function to display the summary of Score and Meaning values,\n",
    "#     when Meaning values are in the list containing possibly null values.   \n",
    "    \n",
    "#     data: dataframe to examine\n",
    "#     null_list: list of possibly null values\n",
    "#     pv_idx: pivot_table index\n",
    "#     '''\n",
    "#     null_check_Attribute = data[data['Meaning'].isin(null_list)]['Attribute'].to_list()\n",
    "#     null_check = data[data['Attribute'].isin(null_check_Attribute)]\n",
    "    \n",
    "#     null_check = vlookup(null_check, feature_desc, 'Attribute', ['Desc', 'Additional notes'], fill_na = 'no_info')\n",
    "#     pv = pd.pivot_table(\n",
    "#         null_check,\n",
    "#         index = pv_idx,\n",
    "#         values = ['Score', 'Meaning'],\n",
    "#         aggfunc = lambda x: list(x))\n",
    "    \n",
    "#     return pv"
   ]
  },
  {
   "cell_type": "code",
   "execution_count": null,
   "metadata": {},
   "outputs": [],
   "source": [
    "# # For values of Attribute without Description, add 12 Description values from attr\n",
    "# attr_to_add = attr[['Attribute', 'Description']].copy()\n",
    "# attr_to_add.dropna(inplace = True)\n",
    "# attr_to_add = attr_to_add.rename(columns = {'Description': 'Description_to_add'})\n",
    "\n",
    "# feature_desc = vlookup(feature_desc, attr_to_add, 'Attribute')\n",
    "# feature_desc.Description = np.where(\n",
    "#     ((feature_desc.Description.isnull() == True) & (feature_desc.Description_to_add.isnull() == False)),\n",
    "#     feature_desc.Description_to_add,\n",
    "#     feature_desc.Description)\n",
    "# feature_desc = feature_desc.drop('Description_to_add', axis=1)\n",
    "\n",
    "# # For values of Attribute without Description, make colum of translation (ger_to_eng)\n",
    "# def ger_to_eng (ger_text):\n",
    "#     '''\n",
    "#     function to translate German text\n",
    "#     '''    \n",
    "#     translator = Translator(service_urls=['translate.google.com'])    \n",
    "#     try:\n",
    "#         translation = translator.translate(ger_text, src='de', dest='en')\n",
    "#         return translation.text        \n",
    "#     except:\n",
    "#         return np.nan\n",
    "\n",
    "# feature_desc['ger_to_eng'] = np.where(\n",
    "#     feature_desc.Description.isnull(),\n",
    "#     feature_desc.Attribute.str.replace('_', ' ').apply(ger_to_eng),\n",
    "#     np.nan)\n",
    "# feature_desc['Desc'] = feature_desc.Description.fillna('') + feature_desc.ger_to_eng.fillna('')\n",
    "\n",
    "# feature_desc.info()"
   ]
  },
  {
   "cell_type": "code",
   "execution_count": null,
   "metadata": {},
   "outputs": [],
   "source": [
    "# # pv_min_max 2.3.1 변경 for merge\n",
    "# min_max_copy = pd.DataFrame(pv_min_max.to_records())\n",
    "# min_max_copy.columns = list(\n",
    "#     min_max_copy.columns[:2]) + list(eval(i)[0] for i in min_max_copy.columns[2:])\n",
    "# min_max_copy"
   ]
  },
  {
   "cell_type": "code",
   "execution_count": null,
   "metadata": {},
   "outputs": [],
   "source": [
    "# import pandas as pd\n",
    "# import numpy as np\n",
    "# from IPython.display import display\n",
    "# import sys\n",
    "# from contextlib import ExitStack\n",
    "\n",
    "# def view_all (data):\n",
    "#     '''\n",
    "#     function to display all contents of data\n",
    "#     '''\n",
    "#     # with ExitStack() as stack:\n",
    "#     #     stack.enter_context(pd.option_context(\n",
    "#     #     'display.max_rows', None,\n",
    "#     #     'display.max_colwidth', None,\n",
    "#     #     'display.max_seq_items', None\n",
    "#     #     ))\n",
    "#     #     stack.enter_context(np.printoptions(threshold=np.inf))\n",
    "    \n",
    "#     # np.set_printoptions(threshold = sys.maxsize)\n",
    "    \n",
    "#     with pd.option_context(\n",
    "#     'display.max_rows', None, \n",
    "#     'display.max_colwidth', None,\n",
    "#     'display.max_seq_items', None,\n",
    "#     ):\n",
    "#         display(data)"
   ]
  },
  {
   "attachments": {},
   "cell_type": "markdown",
   "metadata": {},
   "source": [
    "### eod"
   ]
  }
 ],
 "metadata": {
  "kernelspec": {
   "display_name": "Python 3",
   "language": "python",
   "name": "python3"
  },
  "language_info": {
   "codemirror_mode": {
    "name": "ipython",
    "version": 3
   },
   "file_extension": ".py",
   "mimetype": "text/x-python",
   "name": "python",
   "nbconvert_exporter": "python",
   "pygments_lexer": "ipython3",
   "version": "3.10.8"
  }
 },
 "nbformat": 4,
 "nbformat_minor": 2
}
